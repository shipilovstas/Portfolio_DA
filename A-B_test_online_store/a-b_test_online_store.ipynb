{
 "cells": [
  {
   "cell_type": "markdown",
   "metadata": {},
   "source": [
    "# A/B-тест в крупном интернет-магазине"
   ]
  },
  {
   "cell_type": "markdown",
   "metadata": {},
   "source": [
    "**Описание проекта**\n",
    "\n",
    "Я — аналитик крупного интернет-магазина. Вместе с отделом маркетинга мы подготовили список гипотез для увеличения выручки.\n",
    "Необходимо приоритизировать гипотезы, запустить A/B-тест и проанализировать результаты. "
   ]
  },
  {
   "cell_type": "markdown",
   "metadata": {},
   "source": [
    "**Описание данных**\n",
    "\n",
    "В моём распоряжении три датасета. Файл `hypothesis.csv` хранит 9 гипотез по увеличению выручки интернет-магазина с указанными параметрами, `orders.csv` и `visitors.csv` — результаты A/B-теста.\n",
    "\n",
    "Структура `hypothesis.csv`:\n",
    "\n",
    "* `Hypothesis` — краткое описание гипотезы;\n",
    "* `Reach` — охват пользователей по 10-балльной шкале;\n",
    "* `Impact` — влияние на пользователей по 10-балльной шкале;\n",
    "* `Confidence` — уверенность в гипотезе по 10-балльной шкале;\n",
    "* `Efforts` — затраты ресурсов на проверку гипотезы по 10-балльной шкале. Чем больше значение `Efforts`, тем дороже проверка гипотезы.\n",
    "\n",
    "Структура `orders.csv`:\n",
    "\n",
    "* `transactionId` — идентификатор заказа;\n",
    "* `visitorId` — идентификатор пользователя, совершившего заказ;\n",
    "* `date` — дата, когда был совершён заказ;\n",
    "* `revenue` — выручка заказа;\n",
    "* `group` — группа A/B-теста, в которую попал заказ.\n",
    "\n",
    "Структура `visitors.csv`:\n",
    "\n",
    "* `date` — дата;\n",
    "* `group` — группа A/B-теста;\n",
    "* `visitors` — количество пользователей в указанную дату в указанной группе A/B-теста."
   ]
  },
  {
   "cell_type": "markdown",
   "metadata": {},
   "source": [
    "## Приоритизация гипотез."
   ]
  },
  {
   "cell_type": "code",
   "execution_count": 1,
   "metadata": {},
   "outputs": [],
   "source": [
    "# Импорт библиотек\n",
    "import pandas as pd\n",
    "import matplotlib.pyplot as plt\n",
    "import numpy as np\n",
    "import scipy.stats as stats\n",
    "import datetime as dt"
   ]
  },
  {
   "cell_type": "code",
   "execution_count": 2,
   "metadata": {},
   "outputs": [],
   "source": [
    "# Открытие данных\n",
    "hypothesis = pd.read_csv('/datasets/hypothesis.csv')\n",
    "orders = pd.read_csv('/datasets/orders.csv')\n",
    "visitors = pd.read_csv('/datasets/visitors.csv')"
   ]
  },
  {
   "cell_type": "markdown",
   "metadata": {},
   "source": [
    "### Применение фреймворка `ICE`"
   ]
  },
  {
   "cell_type": "code",
   "execution_count": 3,
   "metadata": {},
   "outputs": [
    {
     "data": {
      "text/html": [
       "<div>\n",
       "<style scoped>\n",
       "    .dataframe tbody tr th:only-of-type {\n",
       "        vertical-align: middle;\n",
       "    }\n",
       "\n",
       "    .dataframe tbody tr th {\n",
       "        vertical-align: top;\n",
       "    }\n",
       "\n",
       "    .dataframe thead th {\n",
       "        text-align: right;\n",
       "    }\n",
       "</style>\n",
       "<table border=\"1\" class=\"dataframe\">\n",
       "  <thead>\n",
       "    <tr style=\"text-align: right;\">\n",
       "      <th></th>\n",
       "      <th>Hypothesis</th>\n",
       "      <th>ICE</th>\n",
       "    </tr>\n",
       "  </thead>\n",
       "  <tbody>\n",
       "    <tr>\n",
       "      <th>8</th>\n",
       "      <td>Запустить акцию, дающую скидку на товар в день рождения</td>\n",
       "      <td>16.200000</td>\n",
       "    </tr>\n",
       "    <tr>\n",
       "      <th>0</th>\n",
       "      <td>Добавить два новых канала привлечения трафика, что позволит привлекать на 30% больше пользователей</td>\n",
       "      <td>13.333333</td>\n",
       "    </tr>\n",
       "    <tr>\n",
       "      <th>7</th>\n",
       "      <td>Добавить форму подписки на все основные страницы, чтобы собрать базу клиентов для email-рассылок</td>\n",
       "      <td>11.200000</td>\n",
       "    </tr>\n",
       "    <tr>\n",
       "      <th>6</th>\n",
       "      <td>Показать на главной странице баннеры с актуальными акциями и распродажами, чтобы увеличить конверсию</td>\n",
       "      <td>8.000000</td>\n",
       "    </tr>\n",
       "    <tr>\n",
       "      <th>2</th>\n",
       "      <td>Добавить блоки рекомендаций товаров на сайт интернет магазина, чтобы повысить конверсию и средний чек заказа</td>\n",
       "      <td>7.000000</td>\n",
       "    </tr>\n",
       "    <tr>\n",
       "      <th>1</th>\n",
       "      <td>Запустить собственную службу доставки, что сократит срок доставки заказов</td>\n",
       "      <td>2.000000</td>\n",
       "    </tr>\n",
       "    <tr>\n",
       "      <th>5</th>\n",
       "      <td>Добавить страницу отзывов клиентов о магазине, что позволит увеличить количество заказов</td>\n",
       "      <td>1.333333</td>\n",
       "    </tr>\n",
       "    <tr>\n",
       "      <th>3</th>\n",
       "      <td>Изменить структура категорий, что увеличит конверсию, т.к. пользователи быстрее найдут нужный товар</td>\n",
       "      <td>1.125000</td>\n",
       "    </tr>\n",
       "    <tr>\n",
       "      <th>4</th>\n",
       "      <td>Изменить цвет фона главной страницы, чтобы увеличить вовлеченность пользователей</td>\n",
       "      <td>1.000000</td>\n",
       "    </tr>\n",
       "  </tbody>\n",
       "</table>\n",
       "</div>"
      ],
      "text/plain": [
       "                                                                                                     Hypothesis  \\\n",
       "8                                                       Запустить акцию, дающую скидку на товар в день рождения   \n",
       "0            Добавить два новых канала привлечения трафика, что позволит привлекать на 30% больше пользователей   \n",
       "7              Добавить форму подписки на все основные страницы, чтобы собрать базу клиентов для email-рассылок   \n",
       "6          Показать на главной странице баннеры с актуальными акциями и распродажами, чтобы увеличить конверсию   \n",
       "2  Добавить блоки рекомендаций товаров на сайт интернет магазина, чтобы повысить конверсию и средний чек заказа   \n",
       "1                                     Запустить собственную службу доставки, что сократит срок доставки заказов   \n",
       "5                      Добавить страницу отзывов клиентов о магазине, что позволит увеличить количество заказов   \n",
       "3           Изменить структура категорий, что увеличит конверсию, т.к. пользователи быстрее найдут нужный товар   \n",
       "4                              Изменить цвет фона главной страницы, чтобы увеличить вовлеченность пользователей   \n",
       "\n",
       "         ICE  \n",
       "8  16.200000  \n",
       "0  13.333333  \n",
       "7  11.200000  \n",
       "6   8.000000  \n",
       "2   7.000000  \n",
       "1   2.000000  \n",
       "5   1.333333  \n",
       "3   1.125000  \n",
       "4   1.000000  "
      ]
     },
     "execution_count": 3,
     "metadata": {},
     "output_type": "execute_result"
    }
   ],
   "source": [
    "# Расчет ICE для гипотез и сортировка результата по убыванию\n",
    "pd.options.display.max_colwidth = 130\n",
    "hypothesis['ICE'] = (hypothesis['Impact'] * hypothesis['Confidence'])/hypothesis['Efforts']\n",
    "hypothesis[['Hypothesis', 'ICE']].sort_values(by='ICE', ascending=False)"
   ]
  },
  {
   "cell_type": "markdown",
   "metadata": {},
   "source": [
    "### Применение фреймворка `RICE`"
   ]
  },
  {
   "cell_type": "code",
   "execution_count": 4,
   "metadata": {},
   "outputs": [
    {
     "data": {
      "text/html": [
       "<div>\n",
       "<style scoped>\n",
       "    .dataframe tbody tr th:only-of-type {\n",
       "        vertical-align: middle;\n",
       "    }\n",
       "\n",
       "    .dataframe tbody tr th {\n",
       "        vertical-align: top;\n",
       "    }\n",
       "\n",
       "    .dataframe thead th {\n",
       "        text-align: right;\n",
       "    }\n",
       "</style>\n",
       "<table border=\"1\" class=\"dataframe\">\n",
       "  <thead>\n",
       "    <tr style=\"text-align: right;\">\n",
       "      <th></th>\n",
       "      <th>Hypothesis</th>\n",
       "      <th>RICE</th>\n",
       "    </tr>\n",
       "  </thead>\n",
       "  <tbody>\n",
       "    <tr>\n",
       "      <th>7</th>\n",
       "      <td>Добавить форму подписки на все основные страницы, чтобы собрать базу клиентов для email-рассылок</td>\n",
       "      <td>112.0</td>\n",
       "    </tr>\n",
       "    <tr>\n",
       "      <th>2</th>\n",
       "      <td>Добавить блоки рекомендаций товаров на сайт интернет магазина, чтобы повысить конверсию и средний чек заказа</td>\n",
       "      <td>56.0</td>\n",
       "    </tr>\n",
       "    <tr>\n",
       "      <th>0</th>\n",
       "      <td>Добавить два новых канала привлечения трафика, что позволит привлекать на 30% больше пользователей</td>\n",
       "      <td>40.0</td>\n",
       "    </tr>\n",
       "    <tr>\n",
       "      <th>6</th>\n",
       "      <td>Показать на главной странице баннеры с актуальными акциями и распродажами, чтобы увеличить конверсию</td>\n",
       "      <td>40.0</td>\n",
       "    </tr>\n",
       "    <tr>\n",
       "      <th>8</th>\n",
       "      <td>Запустить акцию, дающую скидку на товар в день рождения</td>\n",
       "      <td>16.2</td>\n",
       "    </tr>\n",
       "    <tr>\n",
       "      <th>3</th>\n",
       "      <td>Изменить структура категорий, что увеличит конверсию, т.к. пользователи быстрее найдут нужный товар</td>\n",
       "      <td>9.0</td>\n",
       "    </tr>\n",
       "    <tr>\n",
       "      <th>1</th>\n",
       "      <td>Запустить собственную службу доставки, что сократит срок доставки заказов</td>\n",
       "      <td>4.0</td>\n",
       "    </tr>\n",
       "    <tr>\n",
       "      <th>5</th>\n",
       "      <td>Добавить страницу отзывов клиентов о магазине, что позволит увеличить количество заказов</td>\n",
       "      <td>4.0</td>\n",
       "    </tr>\n",
       "    <tr>\n",
       "      <th>4</th>\n",
       "      <td>Изменить цвет фона главной страницы, чтобы увеличить вовлеченность пользователей</td>\n",
       "      <td>3.0</td>\n",
       "    </tr>\n",
       "  </tbody>\n",
       "</table>\n",
       "</div>"
      ],
      "text/plain": [
       "                                                                                                     Hypothesis  \\\n",
       "7              Добавить форму подписки на все основные страницы, чтобы собрать базу клиентов для email-рассылок   \n",
       "2  Добавить блоки рекомендаций товаров на сайт интернет магазина, чтобы повысить конверсию и средний чек заказа   \n",
       "0            Добавить два новых канала привлечения трафика, что позволит привлекать на 30% больше пользователей   \n",
       "6          Показать на главной странице баннеры с актуальными акциями и распродажами, чтобы увеличить конверсию   \n",
       "8                                                       Запустить акцию, дающую скидку на товар в день рождения   \n",
       "3           Изменить структура категорий, что увеличит конверсию, т.к. пользователи быстрее найдут нужный товар   \n",
       "1                                     Запустить собственную службу доставки, что сократит срок доставки заказов   \n",
       "5                      Добавить страницу отзывов клиентов о магазине, что позволит увеличить количество заказов   \n",
       "4                              Изменить цвет фона главной страницы, чтобы увеличить вовлеченность пользователей   \n",
       "\n",
       "    RICE  \n",
       "7  112.0  \n",
       "2   56.0  \n",
       "0   40.0  \n",
       "6   40.0  \n",
       "8   16.2  \n",
       "3    9.0  \n",
       "1    4.0  \n",
       "5    4.0  \n",
       "4    3.0  "
      ]
     },
     "execution_count": 4,
     "metadata": {},
     "output_type": "execute_result"
    }
   ],
   "source": [
    "# Расчет RICE для гипотез и сортировка результата по убыванию\n",
    "hypothesis['RICE'] = (hypothesis['Reach'] * hypothesis['Impact'] * hypothesis['Confidence'])/hypothesis['Efforts']\n",
    "hypothesis[['Hypothesis', 'RICE']].sort_values(by='RICE', ascending=False)"
   ]
  },
  {
   "cell_type": "markdown",
   "metadata": {},
   "source": [
    "### Сравнение результатов приоритизации."
   ]
  },
  {
   "cell_type": "code",
   "execution_count": 5,
   "metadata": {},
   "outputs": [
    {
     "data": {
      "text/html": [
       "<div>\n",
       "<style scoped>\n",
       "    .dataframe tbody tr th:only-of-type {\n",
       "        vertical-align: middle;\n",
       "    }\n",
       "\n",
       "    .dataframe tbody tr th {\n",
       "        vertical-align: top;\n",
       "    }\n",
       "\n",
       "    .dataframe thead th {\n",
       "        text-align: right;\n",
       "    }\n",
       "</style>\n",
       "<table border=\"1\" class=\"dataframe\">\n",
       "  <thead>\n",
       "    <tr style=\"text-align: right;\">\n",
       "      <th></th>\n",
       "      <th>Hypothesis</th>\n",
       "      <th>Reach</th>\n",
       "      <th>Impact</th>\n",
       "      <th>Confidence</th>\n",
       "      <th>Efforts</th>\n",
       "      <th>ICE</th>\n",
       "      <th>RICE</th>\n",
       "    </tr>\n",
       "  </thead>\n",
       "  <tbody>\n",
       "    <tr>\n",
       "      <th>7</th>\n",
       "      <td>Добавить форму подписки на все основные страницы, чтобы собрать базу клиентов для email-рассылок</td>\n",
       "      <td>10</td>\n",
       "      <td>7</td>\n",
       "      <td>8</td>\n",
       "      <td>5</td>\n",
       "      <td>11.200000</td>\n",
       "      <td>112.0</td>\n",
       "    </tr>\n",
       "    <tr>\n",
       "      <th>2</th>\n",
       "      <td>Добавить блоки рекомендаций товаров на сайт интернет магазина, чтобы повысить конверсию и средний чек заказа</td>\n",
       "      <td>8</td>\n",
       "      <td>3</td>\n",
       "      <td>7</td>\n",
       "      <td>3</td>\n",
       "      <td>7.000000</td>\n",
       "      <td>56.0</td>\n",
       "    </tr>\n",
       "    <tr>\n",
       "      <th>3</th>\n",
       "      <td>Изменить структура категорий, что увеличит конверсию, т.к. пользователи быстрее найдут нужный товар</td>\n",
       "      <td>8</td>\n",
       "      <td>3</td>\n",
       "      <td>3</td>\n",
       "      <td>8</td>\n",
       "      <td>1.125000</td>\n",
       "      <td>9.0</td>\n",
       "    </tr>\n",
       "    <tr>\n",
       "      <th>6</th>\n",
       "      <td>Показать на главной странице баннеры с актуальными акциями и распродажами, чтобы увеличить конверсию</td>\n",
       "      <td>5</td>\n",
       "      <td>3</td>\n",
       "      <td>8</td>\n",
       "      <td>3</td>\n",
       "      <td>8.000000</td>\n",
       "      <td>40.0</td>\n",
       "    </tr>\n",
       "    <tr>\n",
       "      <th>0</th>\n",
       "      <td>Добавить два новых канала привлечения трафика, что позволит привлекать на 30% больше пользователей</td>\n",
       "      <td>3</td>\n",
       "      <td>10</td>\n",
       "      <td>8</td>\n",
       "      <td>6</td>\n",
       "      <td>13.333333</td>\n",
       "      <td>40.0</td>\n",
       "    </tr>\n",
       "    <tr>\n",
       "      <th>4</th>\n",
       "      <td>Изменить цвет фона главной страницы, чтобы увеличить вовлеченность пользователей</td>\n",
       "      <td>3</td>\n",
       "      <td>1</td>\n",
       "      <td>1</td>\n",
       "      <td>1</td>\n",
       "      <td>1.000000</td>\n",
       "      <td>3.0</td>\n",
       "    </tr>\n",
       "    <tr>\n",
       "      <th>5</th>\n",
       "      <td>Добавить страницу отзывов клиентов о магазине, что позволит увеличить количество заказов</td>\n",
       "      <td>3</td>\n",
       "      <td>2</td>\n",
       "      <td>2</td>\n",
       "      <td>3</td>\n",
       "      <td>1.333333</td>\n",
       "      <td>4.0</td>\n",
       "    </tr>\n",
       "    <tr>\n",
       "      <th>1</th>\n",
       "      <td>Запустить собственную службу доставки, что сократит срок доставки заказов</td>\n",
       "      <td>2</td>\n",
       "      <td>5</td>\n",
       "      <td>4</td>\n",
       "      <td>10</td>\n",
       "      <td>2.000000</td>\n",
       "      <td>4.0</td>\n",
       "    </tr>\n",
       "    <tr>\n",
       "      <th>8</th>\n",
       "      <td>Запустить акцию, дающую скидку на товар в день рождения</td>\n",
       "      <td>1</td>\n",
       "      <td>9</td>\n",
       "      <td>9</td>\n",
       "      <td>5</td>\n",
       "      <td>16.200000</td>\n",
       "      <td>16.2</td>\n",
       "    </tr>\n",
       "  </tbody>\n",
       "</table>\n",
       "</div>"
      ],
      "text/plain": [
       "                                                                                                     Hypothesis  \\\n",
       "7              Добавить форму подписки на все основные страницы, чтобы собрать базу клиентов для email-рассылок   \n",
       "2  Добавить блоки рекомендаций товаров на сайт интернет магазина, чтобы повысить конверсию и средний чек заказа   \n",
       "3           Изменить структура категорий, что увеличит конверсию, т.к. пользователи быстрее найдут нужный товар   \n",
       "6          Показать на главной странице баннеры с актуальными акциями и распродажами, чтобы увеличить конверсию   \n",
       "0            Добавить два новых канала привлечения трафика, что позволит привлекать на 30% больше пользователей   \n",
       "4                              Изменить цвет фона главной страницы, чтобы увеличить вовлеченность пользователей   \n",
       "5                      Добавить страницу отзывов клиентов о магазине, что позволит увеличить количество заказов   \n",
       "1                                     Запустить собственную службу доставки, что сократит срок доставки заказов   \n",
       "8                                                       Запустить акцию, дающую скидку на товар в день рождения   \n",
       "\n",
       "   Reach  Impact  Confidence  Efforts        ICE   RICE  \n",
       "7     10       7           8        5  11.200000  112.0  \n",
       "2      8       3           7        3   7.000000   56.0  \n",
       "3      8       3           3        8   1.125000    9.0  \n",
       "6      5       3           8        3   8.000000   40.0  \n",
       "0      3      10           8        6  13.333333   40.0  \n",
       "4      3       1           1        1   1.000000    3.0  \n",
       "5      3       2           2        3   1.333333    4.0  \n",
       "1      2       5           4       10   2.000000    4.0  \n",
       "8      1       9           9        5  16.200000   16.2  "
      ]
     },
     "execution_count": 5,
     "metadata": {},
     "output_type": "execute_result"
    }
   ],
   "source": [
    "# Сортировка гипотез по параметру Reach\n",
    "hypothesis.sort_values(by='Reach', ascending=False)"
   ]
  },
  {
   "cell_type": "markdown",
   "metadata": {},
   "source": [
    "\n",
    "По результату фреймворка `ICE`, в топ-3 вошли гипотезы:\n",
    "* 8\tЗапустить акцию, дающую скидку на товар в день рождения;\n",
    "* 0\tДобавить два новых канала привлечения трафика, что позволит привлекать на 30% больше пользователей;\n",
    "* 7\tДобавить форму подписки на все основные страницы, чтобы собрать базу клиентов для email-рассылок.\n",
    "\n",
    "По результату фреймворка `RICE`, лидерами стали гипотезы:\n",
    "\n",
    "* 7\tДобавить форму подписки на все основные страницы, чтобы собрать базу клиентов для email-рассылок;\n",
    "* 2\tДобавить блоки рекомендаций товаров на сайт интернет магазина, чтобы повысить конверсию и средний чек заказа;\n",
    "* Третье место разделили 2 гипотезы:\n",
    "    * 0\tДобавить два новых канала привлечения трафика, что позволит привлекать на 30% больше пользователей;\n",
    "    * 6\tПоказать на главной странице баннеры с актуальными акциями и распродажами, чтобы увеличить конверсию.\n"
   ]
  },
  {
   "cell_type": "markdown",
   "metadata": {},
   "source": [
    "Разница в приоритизации связана с тем, что параметр `Reach` гипотезы 7 максимальный и равен 10, поэтому она занимает первое место. "
   ]
  },
  {
   "cell_type": "markdown",
   "metadata": {},
   "source": [
    "## Анализ А/B-теста"
   ]
  },
  {
   "cell_type": "markdown",
   "metadata": {},
   "source": [
    "### Предобработка данных"
   ]
  },
  {
   "cell_type": "code",
   "execution_count": 6,
   "metadata": {},
   "outputs": [
    {
     "data": {
      "text/html": [
       "<div>\n",
       "<style scoped>\n",
       "    .dataframe tbody tr th:only-of-type {\n",
       "        vertical-align: middle;\n",
       "    }\n",
       "\n",
       "    .dataframe tbody tr th {\n",
       "        vertical-align: top;\n",
       "    }\n",
       "\n",
       "    .dataframe thead th {\n",
       "        text-align: right;\n",
       "    }\n",
       "</style>\n",
       "<table border=\"1\" class=\"dataframe\">\n",
       "  <thead>\n",
       "    <tr style=\"text-align: right;\">\n",
       "      <th></th>\n",
       "      <th>date</th>\n",
       "      <th>group</th>\n",
       "      <th>visitors</th>\n",
       "    </tr>\n",
       "  </thead>\n",
       "  <tbody>\n",
       "    <tr>\n",
       "      <th>0</th>\n",
       "      <td>2019-08-01</td>\n",
       "      <td>A</td>\n",
       "      <td>719</td>\n",
       "    </tr>\n",
       "    <tr>\n",
       "      <th>1</th>\n",
       "      <td>2019-08-02</td>\n",
       "      <td>A</td>\n",
       "      <td>619</td>\n",
       "    </tr>\n",
       "    <tr>\n",
       "      <th>2</th>\n",
       "      <td>2019-08-03</td>\n",
       "      <td>A</td>\n",
       "      <td>507</td>\n",
       "    </tr>\n",
       "    <tr>\n",
       "      <th>3</th>\n",
       "      <td>2019-08-04</td>\n",
       "      <td>A</td>\n",
       "      <td>717</td>\n",
       "    </tr>\n",
       "    <tr>\n",
       "      <th>4</th>\n",
       "      <td>2019-08-05</td>\n",
       "      <td>A</td>\n",
       "      <td>756</td>\n",
       "    </tr>\n",
       "  </tbody>\n",
       "</table>\n",
       "</div>"
      ],
      "text/plain": [
       "         date group  visitors\n",
       "0  2019-08-01     A       719\n",
       "1  2019-08-02     A       619\n",
       "2  2019-08-03     A       507\n",
       "3  2019-08-04     A       717\n",
       "4  2019-08-05     A       756"
      ]
     },
     "metadata": {},
     "output_type": "display_data"
    },
    {
     "data": {
      "text/html": [
       "<div>\n",
       "<style scoped>\n",
       "    .dataframe tbody tr th:only-of-type {\n",
       "        vertical-align: middle;\n",
       "    }\n",
       "\n",
       "    .dataframe tbody tr th {\n",
       "        vertical-align: top;\n",
       "    }\n",
       "\n",
       "    .dataframe thead th {\n",
       "        text-align: right;\n",
       "    }\n",
       "</style>\n",
       "<table border=\"1\" class=\"dataframe\">\n",
       "  <thead>\n",
       "    <tr style=\"text-align: right;\">\n",
       "      <th></th>\n",
       "      <th>transactionId</th>\n",
       "      <th>visitorId</th>\n",
       "      <th>date</th>\n",
       "      <th>revenue</th>\n",
       "      <th>group</th>\n",
       "    </tr>\n",
       "  </thead>\n",
       "  <tbody>\n",
       "    <tr>\n",
       "      <th>0</th>\n",
       "      <td>3667963787</td>\n",
       "      <td>3312258926</td>\n",
       "      <td>2019-08-15</td>\n",
       "      <td>1650</td>\n",
       "      <td>B</td>\n",
       "    </tr>\n",
       "    <tr>\n",
       "      <th>1</th>\n",
       "      <td>2804400009</td>\n",
       "      <td>3642806036</td>\n",
       "      <td>2019-08-15</td>\n",
       "      <td>730</td>\n",
       "      <td>B</td>\n",
       "    </tr>\n",
       "    <tr>\n",
       "      <th>2</th>\n",
       "      <td>2961555356</td>\n",
       "      <td>4069496402</td>\n",
       "      <td>2019-08-15</td>\n",
       "      <td>400</td>\n",
       "      <td>A</td>\n",
       "    </tr>\n",
       "    <tr>\n",
       "      <th>3</th>\n",
       "      <td>3797467345</td>\n",
       "      <td>1196621759</td>\n",
       "      <td>2019-08-15</td>\n",
       "      <td>9759</td>\n",
       "      <td>B</td>\n",
       "    </tr>\n",
       "    <tr>\n",
       "      <th>4</th>\n",
       "      <td>2282983706</td>\n",
       "      <td>2322279887</td>\n",
       "      <td>2019-08-15</td>\n",
       "      <td>2308</td>\n",
       "      <td>B</td>\n",
       "    </tr>\n",
       "  </tbody>\n",
       "</table>\n",
       "</div>"
      ],
      "text/plain": [
       "   transactionId   visitorId        date  revenue group\n",
       "0     3667963787  3312258926  2019-08-15     1650     B\n",
       "1     2804400009  3642806036  2019-08-15      730     B\n",
       "2     2961555356  4069496402  2019-08-15      400     A\n",
       "3     3797467345  1196621759  2019-08-15     9759     B\n",
       "4     2282983706  2322279887  2019-08-15     2308     B"
      ]
     },
     "execution_count": 6,
     "metadata": {},
     "output_type": "execute_result"
    }
   ],
   "source": [
    "# Вывод первых строк каждого набора данных методом head()\n",
    "display(visitors.head())\n",
    "orders.head()"
   ]
  },
  {
   "cell_type": "code",
   "execution_count": 7,
   "metadata": {},
   "outputs": [],
   "source": [
    "# сохранение списка датафреймов во временную переменную для выполнения циклов\n",
    "temp = [orders, visitors]"
   ]
  },
  {
   "cell_type": "code",
   "execution_count": 8,
   "metadata": {},
   "outputs": [
    {
     "name": "stdout",
     "output_type": "stream",
     "text": [
      "<class 'pandas.core.frame.DataFrame'>\n",
      "RangeIndex: 1197 entries, 0 to 1196\n",
      "Data columns (total 5 columns):\n",
      " #   Column         Non-Null Count  Dtype \n",
      "---  ------         --------------  ----- \n",
      " 0   transactionId  1197 non-null   int64 \n",
      " 1   visitorId      1197 non-null   int64 \n",
      " 2   date           1197 non-null   object\n",
      " 3   revenue        1197 non-null   int64 \n",
      " 4   group          1197 non-null   object\n",
      "dtypes: int64(3), object(2)\n",
      "memory usage: 46.9+ KB\n",
      "None\n",
      "\u001b[1mКоличество пропущенных значений в таблице по столбцам:\u001b[0m\n",
      "transactionId    0\n",
      "visitorId        0\n",
      "date             0\n",
      "revenue          0\n",
      "group            0\n",
      "dtype: int64\n",
      "\u001b[1mКоличество явных дубликатов в таблице:\u001b[0m\n",
      "0\n",
      "-------------------------------------------------------\n",
      "<class 'pandas.core.frame.DataFrame'>\n",
      "RangeIndex: 62 entries, 0 to 61\n",
      "Data columns (total 3 columns):\n",
      " #   Column    Non-Null Count  Dtype \n",
      "---  ------    --------------  ----- \n",
      " 0   date      62 non-null     object\n",
      " 1   group     62 non-null     object\n",
      " 2   visitors  62 non-null     int64 \n",
      "dtypes: int64(1), object(2)\n",
      "memory usage: 1.6+ KB\n",
      "None\n",
      "\u001b[1mКоличество пропущенных значений в таблице по столбцам:\u001b[0m\n",
      "date        0\n",
      "group       0\n",
      "visitors    0\n",
      "dtype: int64\n",
      "\u001b[1mКоличество явных дубликатов в таблице:\u001b[0m\n",
      "0\n",
      "-------------------------------------------------------\n"
     ]
    }
   ],
   "source": [
    "# Вывод информации обо всех табицах в цикле\n",
    "for df in temp:\n",
    "    print(df.info())\n",
    "    print('\\033[1m' + 'Количество пропущенных значений в таблице по столбцам:' + '\\033[0m')\n",
    "    print(df.isna().sum())\n",
    "    print('\\033[1m' + 'Количество явных дубликатов в таблице:' + '\\033[0m')\n",
    "    print(df.duplicated().sum())\n",
    "    print('-'* 55)"
   ]
  },
  {
   "cell_type": "code",
   "execution_count": 9,
   "metadata": {},
   "outputs": [
    {
     "name": "stdout",
     "output_type": "stream",
     "text": [
      "transactionId             int64\n",
      "visitorId                 int64\n",
      "date             datetime64[ns]\n",
      "revenue                   int64\n",
      "group                    object\n",
      "dtype: object\n"
     ]
    },
    {
     "data": {
      "text/plain": [
       "date        datetime64[ns]\n",
       "group               object\n",
       "visitors             int64\n",
       "dtype: object"
      ]
     },
     "execution_count": 9,
     "metadata": {},
     "output_type": "execute_result"
    }
   ],
   "source": [
    "# преобразование данных о времени\n",
    "orders['date'] = pd.to_datetime(orders['date'])\n",
    "visitors['date'] = pd.to_datetime(visitors['date'])\n",
    "\n",
    "print(orders.dtypes)\n",
    "visitors.dtypes"
   ]
  },
  {
   "cell_type": "code",
   "execution_count": 10,
   "metadata": {},
   "outputs": [
    {
     "name": "stdout",
     "output_type": "stream",
     "text": [
      "  group  visitors\n",
      "0     A     18736\n",
      "1     B     18916\n"
     ]
    }
   ],
   "source": [
    "print(\n",
    "    visitors.groupby('group', as_index=False)\n",
    "    .agg({'visitors': 'sum'})\n",
    ")"
   ]
  },
  {
   "cell_type": "markdown",
   "metadata": {},
   "source": [
    "По количеству посетителей вгруппах у нас практически паритет."
   ]
  },
  {
   "cell_type": "code",
   "execution_count": 11,
   "metadata": {},
   "outputs": [
    {
     "name": "stdout",
     "output_type": "stream",
     "text": [
      "  group  transactionId\n",
      "0     A            557\n",
      "1     B            640\n"
     ]
    }
   ],
   "source": [
    "print(\n",
    "    orders.groupby('group', as_index=False)\n",
    "    .agg({'transactionId': 'count'})\n",
    ")"
   ]
  },
  {
   "cell_type": "markdown",
   "metadata": {},
   "source": [
    "Количество заказов в группе В выше. Это не может не радовать."
   ]
  },
  {
   "cell_type": "code",
   "execution_count": 12,
   "metadata": {},
   "outputs": [
    {
     "name": "stdout",
     "output_type": "stream",
     "text": [
      "Дата начала теста: 2019-08-01 00:00:00\n",
      "Дата окончания теста: 2019-08-31 00:00:00\n"
     ]
    }
   ],
   "source": [
    "print('Дата начала теста:', visitors['date'].min())\n",
    "print('Дата окончания теста:', visitors['date'].max())"
   ]
  },
  {
   "cell_type": "markdown",
   "metadata": {},
   "source": [
    "Для проведения теста был выбран последний месяц лета - август."
   ]
  },
  {
   "cell_type": "markdown",
   "metadata": {},
   "source": [
    "На этапе предобработки данных все столбцы с датой и временем были преобразованы в соответсвующие форматы. Поиски пропусков не увенчались успехом - в рассматриваемых датафреймах они отсутствуют. Проверка показала отсутствие явных дубликатов в исследуемых датафреймах."
   ]
  },
  {
   "cell_type": "markdown",
   "metadata": {},
   "source": [
    "### Построение графика кумулятивной выручки по группам"
   ]
  },
  {
   "cell_type": "code",
   "execution_count": 13,
   "metadata": {},
   "outputs": [
    {
     "data": {
      "image/png": "[encoded data removed]",
      "text/plain": [
       "<Figure size 1440x720 with 1 Axes>"
      ]
     },
     "metadata": {
      "needs_background": "light"
     },
     "output_type": "display_data"
    }
   ],
   "source": [
    "# создаем массив уникальных пар значений дат и групп теста\n",
    "datesGroups = orders[['date','group']].drop_duplicates()\n",
    "\n",
    "# получаем агрегированные кумулятивные по дням данные о заказах \n",
    "ordersAggregated = datesGroups.apply(lambda x: orders[np.logical_and(orders['date'] <= x['date'], orders['group'] == x['group'])].agg({'date' : 'max', 'group' : 'max', 'transactionId' : 'nunique', 'visitorId' : 'nunique', 'revenue' : 'sum'}), axis=1).sort_values(by=['date','group'])\n",
    "\n",
    "# получаем агрегированные кумулятивные по дням данные о посетителях интернет-магазина \n",
    "visitorsAggregated = datesGroups.apply(lambda x: visitors[np.logical_and(visitors['date'] <= x['date'], visitors['group'] == x['group'])].agg({'date' : 'max', 'group' : 'max', 'visitors' : 'sum'}), axis=1).sort_values(by=['date','group'])\n",
    "\n",
    "# объединяем кумулятивные данные в одной таблице и присваиваем ее столбцам понятные названия\n",
    "cumulativeData = ordersAggregated.merge(visitorsAggregated, left_on=['date', 'group'], right_on=['date', 'group'])\n",
    "cumulativeData.columns = ['date', 'group', 'orders', 'buyers', 'revenue', 'visitors']\n",
    "\n",
    "# датафрейм с кумулятивным количеством заказов и кумулятивной выручкой по дням в группе А\n",
    "cumulativeRevenueA = cumulativeData[cumulativeData['group']=='A'][['date','revenue', 'orders']]\n",
    "\n",
    "# датафрейм с кумулятивным количеством заказов и кумулятивной выручкой по дням в группе B\n",
    "cumulativeRevenueB = cumulativeData[cumulativeData['group']=='B'][['date','revenue', 'orders']]\n",
    "\n",
    "plt.figure(figsize=(20, 10))\n",
    "\n",
    "# Строим график выручки группы А\n",
    "plt.plot(cumulativeRevenueA['date'], cumulativeRevenueA['revenue'], label='A')\n",
    "\n",
    "# Строим график выручки группы B\n",
    "plt.plot(cumulativeRevenueB['date'], cumulativeRevenueB['revenue'], label='B')\n",
    "\n",
    "plt.title('График кумулятивной выручки по группам')\n",
    "plt.ylabel('Кумулятивная выручка')\n",
    "\n",
    "plt.legend()\n",
    "plt.grid()\n",
    "plt.show()\n"
   ]
  },
  {
   "cell_type": "markdown",
   "metadata": {},
   "source": [
    "Выручка увеличивается равномерно в течении всего теста у группы А. Однако график группы В резко растёт в точке 2019-08-18. Это может сигнализировать о всплеске числа заказов, либо о появлении очень дорогих заказов в выборке."
   ]
  },
  {
   "cell_type": "markdown",
   "metadata": {},
   "source": [
    "### Построение графика кумулятивного среднего чека по группам."
   ]
  },
  {
   "cell_type": "code",
   "execution_count": 14,
   "metadata": {},
   "outputs": [
    {
     "data": {
      "image/png": "[encoded data removed]",
      "text/plain": [
       "<Figure size 1440x720 with 1 Axes>"
      ]
     },
     "metadata": {
      "needs_background": "light"
     },
     "output_type": "display_data"
    }
   ],
   "source": [
    "plt.figure(figsize=(20, 10))\n",
    "\n",
    "plt.plot(cumulativeRevenueA['date'], cumulativeRevenueA['revenue']/cumulativeRevenueA['orders'], label='A')\n",
    "plt.plot(cumulativeRevenueB['date'], cumulativeRevenueB['revenue']/cumulativeRevenueB['orders'], label='B')\n",
    "\n",
    "plt.title('График кумулятивного среднего чека по группам')\n",
    "plt.ylabel('Кумулятивный средний чек')\n",
    "plt.legend()\n",
    "plt.grid()\n",
    "plt.show()"
   ]
  },
  {
   "cell_type": "markdown",
   "metadata": {},
   "source": [
    "Кажется, что график группы А к концу теста установился на уровне реального среднего чека. Однако в группу В во второй половине теста попали крупные заказы, из-за чего возник резкий всплеск, для неё необходимо больше данных, чтобы прийти к реальному среднему."
   ]
  },
  {
   "cell_type": "markdown",
   "metadata": {},
   "source": [
    "### Построение графика относительного изменения кумулятивного среднего чека группы B к группе A"
   ]
  },
  {
   "cell_type": "code",
   "execution_count": 15,
   "metadata": {},
   "outputs": [
    {
     "data": {
      "image/png": "[encoded data removed]",
      "text/plain": [
       "<Figure size 1440x720 with 1 Axes>"
      ]
     },
     "metadata": {
      "needs_background": "light"
     },
     "output_type": "display_data"
    }
   ],
   "source": [
    "# собираем данные в одном датафрейме\n",
    "mergedCumulativeRevenue = cumulativeRevenueA.merge(\n",
    "    cumulativeRevenueB, left_on='date', right_on='date', how='left', suffixes=['A', 'B']\n",
    ")\n",
    "\n",
    "plt.figure(figsize=(20, 10))\n",
    "\n",
    "# cтроим отношение средних чеков\n",
    "plt.plot(mergedCumulativeRevenue['date'], (\n",
    "    mergedCumulativeRevenue['revenueB']/mergedCumulativeRevenue['ordersB'])/(\n",
    "    mergedCumulativeRevenue['revenueA']/mergedCumulativeRevenue['ordersA'])-1\n",
    ")\n",
    "\n",
    "# добавляем ось X\n",
    "plt.axhline(y=0, color='black', linestyle='--')\n",
    "\n",
    "plt.title('График относительного изменения кумулятивного среднего чека группы B к группе A')\n",
    "plt.ylabel('Отношение кумулятивных средних чеков')\n",
    "plt.grid()\n",
    "plt.show()"
   ]
  },
  {
   "cell_type": "markdown",
   "metadata": {},
   "source": [
    "В нескольких точках график различия для среднего чека резко увеличивается и уменьшается. Это свидетельствует о крупных заказах и выбросах."
   ]
  },
  {
   "cell_type": "markdown",
   "metadata": {},
   "source": [
    "### Построение графика кумулятивного среднего количества заказов на посетителя по группам"
   ]
  },
  {
   "cell_type": "code",
   "execution_count": 16,
   "metadata": {},
   "outputs": [
    {
     "data": {
      "image/png": "[encoded data removed]",
      "text/plain": [
       "<Figure size 1440x720 with 1 Axes>"
      ]
     },
     "metadata": {
      "needs_background": "light"
     },
     "output_type": "display_data"
    }
   ],
   "source": [
    "# считаем среднее количество заказов на посетителя\n",
    "cumulativeData['conversion'] = cumulativeData['orders']/cumulativeData['visitors']\n",
    "\n",
    "# отделяем данные по группе A\n",
    "cumulativeDataA = cumulativeData[cumulativeData['group']=='A']\n",
    "\n",
    "# отделяем данные по группе B\n",
    "cumulativeDataB = cumulativeData[cumulativeData['group']=='B']\n",
    "\n",
    "# строим графики\n",
    "plt.figure(figsize=(20, 10))\n",
    "plt.plot(cumulativeDataA['date'], cumulativeDataA['conversion'], label='A')\n",
    "plt.plot(cumulativeDataB['date'], cumulativeDataB['conversion'], label='B')\n",
    "plt.title('График кумулятивного среднего количества заказов на посетителя по группам')\n",
    "plt.ylabel('Кумулятивное среднее количество заказов')\n",
    "plt.legend()\n",
    "plt.grid()\n",
    "plt.show()"
   ]
  },
  {
   "cell_type": "markdown",
   "metadata": {},
   "source": [
    "\"Движения\" графиков сильно отличаются.\n",
    "\n",
    "Группа А уменьшается и стабилизиуется на своём среднем значении.\n",
    "\n",
    "Группа В имеет большой всплеск до середины и в целом большее значение метрики относительно группы А, но в ходе теста значение среднего количества заказов на посетителя зафиксировалось."
   ]
  },
  {
   "cell_type": "markdown",
   "metadata": {},
   "source": [
    "### Построение графика относительного изменения кумулятивного среднего количества заказов на посетителя группы B к группе A."
   ]
  },
  {
   "cell_type": "code",
   "execution_count": 17,
   "metadata": {},
   "outputs": [
    {
     "data": {
      "image/png": "[encoded data removed]",
      "text/plain": [
       "<Figure size 1440x720 with 1 Axes>"
      ]
     },
     "metadata": {
      "needs_background": "light"
     },
     "output_type": "display_data"
    }
   ],
   "source": [
    "mergedCumulativeConversions = cumulativeDataA[['date','conversion']].merge(\n",
    "    cumulativeDataB[['date','conversion']], left_on='date', right_on='date', \n",
    "    how='left', suffixes=['A', 'B']\n",
    ")\n",
    "\n",
    "plt.figure(figsize=(20, 10))\n",
    "\n",
    "plt.plot(mergedCumulativeConversions['date'],\n",
    "         mergedCumulativeConversions['conversionB']/mergedCumulativeConversions['conversionA']-1,\n",
    "         label=\"Относительный прирост кумулятивного среднего количества заказов на посетителя группы B относительно группы A\"\n",
    ")\n",
    "\n",
    "plt.title('График относительного изменения кумулятивного среднего количества заказов на посетителя')\n",
    "plt.ylabel('Отношение кумулятивного среднего количества заказов')\n",
    "plt.legend()\n",
    "\n",
    "plt.axhline(y=0, color='black', linestyle='--')\n",
    "plt.grid()\n",
    "plt.show()"
   ]
  },
  {
   "cell_type": "markdown",
   "metadata": {},
   "source": [
    "По началу группа В проигрывала группе А, затем, после большого всплеска, вырвалась вперёд.\n",
    "\n",
    "В целом видно, что отношение среднего количества заказов на посетителя ещё не установилось. Необходимо проанализировать аномалии для дальнейшего анализа."
   ]
  },
  {
   "cell_type": "markdown",
   "metadata": {},
   "source": [
    "### Построение точечного графика количества заказов по пользователям."
   ]
  },
  {
   "cell_type": "code",
   "execution_count": 18,
   "metadata": {},
   "outputs": [],
   "source": [
    "orders_agg = (\n",
    "    orders\n",
    "    .groupby(by=['visitorId'])\n",
    "    .agg({'transactionId': 'count'})\n",
    "    .rename(columns={'transactionId': 'orders_cnt'})\n",
    "    .reset_index()\n",
    ")"
   ]
  },
  {
   "cell_type": "code",
   "execution_count": 19,
   "metadata": {},
   "outputs": [
    {
     "data": {
      "image/png": "[encoded data removed]",
      "text/plain": [
       "<Figure size 936x432 with 1 Axes>"
      ]
     },
     "metadata": {
      "needs_background": "light"
     },
     "output_type": "display_data"
    }
   ],
   "source": [
    "plt.figure(figsize=(13, 6))\n",
    "\n",
    "x_values = pd.Series(range(0, len(orders_agg['orders_cnt'])))\n",
    "plt.scatter(x_values, orders_agg['orders_cnt'])\n",
    "\n",
    "plt.title('График количества заказов по пользователям')\n",
    "plt.ylabel('Количество заказов')\n",
    "plt.xlabel('Индентификатор пользователя')\n",
    "plt.grid()\n",
    "plt.show()"
   ]
  },
  {
   "cell_type": "markdown",
   "metadata": {},
   "source": [
    "По графику заметно наличие выбросов: некоторые пользователи совершали по 10-12 заказов. Предположительно, реальное значение количества заказов находится в диапазоне от 1 до 3 заказов."
   ]
  },
  {
   "cell_type": "markdown",
   "metadata": {},
   "source": [
    "### Расчёт 95-й и 99-й перцентилей количества заказов на пользователя."
   ]
  },
  {
   "cell_type": "code",
   "execution_count": 20,
   "metadata": {},
   "outputs": [
    {
     "name": "stdout",
     "output_type": "stream",
     "text": [
      "Перцентили количества заказов: [2. 4.]\n"
     ]
    }
   ],
   "source": [
    "# Подсчёт выборочных перцентилей количества заказов на пользователя\n",
    "print('Перцентили количества заказов:', np.percentile(orders_agg['orders_cnt'], [95, 99])) "
   ]
  },
  {
   "cell_type": "markdown",
   "metadata": {},
   "source": [
    "Не более 5% пользователей оформляли больше чем 2 заказа. Следовательно, границей для определения аномальных значений можно взять 3 заказа на одного пользователя."
   ]
  },
  {
   "cell_type": "markdown",
   "metadata": {},
   "source": [
    "### Построение точечного графика стоимостей заказов."
   ]
  },
  {
   "cell_type": "code",
   "execution_count": 21,
   "metadata": {},
   "outputs": [
    {
     "data": {
      "image/png": "[encoded data removed]",
      "text/plain": [
       "<Figure size 1008x504 with 1 Axes>"
      ]
     },
     "metadata": {
      "needs_background": "light"
     },
     "output_type": "display_data"
    }
   ],
   "source": [
    "plt.figure(figsize=(14, 7))\n",
    "\n",
    "x_values = pd.Series(range(0,len(orders['revenue'])))\n",
    "plt.scatter(x_values, orders['revenue']) \n",
    "\n",
    "plt.title('График стоимости заказов')\n",
    "plt.ylabel('Стоимость заказа')\n",
    "plt.xlabel('Индентификатор пользователя')\n",
    "plt.grid()\n",
    "plt.show()"
   ]
  },
  {
   "cell_type": "markdown",
   "metadata": {},
   "source": [
    "По графику можно сделать вывод о том, что в данных есть пара аномальных значений. Для того чтобы их убрать, нужно задать границу в 200 000."
   ]
  },
  {
   "cell_type": "code",
   "execution_count": 22,
   "metadata": {},
   "outputs": [
    {
     "data": {
      "image/png": "[encoded data removed]",
      "text/plain": [
       "<Figure size 1008x504 with 1 Axes>"
      ]
     },
     "metadata": {
      "needs_background": "light"
     },
     "output_type": "display_data"
    }
   ],
   "source": [
    "plt.figure(figsize=(14, 7))\n",
    "\n",
    "x_values = pd.Series(range(0,len(orders['revenue'])))\n",
    "plt.scatter(x_values, orders['revenue']) \n",
    "\n",
    "plt.title('График стоимости заказов после исключения аномальных значений')\n",
    "plt.ylabel('Стоимость заказа')\n",
    "plt.xlabel('Индентификатор пользователя')\n",
    "plt.ylim(0,100000)\n",
    "plt.grid()\n",
    "plt.show()"
   ]
  },
  {
   "cell_type": "markdown",
   "metadata": {},
   "source": [
    "По \"очищенному\" графику видно, что большинство заказов имеют стоимость до 20 000 и лишь несколько выходят за границу в 80 000."
   ]
  },
  {
   "cell_type": "markdown",
   "metadata": {},
   "source": [
    "### Расчёт 95-й и 99-й перцентилей стоимости заказов"
   ]
  },
  {
   "cell_type": "code",
   "execution_count": 23,
   "metadata": {},
   "outputs": [
    {
     "name": "stdout",
     "output_type": "stream",
     "text": [
      "Перцентили количества заказов: [28000.  58233.2]\n"
     ]
    }
   ],
   "source": [
    "# Подсчёт выборочных перцентилей стоимости заказов\n",
    "print('Перцентили количества заказов:', np.percentile(orders['revenue'], [95, 99]))"
   ]
  },
  {
   "cell_type": "markdown",
   "metadata": {},
   "source": [
    "Не более 5% заказов дороже 28 000 и лишь 1% заказов дороже 58 233.\n",
    "\n",
    "На основании этих данных, выберу границу в 58 233 для определения аномальных заказов. "
   ]
  },
  {
   "cell_type": "markdown",
   "metadata": {},
   "source": [
    "### Расчёт статистической значимости различий в среднем количестве заказов на посетителя между группами по «сырым» данным"
   ]
  },
  {
   "cell_type": "markdown",
   "metadata": {},
   "source": [
    "**Формулировка гипотез:**\n",
    "\n",
    "Н0: различий в среднем количестве заказов между группами нет;\n",
    "\n",
    "Н1: различия в среднем между группами есть."
   ]
  },
  {
   "cell_type": "code",
   "execution_count": 32,
   "metadata": {},
   "outputs": [],
   "source": [
    "visitorsADaily = visitors[visitors['group'] == 'A'][['date', 'visitors']]\n",
    "visitorsADaily.columns = ['date', 'visitorsPerDateA']\n",
    "\n",
    "visitorsBDaily = visitors[visitors['group'] == 'B'][['date', 'visitors']]\n",
    "visitorsBDaily.columns = ['date', 'visitorsPerDateB']\n",
    "\n",
    "data = (\n",
    "    visitorsADaily.merge(visitorsBDaily, left_on='date', right_on='date', how='left')\n",
    ")"
   ]
  },
  {
   "cell_type": "code",
   "execution_count": 33,
   "metadata": {},
   "outputs": [
    {
     "name": "stdout",
     "output_type": "stream",
     "text": [
      "0        1\n",
      "1        1\n",
      "2        1\n",
      "3        1\n",
      "4        1\n",
      "        ..\n",
      "18325    0\n",
      "18326    0\n",
      "18327    0\n",
      "18328    0\n",
      "18329    0\n",
      "Name: orders, Length: 18916, dtype: int64\n",
      "p-value: 0.017\n",
      "Относительная разница средних: 0.138\n"
     ]
    }
   ],
   "source": [
    "ordersByUsersA = (\n",
    "    orders[orders['group'] == 'A']\n",
    "    .groupby('visitorId', as_index=False)\n",
    "    .agg({'transactionId': pd.Series.nunique})\n",
    ")\n",
    "ordersByUsersA.columns = ['visitorId', 'orders']\n",
    "\n",
    "ordersByUsersB = (\n",
    "    orders[orders['group'] == 'B']\n",
    "    .groupby('visitorId', as_index=False)\n",
    "    .agg({'transactionId': pd.Series.nunique})\n",
    ")\n",
    "ordersByUsersB.columns = ['visitorId', 'orders']\n",
    "\n",
    "sampleA = pd.concat(\n",
    "    [\n",
    "        ordersByUsersA['orders'],\n",
    "        pd.Series(\n",
    "            0,\n",
    "            index=np.arange(\n",
    "                data['visitorsPerDateA'].sum() - len(ordersByUsersA['orders'])\n",
    "            ),\n",
    "            name='orders',\n",
    "        ),\n",
    "    ],\n",
    "    axis=0,\n",
    ")\n",
    "\n",
    "sampleB = pd.concat(\n",
    "    [\n",
    "        ordersByUsersB['orders'],\n",
    "        pd.Series(\n",
    "            0,\n",
    "            index=np.arange(\n",
    "                data['visitorsPerDateB'].sum() - len(ordersByUsersB['orders'])\n",
    "            ),\n",
    "            name='orders',\n",
    "        ),\n",
    "    ],\n",
    "    axis=0,\n",
    ")\n",
    "print(sampleB)\n",
    "print('p-value:', \"{0:.3f}\".format(stats.mannwhitneyu(sampleA, sampleB)[1]))\n",
    "\n",
    "print('Относительная разница средних:', \"{0:.3f}\".format(sampleB.mean() / sampleA.mean() - 1))"
   ]
  },
  {
   "cell_type": "markdown",
   "metadata": {},
   "source": [
    "Вывод: `p-value` = 0.017 меньше 0.05. Значит, нулевую гипотезу о том, что статистически значимых различий в среднем числе заказов между группами нет - отвергаем.\n",
    "\n",
    "Относительный прирост группы В равен 13.8%."
   ]
  },
  {
   "cell_type": "markdown",
   "metadata": {},
   "source": [
    "### Расчёт статистической значимости различий в среднем чеке заказа между группами по «сырым» данным"
   ]
  },
  {
   "cell_type": "markdown",
   "metadata": {},
   "source": [
    "**Формулировка гипотез:**\n",
    "\n",
    "Н0: различий в среднем чеке между группами нет;\n",
    "\n",
    "Н1: различия в среднем чеке между группами есть."
   ]
  },
  {
   "cell_type": "code",
   "execution_count": 26,
   "metadata": {},
   "outputs": [
    {
     "name": "stdout",
     "output_type": "stream",
     "text": [
      "0.729\n",
      "0.259\n"
     ]
    }
   ],
   "source": [
    "print(\n",
    "    '{0:.3f}'.format(\n",
    "        stats.mannwhitneyu(\n",
    "            orders[orders['group']=='A']['revenue'],\n",
    "            orders[orders['group']=='B']['revenue'])[1])\n",
    ")\n",
    "print('{0:.3f}'.format(\n",
    "    orders[orders['group']=='B']['revenue'].mean(\n",
    "    )/orders[orders['group']=='A']['revenue'].mean()-1)\n",
    ")"
   ]
  },
  {
   "cell_type": "markdown",
   "metadata": {},
   "source": [
    "Вывод: `p-value` = 0.729 больше 0.05. Значит, нулевую гипотезу о том, что статистически значимых различий в среднем чеке между группами нет - оставляем. \n",
    "\n",
    "Поскольку относительное различие среднего чека между сегментами составляет 25.9%, наблюдаемые различия не являются значимыми при такой уровне значимости, а следовательно были получены случайно."
   ]
  },
  {
   "cell_type": "markdown",
   "metadata": {},
   "source": [
    "### Расчёт статистической значимости различий в среднем количестве заказов на посетителя между группами по «очищенным» данным."
   ]
  },
  {
   "cell_type": "markdown",
   "metadata": {},
   "source": [
    "**Формулировка гипотез:**\n",
    "\n",
    "Н0: различий в среднем количестве заказов между группами нет;\n",
    "\n",
    "Н1: различия в среднем количестве заказов между группами есть."
   ]
  },
  {
   "cell_type": "code",
   "execution_count": 27,
   "metadata": {},
   "outputs": [
    {
     "name": "stdout",
     "output_type": "stream",
     "text": [
      "1099    148427295\n",
      "18      199603092\n",
      "23      237748145\n",
      "949     887908475\n",
      "744     888512513\n",
      "Name: visitorId, dtype: int64\n",
      "20\n"
     ]
    }
   ],
   "source": [
    "usersWithManyOrders = pd.concat(\n",
    "    [\n",
    "        ordersByUsersA[ordersByUsersA['orders'] >= np.percentile(orders_agg['orders_cnt'], 99)]['visitorId'],\n",
    "        ordersByUsersB[ordersByUsersB['orders'] >= np.percentile(orders_agg['orders_cnt'], 99)]['visitorId'],\n",
    "    ],\n",
    "    axis=0,\n",
    ")\n",
    "\n",
    "usersWithExpensiveOrders = orders[orders['revenue'] > np.percentile(orders['revenue'], 99)]['visitorId']\n",
    "\n",
    "abnormalUsers = (\n",
    "    pd.concat([usersWithManyOrders, usersWithExpensiveOrders], axis=0)\n",
    "    .drop_duplicates()\n",
    "    .sort_values()\n",
    ")\n",
    "print(abnormalUsers.head(5))\n",
    "print(abnormalUsers.shape[0])"
   ]
  },
  {
   "cell_type": "markdown",
   "metadata": {},
   "source": [
    "В итоге получилось 20 аномальных пользователей. Узнаем как их присутствие повлияло на результаты теста."
   ]
  },
  {
   "cell_type": "code",
   "execution_count": 28,
   "metadata": {},
   "outputs": [
    {
     "name": "stdout",
     "output_type": "stream",
     "text": [
      "p-value: 0.014\n",
      "Относительная разница средних: 0.151\n"
     ]
    }
   ],
   "source": [
    "sampleAFiltered = pd.concat(\n",
    "    [\n",
    "        ordersByUsersA[\n",
    "            np.logical_not(ordersByUsersA['visitorId'].isin(abnormalUsers))\n",
    "        ]['orders'],\n",
    "        pd.Series(\n",
    "            0,\n",
    "            index=np.arange(\n",
    "                data['visitorsPerDateA'].sum() - len(ordersByUsersA['orders'])\n",
    "            ),\n",
    "            name='orders',\n",
    "        ),\n",
    "    ],\n",
    "    axis=0,\n",
    ")\n",
    "\n",
    "sampleBFiltered = pd.concat(\n",
    "    [\n",
    "        ordersByUsersB[\n",
    "            np.logical_not(ordersByUsersB['visitorId'].isin(abnormalUsers))\n",
    "        ]['orders'],\n",
    "        pd.Series(\n",
    "            0,\n",
    "            index=np.arange(\n",
    "                data['visitorsPerDateB'].sum() - len(ordersByUsersB['orders'])\n",
    "            ),\n",
    "            name='orders',\n",
    "        ),\n",
    "    ],\n",
    "    axis=0,\n",
    ")\n",
    "\n",
    "print('p-value:', '{0:.3f}'.format(stats.mannwhitneyu(sampleAFiltered, sampleBFiltered)[1]))\n",
    "print('Относительная разница средних:', '{0:.3f}'.format(sampleBFiltered.mean()/sampleAFiltered.mean()-1))"
   ]
  },
  {
   "cell_type": "markdown",
   "metadata": {},
   "source": [
    "Вывод: `p-value` = 0.014 меньше 0.05. Значит, нулевую гипотезу о том, что статистически значимых различий в среднем числе заказов между группами нет - отвергаем.\n",
    "\n",
    "Относительный прирост группы В равен 15.1%.\n",
    "\n",
    "Результаты по среднему количеству заказов практически не изменились."
   ]
  },
  {
   "cell_type": "markdown",
   "metadata": {},
   "source": [
    "### Расчёт статистической значимости различий в среднем чеке заказа между группами по «очищенным» данным"
   ]
  },
  {
   "cell_type": "markdown",
   "metadata": {},
   "source": [
    "**Формулировка гипотез:**\n",
    "\n",
    "Н0: различий в среднем чеке между группами нет;\n",
    "\n",
    "Н1: различия в среднем чеке между группами есть."
   ]
  },
  {
   "cell_type": "code",
   "execution_count": 29,
   "metadata": {},
   "outputs": [
    {
     "name": "stdout",
     "output_type": "stream",
     "text": [
      "p-value: 0.959\n",
      "Относительная разница средних: -0.014\n"
     ]
    }
   ],
   "source": [
    "print(\n",
    "    'p-value:', '{0:.3f}'.format(\n",
    "        stats.mannwhitneyu(\n",
    "            orders[\n",
    "                np.logical_and(\n",
    "                    orders['group'] == 'A',\n",
    "                    np.logical_not(orders['visitorId'].isin(abnormalUsers)),\n",
    "                )\n",
    "            ]['revenue'],\n",
    "            orders[\n",
    "                np.logical_and(\n",
    "                    orders['group'] == 'B',\n",
    "                    np.logical_not(orders['visitorId'].isin(abnormalUsers)),\n",
    "                )\n",
    "            ]['revenue'],\n",
    "        )[1]\n",
    "    )\n",
    ")\n",
    "\n",
    "print(\n",
    "    'Относительная разница средних:', \"{0:.3f}\".format(\n",
    "        orders[\n",
    "            np.logical_and(\n",
    "                orders['group'] == 'B',\n",
    "                np.logical_not(orders['visitorId'].isin(abnormalUsers)),\n",
    "            )\n",
    "        ]['revenue'].mean()\n",
    "        / orders[\n",
    "            np.logical_and(\n",
    "                orders['group'] == 'A',\n",
    "                np.logical_not(orders['visitorId'].isin(abnormalUsers)),\n",
    "            )\n",
    "        ]['revenue'].mean()\n",
    "        - 1\n",
    "    )\n",
    ")"
   ]
  },
  {
   "cell_type": "markdown",
   "metadata": {},
   "source": [
    "Вывод: статистической разницы между \"сырыми\" и \"очищенными\" данными нет. \n",
    "\n",
    "`p-value` увеличился с 72.9% до 95.9%. А относительная разница между сегментами уменьшилась с 25.9% до -1.4%."
   ]
  },
  {
   "cell_type": "markdown",
   "metadata": {},
   "source": [
    "### Результаты А/В-теста"
   ]
  },
  {
   "cell_type": "markdown",
   "metadata": {},
   "source": [
    "**Имеющиеся факты:**\n",
    "    \n",
    "* Есть статистически значимое различие по среднему количеству заказов между группами по «сырым» и по данным после фильтрации аномалий;\n",
    "* Нет статистически значимого различия по среднему чеку между группами ни по «сырым», ни по данным после фильтрации аномалий;\n",
    "* График различия среднего количества заказов между группами сообщает, что результаты группы B лучше группы A и есть тенденция к ухудшению.\n",
    "\n",
    "Исходя из обнаруженных фактов, тест следует остановить и признать его успешным. Продолжать смысла нет, потому как вероятность, что при имеющихся данных группа А на самом деле лучше группы В — практически нулевая."
   ]
  },
  {
   "cell_type": "markdown",
   "metadata": {},
   "source": [
    "**Кумулятивным метрики:**\n",
    "\n",
    "* Выручка неравномерно растет в течение всего теста;\n",
    "* Средний чек тоже неравномерный, так как в группу В попали аномальные заказы;\n",
    "* Графики кумулятивного среднего количества заказов на посетителя по группам имеет резкие \"взлёты\" и \"падения\", но ближе к концу теста стабилизируется на уровне реального среднего значения;\n",
    "\n",
    "**Влияние аномальных значений:**\n",
    "\n",
    "* Аномалии практически не повлияли на статистическую значимость различий в среднем количестве заказов на посетителя между группами по «очищенным» и \"сырым\" данным . Разница `p_value` между данными с выбросами и без составила 0.1%, а относительный прирост группы В к группе А увеличился с 13.8% до 14.8%\n",
    "\n",
    "* Статистическая разница между \"очищенными\" и \"сырыми\" данными о среднем чеке заказа между группами отсутствует. `p_value` увеличился с 72.9% до 97.7%. Относительный прирост группы В к группе А уменьшился с 25.9% до -1.7%."
   ]
  },
  {
   "cell_type": "markdown",
   "metadata": {},
   "source": [
    "На основании полученных результатов исследования, можно утверждать, что различия среднего количества заказов между группами имеют статистическую значимость. Это значит, что средние значения количества заказов по группам имеют существенную разницу.\n",
    "\n",
    "При этом статистически значимой разницы между средними значениями чеков между группами не было выявлено. \n",
    "\n",
    "По результатам проекта можно сделать вывод о том, что выручка увеличилась, так как среднее количество заказов выросло, а средний чек остался без изменений."
   ]
  }
 ],
 "metadata": {
  "ExecuteTimeLog": [
   {
    "duration": 1237,
    "start_time": "2024-05-18T13:11:21.476Z"
   },
   {
    "duration": 238,
    "start_time": "2024-05-18T13:13:00.061Z"
   },
   {
    "duration": 3,
    "start_time": "2024-05-18T13:13:01.167Z"
   },
   {
    "duration": 13,
    "start_time": "2024-05-18T13:13:55.553Z"
   },
   {
    "duration": 95,
    "start_time": "2024-05-18T13:15:03.171Z"
   },
   {
    "duration": 11,
    "start_time": "2024-05-18T13:15:15.070Z"
   },
   {
    "duration": 11,
    "start_time": "2024-05-18T13:17:28.978Z"
   },
   {
    "duration": 15,
    "start_time": "2024-05-18T13:17:54.220Z"
   },
   {
    "duration": 11,
    "start_time": "2024-05-18T13:18:45.201Z"
   },
   {
    "duration": 11,
    "start_time": "2024-05-18T13:18:55.423Z"
   },
   {
    "duration": 9,
    "start_time": "2024-05-18T13:20:10.354Z"
   },
   {
    "duration": 6,
    "start_time": "2024-05-18T13:20:43.060Z"
   },
   {
    "duration": 10,
    "start_time": "2024-05-18T13:21:07.874Z"
   },
   {
    "duration": 10,
    "start_time": "2024-05-18T13:22:08.634Z"
   },
   {
    "duration": 3,
    "start_time": "2024-05-18T13:32:27.690Z"
   },
   {
    "duration": 134,
    "start_time": "2024-05-18T13:35:06.746Z"
   },
   {
    "duration": 251,
    "start_time": "2024-05-18T13:37:14.754Z"
   },
   {
    "duration": 8,
    "start_time": "2024-05-18T13:37:35.263Z"
   },
   {
    "duration": 2,
    "start_time": "2024-05-18T13:38:00.786Z"
   },
   {
    "duration": 219,
    "start_time": "2024-05-18T13:38:03.610Z"
   },
   {
    "duration": 217,
    "start_time": "2024-05-18T13:39:08.368Z"
   },
   {
    "duration": 335,
    "start_time": "2024-05-18T13:39:25.714Z"
   },
   {
    "duration": 9,
    "start_time": "2024-05-18T13:40:18.911Z"
   },
   {
    "duration": 7,
    "start_time": "2024-05-18T13:40:34.898Z"
   },
   {
    "duration": 230,
    "start_time": "2024-05-18T13:41:39.528Z"
   },
   {
    "duration": 29,
    "start_time": "2024-05-18T13:42:27.136Z"
   },
   {
    "duration": 408,
    "start_time": "2024-05-18T13:43:27.612Z"
   },
   {
    "duration": 11,
    "start_time": "2024-05-18T13:45:12.180Z"
   },
   {
    "duration": 3,
    "start_time": "2024-05-18T13:46:32.670Z"
   },
   {
    "duration": 22,
    "start_time": "2024-05-18T13:46:52.355Z"
   },
   {
    "duration": 21,
    "start_time": "2024-05-18T13:48:01.939Z"
   },
   {
    "duration": 10,
    "start_time": "2024-05-18T13:48:50.945Z"
   },
   {
    "duration": 6,
    "start_time": "2024-05-18T13:49:29.752Z"
   },
   {
    "duration": 527,
    "start_time": "2024-05-18T13:49:34.128Z"
   },
   {
    "duration": 12,
    "start_time": "2024-05-18T13:51:42.016Z"
   },
   {
    "duration": 3,
    "start_time": "2024-05-18T13:52:04.395Z"
   },
   {
    "duration": 467,
    "start_time": "2024-05-18T13:52:08.413Z"
   },
   {
    "duration": 3,
    "start_time": "2024-05-18T13:52:55.375Z"
   },
   {
    "duration": 495,
    "start_time": "2024-05-18T13:52:58.792Z"
   },
   {
    "duration": 31,
    "start_time": "2024-05-18T13:55:47.729Z"
   },
   {
    "duration": 164,
    "start_time": "2024-05-18T13:56:21.125Z"
   },
   {
    "duration": 247,
    "start_time": "2024-05-18T13:56:54.728Z"
   },
   {
    "duration": 293,
    "start_time": "2024-05-18T13:57:08.820Z"
   },
   {
    "duration": 513,
    "start_time": "2024-05-18T13:57:38.755Z"
   },
   {
    "duration": 711,
    "start_time": "2024-05-18T13:58:01.216Z"
   },
   {
    "duration": 528,
    "start_time": "2024-05-18T13:59:24.349Z"
   },
   {
    "duration": 506,
    "start_time": "2024-05-18T13:59:32.154Z"
   },
   {
    "duration": 532,
    "start_time": "2024-05-18T13:59:41.189Z"
   },
   {
    "duration": 489,
    "start_time": "2024-05-18T14:00:15.245Z"
   },
   {
    "duration": 573,
    "start_time": "2024-05-18T14:00:42.716Z"
   },
   {
    "duration": 534,
    "start_time": "2024-05-18T14:01:01.256Z"
   },
   {
    "duration": 501,
    "start_time": "2024-05-18T14:01:22.691Z"
   },
   {
    "duration": 5,
    "start_time": "2024-05-18T14:08:32.315Z"
   },
   {
    "duration": 250,
    "start_time": "2024-05-18T14:08:57.410Z"
   },
   {
    "duration": 77,
    "start_time": "2024-05-18T14:10:49.937Z"
   },
   {
    "duration": 6,
    "start_time": "2024-05-18T14:10:55.884Z"
   },
   {
    "duration": 232,
    "start_time": "2024-05-18T14:10:57.463Z"
   },
   {
    "duration": 241,
    "start_time": "2024-05-18T14:11:54.711Z"
   },
   {
    "duration": 212,
    "start_time": "2024-05-18T14:13:45.975Z"
   },
   {
    "duration": 219,
    "start_time": "2024-05-18T14:14:10.763Z"
   },
   {
    "duration": 152,
    "start_time": "2024-05-18T14:14:28.844Z"
   },
   {
    "duration": 227,
    "start_time": "2024-05-18T14:14:37.579Z"
   },
   {
    "duration": 246,
    "start_time": "2024-05-18T14:33:03.599Z"
   },
   {
    "duration": 258,
    "start_time": "2024-05-18T14:37:28.854Z"
   },
   {
    "duration": 362,
    "start_time": "2024-05-18T14:42:30.397Z"
   },
   {
    "duration": 320,
    "start_time": "2024-05-18T14:42:38.294Z"
   },
   {
    "duration": 372,
    "start_time": "2024-05-18T14:47:04.535Z"
   },
   {
    "duration": 384,
    "start_time": "2024-05-18T14:55:16.234Z"
   },
   {
    "duration": 338,
    "start_time": "2024-05-18T14:57:09.113Z"
   },
   {
    "duration": 115,
    "start_time": "2024-05-18T15:02:31.030Z"
   },
   {
    "duration": 121,
    "start_time": "2024-05-18T15:02:40.847Z"
   },
   {
    "duration": 334,
    "start_time": "2024-05-18T15:03:05.125Z"
   },
   {
    "duration": 249,
    "start_time": "2024-05-18T15:03:31.993Z"
   },
   {
    "duration": 267,
    "start_time": "2024-05-18T15:03:43.154Z"
   },
   {
    "duration": 296,
    "start_time": "2024-05-18T15:03:54.794Z"
   },
   {
    "duration": 276,
    "start_time": "2024-05-18T15:03:59.234Z"
   },
   {
    "duration": 386,
    "start_time": "2024-05-18T15:04:04.563Z"
   },
   {
    "duration": 268,
    "start_time": "2024-05-18T15:04:12.470Z"
   },
   {
    "duration": 272,
    "start_time": "2024-05-18T15:04:20.266Z"
   },
   {
    "duration": 300,
    "start_time": "2024-05-18T15:04:27.265Z"
   },
   {
    "duration": 302,
    "start_time": "2024-05-18T15:04:33.078Z"
   },
   {
    "duration": 291,
    "start_time": "2024-05-18T15:04:50.797Z"
   },
   {
    "duration": 321,
    "start_time": "2024-05-18T15:05:01.734Z"
   },
   {
    "duration": 309,
    "start_time": "2024-05-18T15:05:11.044Z"
   },
   {
    "duration": 344,
    "start_time": "2024-05-18T15:05:21.798Z"
   },
   {
    "duration": 347,
    "start_time": "2024-05-18T15:05:40.096Z"
   },
   {
    "duration": 344,
    "start_time": "2024-05-18T15:05:52.082Z"
   },
   {
    "duration": 570,
    "start_time": "2024-05-18T15:06:03.276Z"
   },
   {
    "duration": 389,
    "start_time": "2024-05-18T15:06:16.655Z"
   },
   {
    "duration": 506,
    "start_time": "2024-05-18T15:06:23.173Z"
   },
   {
    "duration": 166,
    "start_time": "2024-05-18T15:06:39.355Z"
   },
   {
    "duration": 12,
    "start_time": "2024-05-18T15:08:55.044Z"
   },
   {
    "duration": 70,
    "start_time": "2024-05-18T15:09:00.198Z"
   },
   {
    "duration": 6,
    "start_time": "2024-05-18T15:09:10.181Z"
   },
   {
    "duration": 200,
    "start_time": "2024-05-18T15:09:11.479Z"
   },
   {
    "duration": 186,
    "start_time": "2024-05-18T15:10:43.600Z"
   },
   {
    "duration": 186,
    "start_time": "2024-05-18T15:10:55.608Z"
   },
   {
    "duration": 521,
    "start_time": "2024-05-18T15:11:36.245Z"
   },
   {
    "duration": 404,
    "start_time": "2024-05-18T15:12:01.472Z"
   },
   {
    "duration": 457,
    "start_time": "2024-05-18T15:12:07.565Z"
   },
   {
    "duration": 469,
    "start_time": "2024-05-18T15:12:12.770Z"
   },
   {
    "duration": 372,
    "start_time": "2024-05-18T15:12:19.164Z"
   },
   {
    "duration": 180,
    "start_time": "2024-05-18T15:13:15.797Z"
   },
   {
    "duration": 198,
    "start_time": "2024-05-18T15:13:20.936Z"
   },
   {
    "duration": 471,
    "start_time": "2024-05-18T15:14:40.217Z"
   },
   {
    "duration": 502,
    "start_time": "2024-05-18T15:17:43.848Z"
   },
   {
    "duration": 387,
    "start_time": "2024-05-18T15:18:41.920Z"
   },
   {
    "duration": 488,
    "start_time": "2024-05-18T15:19:36.753Z"
   },
   {
    "duration": 367,
    "start_time": "2024-05-18T15:20:29.157Z"
   },
   {
    "duration": 378,
    "start_time": "2024-05-18T15:21:17.445Z"
   },
   {
    "duration": 135,
    "start_time": "2024-05-18T15:21:50.395Z"
   },
   {
    "duration": 234,
    "start_time": "2024-05-18T15:22:12.367Z"
   },
   {
    "duration": 8,
    "start_time": "2024-05-18T15:27:52.951Z"
   },
   {
    "duration": 4,
    "start_time": "2024-05-18T15:28:34.257Z"
   },
   {
    "duration": 4,
    "start_time": "2024-05-18T15:29:47.727Z"
   },
   {
    "duration": 4,
    "start_time": "2024-05-18T15:29:52.761Z"
   },
   {
    "duration": 4,
    "start_time": "2024-05-18T15:30:21.713Z"
   },
   {
    "duration": 4,
    "start_time": "2024-05-18T15:30:26.358Z"
   },
   {
    "duration": 5,
    "start_time": "2024-05-18T15:34:56.239Z"
   },
   {
    "duration": 5,
    "start_time": "2024-05-18T15:35:13.414Z"
   },
   {
    "duration": 3,
    "start_time": "2024-05-18T15:35:19.825Z"
   },
   {
    "duration": 4,
    "start_time": "2024-05-18T15:36:04.144Z"
   },
   {
    "duration": 130,
    "start_time": "2024-05-18T15:37:40.936Z"
   },
   {
    "duration": 169,
    "start_time": "2024-05-18T15:40:31.596Z"
   },
   {
    "duration": 152,
    "start_time": "2024-05-18T15:40:46.825Z"
   },
   {
    "duration": 15,
    "start_time": "2024-05-18T15:41:23.954Z"
   },
   {
    "duration": 168,
    "start_time": "2024-05-18T15:41:39.097Z"
   },
   {
    "duration": 12,
    "start_time": "2024-05-18T15:43:12.983Z"
   },
   {
    "duration": 11,
    "start_time": "2024-05-18T15:43:33.890Z"
   },
   {
    "duration": 11,
    "start_time": "2024-05-18T15:43:40.025Z"
   },
   {
    "duration": 885,
    "start_time": "2024-05-18T15:43:46.320Z"
   },
   {
    "duration": 135,
    "start_time": "2024-05-18T15:44:10.403Z"
   },
   {
    "duration": 178,
    "start_time": "2024-05-18T15:44:27.767Z"
   },
   {
    "duration": 4,
    "start_time": "2024-05-18T15:48:26.180Z"
   },
   {
    "duration": 16,
    "start_time": "2024-05-18T15:54:36.443Z"
   },
   {
    "duration": 142,
    "start_time": "2024-05-18T15:55:27.096Z"
   },
   {
    "duration": 111,
    "start_time": "2024-05-18T15:58:09.768Z"
   },
   {
    "duration": 206,
    "start_time": "2024-05-18T15:58:29.407Z"
   },
   {
    "duration": 125,
    "start_time": "2024-05-18T15:58:42.935Z"
   },
   {
    "duration": 13,
    "start_time": "2024-05-18T15:58:58.252Z"
   },
   {
    "duration": 130,
    "start_time": "2024-05-18T15:59:37.240Z"
   },
   {
    "duration": 15,
    "start_time": "2024-05-18T16:03:05.419Z"
   },
   {
    "duration": 149,
    "start_time": "2024-05-18T16:03:54.116Z"
   },
   {
    "duration": 127,
    "start_time": "2024-05-18T16:03:55.493Z"
   },
   {
    "duration": 3,
    "start_time": "2024-05-18T16:04:31.848Z"
   },
   {
    "duration": 154,
    "start_time": "2024-05-18T16:04:38.047Z"
   },
   {
    "duration": 45,
    "start_time": "2024-05-18T16:35:05.849Z"
   },
   {
    "duration": 7,
    "start_time": "2024-05-18T16:35:29.039Z"
   },
   {
    "duration": 1052,
    "start_time": "2024-05-18T16:35:50.554Z"
   },
   {
    "duration": 77,
    "start_time": "2024-05-18T16:35:51.607Z"
   },
   {
    "duration": 14,
    "start_time": "2024-05-18T16:35:51.685Z"
   },
   {
    "duration": 11,
    "start_time": "2024-05-18T16:35:51.701Z"
   },
   {
    "duration": 11,
    "start_time": "2024-05-18T16:35:51.713Z"
   },
   {
    "duration": 11,
    "start_time": "2024-05-18T16:35:51.725Z"
   },
   {
    "duration": 9,
    "start_time": "2024-05-18T16:35:51.738Z"
   },
   {
    "duration": 32,
    "start_time": "2024-05-18T16:35:51.748Z"
   },
   {
    "duration": 6,
    "start_time": "2024-05-18T16:35:51.781Z"
   },
   {
    "duration": 604,
    "start_time": "2024-05-18T16:35:51.789Z"
   },
   {
    "duration": 0,
    "start_time": "2024-05-18T16:35:52.395Z"
   },
   {
    "duration": 0,
    "start_time": "2024-05-18T16:35:52.396Z"
   },
   {
    "duration": 0,
    "start_time": "2024-05-18T16:35:52.397Z"
   },
   {
    "duration": 0,
    "start_time": "2024-05-18T16:35:52.399Z"
   },
   {
    "duration": 1,
    "start_time": "2024-05-18T16:35:52.399Z"
   },
   {
    "duration": 0,
    "start_time": "2024-05-18T16:35:52.400Z"
   },
   {
    "duration": 0,
    "start_time": "2024-05-18T16:35:52.401Z"
   },
   {
    "duration": 0,
    "start_time": "2024-05-18T16:35:52.403Z"
   },
   {
    "duration": 0,
    "start_time": "2024-05-18T16:35:52.404Z"
   },
   {
    "duration": 0,
    "start_time": "2024-05-18T16:35:52.405Z"
   },
   {
    "duration": 0,
    "start_time": "2024-05-18T16:35:52.406Z"
   },
   {
    "duration": 0,
    "start_time": "2024-05-18T16:35:52.407Z"
   },
   {
    "duration": 0,
    "start_time": "2024-05-18T16:35:52.408Z"
   },
   {
    "duration": 0,
    "start_time": "2024-05-18T16:35:52.409Z"
   },
   {
    "duration": 0,
    "start_time": "2024-05-18T16:35:52.410Z"
   },
   {
    "duration": 0,
    "start_time": "2024-05-18T16:35:52.411Z"
   },
   {
    "duration": 495,
    "start_time": "2024-05-18T16:36:29.903Z"
   },
   {
    "duration": 5,
    "start_time": "2024-05-18T16:36:42.064Z"
   },
   {
    "duration": 251,
    "start_time": "2024-05-18T16:36:44.231Z"
   },
   {
    "duration": 9,
    "start_time": "2024-05-18T16:36:47.132Z"
   },
   {
    "duration": 11,
    "start_time": "2024-05-18T16:36:49.779Z"
   },
   {
    "duration": 9,
    "start_time": "2024-05-18T16:36:51.311Z"
   },
   {
    "duration": 9,
    "start_time": "2024-05-18T16:36:53.064Z"
   },
   {
    "duration": 8,
    "start_time": "2024-05-18T16:36:56.666Z"
   },
   {
    "duration": 125,
    "start_time": "2024-05-18T16:37:01.316Z"
   },
   {
    "duration": 192,
    "start_time": "2024-05-18T16:37:04.326Z"
   },
   {
    "duration": 872,
    "start_time": "2024-05-18T16:37:08.091Z"
   },
   {
    "duration": 777,
    "start_time": "2024-05-18T16:37:41.924Z"
   },
   {
    "duration": 2465,
    "start_time": "2024-05-18T16:37:57.678Z"
   },
   {
    "duration": 986,
    "start_time": "2024-05-18T16:38:33.813Z"
   },
   {
    "duration": 77,
    "start_time": "2024-05-18T16:38:34.800Z"
   },
   {
    "duration": 15,
    "start_time": "2024-05-18T16:38:34.878Z"
   },
   {
    "duration": 10,
    "start_time": "2024-05-18T16:38:34.896Z"
   },
   {
    "duration": 10,
    "start_time": "2024-05-18T16:38:34.908Z"
   },
   {
    "duration": 25,
    "start_time": "2024-05-18T16:38:34.919Z"
   },
   {
    "duration": 2,
    "start_time": "2024-05-18T16:38:34.946Z"
   },
   {
    "duration": 30,
    "start_time": "2024-05-18T16:38:34.950Z"
   },
   {
    "duration": 6,
    "start_time": "2024-05-18T16:38:34.982Z"
   },
   {
    "duration": 4,
    "start_time": "2024-05-18T16:38:34.991Z"
   },
   {
    "duration": 7,
    "start_time": "2024-05-18T16:38:34.996Z"
   },
   {
    "duration": 374,
    "start_time": "2024-05-18T16:38:35.004Z"
   },
   {
    "duration": 0,
    "start_time": "2024-05-18T16:38:35.380Z"
   },
   {
    "duration": 0,
    "start_time": "2024-05-18T16:38:35.381Z"
   },
   {
    "duration": 0,
    "start_time": "2024-05-18T16:38:35.383Z"
   },
   {
    "duration": 0,
    "start_time": "2024-05-18T16:38:35.384Z"
   },
   {
    "duration": 0,
    "start_time": "2024-05-18T16:38:35.386Z"
   },
   {
    "duration": 0,
    "start_time": "2024-05-18T16:38:35.387Z"
   },
   {
    "duration": 0,
    "start_time": "2024-05-18T16:38:35.388Z"
   },
   {
    "duration": 0,
    "start_time": "2024-05-18T16:38:35.389Z"
   },
   {
    "duration": 0,
    "start_time": "2024-05-18T16:38:35.391Z"
   },
   {
    "duration": 0,
    "start_time": "2024-05-18T16:38:35.392Z"
   },
   {
    "duration": 0,
    "start_time": "2024-05-18T16:38:35.394Z"
   },
   {
    "duration": 0,
    "start_time": "2024-05-18T16:38:35.395Z"
   },
   {
    "duration": 0,
    "start_time": "2024-05-18T16:38:35.396Z"
   },
   {
    "duration": 0,
    "start_time": "2024-05-18T16:38:35.397Z"
   },
   {
    "duration": 9,
    "start_time": "2024-05-18T16:40:24.396Z"
   },
   {
    "duration": 1140,
    "start_time": "2024-05-18T16:40:30.336Z"
   },
   {
    "duration": 78,
    "start_time": "2024-05-18T16:40:31.478Z"
   },
   {
    "duration": 16,
    "start_time": "2024-05-18T16:40:31.557Z"
   },
   {
    "duration": 53,
    "start_time": "2024-05-18T16:40:31.575Z"
   },
   {
    "duration": 35,
    "start_time": "2024-05-18T16:40:31.631Z"
   },
   {
    "duration": 39,
    "start_time": "2024-05-18T16:40:31.668Z"
   },
   {
    "duration": 23,
    "start_time": "2024-05-18T16:40:31.709Z"
   },
   {
    "duration": 58,
    "start_time": "2024-05-18T16:40:31.733Z"
   },
   {
    "duration": 10,
    "start_time": "2024-05-18T16:40:31.793Z"
   },
   {
    "duration": 17,
    "start_time": "2024-05-18T16:40:31.806Z"
   },
   {
    "duration": 11,
    "start_time": "2024-05-18T16:40:31.825Z"
   },
   {
    "duration": 277,
    "start_time": "2024-05-18T16:40:31.837Z"
   },
   {
    "duration": 398,
    "start_time": "2024-05-18T16:40:32.115Z"
   },
   {
    "duration": 333,
    "start_time": "2024-05-18T16:40:32.515Z"
   },
   {
    "duration": 419,
    "start_time": "2024-05-18T16:40:32.849Z"
   },
   {
    "duration": 322,
    "start_time": "2024-05-18T16:40:33.269Z"
   },
   {
    "duration": 425,
    "start_time": "2024-05-18T16:40:33.592Z"
   },
   {
    "duration": 6,
    "start_time": "2024-05-18T16:40:34.018Z"
   },
   {
    "duration": 154,
    "start_time": "2024-05-18T16:40:34.025Z"
   },
   {
    "duration": 5,
    "start_time": "2024-05-18T16:40:34.181Z"
   },
   {
    "duration": 179,
    "start_time": "2024-05-18T16:40:34.188Z"
   },
   {
    "duration": 4,
    "start_time": "2024-05-18T16:40:34.369Z"
   },
   {
    "duration": 227,
    "start_time": "2024-05-18T16:40:34.375Z"
   },
   {
    "duration": 138,
    "start_time": "2024-05-18T16:40:34.603Z"
   },
   {
    "duration": 165,
    "start_time": "2024-05-18T16:40:34.743Z"
   },
   {
    "duration": 1091,
    "start_time": "2024-05-18T16:40:34.909Z"
   },
   {
    "duration": 8,
    "start_time": "2024-05-18T16:41:48.770Z"
   },
   {
    "duration": 8,
    "start_time": "2024-05-18T16:42:56.746Z"
   },
   {
    "duration": 26,
    "start_time": "2024-05-18T16:44:17.106Z"
   },
   {
    "duration": 16,
    "start_time": "2024-05-18T16:48:32.800Z"
   },
   {
    "duration": 11,
    "start_time": "2024-05-18T16:54:16.118Z"
   },
   {
    "duration": 59,
    "start_time": "2024-05-18T16:58:48.258Z"
   },
   {
    "duration": 12,
    "start_time": "2024-05-18T17:02:09.125Z"
   },
   {
    "duration": 11,
    "start_time": "2024-05-18T17:02:44.091Z"
   },
   {
    "duration": 8,
    "start_time": "2024-05-18T17:03:24.893Z"
   },
   {
    "duration": 27,
    "start_time": "2024-05-18T17:03:27.244Z"
   },
   {
    "duration": 13,
    "start_time": "2024-05-18T17:03:29.106Z"
   },
   {
    "duration": 12,
    "start_time": "2024-05-18T17:03:31.329Z"
   },
   {
    "duration": 9,
    "start_time": "2024-05-18T17:03:52.414Z"
   },
   {
    "duration": 28,
    "start_time": "2024-05-18T17:03:53.641Z"
   },
   {
    "duration": 19,
    "start_time": "2024-05-18T17:03:54.852Z"
   },
   {
    "duration": 11,
    "start_time": "2024-05-18T17:03:56.201Z"
   },
   {
    "duration": 499,
    "start_time": "2024-05-18T17:20:35.015Z"
   },
   {
    "duration": 717,
    "start_time": "2024-05-18T17:22:15.493Z"
   },
   {
    "duration": 793,
    "start_time": "2024-05-18T17:22:47.392Z"
   },
   {
    "duration": 719,
    "start_time": "2024-05-18T17:23:03.993Z"
   },
   {
    "duration": 267,
    "start_time": "2024-05-18T17:23:29.241Z"
   },
   {
    "duration": 234,
    "start_time": "2024-05-18T17:23:40.075Z"
   },
   {
    "duration": 290,
    "start_time": "2024-05-18T17:23:45.234Z"
   },
   {
    "duration": 223,
    "start_time": "2024-05-18T17:23:50.437Z"
   },
   {
    "duration": 373,
    "start_time": "2024-05-18T17:23:58.338Z"
   },
   {
    "duration": 263,
    "start_time": "2024-05-18T17:24:04.877Z"
   },
   {
    "duration": 456,
    "start_time": "2024-05-18T17:24:10.969Z"
   },
   {
    "duration": 1021,
    "start_time": "2024-05-18T17:24:57.392Z"
   },
   {
    "duration": 77,
    "start_time": "2024-05-18T17:24:58.415Z"
   },
   {
    "duration": 19,
    "start_time": "2024-05-18T17:24:58.494Z"
   },
   {
    "duration": 12,
    "start_time": "2024-05-18T17:24:58.515Z"
   },
   {
    "duration": 14,
    "start_time": "2024-05-18T17:24:58.528Z"
   },
   {
    "duration": 17,
    "start_time": "2024-05-18T17:24:58.544Z"
   },
   {
    "duration": 3,
    "start_time": "2024-05-18T17:24:58.563Z"
   },
   {
    "duration": 26,
    "start_time": "2024-05-18T17:24:58.567Z"
   },
   {
    "duration": 9,
    "start_time": "2024-05-18T17:24:58.594Z"
   },
   {
    "duration": 837,
    "start_time": "2024-05-18T17:24:58.605Z"
   },
   {
    "duration": 255,
    "start_time": "2024-05-18T17:24:59.443Z"
   },
   {
    "duration": 255,
    "start_time": "2024-05-18T17:24:59.700Z"
   },
   {
    "duration": 370,
    "start_time": "2024-05-18T17:24:59.956Z"
   },
   {
    "duration": 297,
    "start_time": "2024-05-18T17:25:00.327Z"
   },
   {
    "duration": 371,
    "start_time": "2024-05-18T17:25:00.626Z"
   },
   {
    "duration": 6,
    "start_time": "2024-05-18T17:25:00.999Z"
   },
   {
    "duration": 245,
    "start_time": "2024-05-18T17:25:01.007Z"
   },
   {
    "duration": 4,
    "start_time": "2024-05-18T17:25:01.253Z"
   },
   {
    "duration": 220,
    "start_time": "2024-05-18T17:25:01.259Z"
   },
   {
    "duration": 4,
    "start_time": "2024-05-18T17:25:01.481Z"
   },
   {
    "duration": 294,
    "start_time": "2024-05-18T17:25:01.486Z"
   },
   {
    "duration": 160,
    "start_time": "2024-05-18T17:25:01.781Z"
   },
   {
    "duration": 10,
    "start_time": "2024-05-18T17:25:01.943Z"
   },
   {
    "duration": 11,
    "start_time": "2024-05-18T17:25:01.966Z"
   },
   {
    "duration": 34,
    "start_time": "2024-05-18T17:25:01.980Z"
   },
   {
    "duration": 29,
    "start_time": "2024-05-18T17:25:02.015Z"
   },
   {
    "duration": 202,
    "start_time": "2024-05-18T17:25:28.395Z"
   },
   {
    "duration": 711,
    "start_time": "2024-05-18T17:26:32.929Z"
   },
   {
    "duration": 1069,
    "start_time": "2024-05-18T17:28:40.746Z"
   },
   {
    "duration": 78,
    "start_time": "2024-05-18T17:28:41.816Z"
   },
   {
    "duration": 15,
    "start_time": "2024-05-18T17:28:41.895Z"
   },
   {
    "duration": 9,
    "start_time": "2024-05-18T17:28:41.912Z"
   },
   {
    "duration": 12,
    "start_time": "2024-05-18T17:28:41.923Z"
   },
   {
    "duration": 14,
    "start_time": "2024-05-18T17:28:41.936Z"
   },
   {
    "duration": 3,
    "start_time": "2024-05-18T17:28:41.951Z"
   },
   {
    "duration": 25,
    "start_time": "2024-05-18T17:28:41.955Z"
   },
   {
    "duration": 9,
    "start_time": "2024-05-18T17:28:41.982Z"
   },
   {
    "duration": 876,
    "start_time": "2024-05-18T17:28:41.993Z"
   },
   {
    "duration": 3,
    "start_time": "2024-05-18T17:28:42.870Z"
   },
   {
    "duration": 273,
    "start_time": "2024-05-18T17:28:42.875Z"
   },
   {
    "duration": 374,
    "start_time": "2024-05-18T17:28:43.150Z"
   },
   {
    "duration": 305,
    "start_time": "2024-05-18T17:28:43.525Z"
   },
   {
    "duration": 370,
    "start_time": "2024-05-18T17:28:43.832Z"
   },
   {
    "duration": 6,
    "start_time": "2024-05-18T17:28:44.203Z"
   },
   {
    "duration": 154,
    "start_time": "2024-05-18T17:28:44.211Z"
   },
   {
    "duration": 5,
    "start_time": "2024-05-18T17:28:44.366Z"
   },
   {
    "duration": 184,
    "start_time": "2024-05-18T17:28:44.372Z"
   },
   {
    "duration": 10,
    "start_time": "2024-05-18T17:28:44.558Z"
   },
   {
    "duration": 201,
    "start_time": "2024-05-18T17:28:44.569Z"
   },
   {
    "duration": 162,
    "start_time": "2024-05-18T17:28:44.772Z"
   },
   {
    "duration": 8,
    "start_time": "2024-05-18T17:28:44.936Z"
   },
   {
    "duration": 20,
    "start_time": "2024-05-18T17:28:44.946Z"
   },
   {
    "duration": 28,
    "start_time": "2024-05-18T17:28:44.967Z"
   },
   {
    "duration": 12,
    "start_time": "2024-05-18T17:28:44.997Z"
   },
   {
    "duration": 16,
    "start_time": "2024-05-18T17:35:07.075Z"
   },
   {
    "duration": 11,
    "start_time": "2024-05-18T17:35:11.414Z"
   },
   {
    "duration": 480,
    "start_time": "2024-05-18T17:35:58.470Z"
   },
   {
    "duration": 383,
    "start_time": "2024-05-18T17:36:29.566Z"
   },
   {
    "duration": 726,
    "start_time": "2024-05-18T17:38:42.220Z"
   },
   {
    "duration": 58,
    "start_time": "2024-05-18T17:40:07.179Z"
   },
   {
    "duration": 1059,
    "start_time": "2024-05-18T17:40:21.669Z"
   },
   {
    "duration": 78,
    "start_time": "2024-05-18T17:40:22.730Z"
   },
   {
    "duration": 20,
    "start_time": "2024-05-18T17:40:22.809Z"
   },
   {
    "duration": 15,
    "start_time": "2024-05-18T17:40:22.832Z"
   },
   {
    "duration": 11,
    "start_time": "2024-05-18T17:40:22.849Z"
   },
   {
    "duration": 22,
    "start_time": "2024-05-18T17:40:22.861Z"
   },
   {
    "duration": 5,
    "start_time": "2024-05-18T17:40:22.885Z"
   },
   {
    "duration": 27,
    "start_time": "2024-05-18T17:40:22.892Z"
   },
   {
    "duration": 13,
    "start_time": "2024-05-18T17:40:22.921Z"
   },
   {
    "duration": 76,
    "start_time": "2024-05-18T17:40:22.937Z"
   },
   {
    "duration": 0,
    "start_time": "2024-05-18T17:40:23.015Z"
   },
   {
    "duration": 0,
    "start_time": "2024-05-18T17:40:23.016Z"
   },
   {
    "duration": 0,
    "start_time": "2024-05-18T17:40:23.017Z"
   },
   {
    "duration": 0,
    "start_time": "2024-05-18T17:40:23.017Z"
   },
   {
    "duration": 0,
    "start_time": "2024-05-18T17:40:23.019Z"
   },
   {
    "duration": 0,
    "start_time": "2024-05-18T17:40:23.020Z"
   },
   {
    "duration": 1,
    "start_time": "2024-05-18T17:40:23.020Z"
   },
   {
    "duration": 0,
    "start_time": "2024-05-18T17:40:23.021Z"
   },
   {
    "duration": 0,
    "start_time": "2024-05-18T17:40:23.022Z"
   },
   {
    "duration": 0,
    "start_time": "2024-05-18T17:40:23.023Z"
   },
   {
    "duration": 0,
    "start_time": "2024-05-18T17:40:23.024Z"
   },
   {
    "duration": 0,
    "start_time": "2024-05-18T17:40:23.025Z"
   },
   {
    "duration": 0,
    "start_time": "2024-05-18T17:40:23.027Z"
   },
   {
    "duration": 0,
    "start_time": "2024-05-18T17:40:23.027Z"
   },
   {
    "duration": 0,
    "start_time": "2024-05-18T17:40:23.028Z"
   },
   {
    "duration": 82,
    "start_time": "2024-05-18T17:42:59.675Z"
   },
   {
    "duration": 86,
    "start_time": "2024-05-18T17:43:10.775Z"
   },
   {
    "duration": 61,
    "start_time": "2024-05-18T17:43:36.127Z"
   },
   {
    "duration": 70,
    "start_time": "2024-05-18T17:44:05.000Z"
   },
   {
    "duration": 113,
    "start_time": "2024-05-18T17:45:03.710Z"
   },
   {
    "duration": 454,
    "start_time": "2024-05-18T17:45:41.182Z"
   },
   {
    "duration": 464,
    "start_time": "2024-05-18T17:46:06.995Z"
   },
   {
    "duration": 497,
    "start_time": "2024-05-18T17:46:45.467Z"
   },
   {
    "duration": 270,
    "start_time": "2024-05-18T17:47:14.492Z"
   },
   {
    "duration": 277,
    "start_time": "2024-05-18T17:47:26.498Z"
   },
   {
    "duration": 577,
    "start_time": "2024-05-18T17:48:00.690Z"
   },
   {
    "duration": 997,
    "start_time": "2024-05-18T17:48:35.700Z"
   },
   {
    "duration": 77,
    "start_time": "2024-05-18T17:48:36.699Z"
   },
   {
    "duration": 19,
    "start_time": "2024-05-18T17:48:36.778Z"
   },
   {
    "duration": 13,
    "start_time": "2024-05-18T17:48:36.799Z"
   },
   {
    "duration": 10,
    "start_time": "2024-05-18T17:48:36.814Z"
   },
   {
    "duration": 14,
    "start_time": "2024-05-18T17:48:36.825Z"
   },
   {
    "duration": 2,
    "start_time": "2024-05-18T17:48:36.840Z"
   },
   {
    "duration": 46,
    "start_time": "2024-05-18T17:48:36.843Z"
   },
   {
    "duration": 9,
    "start_time": "2024-05-18T17:48:36.891Z"
   },
   {
    "duration": 582,
    "start_time": "2024-05-18T17:48:36.902Z"
   },
   {
    "duration": 240,
    "start_time": "2024-05-18T17:48:37.485Z"
   },
   {
    "duration": 336,
    "start_time": "2024-05-18T17:48:37.726Z"
   },
   {
    "duration": 284,
    "start_time": "2024-05-18T17:48:38.064Z"
   },
   {
    "duration": 394,
    "start_time": "2024-05-18T17:48:38.350Z"
   },
   {
    "duration": 6,
    "start_time": "2024-05-18T17:48:38.746Z"
   },
   {
    "duration": 155,
    "start_time": "2024-05-18T17:48:38.754Z"
   },
   {
    "duration": 5,
    "start_time": "2024-05-18T17:48:38.911Z"
   },
   {
    "duration": 180,
    "start_time": "2024-05-18T17:48:38.918Z"
   },
   {
    "duration": 4,
    "start_time": "2024-05-18T17:48:39.100Z"
   },
   {
    "duration": 208,
    "start_time": "2024-05-18T17:48:39.106Z"
   },
   {
    "duration": 166,
    "start_time": "2024-05-18T17:48:39.316Z"
   },
   {
    "duration": 9,
    "start_time": "2024-05-18T17:48:39.483Z"
   },
   {
    "duration": 8,
    "start_time": "2024-05-18T17:48:39.494Z"
   },
   {
    "duration": 26,
    "start_time": "2024-05-18T17:48:39.503Z"
   },
   {
    "duration": 39,
    "start_time": "2024-05-18T17:48:39.530Z"
   },
   {
    "duration": 1032,
    "start_time": "2024-05-18T18:17:55.298Z"
   },
   {
    "duration": 76,
    "start_time": "2024-05-18T18:17:56.332Z"
   },
   {
    "duration": 14,
    "start_time": "2024-05-18T18:17:56.413Z"
   },
   {
    "duration": 10,
    "start_time": "2024-05-18T18:17:56.429Z"
   },
   {
    "duration": 10,
    "start_time": "2024-05-18T18:17:56.441Z"
   },
   {
    "duration": 11,
    "start_time": "2024-05-18T18:17:56.453Z"
   },
   {
    "duration": 10,
    "start_time": "2024-05-18T18:17:56.465Z"
   },
   {
    "duration": 39,
    "start_time": "2024-05-18T18:17:56.476Z"
   },
   {
    "duration": 8,
    "start_time": "2024-05-18T18:17:56.517Z"
   },
   {
    "duration": 580,
    "start_time": "2024-05-18T18:17:56.527Z"
   },
   {
    "duration": 248,
    "start_time": "2024-05-18T18:17:57.109Z"
   },
   {
    "duration": 373,
    "start_time": "2024-05-18T18:17:57.358Z"
   },
   {
    "duration": 313,
    "start_time": "2024-05-18T18:17:57.733Z"
   },
   {
    "duration": 397,
    "start_time": "2024-05-18T18:17:58.048Z"
   },
   {
    "duration": 7,
    "start_time": "2024-05-18T18:17:58.446Z"
   },
   {
    "duration": 158,
    "start_time": "2024-05-18T18:17:58.454Z"
   },
   {
    "duration": 4,
    "start_time": "2024-05-18T18:17:58.614Z"
   },
   {
    "duration": 183,
    "start_time": "2024-05-18T18:17:58.619Z"
   },
   {
    "duration": 5,
    "start_time": "2024-05-18T18:17:58.803Z"
   },
   {
    "duration": 246,
    "start_time": "2024-05-18T18:17:58.809Z"
   },
   {
    "duration": 190,
    "start_time": "2024-05-18T18:17:59.056Z"
   },
   {
    "duration": 10,
    "start_time": "2024-05-18T18:17:59.247Z"
   },
   {
    "duration": 9,
    "start_time": "2024-05-18T18:17:59.264Z"
   },
   {
    "duration": 26,
    "start_time": "2024-05-18T18:17:59.274Z"
   },
   {
    "duration": 12,
    "start_time": "2024-05-18T18:17:59.301Z"
   },
   {
    "duration": 1053,
    "start_time": "2024-05-18T18:21:59.163Z"
   },
   {
    "duration": 78,
    "start_time": "2024-05-18T18:22:00.218Z"
   },
   {
    "duration": 18,
    "start_time": "2024-05-18T18:22:00.297Z"
   },
   {
    "duration": 118,
    "start_time": "2024-05-18T18:22:00.317Z"
   },
   {
    "duration": 49,
    "start_time": "2024-05-18T18:22:00.437Z"
   },
   {
    "duration": 79,
    "start_time": "2024-05-18T18:22:00.487Z"
   },
   {
    "duration": 53,
    "start_time": "2024-05-18T18:22:00.567Z"
   },
   {
    "duration": 66,
    "start_time": "2024-05-18T18:22:00.622Z"
   },
   {
    "duration": 56,
    "start_time": "2024-05-18T18:22:00.689Z"
   },
   {
    "duration": 642,
    "start_time": "2024-05-18T18:22:00.748Z"
   },
   {
    "duration": 247,
    "start_time": "2024-05-18T18:22:01.391Z"
   },
   {
    "duration": 420,
    "start_time": "2024-05-18T18:22:01.639Z"
   },
   {
    "duration": 307,
    "start_time": "2024-05-18T18:22:02.065Z"
   },
   {
    "duration": 360,
    "start_time": "2024-05-18T18:22:02.373Z"
   },
   {
    "duration": 6,
    "start_time": "2024-05-18T18:22:02.735Z"
   },
   {
    "duration": 152,
    "start_time": "2024-05-18T18:22:02.742Z"
   },
   {
    "duration": 4,
    "start_time": "2024-05-18T18:22:02.895Z"
   },
   {
    "duration": 167,
    "start_time": "2024-05-18T18:22:02.901Z"
   },
   {
    "duration": 4,
    "start_time": "2024-05-18T18:22:03.070Z"
   },
   {
    "duration": 216,
    "start_time": "2024-05-18T18:22:03.075Z"
   },
   {
    "duration": 155,
    "start_time": "2024-05-18T18:22:03.293Z"
   },
   {
    "duration": 16,
    "start_time": "2024-05-18T18:22:03.449Z"
   },
   {
    "duration": 8,
    "start_time": "2024-05-18T18:22:03.466Z"
   },
   {
    "duration": 38,
    "start_time": "2024-05-18T18:22:03.475Z"
   },
   {
    "duration": 13,
    "start_time": "2024-05-18T18:22:03.514Z"
   },
   {
    "duration": 1321,
    "start_time": "2024-05-18T21:23:45.127Z"
   },
   {
    "duration": 230,
    "start_time": "2024-05-18T21:23:46.450Z"
   },
   {
    "duration": 23,
    "start_time": "2024-05-18T21:23:46.682Z"
   },
   {
    "duration": 15,
    "start_time": "2024-05-18T21:23:46.706Z"
   },
   {
    "duration": 11,
    "start_time": "2024-05-18T21:23:46.723Z"
   },
   {
    "duration": 27,
    "start_time": "2024-05-18T21:23:46.735Z"
   },
   {
    "duration": 6,
    "start_time": "2024-05-18T21:23:46.763Z"
   },
   {
    "duration": 29,
    "start_time": "2024-05-18T21:23:46.770Z"
   },
   {
    "duration": 12,
    "start_time": "2024-05-18T21:23:46.801Z"
   },
   {
    "duration": 703,
    "start_time": "2024-05-18T21:23:46.816Z"
   },
   {
    "duration": 295,
    "start_time": "2024-05-18T21:23:47.520Z"
   },
   {
    "duration": 472,
    "start_time": "2024-05-18T21:23:47.817Z"
   },
   {
    "duration": 359,
    "start_time": "2024-05-18T21:23:48.291Z"
   },
   {
    "duration": 413,
    "start_time": "2024-05-18T21:23:48.653Z"
   },
   {
    "duration": 6,
    "start_time": "2024-05-18T21:23:49.068Z"
   },
   {
    "duration": 164,
    "start_time": "2024-05-18T21:23:49.076Z"
   },
   {
    "duration": 5,
    "start_time": "2024-05-18T21:23:49.242Z"
   },
   {
    "duration": 195,
    "start_time": "2024-05-18T21:23:49.248Z"
   },
   {
    "duration": 5,
    "start_time": "2024-05-18T21:23:49.445Z"
   },
   {
    "duration": 254,
    "start_time": "2024-05-18T21:23:49.460Z"
   },
   {
    "duration": 239,
    "start_time": "2024-05-18T21:23:49.716Z"
   },
   {
    "duration": 16,
    "start_time": "2024-05-18T21:23:49.957Z"
   },
   {
    "duration": 13,
    "start_time": "2024-05-18T21:23:49.975Z"
   },
   {
    "duration": 74,
    "start_time": "2024-05-18T21:23:49.991Z"
   },
   {
    "duration": 22,
    "start_time": "2024-05-18T21:23:50.067Z"
   },
   {
    "duration": 1208,
    "start_time": "2024-05-18T21:24:00.345Z"
   },
   {
    "duration": 78,
    "start_time": "2024-05-18T21:24:01.555Z"
   },
   {
    "duration": 16,
    "start_time": "2024-05-18T21:24:01.634Z"
   },
   {
    "duration": 33,
    "start_time": "2024-05-18T21:24:01.651Z"
   },
   {
    "duration": 20,
    "start_time": "2024-05-18T21:24:01.687Z"
   },
   {
    "duration": 22,
    "start_time": "2024-05-18T21:24:01.709Z"
   },
   {
    "duration": 11,
    "start_time": "2024-05-18T21:24:01.733Z"
   },
   {
    "duration": 33,
    "start_time": "2024-05-18T21:24:01.746Z"
   },
   {
    "duration": 11,
    "start_time": "2024-05-18T21:24:01.781Z"
   },
   {
    "duration": 749,
    "start_time": "2024-05-18T21:24:01.794Z"
   },
   {
    "duration": 283,
    "start_time": "2024-05-18T21:24:02.560Z"
   },
   {
    "duration": 454,
    "start_time": "2024-05-18T21:24:02.845Z"
   },
   {
    "duration": 337,
    "start_time": "2024-05-18T21:24:03.301Z"
   },
   {
    "duration": 443,
    "start_time": "2024-05-18T21:24:03.641Z"
   },
   {
    "duration": 9,
    "start_time": "2024-05-18T21:24:04.085Z"
   },
   {
    "duration": 225,
    "start_time": "2024-05-18T21:24:04.096Z"
   },
   {
    "duration": 4,
    "start_time": "2024-05-18T21:24:04.323Z"
   },
   {
    "duration": 193,
    "start_time": "2024-05-18T21:24:04.329Z"
   },
   {
    "duration": 5,
    "start_time": "2024-05-18T21:24:04.524Z"
   },
   {
    "duration": 252,
    "start_time": "2024-05-18T21:24:04.530Z"
   },
   {
    "duration": 193,
    "start_time": "2024-05-18T21:24:04.783Z"
   },
   {
    "duration": 9,
    "start_time": "2024-05-18T21:24:04.978Z"
   },
   {
    "duration": 22,
    "start_time": "2024-05-18T21:24:04.989Z"
   },
   {
    "duration": 56,
    "start_time": "2024-05-18T21:24:05.013Z"
   },
   {
    "duration": 24,
    "start_time": "2024-05-18T21:24:05.071Z"
   },
   {
    "duration": 84,
    "start_time": "2024-05-18T22:10:05.758Z"
   },
   {
    "duration": 48,
    "start_time": "2024-05-19T09:16:17.503Z"
   },
   {
    "duration": 1166,
    "start_time": "2024-05-19T09:16:23.866Z"
   },
   {
    "duration": 219,
    "start_time": "2024-05-19T09:16:25.672Z"
   },
   {
    "duration": 15,
    "start_time": "2024-05-19T09:16:26.743Z"
   },
   {
    "duration": 10,
    "start_time": "2024-05-19T09:19:35.905Z"
   },
   {
    "duration": 9,
    "start_time": "2024-05-19T09:19:38.963Z"
   },
   {
    "duration": 1017,
    "start_time": "2024-05-19T09:19:55.516Z"
   },
   {
    "duration": 72,
    "start_time": "2024-05-19T09:19:56.534Z"
   },
   {
    "duration": 15,
    "start_time": "2024-05-19T09:19:56.608Z"
   },
   {
    "duration": 10,
    "start_time": "2024-05-19T09:19:56.624Z"
   },
   {
    "duration": 12,
    "start_time": "2024-05-19T09:19:56.635Z"
   },
   {
    "duration": 28,
    "start_time": "2024-05-19T09:19:56.648Z"
   },
   {
    "duration": 9,
    "start_time": "2024-05-19T09:19:56.678Z"
   },
   {
    "duration": 27,
    "start_time": "2024-05-19T09:19:56.688Z"
   },
   {
    "duration": 8,
    "start_time": "2024-05-19T09:19:56.716Z"
   },
   {
    "duration": 583,
    "start_time": "2024-05-19T09:19:56.726Z"
   },
   {
    "duration": 250,
    "start_time": "2024-05-19T09:19:57.311Z"
   },
   {
    "duration": 356,
    "start_time": "2024-05-19T09:19:57.563Z"
   },
   {
    "duration": 293,
    "start_time": "2024-05-19T09:19:57.921Z"
   },
   {
    "duration": 388,
    "start_time": "2024-05-19T09:19:58.216Z"
   },
   {
    "duration": 6,
    "start_time": "2024-05-19T09:19:58.611Z"
   },
   {
    "duration": 145,
    "start_time": "2024-05-19T09:19:58.618Z"
   },
   {
    "duration": 5,
    "start_time": "2024-05-19T09:19:58.765Z"
   },
   {
    "duration": 175,
    "start_time": "2024-05-19T09:19:58.771Z"
   },
   {
    "duration": 4,
    "start_time": "2024-05-19T09:19:58.947Z"
   },
   {
    "duration": 201,
    "start_time": "2024-05-19T09:19:58.952Z"
   },
   {
    "duration": 169,
    "start_time": "2024-05-19T09:19:59.155Z"
   },
   {
    "duration": 8,
    "start_time": "2024-05-19T09:19:59.326Z"
   },
   {
    "duration": 7,
    "start_time": "2024-05-19T09:19:59.335Z"
   },
   {
    "duration": 24,
    "start_time": "2024-05-19T09:19:59.344Z"
   },
   {
    "duration": 12,
    "start_time": "2024-05-19T09:19:59.369Z"
   },
   {
    "duration": 174,
    "start_time": "2024-05-19T09:34:34.803Z"
   },
   {
    "duration": 236,
    "start_time": "2024-05-19T09:34:47.392Z"
   },
   {
    "duration": 174,
    "start_time": "2024-05-19T09:34:51.731Z"
   },
   {
    "duration": 162,
    "start_time": "2024-05-19T09:34:56.253Z"
   },
   {
    "duration": 163,
    "start_time": "2024-05-19T09:35:00.184Z"
   },
   {
    "duration": 160,
    "start_time": "2024-05-19T09:35:17.268Z"
   },
   {
    "duration": 188,
    "start_time": "2024-05-19T09:36:03.116Z"
   },
   {
    "duration": 90,
    "start_time": "2024-05-19T09:44:02.087Z"
   },
   {
    "duration": 156,
    "start_time": "2024-05-19T09:44:04.979Z"
   },
   {
    "duration": 93,
    "start_time": "2024-05-19T09:44:08.583Z"
   },
   {
    "duration": 182,
    "start_time": "2024-05-19T09:44:09.915Z"
   },
   {
    "duration": 107,
    "start_time": "2024-05-19T09:45:03.946Z"
   },
   {
    "duration": 181,
    "start_time": "2024-05-19T09:45:05.750Z"
   },
   {
    "duration": 1003,
    "start_time": "2024-05-19T09:45:26.746Z"
   },
   {
    "duration": 74,
    "start_time": "2024-05-19T09:45:27.751Z"
   },
   {
    "duration": 15,
    "start_time": "2024-05-19T09:45:27.827Z"
   },
   {
    "duration": 13,
    "start_time": "2024-05-19T09:45:27.845Z"
   },
   {
    "duration": 18,
    "start_time": "2024-05-19T09:45:27.860Z"
   },
   {
    "duration": 16,
    "start_time": "2024-05-19T09:45:27.880Z"
   },
   {
    "duration": 14,
    "start_time": "2024-05-19T09:45:27.898Z"
   },
   {
    "duration": 25,
    "start_time": "2024-05-19T09:45:27.914Z"
   },
   {
    "duration": 10,
    "start_time": "2024-05-19T09:45:27.941Z"
   },
   {
    "duration": 629,
    "start_time": "2024-05-19T09:45:27.953Z"
   },
   {
    "duration": 329,
    "start_time": "2024-05-19T09:45:28.584Z"
   },
   {
    "duration": 422,
    "start_time": "2024-05-19T09:45:28.914Z"
   },
   {
    "duration": 309,
    "start_time": "2024-05-19T09:45:29.338Z"
   },
   {
    "duration": 413,
    "start_time": "2024-05-19T09:45:29.649Z"
   },
   {
    "duration": 5,
    "start_time": "2024-05-19T09:45:30.064Z"
   },
   {
    "duration": 182,
    "start_time": "2024-05-19T09:45:30.071Z"
   },
   {
    "duration": 5,
    "start_time": "2024-05-19T09:45:30.254Z"
   },
   {
    "duration": 257,
    "start_time": "2024-05-19T09:45:30.260Z"
   },
   {
    "duration": 178,
    "start_time": "2024-05-19T09:45:30.518Z"
   },
   {
    "duration": 4,
    "start_time": "2024-05-19T09:45:30.698Z"
   },
   {
    "duration": 265,
    "start_time": "2024-05-19T09:45:30.703Z"
   },
   {
    "duration": 0,
    "start_time": "2024-05-19T09:45:30.970Z"
   },
   {
    "duration": 0,
    "start_time": "2024-05-19T09:45:30.971Z"
   },
   {
    "duration": 0,
    "start_time": "2024-05-19T09:45:30.972Z"
   },
   {
    "duration": 0,
    "start_time": "2024-05-19T09:45:30.973Z"
   },
   {
    "duration": 0,
    "start_time": "2024-05-19T09:45:30.974Z"
   },
   {
    "duration": 1184,
    "start_time": "2024-05-19T09:46:24.716Z"
   },
   {
    "duration": 77,
    "start_time": "2024-05-19T09:46:25.902Z"
   },
   {
    "duration": 22,
    "start_time": "2024-05-19T09:46:25.981Z"
   },
   {
    "duration": 12,
    "start_time": "2024-05-19T09:46:26.005Z"
   },
   {
    "duration": 15,
    "start_time": "2024-05-19T09:46:26.019Z"
   },
   {
    "duration": 20,
    "start_time": "2024-05-19T09:46:26.035Z"
   },
   {
    "duration": 3,
    "start_time": "2024-05-19T09:46:26.058Z"
   },
   {
    "duration": 52,
    "start_time": "2024-05-19T09:46:26.064Z"
   },
   {
    "duration": 16,
    "start_time": "2024-05-19T09:46:26.118Z"
   },
   {
    "duration": 617,
    "start_time": "2024-05-19T09:46:26.138Z"
   },
   {
    "duration": 270,
    "start_time": "2024-05-19T09:46:26.756Z"
   },
   {
    "duration": 356,
    "start_time": "2024-05-19T09:46:27.027Z"
   },
   {
    "duration": 305,
    "start_time": "2024-05-19T09:46:27.385Z"
   },
   {
    "duration": 401,
    "start_time": "2024-05-19T09:46:27.691Z"
   },
   {
    "duration": 19,
    "start_time": "2024-05-19T09:46:28.093Z"
   },
   {
    "duration": 162,
    "start_time": "2024-05-19T09:46:28.113Z"
   },
   {
    "duration": 4,
    "start_time": "2024-05-19T09:46:28.276Z"
   },
   {
    "duration": 183,
    "start_time": "2024-05-19T09:46:28.282Z"
   },
   {
    "duration": 201,
    "start_time": "2024-05-19T09:46:28.467Z"
   },
   {
    "duration": 5,
    "start_time": "2024-05-19T09:46:28.670Z"
   },
   {
    "duration": 252,
    "start_time": "2024-05-19T09:46:28.677Z"
   },
   {
    "duration": 0,
    "start_time": "2024-05-19T09:46:28.931Z"
   },
   {
    "duration": 0,
    "start_time": "2024-05-19T09:46:28.932Z"
   },
   {
    "duration": 0,
    "start_time": "2024-05-19T09:46:28.933Z"
   },
   {
    "duration": 0,
    "start_time": "2024-05-19T09:46:28.935Z"
   },
   {
    "duration": 0,
    "start_time": "2024-05-19T09:46:28.936Z"
   },
   {
    "duration": 57,
    "start_time": "2024-05-19T09:47:52.314Z"
   },
   {
    "duration": 55,
    "start_time": "2024-05-19T09:48:03.904Z"
   },
   {
    "duration": 203,
    "start_time": "2024-05-19T09:48:31.590Z"
   },
   {
    "duration": 161,
    "start_time": "2024-05-19T09:48:33.604Z"
   },
   {
    "duration": 206,
    "start_time": "2024-05-19T09:50:16.602Z"
   },
   {
    "duration": 191,
    "start_time": "2024-05-19T09:51:52.145Z"
   },
   {
    "duration": 197,
    "start_time": "2024-05-19T09:52:01.301Z"
   },
   {
    "duration": 176,
    "start_time": "2024-05-19T09:52:12.648Z"
   },
   {
    "duration": 185,
    "start_time": "2024-05-19T09:52:19.340Z"
   },
   {
    "duration": 56,
    "start_time": "2024-05-19T09:52:27.852Z"
   },
   {
    "duration": 185,
    "start_time": "2024-05-19T09:52:35.131Z"
   },
   {
    "duration": 149,
    "start_time": "2024-05-19T09:52:51.887Z"
   },
   {
    "duration": 99,
    "start_time": "2024-05-19T09:52:57.392Z"
   },
   {
    "duration": 90,
    "start_time": "2024-05-19T09:53:02.100Z"
   },
   {
    "duration": 91,
    "start_time": "2024-05-19T09:53:06.972Z"
   },
   {
    "duration": 1070,
    "start_time": "2024-05-19T09:53:23.468Z"
   },
   {
    "duration": 72,
    "start_time": "2024-05-19T09:53:24.540Z"
   },
   {
    "duration": 15,
    "start_time": "2024-05-19T09:53:24.614Z"
   },
   {
    "duration": 9,
    "start_time": "2024-05-19T09:53:24.631Z"
   },
   {
    "duration": 10,
    "start_time": "2024-05-19T09:53:24.641Z"
   },
   {
    "duration": 14,
    "start_time": "2024-05-19T09:53:24.652Z"
   },
   {
    "duration": 2,
    "start_time": "2024-05-19T09:53:24.667Z"
   },
   {
    "duration": 51,
    "start_time": "2024-05-19T09:53:24.671Z"
   },
   {
    "duration": 9,
    "start_time": "2024-05-19T09:53:24.723Z"
   },
   {
    "duration": 602,
    "start_time": "2024-05-19T09:53:24.734Z"
   },
   {
    "duration": 270,
    "start_time": "2024-05-19T09:53:25.337Z"
   },
   {
    "duration": 369,
    "start_time": "2024-05-19T09:53:25.609Z"
   },
   {
    "duration": 319,
    "start_time": "2024-05-19T09:53:25.979Z"
   },
   {
    "duration": 397,
    "start_time": "2024-05-19T09:53:26.300Z"
   },
   {
    "duration": 15,
    "start_time": "2024-05-19T09:53:26.699Z"
   },
   {
    "duration": 156,
    "start_time": "2024-05-19T09:53:26.716Z"
   },
   {
    "duration": 4,
    "start_time": "2024-05-19T09:53:26.874Z"
   },
   {
    "duration": 175,
    "start_time": "2024-05-19T09:53:26.880Z"
   },
   {
    "duration": 176,
    "start_time": "2024-05-19T09:53:27.056Z"
   },
   {
    "duration": 4,
    "start_time": "2024-05-19T09:53:27.234Z"
   },
   {
    "duration": 240,
    "start_time": "2024-05-19T09:53:27.239Z"
   },
   {
    "duration": 0,
    "start_time": "2024-05-19T09:53:27.480Z"
   },
   {
    "duration": 0,
    "start_time": "2024-05-19T09:53:27.482Z"
   },
   {
    "duration": 0,
    "start_time": "2024-05-19T09:53:27.483Z"
   },
   {
    "duration": 0,
    "start_time": "2024-05-19T09:53:27.484Z"
   },
   {
    "duration": 0,
    "start_time": "2024-05-19T09:53:27.485Z"
   },
   {
    "duration": 1031,
    "start_time": "2024-05-19T09:54:08.312Z"
   },
   {
    "duration": 73,
    "start_time": "2024-05-19T09:54:09.345Z"
   },
   {
    "duration": 15,
    "start_time": "2024-05-19T09:54:09.419Z"
   },
   {
    "duration": 10,
    "start_time": "2024-05-19T09:54:09.436Z"
   },
   {
    "duration": 17,
    "start_time": "2024-05-19T09:54:09.447Z"
   },
   {
    "duration": 18,
    "start_time": "2024-05-19T09:54:09.465Z"
   },
   {
    "duration": 2,
    "start_time": "2024-05-19T09:54:09.485Z"
   },
   {
    "duration": 39,
    "start_time": "2024-05-19T09:54:09.489Z"
   },
   {
    "duration": 11,
    "start_time": "2024-05-19T09:54:09.529Z"
   },
   {
    "duration": 600,
    "start_time": "2024-05-19T09:54:09.543Z"
   },
   {
    "duration": 258,
    "start_time": "2024-05-19T09:54:10.145Z"
   },
   {
    "duration": 367,
    "start_time": "2024-05-19T09:54:10.404Z"
   },
   {
    "duration": 317,
    "start_time": "2024-05-19T09:54:10.773Z"
   },
   {
    "duration": 411,
    "start_time": "2024-05-19T09:54:11.092Z"
   },
   {
    "duration": 11,
    "start_time": "2024-05-19T09:54:11.504Z"
   },
   {
    "duration": 153,
    "start_time": "2024-05-19T09:54:11.516Z"
   },
   {
    "duration": 4,
    "start_time": "2024-05-19T09:54:11.670Z"
   },
   {
    "duration": 167,
    "start_time": "2024-05-19T09:54:11.676Z"
   },
   {
    "duration": 178,
    "start_time": "2024-05-19T09:54:11.844Z"
   },
   {
    "duration": 4,
    "start_time": "2024-05-19T09:54:12.024Z"
   },
   {
    "duration": 260,
    "start_time": "2024-05-19T09:54:12.029Z"
   },
   {
    "duration": 162,
    "start_time": "2024-05-19T09:54:12.290Z"
   },
   {
    "duration": 9,
    "start_time": "2024-05-19T09:54:12.453Z"
   },
   {
    "duration": 8,
    "start_time": "2024-05-19T09:54:12.464Z"
   },
   {
    "duration": 41,
    "start_time": "2024-05-19T09:54:12.473Z"
   },
   {
    "duration": 12,
    "start_time": "2024-05-19T09:54:12.515Z"
   },
   {
    "duration": 1088,
    "start_time": "2024-05-19T09:54:37.007Z"
   },
   {
    "duration": 73,
    "start_time": "2024-05-19T09:54:38.096Z"
   },
   {
    "duration": 14,
    "start_time": "2024-05-19T09:54:38.171Z"
   },
   {
    "duration": 9,
    "start_time": "2024-05-19T09:54:38.187Z"
   },
   {
    "duration": 9,
    "start_time": "2024-05-19T09:54:38.197Z"
   },
   {
    "duration": 14,
    "start_time": "2024-05-19T09:54:38.207Z"
   },
   {
    "duration": 2,
    "start_time": "2024-05-19T09:54:38.223Z"
   },
   {
    "duration": 22,
    "start_time": "2024-05-19T09:54:38.226Z"
   },
   {
    "duration": 8,
    "start_time": "2024-05-19T09:54:38.249Z"
   },
   {
    "duration": 618,
    "start_time": "2024-05-19T09:54:38.261Z"
   },
   {
    "duration": 276,
    "start_time": "2024-05-19T09:54:38.881Z"
   },
   {
    "duration": 354,
    "start_time": "2024-05-19T09:54:39.158Z"
   },
   {
    "duration": 313,
    "start_time": "2024-05-19T09:54:39.513Z"
   },
   {
    "duration": 381,
    "start_time": "2024-05-19T09:54:39.828Z"
   },
   {
    "duration": 6,
    "start_time": "2024-05-19T09:54:40.212Z"
   },
   {
    "duration": 152,
    "start_time": "2024-05-19T09:54:40.219Z"
   },
   {
    "duration": 3,
    "start_time": "2024-05-19T09:54:40.373Z"
   },
   {
    "duration": 177,
    "start_time": "2024-05-19T09:54:40.378Z"
   },
   {
    "duration": 179,
    "start_time": "2024-05-19T09:54:40.557Z"
   },
   {
    "duration": 4,
    "start_time": "2024-05-19T09:54:40.737Z"
   },
   {
    "duration": 263,
    "start_time": "2024-05-19T09:54:40.743Z"
   },
   {
    "duration": 175,
    "start_time": "2024-05-19T09:54:41.007Z"
   },
   {
    "duration": 10,
    "start_time": "2024-05-19T09:54:41.183Z"
   },
   {
    "duration": 21,
    "start_time": "2024-05-19T09:54:41.194Z"
   },
   {
    "duration": 25,
    "start_time": "2024-05-19T09:54:41.216Z"
   },
   {
    "duration": 13,
    "start_time": "2024-05-19T09:54:41.243Z"
   },
   {
    "duration": 1015,
    "start_time": "2024-05-19T09:55:06.435Z"
   },
   {
    "duration": 73,
    "start_time": "2024-05-19T09:55:07.452Z"
   },
   {
    "duration": 15,
    "start_time": "2024-05-19T09:55:07.527Z"
   },
   {
    "duration": 10,
    "start_time": "2024-05-19T09:55:07.544Z"
   },
   {
    "duration": 11,
    "start_time": "2024-05-19T09:55:07.556Z"
   },
   {
    "duration": 13,
    "start_time": "2024-05-19T09:55:07.569Z"
   },
   {
    "duration": 8,
    "start_time": "2024-05-19T09:55:07.584Z"
   },
   {
    "duration": 39,
    "start_time": "2024-05-19T09:55:07.593Z"
   },
   {
    "duration": 20,
    "start_time": "2024-05-19T09:55:07.634Z"
   },
   {
    "duration": 593,
    "start_time": "2024-05-19T09:55:07.657Z"
   },
   {
    "duration": 264,
    "start_time": "2024-05-19T09:55:08.252Z"
   },
   {
    "duration": 364,
    "start_time": "2024-05-19T09:55:08.518Z"
   },
   {
    "duration": 306,
    "start_time": "2024-05-19T09:55:08.884Z"
   },
   {
    "duration": 410,
    "start_time": "2024-05-19T09:55:09.191Z"
   },
   {
    "duration": 12,
    "start_time": "2024-05-19T09:55:09.602Z"
   },
   {
    "duration": 148,
    "start_time": "2024-05-19T09:55:09.615Z"
   },
   {
    "duration": 4,
    "start_time": "2024-05-19T09:55:09.765Z"
   },
   {
    "duration": 176,
    "start_time": "2024-05-19T09:55:09.770Z"
   },
   {
    "duration": 178,
    "start_time": "2024-05-19T09:55:09.947Z"
   },
   {
    "duration": 4,
    "start_time": "2024-05-19T09:55:10.127Z"
   },
   {
    "duration": 214,
    "start_time": "2024-05-19T09:55:10.132Z"
   },
   {
    "duration": 175,
    "start_time": "2024-05-19T09:55:10.347Z"
   },
   {
    "duration": 10,
    "start_time": "2024-05-19T09:55:10.523Z"
   },
   {
    "duration": 8,
    "start_time": "2024-05-19T09:55:10.534Z"
   },
   {
    "duration": 24,
    "start_time": "2024-05-19T09:55:10.543Z"
   },
   {
    "duration": 12,
    "start_time": "2024-05-19T09:55:10.568Z"
   },
   {
    "duration": 1045,
    "start_time": "2024-05-19T09:55:28.204Z"
   },
   {
    "duration": 73,
    "start_time": "2024-05-19T09:55:29.251Z"
   },
   {
    "duration": 16,
    "start_time": "2024-05-19T09:55:29.326Z"
   },
   {
    "duration": 17,
    "start_time": "2024-05-19T09:55:29.344Z"
   },
   {
    "duration": 21,
    "start_time": "2024-05-19T09:55:29.363Z"
   },
   {
    "duration": 22,
    "start_time": "2024-05-19T09:55:29.386Z"
   },
   {
    "duration": 7,
    "start_time": "2024-05-19T09:55:29.409Z"
   },
   {
    "duration": 21,
    "start_time": "2024-05-19T09:55:29.418Z"
   },
   {
    "duration": 8,
    "start_time": "2024-05-19T09:55:29.441Z"
   },
   {
    "duration": 623,
    "start_time": "2024-05-19T09:55:29.452Z"
   },
   {
    "duration": 304,
    "start_time": "2024-05-19T09:55:30.077Z"
   },
   {
    "duration": 407,
    "start_time": "2024-05-19T09:55:30.383Z"
   },
   {
    "duration": 299,
    "start_time": "2024-05-19T09:55:30.791Z"
   },
   {
    "duration": 415,
    "start_time": "2024-05-19T09:55:31.092Z"
   },
   {
    "duration": 6,
    "start_time": "2024-05-19T09:55:31.509Z"
   },
   {
    "duration": 174,
    "start_time": "2024-05-19T09:55:31.517Z"
   },
   {
    "duration": 5,
    "start_time": "2024-05-19T09:55:31.694Z"
   },
   {
    "duration": 179,
    "start_time": "2024-05-19T09:55:31.701Z"
   },
   {
    "duration": 181,
    "start_time": "2024-05-19T09:55:31.881Z"
   },
   {
    "duration": 4,
    "start_time": "2024-05-19T09:55:32.063Z"
   },
   {
    "duration": 182,
    "start_time": "2024-05-19T09:55:32.069Z"
   },
   {
    "duration": 169,
    "start_time": "2024-05-19T09:55:32.253Z"
   },
   {
    "duration": 10,
    "start_time": "2024-05-19T09:55:32.423Z"
   },
   {
    "duration": 22,
    "start_time": "2024-05-19T09:55:32.435Z"
   },
   {
    "duration": 44,
    "start_time": "2024-05-19T09:55:32.459Z"
   },
   {
    "duration": 14,
    "start_time": "2024-05-19T09:55:32.512Z"
   },
   {
    "duration": 1038,
    "start_time": "2024-05-19T09:55:57.395Z"
   },
   {
    "duration": 72,
    "start_time": "2024-05-19T09:55:58.435Z"
   },
   {
    "duration": 21,
    "start_time": "2024-05-19T09:55:58.508Z"
   },
   {
    "duration": 12,
    "start_time": "2024-05-19T09:55:58.532Z"
   },
   {
    "duration": 14,
    "start_time": "2024-05-19T09:55:58.546Z"
   },
   {
    "duration": 18,
    "start_time": "2024-05-19T09:55:58.561Z"
   },
   {
    "duration": 3,
    "start_time": "2024-05-19T09:55:58.580Z"
   },
   {
    "duration": 47,
    "start_time": "2024-05-19T09:55:58.584Z"
   },
   {
    "duration": 8,
    "start_time": "2024-05-19T09:55:58.633Z"
   },
   {
    "duration": 600,
    "start_time": "2024-05-19T09:55:58.643Z"
   },
   {
    "duration": 257,
    "start_time": "2024-05-19T09:55:59.244Z"
   },
   {
    "duration": 379,
    "start_time": "2024-05-19T09:55:59.503Z"
   },
   {
    "duration": 318,
    "start_time": "2024-05-19T09:55:59.884Z"
   },
   {
    "duration": 405,
    "start_time": "2024-05-19T09:56:00.204Z"
   },
   {
    "duration": 7,
    "start_time": "2024-05-19T09:56:00.610Z"
   },
   {
    "duration": 230,
    "start_time": "2024-05-19T09:56:00.618Z"
   },
   {
    "duration": 7,
    "start_time": "2024-05-19T09:56:00.849Z"
   },
   {
    "duration": 239,
    "start_time": "2024-05-19T09:56:00.857Z"
   },
   {
    "duration": 179,
    "start_time": "2024-05-19T09:56:01.097Z"
   },
   {
    "duration": 4,
    "start_time": "2024-05-19T09:56:01.278Z"
   },
   {
    "duration": 322,
    "start_time": "2024-05-19T09:56:01.283Z"
   },
   {
    "duration": 0,
    "start_time": "2024-05-19T09:56:01.611Z"
   },
   {
    "duration": 0,
    "start_time": "2024-05-19T09:56:01.612Z"
   },
   {
    "duration": 0,
    "start_time": "2024-05-19T09:56:01.613Z"
   },
   {
    "duration": 0,
    "start_time": "2024-05-19T09:56:01.614Z"
   },
   {
    "duration": 0,
    "start_time": "2024-05-19T09:56:01.616Z"
   },
   {
    "duration": 118,
    "start_time": "2024-05-19T09:56:45.069Z"
   },
   {
    "duration": 37,
    "start_time": "2024-05-19T09:57:21.880Z"
   },
   {
    "duration": 1003,
    "start_time": "2024-05-19T09:57:27.338Z"
   },
   {
    "duration": 73,
    "start_time": "2024-05-19T09:57:28.342Z"
   },
   {
    "duration": 21,
    "start_time": "2024-05-19T09:57:28.417Z"
   },
   {
    "duration": 14,
    "start_time": "2024-05-19T09:57:28.441Z"
   },
   {
    "duration": 36,
    "start_time": "2024-05-19T09:57:28.457Z"
   },
   {
    "duration": 23,
    "start_time": "2024-05-19T09:57:28.494Z"
   },
   {
    "duration": 16,
    "start_time": "2024-05-19T09:57:28.519Z"
   },
   {
    "duration": 31,
    "start_time": "2024-05-19T09:57:28.537Z"
   },
   {
    "duration": 9,
    "start_time": "2024-05-19T09:57:28.570Z"
   },
   {
    "duration": 598,
    "start_time": "2024-05-19T09:57:28.582Z"
   },
   {
    "duration": 260,
    "start_time": "2024-05-19T09:57:29.182Z"
   },
   {
    "duration": 350,
    "start_time": "2024-05-19T09:57:29.443Z"
   },
   {
    "duration": 327,
    "start_time": "2024-05-19T09:57:29.795Z"
   },
   {
    "duration": 458,
    "start_time": "2024-05-19T09:57:30.124Z"
   },
   {
    "duration": 6,
    "start_time": "2024-05-19T09:57:30.583Z"
   },
   {
    "duration": 198,
    "start_time": "2024-05-19T09:57:30.591Z"
   },
   {
    "duration": 4,
    "start_time": "2024-05-19T09:57:30.791Z"
   },
   {
    "duration": 209,
    "start_time": "2024-05-19T09:57:30.796Z"
   },
   {
    "duration": 186,
    "start_time": "2024-05-19T09:57:31.006Z"
   },
   {
    "duration": 4,
    "start_time": "2024-05-19T09:57:31.194Z"
   },
   {
    "duration": 116,
    "start_time": "2024-05-19T09:57:31.199Z"
   },
   {
    "duration": 161,
    "start_time": "2024-05-19T09:57:31.317Z"
   },
   {
    "duration": 10,
    "start_time": "2024-05-19T09:57:31.479Z"
   },
   {
    "duration": 28,
    "start_time": "2024-05-19T09:57:31.490Z"
   },
   {
    "duration": 37,
    "start_time": "2024-05-19T09:57:31.520Z"
   },
   {
    "duration": 13,
    "start_time": "2024-05-19T09:57:31.558Z"
   },
   {
    "duration": 36,
    "start_time": "2024-05-19T09:58:37.518Z"
   },
   {
    "duration": 35,
    "start_time": "2024-05-19T09:58:54.489Z"
   },
   {
    "duration": 58,
    "start_time": "2024-05-19T10:00:37.138Z"
   },
   {
    "duration": 29,
    "start_time": "2024-05-19T10:01:22.183Z"
   },
   {
    "duration": 155,
    "start_time": "2024-05-19T10:01:24.808Z"
   },
   {
    "duration": 1041,
    "start_time": "2024-05-19T10:01:31.148Z"
   },
   {
    "duration": 73,
    "start_time": "2024-05-19T10:01:32.191Z"
   },
   {
    "duration": 15,
    "start_time": "2024-05-19T10:01:32.266Z"
   },
   {
    "duration": 10,
    "start_time": "2024-05-19T10:01:32.283Z"
   },
   {
    "duration": 32,
    "start_time": "2024-05-19T10:01:32.294Z"
   },
   {
    "duration": 13,
    "start_time": "2024-05-19T10:01:32.327Z"
   },
   {
    "duration": 5,
    "start_time": "2024-05-19T10:01:32.341Z"
   },
   {
    "duration": 24,
    "start_time": "2024-05-19T10:01:32.347Z"
   },
   {
    "duration": 9,
    "start_time": "2024-05-19T10:01:32.372Z"
   },
   {
    "duration": 612,
    "start_time": "2024-05-19T10:01:32.383Z"
   },
   {
    "duration": 264,
    "start_time": "2024-05-19T10:01:32.997Z"
   },
   {
    "duration": 363,
    "start_time": "2024-05-19T10:01:33.262Z"
   },
   {
    "duration": 307,
    "start_time": "2024-05-19T10:01:33.627Z"
   },
   {
    "duration": 372,
    "start_time": "2024-05-19T10:01:33.936Z"
   },
   {
    "duration": 7,
    "start_time": "2024-05-19T10:01:34.312Z"
   },
   {
    "duration": 232,
    "start_time": "2024-05-19T10:01:34.320Z"
   },
   {
    "duration": 5,
    "start_time": "2024-05-19T10:01:34.554Z"
   },
   {
    "duration": 183,
    "start_time": "2024-05-19T10:01:34.560Z"
   },
   {
    "duration": 199,
    "start_time": "2024-05-19T10:01:34.745Z"
   },
   {
    "duration": 4,
    "start_time": "2024-05-19T10:01:34.945Z"
   },
   {
    "duration": 99,
    "start_time": "2024-05-19T10:01:34.951Z"
   },
   {
    "duration": 174,
    "start_time": "2024-05-19T10:01:35.052Z"
   },
   {
    "duration": 9,
    "start_time": "2024-05-19T10:01:35.227Z"
   },
   {
    "duration": 22,
    "start_time": "2024-05-19T10:01:35.237Z"
   },
   {
    "duration": 27,
    "start_time": "2024-05-19T10:01:35.260Z"
   },
   {
    "duration": 12,
    "start_time": "2024-05-19T10:01:35.289Z"
   },
   {
    "duration": 13,
    "start_time": "2024-05-19T10:01:55.299Z"
   },
   {
    "duration": 1107,
    "start_time": "2024-05-19T10:02:00.581Z"
   },
   {
    "duration": 73,
    "start_time": "2024-05-19T10:02:01.690Z"
   },
   {
    "duration": 16,
    "start_time": "2024-05-19T10:02:01.764Z"
   },
   {
    "duration": 9,
    "start_time": "2024-05-19T10:02:01.782Z"
   },
   {
    "duration": 10,
    "start_time": "2024-05-19T10:02:01.793Z"
   },
   {
    "duration": 12,
    "start_time": "2024-05-19T10:02:01.804Z"
   },
   {
    "duration": 10,
    "start_time": "2024-05-19T10:02:01.817Z"
   },
   {
    "duration": 34,
    "start_time": "2024-05-19T10:02:01.828Z"
   },
   {
    "duration": 82,
    "start_time": "2024-05-19T10:02:01.863Z"
   },
   {
    "duration": 594,
    "start_time": "2024-05-19T10:02:01.949Z"
   },
   {
    "duration": 264,
    "start_time": "2024-05-19T10:02:02.545Z"
   },
   {
    "duration": 376,
    "start_time": "2024-05-19T10:02:02.810Z"
   },
   {
    "duration": 318,
    "start_time": "2024-05-19T10:02:03.188Z"
   },
   {
    "duration": 425,
    "start_time": "2024-05-19T10:02:03.508Z"
   },
   {
    "duration": 6,
    "start_time": "2024-05-19T10:02:03.935Z"
   },
   {
    "duration": 152,
    "start_time": "2024-05-19T10:02:03.942Z"
   },
   {
    "duration": 4,
    "start_time": "2024-05-19T10:02:04.095Z"
   },
   {
    "duration": 178,
    "start_time": "2024-05-19T10:02:04.100Z"
   },
   {
    "duration": 179,
    "start_time": "2024-05-19T10:02:04.279Z"
   },
   {
    "duration": 4,
    "start_time": "2024-05-19T10:02:04.459Z"
   },
   {
    "duration": 13,
    "start_time": "2024-05-19T10:02:04.465Z"
   },
   {
    "duration": 244,
    "start_time": "2024-05-19T10:02:04.480Z"
   },
   {
    "duration": 10,
    "start_time": "2024-05-19T10:02:04.726Z"
   },
   {
    "duration": 9,
    "start_time": "2024-05-19T10:02:04.738Z"
   },
   {
    "duration": 33,
    "start_time": "2024-05-19T10:02:04.748Z"
   },
   {
    "duration": 32,
    "start_time": "2024-05-19T10:02:04.783Z"
   },
   {
    "duration": 9,
    "start_time": "2024-05-19T10:02:19.220Z"
   },
   {
    "duration": 153,
    "start_time": "2024-05-19T10:05:45.934Z"
   },
   {
    "duration": 162,
    "start_time": "2024-05-19T10:06:32.091Z"
   },
   {
    "duration": 4,
    "start_time": "2024-05-19T10:07:50.897Z"
   },
   {
    "duration": 74,
    "start_time": "2024-05-19T10:08:04.068Z"
   },
   {
    "duration": 9,
    "start_time": "2024-05-19T10:08:26.057Z"
   },
   {
    "duration": 11,
    "start_time": "2024-05-19T10:10:13.094Z"
   },
   {
    "duration": 25,
    "start_time": "2024-05-19T10:10:23.175Z"
   },
   {
    "duration": 13,
    "start_time": "2024-05-19T10:10:25.907Z"
   },
   {
    "duration": 9,
    "start_time": "2024-05-19T10:12:45.165Z"
   },
   {
    "duration": 12,
    "start_time": "2024-05-19T10:12:54.163Z"
   },
   {
    "duration": 26,
    "start_time": "2024-05-19T10:13:39.817Z"
   },
   {
    "duration": 18,
    "start_time": "2024-05-19T10:14:19.844Z"
   },
   {
    "duration": 1111,
    "start_time": "2024-05-19T10:15:36.816Z"
   },
   {
    "duration": 73,
    "start_time": "2024-05-19T10:15:37.928Z"
   },
   {
    "duration": 16,
    "start_time": "2024-05-19T10:15:38.003Z"
   },
   {
    "duration": 9,
    "start_time": "2024-05-19T10:15:38.021Z"
   },
   {
    "duration": 15,
    "start_time": "2024-05-19T10:15:38.032Z"
   },
   {
    "duration": 38,
    "start_time": "2024-05-19T10:15:38.048Z"
   },
   {
    "duration": 12,
    "start_time": "2024-05-19T10:15:38.088Z"
   },
   {
    "duration": 26,
    "start_time": "2024-05-19T10:15:38.102Z"
   },
   {
    "duration": 9,
    "start_time": "2024-05-19T10:15:38.130Z"
   },
   {
    "duration": 606,
    "start_time": "2024-05-19T10:15:38.142Z"
   },
   {
    "duration": 263,
    "start_time": "2024-05-19T10:15:38.749Z"
   },
   {
    "duration": 379,
    "start_time": "2024-05-19T10:15:39.013Z"
   },
   {
    "duration": 316,
    "start_time": "2024-05-19T10:15:39.394Z"
   },
   {
    "duration": 402,
    "start_time": "2024-05-19T10:15:39.712Z"
   },
   {
    "duration": 8,
    "start_time": "2024-05-19T10:15:40.116Z"
   },
   {
    "duration": 183,
    "start_time": "2024-05-19T10:15:40.125Z"
   },
   {
    "duration": 4,
    "start_time": "2024-05-19T10:15:40.312Z"
   },
   {
    "duration": 174,
    "start_time": "2024-05-19T10:15:40.317Z"
   },
   {
    "duration": 175,
    "start_time": "2024-05-19T10:15:40.493Z"
   },
   {
    "duration": 5,
    "start_time": "2024-05-19T10:15:40.669Z"
   },
   {
    "duration": 12,
    "start_time": "2024-05-19T10:15:40.675Z"
   },
   {
    "duration": 232,
    "start_time": "2024-05-19T10:15:40.688Z"
   },
   {
    "duration": 9,
    "start_time": "2024-05-19T10:15:40.922Z"
   },
   {
    "duration": 17,
    "start_time": "2024-05-19T10:15:40.932Z"
   },
   {
    "duration": 25,
    "start_time": "2024-05-19T10:15:40.951Z"
   },
   {
    "duration": 13,
    "start_time": "2024-05-19T10:15:40.977Z"
   },
   {
    "duration": 100,
    "start_time": "2024-05-19T10:24:34.691Z"
   },
   {
    "duration": 9,
    "start_time": "2024-05-19T10:25:12.715Z"
   },
   {
    "duration": 8,
    "start_time": "2024-05-19T10:26:39.505Z"
   },
   {
    "duration": 7,
    "start_time": "2024-05-19T10:27:20.737Z"
   },
   {
    "duration": 9,
    "start_time": "2024-05-19T10:27:33.768Z"
   },
   {
    "duration": 7,
    "start_time": "2024-05-19T10:29:54.691Z"
   },
   {
    "duration": 4,
    "start_time": "2024-05-19T10:29:59.959Z"
   },
   {
    "duration": 5,
    "start_time": "2024-05-19T10:30:19.514Z"
   },
   {
    "duration": 1073,
    "start_time": "2024-05-19T10:34:54.562Z"
   },
   {
    "duration": 73,
    "start_time": "2024-05-19T10:34:55.636Z"
   },
   {
    "duration": 15,
    "start_time": "2024-05-19T10:34:55.711Z"
   },
   {
    "duration": 16,
    "start_time": "2024-05-19T10:34:55.728Z"
   },
   {
    "duration": 10,
    "start_time": "2024-05-19T10:34:55.746Z"
   },
   {
    "duration": 15,
    "start_time": "2024-05-19T10:34:55.757Z"
   },
   {
    "duration": 7,
    "start_time": "2024-05-19T10:34:55.773Z"
   },
   {
    "duration": 45,
    "start_time": "2024-05-19T10:34:55.782Z"
   },
   {
    "duration": 21,
    "start_time": "2024-05-19T10:34:55.829Z"
   },
   {
    "duration": 7,
    "start_time": "2024-05-19T10:34:55.853Z"
   },
   {
    "duration": 7,
    "start_time": "2024-05-19T10:34:55.861Z"
   },
   {
    "duration": 10,
    "start_time": "2024-05-19T10:34:55.870Z"
   },
   {
    "duration": 606,
    "start_time": "2024-05-19T10:34:55.881Z"
   },
   {
    "duration": 271,
    "start_time": "2024-05-19T10:34:56.488Z"
   },
   {
    "duration": 368,
    "start_time": "2024-05-19T10:34:56.760Z"
   },
   {
    "duration": 320,
    "start_time": "2024-05-19T10:34:57.130Z"
   },
   {
    "duration": 375,
    "start_time": "2024-05-19T10:34:57.451Z"
   },
   {
    "duration": 6,
    "start_time": "2024-05-19T10:34:57.827Z"
   },
   {
    "duration": 158,
    "start_time": "2024-05-19T10:34:57.835Z"
   },
   {
    "duration": 4,
    "start_time": "2024-05-19T10:34:57.994Z"
   },
   {
    "duration": 178,
    "start_time": "2024-05-19T10:34:57.999Z"
   },
   {
    "duration": 182,
    "start_time": "2024-05-19T10:34:58.178Z"
   },
   {
    "duration": 5,
    "start_time": "2024-05-19T10:34:58.361Z"
   },
   {
    "duration": 15,
    "start_time": "2024-05-19T10:34:58.367Z"
   },
   {
    "duration": 271,
    "start_time": "2024-05-19T10:34:58.383Z"
   },
   {
    "duration": 9,
    "start_time": "2024-05-19T10:34:58.655Z"
   },
   {
    "duration": 8,
    "start_time": "2024-05-19T10:34:58.666Z"
   },
   {
    "duration": 44,
    "start_time": "2024-05-19T10:34:58.677Z"
   },
   {
    "duration": 11,
    "start_time": "2024-05-19T10:34:58.723Z"
   },
   {
    "duration": 1062,
    "start_time": "2024-05-19T14:26:41.883Z"
   },
   {
    "duration": 220,
    "start_time": "2024-05-19T14:26:42.946Z"
   },
   {
    "duration": 16,
    "start_time": "2024-05-19T14:26:43.168Z"
   },
   {
    "duration": 10,
    "start_time": "2024-05-19T14:26:43.186Z"
   },
   {
    "duration": 11,
    "start_time": "2024-05-19T14:26:43.197Z"
   },
   {
    "duration": 12,
    "start_time": "2024-05-19T14:26:43.210Z"
   },
   {
    "duration": 3,
    "start_time": "2024-05-19T14:26:43.223Z"
   },
   {
    "duration": 21,
    "start_time": "2024-05-19T14:26:43.228Z"
   },
   {
    "duration": 10,
    "start_time": "2024-05-19T14:26:43.251Z"
   },
   {
    "duration": 8,
    "start_time": "2024-05-19T14:26:43.263Z"
   },
   {
    "duration": 44,
    "start_time": "2024-05-19T14:26:43.272Z"
   },
   {
    "duration": 4,
    "start_time": "2024-05-19T14:26:43.317Z"
   },
   {
    "duration": 635,
    "start_time": "2024-05-19T14:26:43.322Z"
   },
   {
    "duration": 257,
    "start_time": "2024-05-19T14:26:43.958Z"
   },
   {
    "duration": 361,
    "start_time": "2024-05-19T14:26:44.216Z"
   },
   {
    "duration": 295,
    "start_time": "2024-05-19T14:26:44.579Z"
   },
   {
    "duration": 394,
    "start_time": "2024-05-19T14:26:44.875Z"
   },
   {
    "duration": 7,
    "start_time": "2024-05-19T14:26:45.270Z"
   },
   {
    "duration": 152,
    "start_time": "2024-05-19T14:26:45.278Z"
   },
   {
    "duration": 5,
    "start_time": "2024-05-19T14:26:45.431Z"
   },
   {
    "duration": 175,
    "start_time": "2024-05-19T14:26:45.437Z"
   },
   {
    "duration": 188,
    "start_time": "2024-05-19T14:26:45.614Z"
   },
   {
    "duration": 11,
    "start_time": "2024-05-19T14:26:45.803Z"
   },
   {
    "duration": 13,
    "start_time": "2024-05-19T14:26:45.816Z"
   },
   {
    "duration": 229,
    "start_time": "2024-05-19T14:26:45.830Z"
   },
   {
    "duration": 10,
    "start_time": "2024-05-19T14:26:46.061Z"
   },
   {
    "duration": 20,
    "start_time": "2024-05-19T14:26:46.072Z"
   },
   {
    "duration": 32,
    "start_time": "2024-05-19T14:26:46.096Z"
   },
   {
    "duration": 14,
    "start_time": "2024-05-19T14:26:46.130Z"
   },
   {
    "duration": 46,
    "start_time": "2024-07-01T18:45:03.453Z"
   },
   {
    "duration": 981,
    "start_time": "2024-07-01T18:45:09.793Z"
   },
   {
    "duration": 197,
    "start_time": "2024-07-01T18:45:10.775Z"
   },
   {
    "duration": 14,
    "start_time": "2024-07-01T18:45:10.973Z"
   },
   {
    "duration": 9,
    "start_time": "2024-07-01T18:45:10.989Z"
   },
   {
    "duration": 11,
    "start_time": "2024-07-01T18:45:10.999Z"
   },
   {
    "duration": 11,
    "start_time": "2024-07-01T18:45:11.012Z"
   },
   {
    "duration": 2,
    "start_time": "2024-07-01T18:45:11.024Z"
   },
   {
    "duration": 43,
    "start_time": "2024-07-01T18:45:11.028Z"
   },
   {
    "duration": 8,
    "start_time": "2024-07-01T18:45:11.072Z"
   },
   {
    "duration": 9,
    "start_time": "2024-07-01T18:45:11.082Z"
   },
   {
    "duration": 22,
    "start_time": "2024-07-01T18:45:11.092Z"
   },
   {
    "duration": 6,
    "start_time": "2024-07-01T18:45:11.115Z"
   },
   {
    "duration": 550,
    "start_time": "2024-07-01T18:45:11.123Z"
   },
   {
    "duration": 231,
    "start_time": "2024-07-01T18:45:11.675Z"
   },
   {
    "duration": 335,
    "start_time": "2024-07-01T18:45:11.907Z"
   },
   {
    "duration": 268,
    "start_time": "2024-07-01T18:45:12.243Z"
   },
   {
    "duration": 360,
    "start_time": "2024-07-01T18:45:12.513Z"
   },
   {
    "duration": 7,
    "start_time": "2024-07-01T18:45:12.875Z"
   },
   {
    "duration": 146,
    "start_time": "2024-07-01T18:45:12.883Z"
   },
   {
    "duration": 4,
    "start_time": "2024-07-01T18:45:13.030Z"
   },
   {
    "duration": 168,
    "start_time": "2024-07-01T18:45:13.035Z"
   },
   {
    "duration": 168,
    "start_time": "2024-07-01T18:45:13.205Z"
   },
   {
    "duration": 3,
    "start_time": "2024-07-01T18:45:13.375Z"
   },
   {
    "duration": 18,
    "start_time": "2024-07-01T18:45:13.380Z"
   },
   {
    "duration": 238,
    "start_time": "2024-07-01T18:45:13.400Z"
   },
   {
    "duration": 8,
    "start_time": "2024-07-01T18:45:13.640Z"
   },
   {
    "duration": 22,
    "start_time": "2024-07-01T18:45:13.649Z"
   },
   {
    "duration": 24,
    "start_time": "2024-07-01T18:45:13.674Z"
   },
   {
    "duration": 11,
    "start_time": "2024-07-01T18:45:13.700Z"
   },
   {
    "duration": 8,
    "start_time": "2024-07-01T20:10:59.956Z"
   },
   {
    "duration": 10,
    "start_time": "2024-07-01T20:13:28.836Z"
   },
   {
    "duration": 8,
    "start_time": "2024-07-01T20:13:44.968Z"
   },
   {
    "duration": 162,
    "start_time": "2024-07-01T20:14:05.025Z"
   }
  ],
  "kernelspec": {
   "display_name": "Python 3 (ipykernel)",
   "language": "python",
   "name": "python3"
  },
  "language_info": {
   "codemirror_mode": {
    "name": "ipython",
    "version": 3
   },
   "file_extension": ".py",
   "mimetype": "text/x-python",
   "name": "python",
   "nbconvert_exporter": "python",
   "pygments_lexer": "ipython3",
   "version": "3.9.5"
  },
  "toc": {
   "base_numbering": 1,
   "nav_menu": {},
   "number_sections": true,
   "sideBar": true,
   "skip_h1_title": true,
   "title_cell": "Table of Contents",
   "title_sidebar": "Contents",
   "toc_cell": false,
   "toc_position": {
    "height": "calc(100% - 180px)",
    "left": "10px",
    "top": "150px",
    "width": "512px"
   },
   "toc_section_display": true,
   "toc_window_display": true
  }
 },
 "nbformat": 4,
 "nbformat_minor": 2
}
