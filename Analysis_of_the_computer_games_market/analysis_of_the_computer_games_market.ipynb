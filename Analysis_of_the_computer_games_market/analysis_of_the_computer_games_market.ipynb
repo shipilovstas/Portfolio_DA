{
 "cells": [
  {
   "cell_type": "markdown",
   "metadata": {},
   "source": [
    "# Анализ рынка компьютерных игр"
   ]
  },
  {
   "cell_type": "markdown",
   "metadata": {},
   "source": [
    "Интернет-магазине «Стримчик» продаёт по всему миру компьютерные игры. Из открытых источников доступны исторические данные о продажах игр, оценки пользователей и экспертов, жанры и платформы (например, Xbox или PlayStation). Мне нужно выявить определяющие успешность игры закономерности. Это позволит сделать ставку на потенциально популярный продукт и спланировать рекламные кампании.\n",
    "\n",
    "Передо мной данные до 2016 года. Представим, что сейчас декабрь 2016 г., и я планирую кампанию на 2017-й. Нужно отработать принцип работы с данными.\n",
    "\n",
    "В наборе данных попадается аббревиатура ESRB (Entertainment Software Rating Board) — это ассоциация, определяющая возрастной рейтинг компьютерных игр. ESRB оценивает игровой контент и присваивает ему подходящую возрастную категорию, например, «Для взрослых», «Для детей младшего возраста» или «Для подростков»."
   ]
  },
  {
   "cell_type": "markdown",
   "metadata": {},
   "source": [
    "**План исследования:**\n",
    "* Открытие файла и изучение общей информации;\n",
    "* Предобработка данных;\n",
    "* Исследовательский анализ данных;\n",
    "* Составление портрета пользователя каждого региона;\n",
    "* Проверка гипотез;\n",
    "* Общий вывод."
   ]
  },
  {
   "cell_type": "markdown",
   "metadata": {},
   "source": [
    "**Описание данных**\n",
    "* `Name` — название игры\n",
    "* `Platform` — платформа\n",
    "* `Year_of_Release` — год выпуска\n",
    "* `Genre` — жанр игры\n",
    "* `NA_sales` — продажи в Северной Америке (миллионы проданных копий)\n",
    "* `EU_sales` — продажи в Европе (миллионы проданных копий)\n",
    "* `JP_sales` — продажи в Японии (миллионы проданных копий)\n",
    "* `Other_sales` — продажи в других странах (миллионы проданных копий)\n",
    "* `Critic_Score` — оценка критиков (максимум 100)\n",
    "* `User_Score` — оценка пользователей (максимум 10)\n",
    "* `Rating` — рейтинг от организации ESRB (англ. Entertainment Software Rating Board). Эта ассоциация определяет рейтинг компьютерных игр и присваивает им подходящую возрастную категорию."
   ]
  },
  {
   "cell_type": "markdown",
   "metadata": {},
   "source": [
    "## Открытие файла и изучение общей информации."
   ]
  },
  {
   "cell_type": "code",
   "execution_count": 1,
   "metadata": {},
   "outputs": [],
   "source": [
    "# Импорт библиотек\n",
    "import pandas as pd\n",
    "import matplotlib.pyplot as plt\n",
    "import numpy as np\n",
    "from scipy import stats as st"
   ]
  },
  {
   "cell_type": "code",
   "execution_count": 2,
   "metadata": {},
   "outputs": [],
   "source": [
    "# Открытие данных\n",
    "games = pd.read_csv('/datasets/games.csv')"
   ]
  },
  {
   "cell_type": "code",
   "execution_count": 3,
   "metadata": {},
   "outputs": [
    {
     "data": {
      "text/html": [
       "<div>\n",
       "<style scoped>\n",
       "    .dataframe tbody tr th:only-of-type {\n",
       "        vertical-align: middle;\n",
       "    }\n",
       "\n",
       "    .dataframe tbody tr th {\n",
       "        vertical-align: top;\n",
       "    }\n",
       "\n",
       "    .dataframe thead th {\n",
       "        text-align: right;\n",
       "    }\n",
       "</style>\n",
       "<table border=\"1\" class=\"dataframe\">\n",
       "  <thead>\n",
       "    <tr style=\"text-align: right;\">\n",
       "      <th></th>\n",
       "      <th>Name</th>\n",
       "      <th>Platform</th>\n",
       "      <th>Year_of_Release</th>\n",
       "      <th>Genre</th>\n",
       "      <th>NA_sales</th>\n",
       "      <th>EU_sales</th>\n",
       "      <th>JP_sales</th>\n",
       "      <th>Other_sales</th>\n",
       "      <th>Critic_Score</th>\n",
       "      <th>User_Score</th>\n",
       "      <th>Rating</th>\n",
       "    </tr>\n",
       "  </thead>\n",
       "  <tbody>\n",
       "    <tr>\n",
       "      <th>0</th>\n",
       "      <td>Wii Sports</td>\n",
       "      <td>Wii</td>\n",
       "      <td>2006.0</td>\n",
       "      <td>Sports</td>\n",
       "      <td>41.36</td>\n",
       "      <td>28.96</td>\n",
       "      <td>3.77</td>\n",
       "      <td>8.45</td>\n",
       "      <td>76.0</td>\n",
       "      <td>8</td>\n",
       "      <td>E</td>\n",
       "    </tr>\n",
       "    <tr>\n",
       "      <th>1</th>\n",
       "      <td>Super Mario Bros.</td>\n",
       "      <td>NES</td>\n",
       "      <td>1985.0</td>\n",
       "      <td>Platform</td>\n",
       "      <td>29.08</td>\n",
       "      <td>3.58</td>\n",
       "      <td>6.81</td>\n",
       "      <td>0.77</td>\n",
       "      <td>NaN</td>\n",
       "      <td>NaN</td>\n",
       "      <td>NaN</td>\n",
       "    </tr>\n",
       "    <tr>\n",
       "      <th>2</th>\n",
       "      <td>Mario Kart Wii</td>\n",
       "      <td>Wii</td>\n",
       "      <td>2008.0</td>\n",
       "      <td>Racing</td>\n",
       "      <td>15.68</td>\n",
       "      <td>12.76</td>\n",
       "      <td>3.79</td>\n",
       "      <td>3.29</td>\n",
       "      <td>82.0</td>\n",
       "      <td>8.3</td>\n",
       "      <td>E</td>\n",
       "    </tr>\n",
       "    <tr>\n",
       "      <th>3</th>\n",
       "      <td>Wii Sports Resort</td>\n",
       "      <td>Wii</td>\n",
       "      <td>2009.0</td>\n",
       "      <td>Sports</td>\n",
       "      <td>15.61</td>\n",
       "      <td>10.93</td>\n",
       "      <td>3.28</td>\n",
       "      <td>2.95</td>\n",
       "      <td>80.0</td>\n",
       "      <td>8</td>\n",
       "      <td>E</td>\n",
       "    </tr>\n",
       "    <tr>\n",
       "      <th>4</th>\n",
       "      <td>Pokemon Red/Pokemon Blue</td>\n",
       "      <td>GB</td>\n",
       "      <td>1996.0</td>\n",
       "      <td>Role-Playing</td>\n",
       "      <td>11.27</td>\n",
       "      <td>8.89</td>\n",
       "      <td>10.22</td>\n",
       "      <td>1.00</td>\n",
       "      <td>NaN</td>\n",
       "      <td>NaN</td>\n",
       "      <td>NaN</td>\n",
       "    </tr>\n",
       "  </tbody>\n",
       "</table>\n",
       "</div>"
      ],
      "text/plain": [
       "                       Name Platform  Year_of_Release         Genre  NA_sales  \\\n",
       "0                Wii Sports      Wii           2006.0        Sports     41.36   \n",
       "1         Super Mario Bros.      NES           1985.0      Platform     29.08   \n",
       "2            Mario Kart Wii      Wii           2008.0        Racing     15.68   \n",
       "3         Wii Sports Resort      Wii           2009.0        Sports     15.61   \n",
       "4  Pokemon Red/Pokemon Blue       GB           1996.0  Role-Playing     11.27   \n",
       "\n",
       "   EU_sales  JP_sales  Other_sales  Critic_Score User_Score Rating  \n",
       "0     28.96      3.77         8.45          76.0          8      E  \n",
       "1      3.58      6.81         0.77           NaN        NaN    NaN  \n",
       "2     12.76      3.79         3.29          82.0        8.3      E  \n",
       "3     10.93      3.28         2.95          80.0          8      E  \n",
       "4      8.89     10.22         1.00           NaN        NaN    NaN  "
      ]
     },
     "execution_count": 3,
     "metadata": {},
     "output_type": "execute_result"
    }
   ],
   "source": [
    "# Вывод первых строк набора данных методом head()\n",
    "games.head()"
   ]
  },
  {
   "cell_type": "code",
   "execution_count": 4,
   "metadata": {},
   "outputs": [
    {
     "name": "stdout",
     "output_type": "stream",
     "text": [
      "<class 'pandas.core.frame.DataFrame'>\n",
      "RangeIndex: 16715 entries, 0 to 16714\n",
      "Data columns (total 11 columns):\n",
      " #   Column           Non-Null Count  Dtype  \n",
      "---  ------           --------------  -----  \n",
      " 0   Name             16713 non-null  object \n",
      " 1   Platform         16715 non-null  object \n",
      " 2   Year_of_Release  16446 non-null  float64\n",
      " 3   Genre            16713 non-null  object \n",
      " 4   NA_sales         16715 non-null  float64\n",
      " 5   EU_sales         16715 non-null  float64\n",
      " 6   JP_sales         16715 non-null  float64\n",
      " 7   Other_sales      16715 non-null  float64\n",
      " 8   Critic_Score     8137 non-null   float64\n",
      " 9   User_Score       10014 non-null  object \n",
      " 10  Rating           9949 non-null   object \n",
      "dtypes: float64(6), object(5)\n",
      "memory usage: 1.4+ MB\n"
     ]
    }
   ],
   "source": [
    "# Вывод информации о датафрейме методом info()\n",
    "games.info()"
   ]
  },
  {
   "cell_type": "markdown",
   "metadata": {},
   "source": [
    "На основании общей информации видно, что:\n",
    "* все названия столбцов содержат заглавные буквы;\n",
    "* в столбцах `Critic_Score`, `User_Score`, `Year_of_Release`, `Name` и `Rating` содержатся пропуски, которые, вероятнее всего, связаны с отсутствием некоторых игр в рейтингах;\n",
    "* столбец `Year_of_Release` имеет тип данных `float64`, хотя год выпуска может быть только целым числом;\n",
    "* столбец `User_Score` имеет некорректный тип данных `object` из-за NaN-значений."
   ]
  },
  {
   "cell_type": "markdown",
   "metadata": {},
   "source": [
    "## Предобработка данных"
   ]
  },
  {
   "cell_type": "markdown",
   "metadata": {},
   "source": [
    "### Корректирование названия столбцов"
   ]
  },
  {
   "cell_type": "code",
   "execution_count": 5,
   "metadata": {},
   "outputs": [
    {
     "data": {
      "text/plain": [
       "Index(['name', 'platform', 'year_of_release', 'genre', 'na_sales', 'eu_sales',\n",
       "       'jp_sales', 'other_sales', 'critic_score', 'user_score', 'rating'],\n",
       "      dtype='object')"
      ]
     },
     "execution_count": 5,
     "metadata": {},
     "output_type": "execute_result"
    }
   ],
   "source": [
    "# приведение названия столбцов датафрейма games к нижнему регистру\n",
    "# с помощью атрибута columns и метода str.lower()\n",
    "games.columns = games.columns.str.lower()\n",
    "\n",
    "games.columns # проверка полученного результата"
   ]
  },
  {
   "cell_type": "markdown",
   "metadata": {},
   "source": [
    "### Преобразованние типов данных"
   ]
  },
  {
   "cell_type": "code",
   "execution_count": 6,
   "metadata": {},
   "outputs": [
    {
     "data": {
      "text/plain": [
       "name                object\n",
       "platform            object\n",
       "year_of_release    float64\n",
       "genre               object\n",
       "na_sales           float64\n",
       "eu_sales           float64\n",
       "jp_sales           float64\n",
       "other_sales        float64\n",
       "critic_score       float64\n",
       "user_score          object\n",
       "rating              object\n",
       "dtype: object"
      ]
     },
     "execution_count": 6,
     "metadata": {},
     "output_type": "execute_result"
    }
   ],
   "source": [
    "# Вывод типов данных каждого столбца датафрейма\n",
    "games.dtypes"
   ]
  },
  {
   "cell_type": "code",
   "execution_count": 7,
   "metadata": {},
   "outputs": [
    {
     "data": {
      "text/plain": [
       "array(['8', nan, '8.3', '8.5', '6.6', '8.4', '8.6', '7.7', '6.3', '7.4',\n",
       "       '8.2', '9', '7.9', '8.1', '8.7', '7.1', '3.4', '5.3', '4.8', '3.2',\n",
       "       '8.9', '6.4', '7.8', '7.5', '2.6', '7.2', '9.2', '7', '7.3', '4.3',\n",
       "       '7.6', '5.7', '5', '9.1', '6.5', 'tbd', '8.8', '6.9', '9.4', '6.8',\n",
       "       '6.1', '6.7', '5.4', '4', '4.9', '4.5', '9.3', '6.2', '4.2', '6',\n",
       "       '3.7', '4.1', '5.8', '5.6', '5.5', '4.4', '4.6', '5.9', '3.9',\n",
       "       '3.1', '2.9', '5.2', '3.3', '4.7', '5.1', '3.5', '2.5', '1.9', '3',\n",
       "       '2.7', '2.2', '2', '9.5', '2.1', '3.6', '2.8', '1.8', '3.8', '0',\n",
       "       '1.6', '9.6', '2.4', '1.7', '1.1', '0.3', '1.5', '0.7', '1.2',\n",
       "       '2.3', '0.5', '1.3', '0.2', '0.6', '1.4', '0.9', '1', '9.7'],\n",
       "      dtype=object)"
      ]
     },
     "execution_count": 7,
     "metadata": {},
     "output_type": "execute_result"
    }
   ],
   "source": [
    "# Вывод уникальных значений столбца 'user_score'\n",
    "games['user_score'].unique()"
   ]
  },
  {
   "cell_type": "markdown",
   "metadata": {},
   "source": [
    "Столбец `user_score` содержит аббревиатуру `tbd`, которая расшифровывается, как `to be defined / decided / determined / discussed`, следовательно для нас это пропуски и заменить значения в таких строчках необходимо на NaN-значение."
   ]
  },
  {
   "cell_type": "code",
   "execution_count": 8,
   "metadata": {},
   "outputs": [],
   "source": [
    "# Замена значений 'tbd' на NaN\n",
    "games['user_score'] = games['user_score'].replace('tbd', np.NaN)\n",
    "\n",
    "# Преобразование столбца user_score в соответствующий тип вещественных чисел\n",
    "games['user_score'] = games['user_score'].astype(float)"
   ]
  },
  {
   "cell_type": "markdown",
   "metadata": {},
   "source": [
    "### Обработка пропусков"
   ]
  },
  {
   "cell_type": "code",
   "execution_count": 9,
   "metadata": {
    "scrolled": true
   },
   "outputs": [
    {
     "data": {
      "text/plain": [
       "name                  2\n",
       "platform              0\n",
       "year_of_release     269\n",
       "genre                 2\n",
       "na_sales              0\n",
       "eu_sales              0\n",
       "jp_sales              0\n",
       "other_sales           0\n",
       "critic_score       8578\n",
       "user_score         9125\n",
       "rating             6766\n",
       "dtype: int64"
      ]
     },
     "execution_count": 9,
     "metadata": {},
     "output_type": "execute_result"
    }
   ],
   "source": [
    "# нахождение (методом isna()) и подсчёт (методом sum()) пропущенных значений\n",
    "games.isna().sum()"
   ]
  },
  {
   "cell_type": "code",
   "execution_count": 10,
   "metadata": {},
   "outputs": [
    {
     "data": {
      "text/plain": [
       "index                 0\n",
       "name                  0\n",
       "platform              0\n",
       "year_of_release       0\n",
       "genre                 0\n",
       "na_sales              0\n",
       "eu_sales              0\n",
       "jp_sales              0\n",
       "other_sales           0\n",
       "critic_score       8461\n",
       "user_score         8981\n",
       "rating             6676\n",
       "dtype: int64"
      ]
     },
     "execution_count": 10,
     "metadata": {},
     "output_type": "execute_result"
    }
   ],
   "source": [
    "# удаление небольшой части пропусков методом dropna() и передачей списка столбцов и восстановление индексов\n",
    "games = games.dropna(subset=['name', 'year_of_release', 'genre']).reset_index()\n",
    "# проверка удаления пропусков\n",
    "games.isna().sum()"
   ]
  },
  {
   "cell_type": "markdown",
   "metadata": {},
   "source": [
    "Так как восстановить корректные значения в столбцах `critic_score`, `user_score` и `rating` не представляется возможным, а их замена на среднее или медиану может повлиять на распределение (исказить его) , и удалить эти пропуски нельзя, потому что они составляют порядка 50% всего датасета - считаю, что лучше оставить их нетроннутыми."
   ]
  },
  {
   "cell_type": "markdown",
   "metadata": {},
   "source": [
    "Основными причинами пропусков могут являться:\n",
    "* Повреждение файла с данными;\n",
    "* Человеческий фактор;\n",
    "* Технические проблемы."
   ]
  },
  {
   "cell_type": "markdown",
   "metadata": {},
   "source": [
    "### Расчёт суммарных продаж во всех регионах"
   ]
  },
  {
   "cell_type": "code",
   "execution_count": 11,
   "metadata": {
    "scrolled": true
   },
   "outputs": [
    {
     "data": {
      "text/html": [
       "<div>\n",
       "<style scoped>\n",
       "    .dataframe tbody tr th:only-of-type {\n",
       "        vertical-align: middle;\n",
       "    }\n",
       "\n",
       "    .dataframe tbody tr th {\n",
       "        vertical-align: top;\n",
       "    }\n",
       "\n",
       "    .dataframe thead th {\n",
       "        text-align: right;\n",
       "    }\n",
       "</style>\n",
       "<table border=\"1\" class=\"dataframe\">\n",
       "  <thead>\n",
       "    <tr style=\"text-align: right;\">\n",
       "      <th></th>\n",
       "      <th>index</th>\n",
       "      <th>name</th>\n",
       "      <th>platform</th>\n",
       "      <th>year_of_release</th>\n",
       "      <th>genre</th>\n",
       "      <th>na_sales</th>\n",
       "      <th>eu_sales</th>\n",
       "      <th>jp_sales</th>\n",
       "      <th>other_sales</th>\n",
       "      <th>critic_score</th>\n",
       "      <th>user_score</th>\n",
       "      <th>rating</th>\n",
       "      <th>total_sales</th>\n",
       "    </tr>\n",
       "  </thead>\n",
       "  <tbody>\n",
       "    <tr>\n",
       "      <th>0</th>\n",
       "      <td>0</td>\n",
       "      <td>Wii Sports</td>\n",
       "      <td>Wii</td>\n",
       "      <td>2006.0</td>\n",
       "      <td>Sports</td>\n",
       "      <td>41.36</td>\n",
       "      <td>28.96</td>\n",
       "      <td>3.77</td>\n",
       "      <td>8.45</td>\n",
       "      <td>76.0</td>\n",
       "      <td>8.0</td>\n",
       "      <td>E</td>\n",
       "      <td>82.54</td>\n",
       "    </tr>\n",
       "    <tr>\n",
       "      <th>1</th>\n",
       "      <td>1</td>\n",
       "      <td>Super Mario Bros.</td>\n",
       "      <td>NES</td>\n",
       "      <td>1985.0</td>\n",
       "      <td>Platform</td>\n",
       "      <td>29.08</td>\n",
       "      <td>3.58</td>\n",
       "      <td>6.81</td>\n",
       "      <td>0.77</td>\n",
       "      <td>NaN</td>\n",
       "      <td>NaN</td>\n",
       "      <td>NaN</td>\n",
       "      <td>40.24</td>\n",
       "    </tr>\n",
       "    <tr>\n",
       "      <th>2</th>\n",
       "      <td>2</td>\n",
       "      <td>Mario Kart Wii</td>\n",
       "      <td>Wii</td>\n",
       "      <td>2008.0</td>\n",
       "      <td>Racing</td>\n",
       "      <td>15.68</td>\n",
       "      <td>12.76</td>\n",
       "      <td>3.79</td>\n",
       "      <td>3.29</td>\n",
       "      <td>82.0</td>\n",
       "      <td>8.3</td>\n",
       "      <td>E</td>\n",
       "      <td>35.52</td>\n",
       "    </tr>\n",
       "    <tr>\n",
       "      <th>3</th>\n",
       "      <td>3</td>\n",
       "      <td>Wii Sports Resort</td>\n",
       "      <td>Wii</td>\n",
       "      <td>2009.0</td>\n",
       "      <td>Sports</td>\n",
       "      <td>15.61</td>\n",
       "      <td>10.93</td>\n",
       "      <td>3.28</td>\n",
       "      <td>2.95</td>\n",
       "      <td>80.0</td>\n",
       "      <td>8.0</td>\n",
       "      <td>E</td>\n",
       "      <td>32.77</td>\n",
       "    </tr>\n",
       "    <tr>\n",
       "      <th>4</th>\n",
       "      <td>4</td>\n",
       "      <td>Pokemon Red/Pokemon Blue</td>\n",
       "      <td>GB</td>\n",
       "      <td>1996.0</td>\n",
       "      <td>Role-Playing</td>\n",
       "      <td>11.27</td>\n",
       "      <td>8.89</td>\n",
       "      <td>10.22</td>\n",
       "      <td>1.00</td>\n",
       "      <td>NaN</td>\n",
       "      <td>NaN</td>\n",
       "      <td>NaN</td>\n",
       "      <td>31.38</td>\n",
       "    </tr>\n",
       "  </tbody>\n",
       "</table>\n",
       "</div>"
      ],
      "text/plain": [
       "   index                      name platform  year_of_release         genre  \\\n",
       "0      0                Wii Sports      Wii           2006.0        Sports   \n",
       "1      1         Super Mario Bros.      NES           1985.0      Platform   \n",
       "2      2            Mario Kart Wii      Wii           2008.0        Racing   \n",
       "3      3         Wii Sports Resort      Wii           2009.0        Sports   \n",
       "4      4  Pokemon Red/Pokemon Blue       GB           1996.0  Role-Playing   \n",
       "\n",
       "   na_sales  eu_sales  jp_sales  other_sales  critic_score  user_score rating  \\\n",
       "0     41.36     28.96      3.77         8.45          76.0         8.0      E   \n",
       "1     29.08      3.58      6.81         0.77           NaN         NaN    NaN   \n",
       "2     15.68     12.76      3.79         3.29          82.0         8.3      E   \n",
       "3     15.61     10.93      3.28         2.95          80.0         8.0      E   \n",
       "4     11.27      8.89     10.22         1.00           NaN         NaN    NaN   \n",
       "\n",
       "   total_sales  \n",
       "0        82.54  \n",
       "1        40.24  \n",
       "2        35.52  \n",
       "3        32.77  \n",
       "4        31.38  "
      ]
     },
     "execution_count": 11,
     "metadata": {},
     "output_type": "execute_result"
    }
   ],
   "source": [
    "# Подсчёт суммарных продаж и создание нового столбца 'total_sales'\n",
    "games['total_sales'] = games['na_sales'] + games['eu_sales'] + games['jp_sales'] + games['other_sales']\n",
    "# проверка\n",
    "games.head() "
   ]
  },
  {
   "cell_type": "markdown",
   "metadata": {},
   "source": [
    "### Проверка дубликатов."
   ]
  },
  {
   "cell_type": "code",
   "execution_count": 12,
   "metadata": {},
   "outputs": [
    {
     "data": {
      "text/plain": [
       "0"
      ]
     },
     "execution_count": 12,
     "metadata": {},
     "output_type": "execute_result"
    }
   ],
   "source": [
    "# проверка явных дубликатов с помощью метода duplicated() и их подсчет с помощью метода sum()\n",
    "games.duplicated().sum()"
   ]
  },
  {
   "cell_type": "code",
   "execution_count": 13,
   "metadata": {},
   "outputs": [
    {
     "data": {
      "text/plain": [
       "array(['Wii Sports', 'Super Mario Bros.', 'Mario Kart Wii', ...,\n",
       "       'Woody Woodpecker in Crazy Castle 5', 'LMA Manager 2007',\n",
       "       'Haitaka no Psychedelica'], dtype=object)"
      ]
     },
     "metadata": {},
     "output_type": "display_data"
    },
    {
     "data": {
      "text/plain": [
       "array(['Wii', 'NES', 'GB', 'DS', 'X360', 'PS3', 'PS2', 'SNES', 'GBA',\n",
       "       'PS4', '3DS', 'N64', 'PS', 'XB', 'PC', '2600', 'PSP', 'XOne',\n",
       "       'WiiU', 'GC', 'GEN', 'DC', 'PSV', 'SAT', 'SCD', 'WS', 'NG', 'TG16',\n",
       "       '3DO', 'GG', 'PCFX'], dtype=object)"
      ]
     },
     "metadata": {},
     "output_type": "display_data"
    },
    {
     "data": {
      "text/plain": [
       "array([2006., 1985., 2008., 2009., 1996., 1989., 1984., 2005., 1999.,\n",
       "       2007., 2010., 2013., 2004., 1990., 1988., 2002., 2001., 2011.,\n",
       "       1998., 2015., 2012., 2014., 1992., 1997., 1993., 1994., 1982.,\n",
       "       2016., 2003., 1986., 2000., 1995., 1991., 1981., 1987., 1980.,\n",
       "       1983.])"
      ]
     },
     "metadata": {},
     "output_type": "display_data"
    }
   ],
   "source": [
    "# Проверка на неявные дубликаты с помощью метода unique()\n",
    "display(games['name'].unique())\n",
    "display(games['platform'].unique())\n",
    "display(games['year_of_release'].unique())"
   ]
  },
  {
   "cell_type": "markdown",
   "metadata": {},
   "source": [
    "В исследуемом датафрейме отсутстуют явные и неявные дубликаты."
   ]
  },
  {
   "cell_type": "code",
   "execution_count": 14,
   "metadata": {},
   "outputs": [
    {
     "data": {
      "text/html": [
       "<div>\n",
       "<style scoped>\n",
       "    .dataframe tbody tr th:only-of-type {\n",
       "        vertical-align: middle;\n",
       "    }\n",
       "\n",
       "    .dataframe tbody tr th {\n",
       "        vertical-align: top;\n",
       "    }\n",
       "\n",
       "    .dataframe thead th {\n",
       "        text-align: right;\n",
       "    }\n",
       "</style>\n",
       "<table border=\"1\" class=\"dataframe\">\n",
       "  <thead>\n",
       "    <tr style=\"text-align: right;\">\n",
       "      <th></th>\n",
       "      <th>index</th>\n",
       "      <th>name</th>\n",
       "      <th>platform</th>\n",
       "      <th>year_of_release</th>\n",
       "      <th>genre</th>\n",
       "      <th>na_sales</th>\n",
       "      <th>eu_sales</th>\n",
       "      <th>jp_sales</th>\n",
       "      <th>other_sales</th>\n",
       "      <th>critic_score</th>\n",
       "      <th>user_score</th>\n",
       "      <th>rating</th>\n",
       "      <th>total_sales</th>\n",
       "    </tr>\n",
       "  </thead>\n",
       "  <tbody>\n",
       "    <tr>\n",
       "      <th>600</th>\n",
       "      <td>604</td>\n",
       "      <td>Madden NFL 13</td>\n",
       "      <td>PS3</td>\n",
       "      <td>2012.0</td>\n",
       "      <td>Sports</td>\n",
       "      <td>2.11</td>\n",
       "      <td>0.22</td>\n",
       "      <td>0.0</td>\n",
       "      <td>0.23</td>\n",
       "      <td>83.0</td>\n",
       "      <td>5.5</td>\n",
       "      <td>E</td>\n",
       "      <td>2.56</td>\n",
       "    </tr>\n",
       "    <tr>\n",
       "      <th>15969</th>\n",
       "      <td>16230</td>\n",
       "      <td>Madden NFL 13</td>\n",
       "      <td>PS3</td>\n",
       "      <td>2012.0</td>\n",
       "      <td>Sports</td>\n",
       "      <td>0.00</td>\n",
       "      <td>0.01</td>\n",
       "      <td>0.0</td>\n",
       "      <td>0.00</td>\n",
       "      <td>83.0</td>\n",
       "      <td>5.5</td>\n",
       "      <td>E</td>\n",
       "      <td>0.01</td>\n",
       "    </tr>\n",
       "  </tbody>\n",
       "</table>\n",
       "</div>"
      ],
      "text/plain": [
       "       index           name platform  year_of_release   genre  na_sales  \\\n",
       "600      604  Madden NFL 13      PS3           2012.0  Sports      2.11   \n",
       "15969  16230  Madden NFL 13      PS3           2012.0  Sports      0.00   \n",
       "\n",
       "       eu_sales  jp_sales  other_sales  critic_score  user_score rating  \\\n",
       "600        0.22       0.0         0.23          83.0         5.5      E   \n",
       "15969      0.01       0.0         0.00          83.0         5.5      E   \n",
       "\n",
       "       total_sales  \n",
       "600           2.56  \n",
       "15969         0.01  "
      ]
     },
     "execution_count": 14,
     "metadata": {},
     "output_type": "execute_result"
    }
   ],
   "source": [
    "# Комментарий ревьюера 2\n",
    "temp = games.copy()\n",
    "temp[temp[['name', 'platform','year_of_release']].duplicated(keep=False)]"
   ]
  },
  {
   "cell_type": "code",
   "execution_count": 15,
   "metadata": {},
   "outputs": [
    {
     "name": "stdout",
     "output_type": "stream",
     "text": [
      "<class 'pandas.core.frame.DataFrame'>\n",
      "RangeIndex: 16444 entries, 0 to 16443\n",
      "Data columns (total 13 columns):\n",
      " #   Column           Non-Null Count  Dtype  \n",
      "---  ------           --------------  -----  \n",
      " 0   index            16444 non-null  int64  \n",
      " 1   name             16444 non-null  object \n",
      " 2   platform         16444 non-null  object \n",
      " 3   year_of_release  16444 non-null  float64\n",
      " 4   genre            16444 non-null  object \n",
      " 5   na_sales         16444 non-null  float64\n",
      " 6   eu_sales         16444 non-null  float64\n",
      " 7   jp_sales         16444 non-null  float64\n",
      " 8   other_sales      16444 non-null  float64\n",
      " 9   critic_score     7983 non-null   float64\n",
      " 10  user_score       7463 non-null   float64\n",
      " 11  rating           9768 non-null   object \n",
      " 12  total_sales      16444 non-null  float64\n",
      "dtypes: float64(8), int64(1), object(4)\n",
      "memory usage: 1.6+ MB\n",
      "None\n",
      "-------------------------\n",
      "name [' Beyblade Burst' ' Fire Emblem Fates' \" Frozen: Olaf's Quest\" ...\n",
      " 'uDraw Studio' 'uDraw Studio: Instant Artist'\n",
      " '¡Shin Chan Flipa en colores!']\n",
      "name : кол-во NaN 0 , процент NaN 0.0 %\n",
      "-------------------------\n",
      "platform ['2600' '3DO' '3DS' 'DC' 'DS' 'GB' 'GBA' 'GC' 'GEN' 'GG' 'N64' 'NES' 'NG'\n",
      " 'PC' 'PCFX' 'PS' 'PS2' 'PS3' 'PS4' 'PSP' 'PSV' 'SAT' 'SCD' 'SNES' 'TG16'\n",
      " 'WS' 'Wii' 'WiiU' 'X360' 'XB' 'XOne']\n",
      "platform : кол-во NaN 0 , процент NaN 0.0 %\n",
      "-------------------------\n",
      "year_of_release [1980. 1981. 1982. 1983. 1984. 1985. 1986. 1987. 1988. 1989. 1990. 1991.\n",
      " 1992. 1993. 1994. 1995. 1996. 1997. 1998. 1999. 2000. 2001. 2002. 2003.\n",
      " 2004. 2005. 2006. 2007. 2008. 2009. 2010. 2011. 2012. 2013. 2014. 2015.\n",
      " 2016.]\n",
      "year_of_release : кол-во NaN 0 , процент NaN 0.0 %\n",
      "-------------------------\n",
      "genre ['Action' 'Adventure' 'Fighting' 'Misc' 'Platform' 'Puzzle' 'Racing'\n",
      " 'Role-Playing' 'Shooter' 'Simulation' 'Sports' 'Strategy']\n",
      "genre : кол-во NaN 0 , процент NaN 0.0 %\n",
      "-------------------------\n",
      "critic_score [13. 17. 19. 20. 21. 23. 24. 25. 26. 27. 28. 29. 30. 31. 32. 33. 34. 35.\n",
      " 36. 37. 38. 39. 40. 41. 42. 43. 44. 45. 46. 47. 48. 49. 50. 51. 52. 53.\n",
      " 54. 55. 56. 57. 58. 59. 60. 61. 62. 63. 64. 65. 66. 67. 68. 69. 70. 71.\n",
      " 72. 73. 74. 75. 76. 77. 78. 79. 80. 81. 82. 83. 84. 85. 86. 87. 88. 89.\n",
      " 90. 91. 92. 93. 94. 95. 96. 97. 98. nan]\n",
      "critic_score : кол-во NaN 8461 , процент NaN 51.45 %\n",
      "-------------------------\n",
      "user_score [0.  0.2 0.3 0.5 0.6 0.7 0.9 1.  1.1 1.2 1.3 1.4 1.5 1.6 1.7 1.8 1.9 2.\n",
      " 2.1 2.2 2.3 2.4 2.5 2.6 2.7 2.8 2.9 3.  3.1 3.2 3.3 3.4 3.5 3.6 3.7 3.8\n",
      " 3.9 4.  4.1 4.2 4.3 4.4 4.5 4.6 4.7 4.8 4.9 5.  5.1 5.2 5.3 5.4 5.5 5.6\n",
      " 5.7 5.8 5.9 6.  6.1 6.2 6.3 6.4 6.5 6.6 6.7 6.8 6.9 7.  7.1 7.2 7.3 7.4\n",
      " 7.5 7.6 7.7 7.8 7.9 8.  8.1 8.2 8.3 8.4 8.5 8.6 8.7 8.8 8.9 9.  9.1 9.2\n",
      " 9.3 9.4 9.5 9.6 9.7 nan]\n",
      "user_score : кол-во NaN 8981 , процент NaN 54.62 %\n",
      "-------------------------\n",
      "rating ['AO' 'E' 'E10+' 'EC' 'K-A' 'M' 'RP' 'T' nan]\n",
      "rating : кол-во NaN 6676 , процент NaN 40.6 %\n"
     ]
    }
   ],
   "source": [
    "# Комментарий ревьюера\n",
    "# Посмотрим, что осталось\n",
    "temp = games.copy() \n",
    "list_c = ['name', 'platform', 'year_of_release', 'genre', 'critic_score', 'user_score', 'rating']\n",
    "print(temp.info())\n",
    "for col_l in list_c:\n",
    "  print('-'* 25)\n",
    "  print(col_l, temp[col_l].sort_values().unique())\n",
    "  print(col_l,': кол-во NaN',temp[col_l].isna().sum(),\n",
    "        ', процент NaN', round(temp[col_l].isna().mean()*100,2),'%') "
   ]
  },
  {
   "cell_type": "code",
   "execution_count": 16,
   "metadata": {},
   "outputs": [
    {
     "data": {
      "text/plain": [
       "0"
      ]
     },
     "execution_count": 16,
     "metadata": {},
     "output_type": "execute_result"
    }
   ],
   "source": [
    "# Заполняю пропуски в столбце 'rating' заглушкой 'WR'(Without rating)\n",
    "games['rating'] = games['rating'].fillna('WR')\n",
    "games['rating'].isna().sum() # проверка отсутствия пропусков"
   ]
  },
  {
   "cell_type": "markdown",
   "metadata": {},
   "source": [
    "На этапе предобработки данных все названия столбцов были приведены к нижнему регистру. В столбце `user_score` аббревиатура `tbd` была заменена на NaN-значения. Обработана и удалена часть пропусков, которая не является критичной для датасета. Пропуски в столбце `rating` были заменены на заглушку `WR`(Without Rating). Остальные пропуски остались нетроннутыми. Проверка показала отсутствие явных и неявных дубликатов в исследуемом датафрейме."
   ]
  },
  {
   "cell_type": "markdown",
   "metadata": {},
   "source": [
    "## Исследовательский анализ данных"
   ]
  },
  {
   "cell_type": "markdown",
   "metadata": {},
   "source": [
    "### Выпуск игр в разные годы"
   ]
  },
  {
   "cell_type": "code",
   "execution_count": 17,
   "metadata": {},
   "outputs": [
    {
     "data": {
      "image/png": "[encoded data removed]",
      "text/plain": [
       "<Figure size 864x360 with 1 Axes>"
      ]
     },
     "metadata": {
      "needs_background": "light"
     },
     "output_type": "display_data"
    }
   ],
   "source": [
    "# вывод гистограммы количества выпущенных игр за каждый год\n",
    "plt.figure(figsize = (12, 5))\n",
    "plt.hist(games['year_of_release'], bins=37)\n",
    "plt.title('Распределение выпуска игр по годам')\n",
    "plt.ylabel('Количество игр')\n",
    "plt.xlabel('Год выпуска')\n",
    "plt.show()"
   ]
  },
  {
   "cell_type": "markdown",
   "metadata": {},
   "source": [
    "По гистограмме видно, что исторический минимум находится в области 1982 - 1990 годов и  целом, значения до 1994 года больше похожи на выбросы, которые не стоит брать в расчёт.\n",
    "\n",
    "Пиком же можно считать 2008 - 2009 года, когда за год количество выпущенных игр достигало 1400 штук, что можно назвать \"золотым временем\" игровой индустрии."
   ]
  },
  {
   "cell_type": "markdown",
   "metadata": {},
   "source": [
    "### Продажи по годам"
   ]
  },
  {
   "cell_type": "code",
   "execution_count": 18,
   "metadata": {},
   "outputs": [
    {
     "data": {
      "text/plain": [
       "Index(['PS2', 'X360', 'PS3', 'Wii', 'DS', 'PS', 'PS4', 'GBA', 'PSP', '3DS'], dtype='object', name='platform')"
      ]
     },
     "execution_count": 18,
     "metadata": {},
     "output_type": "execute_result"
    }
   ],
   "source": [
    "# Группировка игр по платформам и расчёт сумарных продаж, сортировка по убыванию значений и вывод лидеров\n",
    "games.groupby('platform')['total_sales'].sum().sort_values(ascending=False).head(10).index"
   ]
  },
  {
   "cell_type": "markdown",
   "metadata": {},
   "source": [
    "Для исследования предлагаю взять первые 10 платформ по суммарным продажам."
   ]
  },
  {
   "cell_type": "code",
   "execution_count": 19,
   "metadata": {},
   "outputs": [
    {
     "data": {
      "image/png": "[encoded data removed]",
      "text/plain": [
       "<Figure size 1080x648 with 1 Axes>"
      ]
     },
     "metadata": {
      "needs_background": "light"
     },
     "output_type": "display_data"
    }
   ],
   "source": [
    "# Создание сводной таблицы для суммарных продаж на платформах по годам\n",
    "platform_sales = games.pivot_table(index='year_of_release', columns='platform', values='total_sales', aggfunc='sum')\n",
    "\n",
    "# Вывод графика для 10 платформ с наибольшими суммарными продажами, список платформ взят из предыдущего вывода\n",
    "platform_sales[['PS2', 'X360', 'PS3', 'Wii', 'DS', 'PS', 'PS4', 'GBA', 'PSP', '3DS']].plot(\n",
    "    grid=True, figsize=(15, 9), xlabel='Годы выпуска игр', \n",
    "    ylabel='Суммарные продажи, млн', title='Распредение суммарных продаж по платформам')\n",
    "plt.xlim(1994, 2016)\n",
    "plt.show()"
   ]
  },
  {
   "cell_type": "markdown",
   "metadata": {},
   "source": [
    "По графикам видно, что средний \"срок жизни\" игровых платформ составляет порядка 5-7 лет. Затем им на смену приходит новое поколение. Это хорошо видно по семейству PlayStation(PS):\n",
    "\n",
    "PS первого поколения набирала популярность с 1995 года и в 2000 году, на рубеже милениумов и спаде популярности появилось второе поколение PS2 и по аналогии продержалось примерно до 2007 года и сменилось на PS3."
   ]
  },
  {
   "cell_type": "code",
   "execution_count": 20,
   "metadata": {},
   "outputs": [
    {
     "data": {
      "text/plain": [
       "7.0"
      ]
     },
     "execution_count": 20,
     "metadata": {},
     "output_type": "execute_result"
    }
   ],
   "source": [
    "# Комментарий ревьюера\n",
    "temp = games.copy() \n",
    "time_life = temp.pivot_table(index='platform', values='year_of_release', aggfunc=['min', 'max']).reset_index()\n",
    "time_life['life'] = time_life['max'] - time_life['min'] + 1 # в срок жизни платформы, должны входить границы диапазона, \n",
    "                                                            # поэтому +1\n",
    "time_life['life'].median()"
   ]
  },
  {
   "cell_type": "markdown",
   "metadata": {},
   "source": [
    "### Изучение актуального периода"
   ]
  },
  {
   "cell_type": "markdown",
   "metadata": {},
   "source": [
    "За актуальный период был взят промежуток с 2014 по 2016 года. Так как это самый близкий период к планируемому 2017 году и на нём нет такого скачка (\"бума\") как под конец 2010, виден потенциал для роста."
   ]
  },
  {
   "cell_type": "code",
   "execution_count": 21,
   "metadata": {},
   "outputs": [],
   "source": [
    "# Создание нового датафрейма с помощью среза по актуальным годам\n",
    "games_actual = games.query('2014 <= year_of_release <= 2016')\n",
    "platform_sales = (platform_sales[['PS2', 'X360', 'PS3', 'Wii', 'DS', 'PS', 'PS4', 'GBA', 'PSP', '3DS']]\n",
    "                  .query('2014 <= year_of_release <= 2016'))"
   ]
  },
  {
   "cell_type": "code",
   "execution_count": 22,
   "metadata": {},
   "outputs": [
    {
     "data": {
      "image/png": "[encoded data removed]",
      "text/plain": [
       "<Figure size 1080x648 with 1 Axes>"
      ]
     },
     "metadata": {
      "needs_background": "light"
     },
     "output_type": "display_data"
    }
   ],
   "source": [
    "# Вывод графика по продажам для платформ за 3 года\n",
    "platform_sales.plot(grid=True, figsize=(15, 9), xlabel='Годы выпуска игр', \n",
    "    ylabel='Суммарные продажи, млн', title='Распредение суммарных продаж по платформам')\n",
    "plt.show()"
   ]
  },
  {
   "cell_type": "markdown",
   "metadata": {},
   "source": [
    "На графике за актуальный период наблюдается массовый спад суммарных продаж по всем платформам, кроме PlayStation4 (PS4).\n",
    "\n",
    "Так же виден \"закат\" для таких платформ как `X360` и `PS3`, похоже, их время закончилось.\n",
    "\n",
    "Потенциально прибыльной платформой выглядит только `PS4`."
   ]
  },
  {
   "cell_type": "markdown",
   "metadata": {},
   "source": [
    "### Глобальные продажи по платформам"
   ]
  },
  {
   "cell_type": "code",
   "execution_count": 23,
   "metadata": {},
   "outputs": [
    {
     "data": {
      "image/png": "[encoded data removed]",
      "text/plain": [
       "<Figure size 1080x504 with 1 Axes>"
      ]
     },
     "metadata": {
      "needs_background": "light"
     },
     "output_type": "display_data"
    }
   ],
   "source": [
    "# Построение диаграммы размаха глобальных продаж по платформам\n",
    "games_actual.boxplot(column='total_sales', by='platform', figsize=(15,7))\n",
    "plt.title('Продажи по платформам')\n",
    "plt.ylabel('Глобальные продажи, млн')\n",
    "plt.xlabel('Платформы')\n",
    "plt.suptitle('')\n",
    "plt.show()"
   ]
  },
  {
   "cell_type": "code",
   "execution_count": 24,
   "metadata": {},
   "outputs": [
    {
     "data": {
      "image/png": "[encoded data removed]",
      "text/plain": [
       "<Figure size 1080x504 with 1 Axes>"
      ]
     },
     "metadata": {
      "needs_background": "light"
     },
     "output_type": "display_data"
    }
   ],
   "source": [
    "# Масштабирую диаграммы размаха\n",
    "games_actual.boxplot(column='total_sales', by='platform', figsize=(15,7))\n",
    "plt.title('Продажи по платформам')\n",
    "plt.ylabel('Глобальные продажи, млн')\n",
    "plt.xlabel('Платформы')\n",
    "plt.suptitle('')\n",
    "plt.ylim(0, 1.65)\n",
    "plt.show()"
   ]
  },
  {
   "cell_type": "markdown",
   "metadata": {},
   "source": [
    "На основании диаграмм размаха можно сделать следующие выводы:\n",
    "* По медианным значениям продаж самыми прибыльными платформами являются `PS4`, `Wii`, `XOne`, `WiiU` и `X360`;\n",
    "* Продажи игр на платформе `PSP` ничтожно малы;\n",
    "* Самые большие \"ящики\" (расстояние между первым и третьим квартилями) у `Wii`, конкуренцию ему может составить  только `PS4`, однако она выигрывает в размере \"уса, обладая максимальным крайнем значением."
   ]
  },
  {
   "cell_type": "markdown",
   "metadata": {},
   "source": [
    "### Исследование влияния отзывов покупателей и критиков на продажи"
   ]
  },
  {
   "cell_type": "code",
   "execution_count": 25,
   "metadata": {},
   "outputs": [
    {
     "data": {
      "image/png": "[encoded data removed]",
      "text/plain": [
       "<Figure size 936x360 with 1 Axes>"
      ]
     },
     "metadata": {
      "needs_background": "light"
     },
     "output_type": "display_data"
    },
    {
     "name": "stdout",
     "output_type": "stream",
     "text": [
      "Коэффициент корреляции Пирсона: -0.04\n"
     ]
    }
   ],
   "source": [
    "# Построение графика распределения глобальных продаж и расчет коэффициента корреляции \n",
    "# по оценкам пользователей, для одной из самых популярных платформ PS4\n",
    "\n",
    "games_actual[games_actual['platform'] == 'PS4'].plot(x='user_score', y='total_sales', kind='scatter', figsize=(13,5), \n",
    "    grid=True, xlabel='Оценки пользователей', ylabel='Суммарные продажи,млн', \n",
    "    title='Распределение глобальных продаж')\n",
    "plt.show()\n",
    "print('Коэффициент корреляции Пирсона:', (round(games_actual[games_actual['platform'] == 'PS4']\n",
    "                                                ['total_sales'].corr(games_actual['user_score']), 2)))"
   ]
  },
  {
   "cell_type": "markdown",
   "metadata": {},
   "source": [
    "По полученным результатам можно сделать вывод, что оценки пользователей практически не влияют на продажи.\n",
    "\n",
    "В подтверждение этому служит коэффициент корреляции, значение которого близко к 0, что говорит о практическом отсутствии корреляции.\n",
    "\n",
    "На такие результаты могло повлиять больше количество пропусков в исследуемом столбце `user_score`."
   ]
  },
  {
   "cell_type": "code",
   "execution_count": 26,
   "metadata": {},
   "outputs": [
    {
     "data": {
      "image/png": "[encoded data removed]",
      "text/plain": [
       "<Figure size 936x360 with 1 Axes>"
      ]
     },
     "metadata": {
      "needs_background": "light"
     },
     "output_type": "display_data"
    },
    {
     "name": "stdout",
     "output_type": "stream",
     "text": [
      "Коэффициент корреляции Пирсона: 0.4\n"
     ]
    }
   ],
   "source": [
    "# Построение графика распределения глобальных продаж и расчет коэффициента корреляции \n",
    "# по оценкам пользователей, для одной из самых популярных платформ PS4\n",
    "\n",
    "games_actual[games_actual['platform'] == 'PS4'].plot(x='critic_score', y='total_sales', kind='scatter',\n",
    "    figsize=(13,5), grid=True, xlabel='Оценки критиков', ylabel='Суммарные продажи,млн', \n",
    "    title='Распределение глобальных продаж')\n",
    "plt.show()\n",
    "print('Коэффициент корреляции Пирсона:', (round(games_actual[games_actual['platform'] == 'PS4']\n",
    "                                                ['total_sales'].corr(games['critic_score']), 2)))"
   ]
  },
  {
   "cell_type": "markdown",
   "metadata": {},
   "source": [
    "Здесь наблюдается слабая зависимость глобальных продаж от оценки критиков.\n",
    "\n",
    "Подтверждает это наблюдение коэффициент корреляции, который равен 0.4. Это говорит о наличие средней положительной корреляции, т.е. чем выше оценка критиков, тем больше продажи."
   ]
  },
  {
   "cell_type": "code",
   "execution_count": 27,
   "metadata": {
    "scrolled": false
   },
   "outputs": [
    {
     "data": {
      "image/png": "[encoded data removed]",
      "text/plain": [
       "<Figure size 576x288 with 1 Axes>"
      ]
     },
     "metadata": {
      "needs_background": "light"
     },
     "output_type": "display_data"
    },
    {
     "name": "stdout",
     "output_type": "stream",
     "text": [
      "Коэффициент корреляции Пирсона: 0.53\n"
     ]
    },
    {
     "data": {
      "image/png": "[encoded data removed]",
      "text/plain": [
       "<Figure size 576x288 with 1 Axes>"
      ]
     },
     "metadata": {
      "needs_background": "light"
     },
     "output_type": "display_data"
    },
    {
     "name": "stdout",
     "output_type": "stream",
     "text": [
      "Коэффициент корреляции Пирсона: -0.14\n"
     ]
    },
    {
     "data": {
      "image/png": "[encoded data removed]",
      "text/plain": [
       "<Figure size 576x288 with 1 Axes>"
      ]
     },
     "metadata": {
      "needs_background": "light"
     },
     "output_type": "display_data"
    },
    {
     "name": "stdout",
     "output_type": "stream",
     "text": [
      "Коэффициент корреляции Пирсона: 0.43\n"
     ]
    },
    {
     "data": {
      "image/png": "[encoded data removed]",
      "text/plain": [
       "<Figure size 576x288 with 1 Axes>"
      ]
     },
     "metadata": {
      "needs_background": "light"
     },
     "output_type": "display_data"
    },
    {
     "name": "stdout",
     "output_type": "stream",
     "text": [
      "Коэффициент корреляции Пирсона: -0.07\n"
     ]
    },
    {
     "data": {
      "image/png": "[encoded data removed]",
      "text/plain": [
       "<Figure size 576x288 with 1 Axes>"
      ]
     },
     "metadata": {
      "needs_background": "light"
     },
     "output_type": "display_data"
    },
    {
     "name": "stdout",
     "output_type": "stream",
     "text": [
      "Коэффициент корреляции Пирсона: 0.37\n"
     ]
    },
    {
     "data": {
      "image/png": "[encoded data removed]",
      "text/plain": [
       "<Figure size 576x288 with 1 Axes>"
      ]
     },
     "metadata": {
      "needs_background": "light"
     },
     "output_type": "display_data"
    },
    {
     "name": "stdout",
     "output_type": "stream",
     "text": [
      "Коэффициент корреляции Пирсона: 0.41\n"
     ]
    },
    {
     "data": {
      "image/png": "[encoded data removed]",
      "text/plain": [
       "<Figure size 576x288 with 1 Axes>"
      ]
     },
     "metadata": {
      "needs_background": "light"
     },
     "output_type": "display_data"
    },
    {
     "name": "stdout",
     "output_type": "stream",
     "text": [
      "Коэффициент корреляции Пирсона: 0.31\n"
     ]
    },
    {
     "data": {
      "image/png": "[encoded data removed]",
      "text/plain": [
       "<Figure size 576x288 with 1 Axes>"
      ]
     },
     "metadata": {
      "needs_background": "light"
     },
     "output_type": "display_data"
    },
    {
     "name": "stdout",
     "output_type": "stream",
     "text": [
      "Коэффициент корреляции Пирсона: 0.22\n"
     ]
    },
    {
     "data": {
      "image/png": "[encoded data removed]",
      "text/plain": [
       "<Figure size 576x288 with 1 Axes>"
      ]
     },
     "metadata": {
      "needs_background": "light"
     },
     "output_type": "display_data"
    },
    {
     "name": "stdout",
     "output_type": "stream",
     "text": [
      "Коэффициент корреляции Пирсона: 0.17\n"
     ]
    },
    {
     "data": {
      "image/png": "[encoded data removed]",
      "text/plain": [
       "<Figure size 576x288 with 1 Axes>"
      ]
     },
     "metadata": {
      "needs_background": "light"
     },
     "output_type": "display_data"
    },
    {
     "name": "stdout",
     "output_type": "stream",
     "text": [
      "Коэффициент корреляции Пирсона: -0.07\n"
     ]
    }
   ],
   "source": [
    "# Создание списка прибыльных платформ\n",
    "profitable_platforms = ['X360', 'XOne', 'WiiU', '3DS', 'PC']\n",
    "# Цикл построения диаграмм и расчета коэффициента корреляции\n",
    "for name_platforms in profitable_platforms:\n",
    "    games_actual[games_actual['platform'] == name_platforms].plot(x='critic_score', y='total_sales', kind='scatter',\n",
    "    figsize=(8,4), grid=True, xlabel='Оценки критиков', ylabel='Суммарные продажи,млн', \n",
    "    title='Распределение глобальных продаж платформы '+name_platforms)\n",
    "    plt.show()\n",
    "    print('Коэффициент корреляции Пирсона:', (round(games_actual[games_actual['platform'] == name_platforms]\n",
    "                                                ['total_sales'].corr(games['critic_score']), 2)))\n",
    "    games_actual[games_actual['platform'] == name_platforms].plot(x='user_score', y='total_sales', kind='scatter', \n",
    "    figsize=(8,4), grid=True, xlabel='Оценки пользователей', ylabel='Суммарные продажи,млн', \n",
    "    title='Распределение глобальных продаж платформы '+name_platforms)\n",
    "    plt.show()\n",
    "    print('Коэффициент корреляции Пирсона:', (round(games_actual[games_actual['platform'] == name_platforms]\n",
    "                                                ['total_sales'].corr(games_actual['user_score']), 2)))"
   ]
  },
  {
   "cell_type": "markdown",
   "metadata": {},
   "source": [
    "Практически по всем платформам аналогичная закономерность - положительная корреляция продаж с оценками критиков и отсутствие, либо очень слабая обратная корреляция с пользовательскими оценками.\n",
    "\n",
    "Сильно выбиваются только игры на персональные компьютеры `PC`, у них самая слабая связь между оценками критиков и продажами. С другой стороны они единственные представители не консольной платформы."
   ]
  },
  {
   "cell_type": "markdown",
   "metadata": {},
   "source": [
    "### Распределение игр по жанрам"
   ]
  },
  {
   "cell_type": "code",
   "execution_count": 28,
   "metadata": {},
   "outputs": [
    {
     "data": {
      "image/png": "[encoded data removed]",
      "text/plain": [
       "<Figure size 936x504 with 1 Axes>"
      ]
     },
     "metadata": {
      "needs_background": "light"
     },
     "output_type": "display_data"
    }
   ],
   "source": [
    "# Построение диаграмм размаха глобальных продаж по жанрам c помощью группировки\n",
    "\n",
    "games_actual.boxplot(column='total_sales', by='genre', figsize=(13,7))\n",
    "plt.title('Продажи по жанрам')\n",
    "plt.ylabel('Глобальные продажи, млн')\n",
    "plt.xlabel('Жанры')\n",
    "plt.suptitle('')\n",
    "plt.ylim(0, 3.7)\n",
    "plt.show()"
   ]
  },
  {
   "cell_type": "markdown",
   "metadata": {},
   "source": [
    "На основании диаграмм размаха глобальных продаж, можно сделать следующие выводы:\n",
    "* Самым прибыльным жанром с большим преимуществом является `Shooter`;\n",
    "* На втором месте по медианне продаж оказались спортивные игры `Sports`;\n",
    "* Хуже остальных жанров в плане прибыли - `Strategy`, `Adventure` и `Puzzle`."
   ]
  },
  {
   "cell_type": "markdown",
   "metadata": {},
   "source": [
    "## Составление портрета пользователя каждого региона"
   ]
  },
  {
   "cell_type": "markdown",
   "metadata": {},
   "source": [
    "### Самые популярные платформы"
   ]
  },
  {
   "cell_type": "code",
   "execution_count": 29,
   "metadata": {},
   "outputs": [
    {
     "name": "stdout",
     "output_type": "stream",
     "text": [
      "Топ-5 по продажам в NA-регионе в %: platform\n",
      "X360    59.0\n",
      "XOne    58.0\n",
      "WiiU    45.0\n",
      "Wii     41.0\n",
      "PS4     34.0\n",
      "Name: ratio, dtype: float64\n"
     ]
    }
   ],
   "source": [
    "# Создание сводной таблицы и расчёт доли продаж для NA-региона\n",
    "platform_sales_na = games_actual.pivot_table(index='platform',values=['na_sales','total_sales'], aggfunc='sum')\n",
    "platform_sales_na['ratio'] = round(platform_sales_na['na_sales'] / platform_sales_na['total_sales'], 2) * 100\n",
    "print ('Топ-5 по продажам в NA-регионе в %:', platform_sales_na['ratio'].sort_values(ascending=False).head())"
   ]
  },
  {
   "cell_type": "markdown",
   "metadata": {},
   "source": [
    "Как видно из топа - на Северо-Американском рынке доминируют местные платформы, разработанные и выпускавшиеся в США. То есть Иксбоксы - `X360` и `XOne`"
   ]
  },
  {
   "cell_type": "code",
   "execution_count": 30,
   "metadata": {},
   "outputs": [
    {
     "name": "stdout",
     "output_type": "stream",
     "text": [
      "Топ-5 по продажам в EU-регионе в %: platform\n",
      "PC      66.0\n",
      "Wii     51.0\n",
      "PS4     45.0\n",
      "PS3     37.0\n",
      "XOne    33.0\n",
      "Name: ratio, dtype: float64\n"
     ]
    }
   ],
   "source": [
    "# Создание сводной таблицы и расчёт и расчёт доли продаж для EU-региона\n",
    "platform_sales_eu = games_actual.pivot_table(index='platform',values=['eu_sales','total_sales'], aggfunc='sum')\n",
    "platform_sales_eu['ratio'] = round(platform_sales_eu['eu_sales'] / platform_sales_eu['total_sales'], 2) * 100\n",
    "print ('Топ-5 по продажам в EU-регионе в %:', platform_sales_eu['ratio'].sort_values(ascending=False).head())"
   ]
  },
  {
   "cell_type": "markdown",
   "metadata": {},
   "source": [
    "Среди европейцев популярнее остальных персональные компьютеры (`PC`). Возможно, это связано с тем, что в Европе не было \"своих\" популярных платформ."
   ]
  },
  {
   "cell_type": "code",
   "execution_count": 31,
   "metadata": {},
   "outputs": [
    {
     "name": "stdout",
     "output_type": "stream",
     "text": [
      "Топ-5 по продажам в JP-регионе в %: platform\n",
      "PSP     100.0\n",
      "PSV      65.0\n",
      "3DS      51.0\n",
      "WiiU     17.0\n",
      "PS3      16.0\n",
      "Name: ratio, dtype: float64\n"
     ]
    }
   ],
   "source": [
    "# Создание сводной таблицы и расчёт доли продаж для JP-региона\n",
    "platform_sales_jp = games_actual.pivot_table(index='platform',values=['jp_sales','total_sales'], aggfunc='sum')\n",
    "platform_sales_jp['ratio'] = round(platform_sales_jp['jp_sales'] / platform_sales_jp['total_sales'], 2) * 100\n",
    "print ('Топ-5 по продажам в JP-регионе в %:', platform_sales_jp['ratio'].sort_values(ascending=False).head())"
   ]
  },
  {
   "cell_type": "markdown",
   "metadata": {},
   "source": [
    "Из топ-5 по японскому региону видна их страсть к портативным платформам, таким как PlayStation Portable (`PSP`) и PlayStation Vita (`PSV`)."
   ]
  },
  {
   "cell_type": "markdown",
   "metadata": {},
   "source": [
    "### Самые популярные жанры"
   ]
  },
  {
   "cell_type": "code",
   "execution_count": 32,
   "metadata": {},
   "outputs": [
    {
     "data": {
      "image/png": "[encoded data removed]",
      "text/plain": [
       "<Figure size 1080x504 with 1 Axes>"
      ]
     },
     "metadata": {
      "needs_background": "light"
     },
     "output_type": "display_data"
    }
   ],
   "source": [
    "# Построение столбчатой диаграммы по убыванию значения суммарных продаж\n",
    "games_actual.groupby('genre')['na_sales'].sum().sort_values(ascending=False).plot.bar(figsize=(15,7),\n",
    "    grid=True, xlabel='Жанр игр', ylabel='Суммарные продажи,млн', title='Распределение продаж в NA-регионе')\n",
    "plt.show()"
   ]
  },
  {
   "cell_type": "markdown",
   "metadata": {},
   "source": [
    "Из этой диаграммы видно, что самыми популярными жанрами у американцев являются: `Action`, `Shooter`, `Sports`, `Role-Playing` и `Misc`. Такая любовь обусловлена, скорее всего, влиянием Голливуда и его творений - боевиков."
   ]
  },
  {
   "cell_type": "code",
   "execution_count": 33,
   "metadata": {},
   "outputs": [
    {
     "data": {
      "image/png": "[encoded data removed]",
      "text/plain": [
       "<Figure size 1080x504 with 1 Axes>"
      ]
     },
     "metadata": {
      "needs_background": "light"
     },
     "output_type": "display_data"
    }
   ],
   "source": [
    "# Построение столбчатой диаграммы по убыванию значения суммарных продаж\n",
    "games_actual.groupby('genre')['eu_sales'].sum().sort_values(ascending=False).plot.bar(figsize=(15,7),\n",
    "    grid=True, xlabel='Жанр игр', ylabel='Суммарные продажи,млн', title='Распределение продаж в EU-регионе')\n",
    "plt.show()"
   ]
  },
  {
   "cell_type": "markdown",
   "metadata": {},
   "source": [
    "Топ-5 европейских игроков полностью совпадает с их товарищами с другого континента - Северной Америки."
   ]
  },
  {
   "cell_type": "code",
   "execution_count": 34,
   "metadata": {},
   "outputs": [
    {
     "data": {
      "image/png": "[encoded data removed]",
      "text/plain": [
       "<Figure size 1080x504 with 1 Axes>"
      ]
     },
     "metadata": {
      "needs_background": "light"
     },
     "output_type": "display_data"
    }
   ],
   "source": [
    "# Построение столбчатой диаграммы по убыванию значения суммарных продаж\n",
    "games_actual.groupby('genre')['jp_sales'].sum().sort_values(ascending=False).plot.bar(figsize=(15,7),\n",
    "    grid=True, xlabel='Жанр игр', ylabel='Суммарные продажи,млн', title='Распределение продаж в JP-регионе')\n",
    "plt.show()"
   ]
  },
  {
   "cell_type": "markdown",
   "metadata": {},
   "source": [
    "Судя по диаграмме, у японцев повальная мода на РПГ(`Role-Playing`) и Экшены(`Action`), которая обусловлена вероятнее всего тем, что Япония была долгое время закрытой страной со своей особой культурой и менталитетом, что вылилось в отдельный поджанр - японских ролевых игр(JRPG)."
   ]
  },
  {
   "cell_type": "markdown",
   "metadata": {},
   "source": [
    "### Влияние рейтинга ESRB на продажи в отдельных регионах"
   ]
  },
  {
   "cell_type": "code",
   "execution_count": 35,
   "metadata": {},
   "outputs": [
    {
     "data": {
      "image/png": "[encoded data removed]",
      "text/plain": [
       "<Figure size 720x432 with 1 Axes>"
      ]
     },
     "metadata": {
      "needs_background": "light"
     },
     "output_type": "display_data"
    }
   ],
   "source": [
    "# Построение столбчатой диаграммы по убыванию значения суммарных продаж\n",
    "games_actual.groupby('rating')['na_sales'].sum().sort_values(ascending=False).plot.bar(figsize=(10,6),\n",
    "    grid=True, xlabel='Возрастная категория игр', ylabel='Суммарные продажи,млн',\n",
    "    title='Распределение продаж в NA-регионе')\n",
    "plt.show()"
   ]
  },
  {
   "cell_type": "markdown",
   "metadata": {},
   "source": [
    "Для NA-региона возрастной рейтинг оказывает большое влияние на продажи.\n",
    "\n",
    "Так, доля продаж игр категории `M`(Mature) является доминирующей.\n",
    "\n",
    "Игры категории `E10+`(Everyone 10 and older) оказываются обреченными на неудачу и занимают последнее место по сумме продаж."
   ]
  },
  {
   "cell_type": "code",
   "execution_count": 36,
   "metadata": {},
   "outputs": [
    {
     "data": {
      "image/png": "[encoded data removed]",
      "text/plain": [
       "<Figure size 720x432 with 1 Axes>"
      ]
     },
     "metadata": {
      "needs_background": "light"
     },
     "output_type": "display_data"
    }
   ],
   "source": [
    "# Построение столбчатой диаграммы по убыванию значения суммарных продаж\n",
    "games_actual.groupby('rating')['eu_sales'].sum().sort_values(ascending=False).plot.bar(figsize=(10,6),\n",
    "    grid=True, xlabel='Возрастная категория игр', ylabel='Суммарные продажи,млн',\n",
    "    title='Распределение продаж в EU-регионе')\n",
    "plt.show()"
   ]
  },
  {
   "cell_type": "markdown",
   "metadata": {},
   "source": [
    "Как и с распределением по жанрам, европейские предпочтения в категориях игр практически совпадают с американскими, разница лишь в объёмах продаж."
   ]
  },
  {
   "cell_type": "code",
   "execution_count": 37,
   "metadata": {},
   "outputs": [
    {
     "data": {
      "image/png": "[encoded data removed]",
      "text/plain": [
       "<Figure size 720x432 with 1 Axes>"
      ]
     },
     "metadata": {
      "needs_background": "light"
     },
     "output_type": "display_data"
    }
   ],
   "source": [
    "# Построение столбчатой диаграммы по убыванию значения суммарных продаж\n",
    "games_actual.groupby('rating')['jp_sales'].sum().sort_values(ascending=False).plot.bar(figsize=(10,6),\n",
    "    grid=True, xlabel='Возрастная категория игр', ylabel='Суммарные продажи,млн',\n",
    "    title='Распределение продаж в JP-регионе')\n",
    "plt.show()"
   ]
  },
  {
   "cell_type": "markdown",
   "metadata": {},
   "source": [
    "И здесь японцы оказались обособленны.\n",
    "\n",
    "Так как рейтинг ESRB предназначен для маркировки игр для США и Канады, то большинство игр яонского региона оказались без возрастного рейтинга со специальным значением-заглушкой `WR`(Without Rating)."
   ]
  },
  {
   "cell_type": "code",
   "execution_count": 38,
   "metadata": {},
   "outputs": [
    {
     "name": "stdout",
     "output_type": "stream",
     "text": [
      "0 0.0\n"
     ]
    },
    {
     "data": {
      "text/plain": [
       "WR      749\n",
       "T       271\n",
       "M       265\n",
       "E       219\n",
       "E10+    185\n",
       "Name: rating, dtype: int64"
      ]
     },
     "execution_count": 38,
     "metadata": {},
     "output_type": "execute_result"
    }
   ],
   "source": [
    "# Комментарий ревьюера\n",
    "temp = games_actual.copy()\n",
    "print(temp.rating.isna().sum(), temp.rating.isna().sum()/len(temp))\n",
    "temp.rating.value_counts(dropna=False)"
   ]
  },
  {
   "cell_type": "markdown",
   "metadata": {},
   "source": [
    "## Проверка гипотез"
   ]
  },
  {
   "cell_type": "markdown",
   "metadata": {},
   "source": [
    "### Средние пользовательские рейтинги платформ Xbox One и PC одинаковые."
   ]
  },
  {
   "cell_type": "markdown",
   "metadata": {},
   "source": [
    "**Формулирование гипотез:**\n",
    "\n",
    "H0: Средние значения пользовательских рейтингов платформ Xbox One и PC равны.\n",
    "\n",
    "H1: Средние значения пользовательских рейтингов платформ Xbox One и PC не равны."
   ]
  },
  {
   "cell_type": "code",
   "execution_count": 39,
   "metadata": {},
   "outputs": [
    {
     "name": "stdout",
     "output_type": "stream",
     "text": [
      "Среднее выборки пользовательских рейтингов платформы Xbox One: 6.298360655737705\n",
      "Среднее выборки пользовательских рейтингов платформы PC: 6.594545454545456\n",
      "p-значение: 0.10450507919348415\n",
      "Не удалось отвергнуть нулевую гипотезу\n"
     ]
    }
   ],
   "source": [
    "# Удаляю NaN-значения из столбца 'user_score' для проведения дальнейшего теста\n",
    "games_actual = games_actual.dropna(subset=['user_score'])\n",
    "\n",
    "print('Среднее выборки пользовательских рейтингов платформы Xbox One:',\n",
    "      games_actual[games_actual['platform'] == 'PC']['user_score'].mean())\n",
    "print('Среднее выборки пользовательских рейтингов платформы PC:', \n",
    "      games_actual[games_actual['platform'] =='XOne']['user_score'].mean())\n",
    "\n",
    "# Выбираю двухвыборочный t-тест для независимых выборок\n",
    "results = st.ttest_ind(games_actual[games_actual['platform'] == 'PC']['user_score'],\n",
    "                       games_actual[games_actual['platform'] =='XOne']['user_score'])\n",
    "\n",
    "# Выбираю пороговое значение статистической значимости 5%\n",
    "alpha = 0.05\n",
    "\n",
    "print('p-значение:', results.pvalue)\n",
    "\n",
    "if results.pvalue < alpha:\n",
    "    print('Отвергаем нулевую гипотезу')\n",
    "else:\n",
    "    print('Не удалось отвергнуть нулевую гипотезу')"
   ]
  },
  {
   "cell_type": "markdown",
   "metadata": {},
   "source": [
    "После проверки гипотезы, отвергнуть её нельзя, поэтому не получится точно сказать, что средние значения пользовательских рейтингов платформ Xbox One и PC равны."
   ]
  },
  {
   "cell_type": "markdown",
   "metadata": {},
   "source": [
    "### Средние пользовательские рейтинги жанров Action и Sports разные."
   ]
  },
  {
   "cell_type": "markdown",
   "metadata": {},
   "source": [
    "**Формулировка гипотез:**\n",
    "\n",
    "H0: Средние значения пользовательских рейтингов жанров Action и Sports равны.\n",
    "\n",
    "H1: Средние значения пользовательских рейтингов платформ Action и Sports различаются."
   ]
  },
  {
   "cell_type": "code",
   "execution_count": 40,
   "metadata": {},
   "outputs": [
    {
     "name": "stdout",
     "output_type": "stream",
     "text": [
      "Среднее выборки пользовательских рейтингов жанрa Action 6.760606060606061\n",
      "Среднее выборки пользовательских рейтингов жанрa Sports: 5.2251968503937\n",
      "p-значение: 2.8711147985105864e-19\n",
      "Отвергаем нулевую гипотезу\n"
     ]
    }
   ],
   "source": [
    "print('Среднее выборки пользовательских рейтингов жанрa Action', \n",
    "      games_actual[games_actual['genre'] == 'Action']['user_score'].mean())\n",
    "print('Среднее выборки пользовательских рейтингов жанрa Sports:', \n",
    "      games_actual[games_actual['genre'] =='Sports']['user_score'].mean())\n",
    "\n",
    "# Выбираю двухвыборочный t-тест для независимых выборок\n",
    "results = st.ttest_ind(games_actual[games_actual['genre'] == 'Action']['user_score'], \n",
    "                       games_actual[games_actual['genre'] =='Sports']['user_score'])\n",
    "\n",
    "# Выбираю пороговое значение статистической значимости 5%\n",
    "alpha = 0.05\n",
    "\n",
    "print('p-значение:', results.pvalue)\n",
    "\n",
    "if results.pvalue < alpha:\n",
    "    print('Отвергаем нулевую гипотезу')\n",
    "else:\n",
    "    print('Не удалось отвергнуть нулевую гипотезу')"
   ]
  },
  {
   "cell_type": "markdown",
   "metadata": {},
   "source": [
    "В результате теста нулевая гипотеза была отвергнута."
   ]
  },
  {
   "cell_type": "markdown",
   "metadata": {},
   "source": [
    "Нулевую гипотезу (Н0) формулируют так, что если исследуется, равна ли некоторая величина другой, то нулевая гипотеза будет предполагать, что равна. А альтернативная гипотеза (Н1) зависит от того, какое изменение нас интересует - в большую, меньшую или обе стороны.\n",
    "\n",
    "Так как даны две независимые выборки и проверяются гипотезы о равенстве средних двух генеральных совокупностей, то используется t-тест `scipy.stats.ttest_ind`.\n",
    "\n",
    "В данных случаях для нас было не важно, в какую сторону имеется изменение, поэтому в обоих t-тестах значение аргумента `alternative` было равно значению по умолчанию (`two-sided`) и проверялась двусторонняя гипотеза."
   ]
  },
  {
   "cell_type": "markdown",
   "metadata": {},
   "source": [
    "<h4> Предобработка данных:  <a class=\"tocSkip\"></h4>\n",
    "    \n",
    "* В ходе предобработки данных было обнаружено большое количество пропусков в предоставленных данных. В столбцах где количество пропусков минимально `name`, `year_of_release`, `genre` - были удалены строки. Другие пропуски были оставлены, так как ни восстановить, ни заполнить их без влияния на распределение не представляется возможным;\n",
    "* Датасет был проверен на явные и неявные дубликаты;\n",
    "* В столбце с возрастным рейтингом `rating` пропуски были заполнены заглушкой `WR` (Без рейтинга);\n",
    "* В столбце `user_score` обнаружились значения `tbd`, которые были заменены на NaN-значения, так как для расчетов они имеют одинаковый смысл;\n",
    "* Тип данных в столбце `user_score` датафрейма был привидён к формату `float`, для дальнейших арифметических действий;\n",
    "* Был создан столбец `total_sales`, который содержит сумму продаж игр по всем рассматриваемым регионам.\n",
    "\n",
    "<h4> Результаты проекта:  <a class=\"tocSkip\"></h4>\n",
    "    \n",
    "1. Средний \"цикл жизни\" платформы составляет 7 лет, после чего продажи игр для неё резко падают;\n",
    "2. Рассматривая актуальный период с 2014 по 2016 года, прибыльной платформой выглядит только PlayStation 4 (`PS4`), остальные находятся в упадке. Она же является одной самых популярных платформ для игр;\n",
    "3. Оценки пользователей не влияют на глобальные продажи игр, однако оценки критиков имеют значение. Как показали графики и коэффициенты корреляции - чем выше оценка критика, тем больше прибыли приносит игра;\n",
    "4. Самым популярным жанром в трёх регионах является `Action`. Меньше всех повезло жанру `Puzzle` - игры этого жанра последние по прибыли;\n",
    "5. Как показало исследование портретов пользователей разных регионов - JP-регион держится особняком, свои платформы, свои поджанры и т.д. По жанровым предпочтениям и влиянию возрастного рейтинга европейцы не отличаются от американцев - они любят `Action` и `Shooter`, а из возрастных категорий предпочитают `M` (Для взрослых). И по платформам американцы похожи на япоцнев - на первых местах по прибыли собственные разработки;\n",
    "6. Отвергнуть гипотезу о том, что средние пользовательские рейтинги платформ Xbox One и PC одинаковые, не удалось.\n",
    "7. Гипотеза о том, что средние пользовательские рейтинги жанров `Action` и `Sports` равны, была отвергнута.\n",
    "    \n",
    "<h4> Рекомендации  <a class=\"tocSkip\"></h4>\n",
    "    \n",
    "* Платформы игр нужно менять примерно каждые 7 лет. Так как спустя это время неизбежно возникают падение спроса и прибыли. И фокусироваться на новых, актуальных, будущих поколениях платформ;\n",
    "* Чтобы получать хорошую прибыль, в первую очередь необходимо рассматривать платформы семейства PlayStation (`PS4`), так как они стабильно находятся в топе;\n",
    "* Продавать игры с низкими оценками критиков - плохая идея. Их оценки достаточно влияют на продажи;\n",
    "* Если выбирать по жанрам, то однозначно нужно отдать предпочтение `Shooter` и `Sports`. Игры таких жанров являются лидерами по продажам в развлекательной индустрии;\n",
    "* Для японского рынка не имеет особого смысла предлагать игры других регионов, они предпочитают \"народные\" платформы и игры;\n",
    "* Американский рынок тоже поощряет отечественных производителей платформ, в то время как европейцы предпочитают персональные компьютеры `PC`;\n",
    "* Для EU и NA регионов приоритетнее будут игры с возрастной категорией `M`(Для взрослых), а у JP-региона - свои игры без возрастного рейтинга ESRB."
   ]
  }
 ],
 "metadata": {
  "ExecuteTimeLog": [
   {
    "duration": 1565,
    "start_time": "2024-04-17T08:56:59.467Z"
   },
   {
    "duration": 110,
    "start_time": "2024-04-17T08:57:46.531Z"
   },
   {
    "duration": 20,
    "start_time": "2024-04-17T08:59:12.782Z"
   },
   {
    "duration": 17,
    "start_time": "2024-04-17T09:07:32.187Z"
   },
   {
    "duration": 5,
    "start_time": "2024-04-17T11:45:15.461Z"
   },
   {
    "duration": 104,
    "start_time": "2024-04-17T11:45:35.228Z"
   },
   {
    "duration": 4,
    "start_time": "2024-04-17T11:45:45.163Z"
   },
   {
    "duration": 5,
    "start_time": "2024-04-17T11:45:52.698Z"
   },
   {
    "duration": 5,
    "start_time": "2024-04-17T11:46:32.097Z"
   },
   {
    "duration": 6,
    "start_time": "2024-04-17T11:49:44.681Z"
   },
   {
    "duration": 7,
    "start_time": "2024-04-17T11:50:00.190Z"
   },
   {
    "duration": 13,
    "start_time": "2024-04-17T11:56:35.310Z"
   },
   {
    "duration": 16,
    "start_time": "2024-04-17T11:57:16.250Z"
   },
   {
    "duration": 6,
    "start_time": "2024-04-17T11:57:58.292Z"
   },
   {
    "duration": 14,
    "start_time": "2024-04-17T11:59:12.833Z"
   },
   {
    "duration": 6,
    "start_time": "2024-04-17T11:59:22.713Z"
   },
   {
    "duration": 5,
    "start_time": "2024-04-17T12:03:35.600Z"
   },
   {
    "duration": 11,
    "start_time": "2024-04-17T12:04:03.072Z"
   },
   {
    "duration": 13,
    "start_time": "2024-04-17T12:08:54.060Z"
   },
   {
    "duration": 4,
    "start_time": "2024-04-17T12:09:33.542Z"
   },
   {
    "duration": 673,
    "start_time": "2024-04-17T12:09:42.313Z"
   },
   {
    "duration": 719,
    "start_time": "2024-04-17T12:10:00.551Z"
   },
   {
    "duration": 6,
    "start_time": "2024-04-17T12:10:06.228Z"
   },
   {
    "duration": 1305,
    "start_time": "2024-04-17T12:10:49.994Z"
   },
   {
    "duration": 59,
    "start_time": "2024-04-17T12:10:51.301Z"
   },
   {
    "duration": 19,
    "start_time": "2024-04-17T12:10:51.362Z"
   },
   {
    "duration": 17,
    "start_time": "2024-04-17T12:10:51.382Z"
   },
   {
    "duration": 8,
    "start_time": "2024-04-17T12:10:51.401Z"
   },
   {
    "duration": 21,
    "start_time": "2024-04-17T12:10:51.410Z"
   },
   {
    "duration": 13,
    "start_time": "2024-04-17T12:10:51.433Z"
   },
   {
    "duration": 50,
    "start_time": "2024-04-17T12:10:51.448Z"
   },
   {
    "duration": 1221,
    "start_time": "2024-04-17T12:10:58.955Z"
   },
   {
    "duration": 61,
    "start_time": "2024-04-17T12:11:00.178Z"
   },
   {
    "duration": 120,
    "start_time": "2024-04-17T12:11:00.241Z"
   },
   {
    "duration": 95,
    "start_time": "2024-04-17T12:11:00.363Z"
   },
   {
    "duration": 101,
    "start_time": "2024-04-17T12:11:00.461Z"
   },
   {
    "duration": 82,
    "start_time": "2024-04-17T12:11:00.564Z"
   },
   {
    "duration": 176,
    "start_time": "2024-04-17T12:11:00.648Z"
   },
   {
    "duration": 11,
    "start_time": "2024-04-17T12:12:10.407Z"
   },
   {
    "duration": 25,
    "start_time": "2024-04-17T12:12:17.224Z"
   },
   {
    "duration": 24,
    "start_time": "2024-04-17T12:14:07.572Z"
   },
   {
    "duration": 20,
    "start_time": "2024-04-17T12:14:21.052Z"
   },
   {
    "duration": 6,
    "start_time": "2024-04-17T12:20:16.806Z"
   },
   {
    "duration": 101,
    "start_time": "2024-04-17T12:24:20.012Z"
   },
   {
    "duration": 5,
    "start_time": "2024-04-17T12:24:27.152Z"
   },
   {
    "duration": 7,
    "start_time": "2024-04-17T12:24:33.711Z"
   },
   {
    "duration": 9,
    "start_time": "2024-04-17T12:24:44.944Z"
   },
   {
    "duration": 8,
    "start_time": "2024-04-17T12:25:26.615Z"
   },
   {
    "duration": 1225,
    "start_time": "2024-04-17T12:25:37.151Z"
   },
   {
    "duration": 58,
    "start_time": "2024-04-17T12:25:38.377Z"
   },
   {
    "duration": 20,
    "start_time": "2024-04-17T12:25:38.437Z"
   },
   {
    "duration": 34,
    "start_time": "2024-04-17T12:25:38.458Z"
   },
   {
    "duration": 31,
    "start_time": "2024-04-17T12:25:38.494Z"
   },
   {
    "duration": 7,
    "start_time": "2024-04-17T12:25:38.527Z"
   },
   {
    "duration": 20,
    "start_time": "2024-04-17T12:25:38.535Z"
   },
   {
    "duration": 48,
    "start_time": "2024-04-17T12:25:38.556Z"
   },
   {
    "duration": 24,
    "start_time": "2024-04-17T12:25:38.605Z"
   },
   {
    "duration": 12,
    "start_time": "2024-04-17T12:25:38.630Z"
   },
   {
    "duration": 7,
    "start_time": "2024-04-17T12:32:11.059Z"
   },
   {
    "duration": 5,
    "start_time": "2024-04-17T12:37:57.075Z"
   },
   {
    "duration": 8,
    "start_time": "2024-04-17T12:38:05.870Z"
   },
   {
    "duration": 16,
    "start_time": "2024-04-17T12:38:30.063Z"
   },
   {
    "duration": 19,
    "start_time": "2024-04-17T12:38:38.309Z"
   },
   {
    "duration": 18,
    "start_time": "2024-04-17T12:38:47.154Z"
   },
   {
    "duration": 19,
    "start_time": "2024-04-17T12:40:01.457Z"
   },
   {
    "duration": 18,
    "start_time": "2024-04-17T12:41:25.827Z"
   },
   {
    "duration": 187,
    "start_time": "2024-04-17T12:44:56.745Z"
   },
   {
    "duration": 181,
    "start_time": "2024-04-17T12:45:08.910Z"
   },
   {
    "duration": 196,
    "start_time": "2024-04-17T12:45:31.442Z"
   },
   {
    "duration": 211,
    "start_time": "2024-04-17T12:45:44.437Z"
   },
   {
    "duration": 207,
    "start_time": "2024-04-17T12:45:49.787Z"
   },
   {
    "duration": 212,
    "start_time": "2024-04-17T12:45:54.082Z"
   },
   {
    "duration": 208,
    "start_time": "2024-04-17T12:47:22.815Z"
   },
   {
    "duration": 195,
    "start_time": "2024-04-17T12:48:59.080Z"
   },
   {
    "duration": 194,
    "start_time": "2024-04-17T12:49:28.539Z"
   },
   {
    "duration": 294,
    "start_time": "2024-04-17T12:49:36.033Z"
   },
   {
    "duration": 103,
    "start_time": "2024-04-17T13:38:58.252Z"
   },
   {
    "duration": 281,
    "start_time": "2024-04-17T13:39:05.320Z"
   },
   {
    "duration": 20,
    "start_time": "2024-04-17T13:39:42.258Z"
   },
   {
    "duration": 265,
    "start_time": "2024-04-17T13:39:54.087Z"
   },
   {
    "duration": 9,
    "start_time": "2024-04-17T13:41:01.275Z"
   },
   {
    "duration": 18,
    "start_time": "2024-04-17T13:41:16.800Z"
   },
   {
    "duration": 11,
    "start_time": "2024-04-17T13:42:26.617Z"
   },
   {
    "duration": 8,
    "start_time": "2024-04-17T13:42:33.159Z"
   },
   {
    "duration": 11,
    "start_time": "2024-04-17T13:43:13.399Z"
   },
   {
    "duration": 9,
    "start_time": "2024-04-17T13:43:24.970Z"
   },
   {
    "duration": 9,
    "start_time": "2024-04-17T13:43:39.678Z"
   },
   {
    "duration": 10,
    "start_time": "2024-04-17T13:49:33.386Z"
   },
   {
    "duration": 11,
    "start_time": "2024-04-17T13:55:34.459Z"
   },
   {
    "duration": 128,
    "start_time": "2024-04-17T14:01:22.021Z"
   },
   {
    "duration": 399,
    "start_time": "2024-04-17T14:01:44.464Z"
   },
   {
    "duration": 81,
    "start_time": "2024-04-17T14:06:05.873Z"
   },
   {
    "duration": 1287,
    "start_time": "2024-04-17T14:06:47.625Z"
   },
   {
    "duration": 66,
    "start_time": "2024-04-17T14:06:48.914Z"
   },
   {
    "duration": 26,
    "start_time": "2024-04-17T14:06:48.982Z"
   },
   {
    "duration": 20,
    "start_time": "2024-04-17T14:06:49.009Z"
   },
   {
    "duration": 48,
    "start_time": "2024-04-17T14:06:49.034Z"
   },
   {
    "duration": 24,
    "start_time": "2024-04-17T14:06:49.084Z"
   },
   {
    "duration": 58,
    "start_time": "2024-04-17T14:06:49.110Z"
   },
   {
    "duration": 43,
    "start_time": "2024-04-17T14:06:49.170Z"
   },
   {
    "duration": 29,
    "start_time": "2024-04-17T14:06:49.215Z"
   },
   {
    "duration": 91,
    "start_time": "2024-04-17T14:06:49.251Z"
   },
   {
    "duration": 91,
    "start_time": "2024-04-17T14:06:49.346Z"
   },
   {
    "duration": 35,
    "start_time": "2024-04-17T14:06:49.440Z"
   },
   {
    "duration": 298,
    "start_time": "2024-04-17T14:06:49.477Z"
   },
   {
    "duration": 10,
    "start_time": "2024-04-17T14:06:49.778Z"
   },
   {
    "duration": 96,
    "start_time": "2024-04-17T14:06:49.790Z"
   },
   {
    "duration": 69,
    "start_time": "2024-04-17T14:08:00.943Z"
   },
   {
    "duration": 87,
    "start_time": "2024-04-17T14:08:40.235Z"
   },
   {
    "duration": 15,
    "start_time": "2024-04-17T14:09:51.517Z"
   },
   {
    "duration": 736,
    "start_time": "2024-04-17T14:10:06.611Z"
   },
   {
    "duration": 1245,
    "start_time": "2024-04-17T14:11:01.552Z"
   },
   {
    "duration": 18,
    "start_time": "2024-04-17T14:12:05.571Z"
   },
   {
    "duration": 57,
    "start_time": "2024-04-17T14:12:12.855Z"
   },
   {
    "duration": 14,
    "start_time": "2024-04-17T14:12:22.387Z"
   },
   {
    "duration": 18,
    "start_time": "2024-04-17T14:14:12.360Z"
   },
   {
    "duration": 27,
    "start_time": "2024-04-17T14:14:32.777Z"
   },
   {
    "duration": 29,
    "start_time": "2024-04-17T14:17:05.198Z"
   },
   {
    "duration": 170,
    "start_time": "2024-04-17T14:17:17.803Z"
   },
   {
    "duration": 8,
    "start_time": "2024-04-17T14:17:45.265Z"
   },
   {
    "duration": 854,
    "start_time": "2024-04-17T14:21:02.544Z"
   },
   {
    "duration": 24,
    "start_time": "2024-04-17T14:21:10.348Z"
   },
   {
    "duration": 15,
    "start_time": "2024-04-17T14:21:32.758Z"
   },
   {
    "duration": 20,
    "start_time": "2024-04-17T14:21:43.159Z"
   },
   {
    "duration": 919,
    "start_time": "2024-04-17T14:21:59.934Z"
   },
   {
    "duration": 10,
    "start_time": "2024-04-17T14:23:11.495Z"
   },
   {
    "duration": 61,
    "start_time": "2024-04-17T14:23:27.351Z"
   },
   {
    "duration": 29,
    "start_time": "2024-04-17T14:23:29.429Z"
   },
   {
    "duration": 90,
    "start_time": "2024-04-17T14:26:14.040Z"
   },
   {
    "duration": 163,
    "start_time": "2024-04-17T14:27:14.444Z"
   },
   {
    "duration": 177,
    "start_time": "2024-04-17T14:27:39.523Z"
   },
   {
    "duration": 160,
    "start_time": "2024-04-17T14:27:53.685Z"
   },
   {
    "duration": 152,
    "start_time": "2024-04-17T14:28:37.276Z"
   },
   {
    "duration": 255,
    "start_time": "2024-04-17T14:28:50.037Z"
   },
   {
    "duration": 606,
    "start_time": "2024-04-17T14:29:36.802Z"
   },
   {
    "duration": 10,
    "start_time": "2024-04-17T14:39:51.356Z"
   },
   {
    "duration": 8,
    "start_time": "2024-04-17T14:40:21.140Z"
   },
   {
    "duration": 2225,
    "start_time": "2024-04-17T14:40:42.570Z"
   },
   {
    "duration": 9,
    "start_time": "2024-04-17T14:41:04.447Z"
   },
   {
    "duration": 826,
    "start_time": "2024-04-17T14:41:05.727Z"
   },
   {
    "duration": 905,
    "start_time": "2024-04-17T14:41:37.258Z"
   },
   {
    "duration": 921,
    "start_time": "2024-04-17T14:42:08.698Z"
   },
   {
    "duration": 64,
    "start_time": "2024-04-17T14:42:52.962Z"
   },
   {
    "duration": 18,
    "start_time": "2024-04-17T14:43:14.774Z"
   },
   {
    "duration": 15,
    "start_time": "2024-04-17T14:43:45.751Z"
   },
   {
    "duration": 24,
    "start_time": "2024-04-17T14:44:43.725Z"
   },
   {
    "duration": 631,
    "start_time": "2024-04-17T14:49:44.578Z"
   },
   {
    "duration": 18,
    "start_time": "2024-04-17T14:53:27.307Z"
   },
   {
    "duration": 16,
    "start_time": "2024-04-17T14:53:35.978Z"
   },
   {
    "duration": 25,
    "start_time": "2024-04-17T14:55:46.598Z"
   },
   {
    "duration": 12,
    "start_time": "2024-04-17T14:55:57.675Z"
   },
   {
    "duration": 293,
    "start_time": "2024-04-17T14:56:07.047Z"
   },
   {
    "duration": 9,
    "start_time": "2024-04-17T14:56:37.202Z"
   },
   {
    "duration": 10,
    "start_time": "2024-04-17T14:56:59.812Z"
   },
   {
    "duration": 314,
    "start_time": "2024-04-17T14:57:22.054Z"
   },
   {
    "duration": 406,
    "start_time": "2024-04-17T14:58:42.755Z"
   },
   {
    "duration": 392,
    "start_time": "2024-04-17T14:59:01.048Z"
   },
   {
    "duration": 379,
    "start_time": "2024-04-17T14:59:12.039Z"
   },
   {
    "duration": 10,
    "start_time": "2024-04-17T14:59:49.846Z"
   },
   {
    "duration": 8,
    "start_time": "2024-04-17T14:59:57.238Z"
   },
   {
    "duration": 302,
    "start_time": "2024-04-17T15:00:20.988Z"
   },
   {
    "duration": 494,
    "start_time": "2024-04-17T15:00:39.419Z"
   },
   {
    "duration": 378,
    "start_time": "2024-04-17T15:00:48.394Z"
   },
   {
    "duration": 324,
    "start_time": "2024-04-17T15:02:11.405Z"
   },
   {
    "duration": 315,
    "start_time": "2024-04-17T15:03:18.687Z"
   },
   {
    "duration": 7,
    "start_time": "2024-04-17T15:04:58.952Z"
   },
   {
    "duration": 287,
    "start_time": "2024-04-17T15:07:38.024Z"
   },
   {
    "duration": 510,
    "start_time": "2024-04-17T15:27:43.898Z"
   },
   {
    "duration": 815,
    "start_time": "2024-04-17T15:28:26.375Z"
   },
   {
    "duration": 872,
    "start_time": "2024-04-17T15:28:47.592Z"
   },
   {
    "duration": 69,
    "start_time": "2024-04-17T15:28:58.184Z"
   },
   {
    "duration": 10,
    "start_time": "2024-04-17T15:31:54.123Z"
   },
   {
    "duration": 127,
    "start_time": "2024-04-17T15:32:01.706Z"
   },
   {
    "duration": 23,
    "start_time": "2024-04-17T15:35:48.366Z"
   },
   {
    "duration": 525,
    "start_time": "2024-04-17T15:36:08.356Z"
   },
   {
    "duration": 645,
    "start_time": "2024-04-17T15:37:15.531Z"
   },
   {
    "duration": 316,
    "start_time": "2024-04-17T15:38:29.837Z"
   },
   {
    "duration": 314,
    "start_time": "2024-04-17T15:40:12.744Z"
   },
   {
    "duration": 324,
    "start_time": "2024-04-17T15:40:24.396Z"
   },
   {
    "duration": 593,
    "start_time": "2024-04-17T15:40:41.449Z"
   },
   {
    "duration": 552,
    "start_time": "2024-04-17T15:40:53.761Z"
   },
   {
    "duration": 54,
    "start_time": "2024-04-17T15:47:51.809Z"
   },
   {
    "duration": 607,
    "start_time": "2024-04-17T15:48:13.723Z"
   },
   {
    "duration": 735,
    "start_time": "2024-04-17T15:48:29.282Z"
   },
   {
    "duration": 579,
    "start_time": "2024-04-17T15:49:56.438Z"
   },
   {
    "duration": 567,
    "start_time": "2024-04-17T17:19:05.802Z"
   },
   {
    "duration": 613,
    "start_time": "2024-04-17T17:19:57.036Z"
   },
   {
    "duration": 681,
    "start_time": "2024-04-17T17:20:14.945Z"
   },
   {
    "duration": 562,
    "start_time": "2024-04-17T17:20:22.882Z"
   },
   {
    "duration": 624,
    "start_time": "2024-04-17T17:22:43.387Z"
   },
   {
    "duration": 28,
    "start_time": "2024-04-17T17:36:50.985Z"
   },
   {
    "duration": 595,
    "start_time": "2024-04-17T17:38:41.755Z"
   },
   {
    "duration": 684,
    "start_time": "2024-04-17T17:38:50.197Z"
   },
   {
    "duration": 882,
    "start_time": "2024-04-17T17:39:06.638Z"
   },
   {
    "duration": 1196,
    "start_time": "2024-04-17T17:41:26.351Z"
   },
   {
    "duration": 1035,
    "start_time": "2024-04-17T17:41:39.092Z"
   },
   {
    "duration": 6,
    "start_time": "2024-04-17T17:47:02.286Z"
   },
   {
    "duration": 1049,
    "start_time": "2024-04-17T17:47:08.263Z"
   },
   {
    "duration": 6,
    "start_time": "2024-04-17T17:48:37.261Z"
   },
   {
    "duration": 147,
    "start_time": "2024-04-17T17:50:06.841Z"
   },
   {
    "duration": 144,
    "start_time": "2024-04-17T17:50:36.378Z"
   },
   {
    "duration": 183,
    "start_time": "2024-04-17T17:50:58.801Z"
   },
   {
    "duration": 48,
    "start_time": "2024-04-17T17:51:14.917Z"
   },
   {
    "duration": 188,
    "start_time": "2024-04-17T17:52:09.021Z"
   },
   {
    "duration": 182,
    "start_time": "2024-04-17T17:54:16.486Z"
   },
   {
    "duration": 177,
    "start_time": "2024-04-17T17:54:50.140Z"
   },
   {
    "duration": 181,
    "start_time": "2024-04-17T17:56:09.153Z"
   },
   {
    "duration": 190,
    "start_time": "2024-04-17T17:58:36.058Z"
   },
   {
    "duration": 206,
    "start_time": "2024-04-17T18:02:17.542Z"
   },
   {
    "duration": 224,
    "start_time": "2024-04-17T18:09:42.669Z"
   },
   {
    "duration": 233,
    "start_time": "2024-04-17T18:10:25.193Z"
   },
   {
    "duration": 226,
    "start_time": "2024-04-17T18:10:49.364Z"
   },
   {
    "duration": 236,
    "start_time": "2024-04-17T18:10:53.439Z"
   },
   {
    "duration": 62,
    "start_time": "2024-04-17T18:11:48.116Z"
   },
   {
    "duration": 234,
    "start_time": "2024-04-17T18:11:56.350Z"
   },
   {
    "duration": 240,
    "start_time": "2024-04-17T18:12:05.132Z"
   },
   {
    "duration": 222,
    "start_time": "2024-04-17T18:12:11.138Z"
   },
   {
    "duration": 230,
    "start_time": "2024-04-17T18:12:15.996Z"
   },
   {
    "duration": 252,
    "start_time": "2024-04-17T18:13:18.537Z"
   },
   {
    "duration": 247,
    "start_time": "2024-04-17T18:14:28.055Z"
   },
   {
    "duration": 203,
    "start_time": "2024-04-17T18:23:16.492Z"
   },
   {
    "duration": 494,
    "start_time": "2024-04-17T18:23:49.858Z"
   },
   {
    "duration": 327,
    "start_time": "2024-04-17T18:25:31.585Z"
   },
   {
    "duration": 321,
    "start_time": "2024-04-17T18:31:49.679Z"
   },
   {
    "duration": 321,
    "start_time": "2024-04-17T18:31:58.396Z"
   },
   {
    "duration": 477,
    "start_time": "2024-04-17T18:33:45.967Z"
   },
   {
    "duration": 53,
    "start_time": "2024-04-17T18:34:19.273Z"
   },
   {
    "duration": 471,
    "start_time": "2024-04-17T18:34:28.440Z"
   },
   {
    "duration": 650,
    "start_time": "2024-04-17T18:35:05.132Z"
   },
   {
    "duration": 15,
    "start_time": "2024-04-17T18:35:53.023Z"
   },
   {
    "duration": 18,
    "start_time": "2024-04-17T18:36:17.769Z"
   },
   {
    "duration": 6,
    "start_time": "2024-04-17T18:38:14.354Z"
   },
   {
    "duration": 5,
    "start_time": "2024-04-17T18:38:31.069Z"
   },
   {
    "duration": 6,
    "start_time": "2024-04-17T18:39:14.365Z"
   },
   {
    "duration": 6,
    "start_time": "2024-04-17T18:39:14.740Z"
   },
   {
    "duration": 6,
    "start_time": "2024-04-17T18:39:35.786Z"
   },
   {
    "duration": 6,
    "start_time": "2024-04-17T19:05:22.213Z"
   },
   {
    "duration": 10,
    "start_time": "2024-04-17T19:06:39.277Z"
   },
   {
    "duration": 12,
    "start_time": "2024-04-17T19:06:50.627Z"
   },
   {
    "duration": 13,
    "start_time": "2024-04-17T19:07:00.143Z"
   },
   {
    "duration": 13,
    "start_time": "2024-04-17T19:07:05.487Z"
   },
   {
    "duration": 4,
    "start_time": "2024-04-17T19:07:32.428Z"
   },
   {
    "duration": 7,
    "start_time": "2024-04-17T19:07:38.125Z"
   },
   {
    "duration": 10,
    "start_time": "2024-04-17T19:07:56.693Z"
   },
   {
    "duration": 13,
    "start_time": "2024-04-17T19:08:16.857Z"
   },
   {
    "duration": 7,
    "start_time": "2024-04-17T19:08:58.151Z"
   },
   {
    "duration": 13,
    "start_time": "2024-04-17T19:09:31.221Z"
   },
   {
    "duration": 18,
    "start_time": "2024-04-17T19:12:04.254Z"
   },
   {
    "duration": 59,
    "start_time": "2024-04-17T19:12:10.020Z"
   },
   {
    "duration": 43,
    "start_time": "2024-04-17T19:13:02.348Z"
   },
   {
    "duration": 18,
    "start_time": "2024-04-17T19:14:02.671Z"
   },
   {
    "duration": 44,
    "start_time": "2024-04-17T19:15:18.252Z"
   },
   {
    "duration": 11,
    "start_time": "2024-04-17T19:15:25.075Z"
   },
   {
    "duration": 30,
    "start_time": "2024-04-17T19:15:31.927Z"
   },
   {
    "duration": 10,
    "start_time": "2024-04-17T19:16:19.713Z"
   },
   {
    "duration": 20,
    "start_time": "2024-04-17T19:16:27.567Z"
   },
   {
    "duration": 23,
    "start_time": "2024-04-17T19:16:44.806Z"
   },
   {
    "duration": 24,
    "start_time": "2024-04-17T19:16:54.798Z"
   },
   {
    "duration": 15,
    "start_time": "2024-04-17T19:17:49.665Z"
   },
   {
    "duration": 24,
    "start_time": "2024-04-17T19:17:56.435Z"
   },
   {
    "duration": 14,
    "start_time": "2024-04-17T19:20:58.206Z"
   },
   {
    "duration": 955,
    "start_time": "2024-04-17T19:24:47.104Z"
   },
   {
    "duration": 22,
    "start_time": "2024-04-17T19:25:59.581Z"
   },
   {
    "duration": 20,
    "start_time": "2024-04-17T19:26:33.578Z"
   },
   {
    "duration": 39,
    "start_time": "2024-04-17T19:30:40.242Z"
   },
   {
    "duration": 14,
    "start_time": "2024-04-17T19:32:34.056Z"
   },
   {
    "duration": 15,
    "start_time": "2024-04-17T19:32:46.761Z"
   },
   {
    "duration": 21,
    "start_time": "2024-04-17T19:34:48.935Z"
   },
   {
    "duration": 16,
    "start_time": "2024-04-17T19:34:52.354Z"
   },
   {
    "duration": 31,
    "start_time": "2024-04-17T19:34:58.822Z"
   },
   {
    "duration": 32,
    "start_time": "2024-04-17T19:45:20.942Z"
   },
   {
    "duration": 37,
    "start_time": "2024-04-17T19:51:38.549Z"
   },
   {
    "duration": 249,
    "start_time": "2024-04-17T19:52:12.040Z"
   },
   {
    "duration": 217,
    "start_time": "2024-04-17T19:52:17.109Z"
   },
   {
    "duration": 229,
    "start_time": "2024-04-17T19:52:24.170Z"
   },
   {
    "duration": 219,
    "start_time": "2024-04-17T19:52:28.140Z"
   },
   {
    "duration": 207,
    "start_time": "2024-04-17T19:52:32.526Z"
   },
   {
    "duration": 33,
    "start_time": "2024-04-17T19:56:50.294Z"
   },
   {
    "duration": 25,
    "start_time": "2024-04-17T19:57:16.793Z"
   },
   {
    "duration": 11,
    "start_time": "2024-04-17T19:57:42.457Z"
   },
   {
    "duration": 10,
    "start_time": "2024-04-17T19:57:48.818Z"
   },
   {
    "duration": 10,
    "start_time": "2024-04-17T19:58:31.879Z"
   },
   {
    "duration": 374,
    "start_time": "2024-04-17T19:59:14.711Z"
   },
   {
    "duration": 521,
    "start_time": "2024-04-17T19:59:25.833Z"
   },
   {
    "duration": 7,
    "start_time": "2024-04-17T19:59:56.973Z"
   },
   {
    "duration": 375,
    "start_time": "2024-04-17T20:00:04.838Z"
   },
   {
    "duration": 345,
    "start_time": "2024-04-17T20:00:26.037Z"
   },
   {
    "duration": 568,
    "start_time": "2024-04-17T20:00:39.006Z"
   },
   {
    "duration": 335,
    "start_time": "2024-04-17T20:01:29.570Z"
   },
   {
    "duration": 178,
    "start_time": "2024-04-17T20:02:15.506Z"
   },
   {
    "duration": 62,
    "start_time": "2024-04-17T20:03:07.272Z"
   },
   {
    "duration": 61,
    "start_time": "2024-04-17T20:03:13.557Z"
   },
   {
    "duration": 11,
    "start_time": "2024-04-17T20:03:23.354Z"
   },
   {
    "duration": 169,
    "start_time": "2024-04-17T20:03:44.536Z"
   },
   {
    "duration": 175,
    "start_time": "2024-04-17T20:03:57.827Z"
   },
   {
    "duration": 164,
    "start_time": "2024-04-17T20:04:24.049Z"
   },
   {
    "duration": 153,
    "start_time": "2024-04-17T20:04:50.928Z"
   },
   {
    "duration": 11,
    "start_time": "2024-04-17T20:05:03.229Z"
   },
   {
    "duration": 161,
    "start_time": "2024-04-17T20:06:34.014Z"
   },
   {
    "duration": 163,
    "start_time": "2024-04-17T20:06:52.350Z"
   },
   {
    "duration": 175,
    "start_time": "2024-04-17T20:07:49.977Z"
   },
   {
    "duration": 54,
    "start_time": "2024-04-17T20:09:45.405Z"
   },
   {
    "duration": 60,
    "start_time": "2024-04-17T20:09:59.309Z"
   },
   {
    "duration": 45,
    "start_time": "2024-04-17T20:10:09.773Z"
   },
   {
    "duration": 51,
    "start_time": "2024-04-17T20:10:29.695Z"
   },
   {
    "duration": 50,
    "start_time": "2024-04-17T20:10:46.678Z"
   },
   {
    "duration": 43,
    "start_time": "2024-04-17T20:11:15.754Z"
   },
   {
    "duration": 224,
    "start_time": "2024-04-17T20:11:47.027Z"
   },
   {
    "duration": 31,
    "start_time": "2024-04-17T20:13:13.552Z"
   },
   {
    "duration": 6,
    "start_time": "2024-04-17T20:19:12.018Z"
   },
   {
    "duration": 378,
    "start_time": "2024-04-17T20:19:41.845Z"
   },
   {
    "duration": 191,
    "start_time": "2024-04-17T20:21:05.881Z"
   },
   {
    "duration": 214,
    "start_time": "2024-04-17T20:21:41.646Z"
   },
   {
    "duration": 17,
    "start_time": "2024-04-17T20:21:55.611Z"
   },
   {
    "duration": 331,
    "start_time": "2024-04-17T20:22:41.288Z"
   },
   {
    "duration": 643,
    "start_time": "2024-04-17T20:23:33.304Z"
   },
   {
    "duration": 644,
    "start_time": "2024-04-17T20:25:47.431Z"
   },
   {
    "duration": 562,
    "start_time": "2024-04-17T20:25:54.147Z"
   },
   {
    "duration": 677,
    "start_time": "2024-04-17T20:27:15.989Z"
   },
   {
    "duration": 34,
    "start_time": "2024-04-17T20:28:36.675Z"
   },
   {
    "duration": 43,
    "start_time": "2024-04-17T20:28:58.017Z"
   },
   {
    "duration": 363,
    "start_time": "2024-04-17T20:29:53.459Z"
   },
   {
    "duration": 30,
    "start_time": "2024-04-17T20:29:55.535Z"
   },
   {
    "duration": 346,
    "start_time": "2024-04-17T20:29:58.116Z"
   },
   {
    "duration": 20,
    "start_time": "2024-04-17T20:30:45.776Z"
   },
   {
    "duration": 20,
    "start_time": "2024-04-17T20:31:06.303Z"
   },
   {
    "duration": 11,
    "start_time": "2024-04-17T20:32:05.571Z"
   },
   {
    "duration": 370,
    "start_time": "2024-04-17T20:32:10.449Z"
   },
   {
    "duration": 369,
    "start_time": "2024-04-17T20:32:19.944Z"
   },
   {
    "duration": 274,
    "start_time": "2024-04-17T20:38:13.447Z"
   },
   {
    "duration": 193,
    "start_time": "2024-04-17T20:43:54.195Z"
   },
   {
    "duration": 227,
    "start_time": "2024-04-17T20:44:22.184Z"
   },
   {
    "duration": 208,
    "start_time": "2024-04-17T20:45:09.789Z"
   },
   {
    "duration": 233,
    "start_time": "2024-04-17T20:46:27.761Z"
   },
   {
    "duration": 221,
    "start_time": "2024-04-17T20:46:51.986Z"
   },
   {
    "duration": 232,
    "start_time": "2024-04-17T20:47:06.954Z"
   },
   {
    "duration": 230,
    "start_time": "2024-04-17T20:48:04.255Z"
   },
   {
    "duration": 233,
    "start_time": "2024-04-17T20:49:50.344Z"
   },
   {
    "duration": 16,
    "start_time": "2024-04-17T20:51:15.099Z"
   },
   {
    "duration": 14,
    "start_time": "2024-04-17T20:51:21.308Z"
   },
   {
    "duration": 14,
    "start_time": "2024-04-17T20:51:27.577Z"
   },
   {
    "duration": 14,
    "start_time": "2024-04-17T20:53:00.901Z"
   },
   {
    "duration": 22,
    "start_time": "2024-04-17T20:53:28.834Z"
   },
   {
    "duration": 14,
    "start_time": "2024-04-17T20:55:08.462Z"
   },
   {
    "duration": 12,
    "start_time": "2024-04-17T20:55:47.996Z"
   },
   {
    "duration": 218,
    "start_time": "2024-04-17T21:01:15.708Z"
   },
   {
    "duration": 27727,
    "start_time": "2024-04-17T21:02:21.444Z"
   },
   {
    "duration": 176,
    "start_time": "2024-04-17T21:04:18.934Z"
   },
   {
    "duration": 165,
    "start_time": "2024-04-17T21:05:14.459Z"
   },
   {
    "duration": 232,
    "start_time": "2024-04-17T21:05:56.778Z"
   },
   {
    "duration": 222,
    "start_time": "2024-04-17T21:06:37.406Z"
   },
   {
    "duration": 229,
    "start_time": "2024-04-17T21:07:15.798Z"
   },
   {
    "duration": 246,
    "start_time": "2024-04-17T21:09:01.444Z"
   },
   {
    "duration": 243,
    "start_time": "2024-04-17T21:09:19.200Z"
   },
   {
    "duration": 236,
    "start_time": "2024-04-17T21:10:11.441Z"
   },
   {
    "duration": 256,
    "start_time": "2024-04-17T21:10:47.020Z"
   },
   {
    "duration": 227,
    "start_time": "2024-04-17T21:13:21.960Z"
   },
   {
    "duration": 251,
    "start_time": "2024-04-17T21:13:57.013Z"
   },
   {
    "duration": 202,
    "start_time": "2024-04-17T21:50:14.546Z"
   },
   {
    "duration": 200,
    "start_time": "2024-04-17T21:50:48.882Z"
   },
   {
    "duration": 248,
    "start_time": "2024-04-17T21:51:07.535Z"
   },
   {
    "duration": 181,
    "start_time": "2024-04-17T21:52:08.929Z"
   },
   {
    "duration": 192,
    "start_time": "2024-04-17T21:56:41.909Z"
   },
   {
    "duration": 170,
    "start_time": "2024-04-17T21:57:12.355Z"
   },
   {
    "duration": 167,
    "start_time": "2024-04-17T21:57:23.595Z"
   },
   {
    "duration": 168,
    "start_time": "2024-04-17T21:57:31.927Z"
   },
   {
    "duration": 172,
    "start_time": "2024-04-17T21:59:17.452Z"
   },
   {
    "duration": 244,
    "start_time": "2024-04-17T22:02:52.057Z"
   },
   {
    "duration": 238,
    "start_time": "2024-04-17T22:03:03.249Z"
   },
   {
    "duration": 246,
    "start_time": "2024-04-17T22:03:04.732Z"
   },
   {
    "duration": 13,
    "start_time": "2024-04-17T22:07:31.390Z"
   },
   {
    "duration": 14,
    "start_time": "2024-04-17T22:08:32.825Z"
   },
   {
    "duration": 8,
    "start_time": "2024-04-17T22:09:33.147Z"
   },
   {
    "duration": 13,
    "start_time": "2024-04-17T22:10:19.152Z"
   },
   {
    "duration": 16,
    "start_time": "2024-04-17T22:10:43.826Z"
   },
   {
    "duration": 8,
    "start_time": "2024-04-17T22:11:56.356Z"
   },
   {
    "duration": 14,
    "start_time": "2024-04-17T22:12:07.650Z"
   },
   {
    "duration": 11,
    "start_time": "2024-04-17T22:15:26.672Z"
   },
   {
    "duration": 12,
    "start_time": "2024-04-17T22:16:52.497Z"
   },
   {
    "duration": 11,
    "start_time": "2024-04-17T22:17:11.797Z"
   },
   {
    "duration": 23,
    "start_time": "2024-04-17T22:17:47.335Z"
   },
   {
    "duration": 12,
    "start_time": "2024-04-17T22:19:04.508Z"
   },
   {
    "duration": 18,
    "start_time": "2024-04-17T22:20:38.855Z"
   },
   {
    "duration": 49,
    "start_time": "2024-04-17T22:20:55.214Z"
   },
   {
    "duration": 66,
    "start_time": "2024-04-17T22:21:19.925Z"
   },
   {
    "duration": 9,
    "start_time": "2024-04-17T22:21:29.260Z"
   },
   {
    "duration": 12,
    "start_time": "2024-04-17T22:21:36.704Z"
   },
   {
    "duration": 12,
    "start_time": "2024-04-17T22:21:47.508Z"
   },
   {
    "duration": 12,
    "start_time": "2024-04-17T22:22:26.205Z"
   },
   {
    "duration": 10,
    "start_time": "2024-04-17T22:26:01.855Z"
   },
   {
    "duration": 10,
    "start_time": "2024-04-17T22:27:28.676Z"
   },
   {
    "duration": 18,
    "start_time": "2024-04-17T22:29:39.140Z"
   },
   {
    "duration": 12,
    "start_time": "2024-04-17T22:30:20.797Z"
   },
   {
    "duration": 13,
    "start_time": "2024-04-17T22:30:32.353Z"
   },
   {
    "duration": 1224,
    "start_time": "2024-04-17T23:19:52.939Z"
   },
   {
    "duration": 57,
    "start_time": "2024-04-17T23:19:54.165Z"
   },
   {
    "duration": 25,
    "start_time": "2024-04-17T23:19:54.223Z"
   },
   {
    "duration": 39,
    "start_time": "2024-04-17T23:19:54.250Z"
   },
   {
    "duration": 15,
    "start_time": "2024-04-17T23:19:54.291Z"
   },
   {
    "duration": 141,
    "start_time": "2024-04-17T23:19:54.308Z"
   },
   {
    "duration": 0,
    "start_time": "2024-04-17T23:19:54.452Z"
   },
   {
    "duration": 0,
    "start_time": "2024-04-17T23:19:54.454Z"
   },
   {
    "duration": 0,
    "start_time": "2024-04-17T23:19:54.455Z"
   },
   {
    "duration": 0,
    "start_time": "2024-04-17T23:19:54.456Z"
   },
   {
    "duration": 0,
    "start_time": "2024-04-17T23:19:54.457Z"
   },
   {
    "duration": 0,
    "start_time": "2024-04-17T23:19:54.458Z"
   },
   {
    "duration": 0,
    "start_time": "2024-04-17T23:19:54.459Z"
   },
   {
    "duration": 0,
    "start_time": "2024-04-17T23:19:54.463Z"
   },
   {
    "duration": 0,
    "start_time": "2024-04-17T23:19:54.465Z"
   },
   {
    "duration": 0,
    "start_time": "2024-04-17T23:19:54.466Z"
   },
   {
    "duration": 0,
    "start_time": "2024-04-17T23:19:54.467Z"
   },
   {
    "duration": 0,
    "start_time": "2024-04-17T23:19:54.469Z"
   },
   {
    "duration": 0,
    "start_time": "2024-04-17T23:19:54.470Z"
   },
   {
    "duration": 0,
    "start_time": "2024-04-17T23:19:54.471Z"
   },
   {
    "duration": 0,
    "start_time": "2024-04-17T23:19:54.472Z"
   },
   {
    "duration": 0,
    "start_time": "2024-04-17T23:19:54.473Z"
   },
   {
    "duration": 0,
    "start_time": "2024-04-17T23:19:54.474Z"
   },
   {
    "duration": 0,
    "start_time": "2024-04-17T23:19:54.475Z"
   },
   {
    "duration": 0,
    "start_time": "2024-04-17T23:19:54.476Z"
   },
   {
    "duration": 0,
    "start_time": "2024-04-17T23:19:54.477Z"
   },
   {
    "duration": 0,
    "start_time": "2024-04-17T23:19:54.478Z"
   },
   {
    "duration": 0,
    "start_time": "2024-04-17T23:19:54.479Z"
   },
   {
    "duration": 0,
    "start_time": "2024-04-17T23:19:54.480Z"
   },
   {
    "duration": 0,
    "start_time": "2024-04-17T23:19:54.481Z"
   },
   {
    "duration": 0,
    "start_time": "2024-04-17T23:19:54.482Z"
   },
   {
    "duration": 0,
    "start_time": "2024-04-17T23:19:54.483Z"
   },
   {
    "duration": 8,
    "start_time": "2024-04-17T23:20:58.488Z"
   },
   {
    "duration": 5,
    "start_time": "2024-04-17T23:23:17.805Z"
   },
   {
    "duration": 5,
    "start_time": "2024-04-17T23:23:40.168Z"
   },
   {
    "duration": 4,
    "start_time": "2024-04-17T23:23:44.553Z"
   },
   {
    "duration": 1197,
    "start_time": "2024-04-17T23:23:50.103Z"
   },
   {
    "duration": 70,
    "start_time": "2024-04-17T23:23:51.301Z"
   },
   {
    "duration": 19,
    "start_time": "2024-04-17T23:23:51.373Z"
   },
   {
    "duration": 20,
    "start_time": "2024-04-17T23:23:51.394Z"
   },
   {
    "duration": 35,
    "start_time": "2024-04-17T23:23:51.416Z"
   },
   {
    "duration": 15,
    "start_time": "2024-04-17T23:23:51.453Z"
   },
   {
    "duration": 12,
    "start_time": "2024-04-17T23:23:51.470Z"
   },
   {
    "duration": 10,
    "start_time": "2024-04-17T23:23:51.484Z"
   },
   {
    "duration": 20,
    "start_time": "2024-04-17T23:23:51.500Z"
   },
   {
    "duration": 37,
    "start_time": "2024-04-17T23:23:51.523Z"
   },
   {
    "duration": 19,
    "start_time": "2024-04-17T23:23:51.562Z"
   },
   {
    "duration": 15,
    "start_time": "2024-04-17T23:23:51.582Z"
   },
   {
    "duration": 248,
    "start_time": "2024-04-17T23:23:51.598Z"
   },
   {
    "duration": 8,
    "start_time": "2024-04-17T23:23:51.848Z"
   },
   {
    "duration": 393,
    "start_time": "2024-04-17T23:23:51.857Z"
   },
   {
    "duration": 11,
    "start_time": "2024-04-17T23:23:52.256Z"
   },
   {
    "duration": 356,
    "start_time": "2024-04-17T23:23:52.269Z"
   },
   {
    "duration": 272,
    "start_time": "2024-04-17T23:23:52.627Z"
   },
   {
    "duration": 246,
    "start_time": "2024-04-17T23:23:52.901Z"
   },
   {
    "duration": 220,
    "start_time": "2024-04-17T23:23:53.154Z"
   },
   {
    "duration": 267,
    "start_time": "2024-04-17T23:23:53.376Z"
   },
   {
    "duration": 19,
    "start_time": "2024-04-17T23:23:53.649Z"
   },
   {
    "duration": 14,
    "start_time": "2024-04-17T23:23:53.669Z"
   },
   {
    "duration": 13,
    "start_time": "2024-04-17T23:23:53.684Z"
   },
   {
    "duration": 320,
    "start_time": "2024-04-17T23:23:53.698Z"
   },
   {
    "duration": 262,
    "start_time": "2024-04-17T23:23:54.020Z"
   },
   {
    "duration": 230,
    "start_time": "2024-04-17T23:23:54.284Z"
   },
   {
    "duration": 175,
    "start_time": "2024-04-17T23:23:54.518Z"
   },
   {
    "duration": 169,
    "start_time": "2024-04-17T23:23:54.694Z"
   },
   {
    "duration": 193,
    "start_time": "2024-04-17T23:23:54.865Z"
   },
   {
    "duration": 13,
    "start_time": "2024-04-17T23:23:55.060Z"
   },
   {
    "duration": 10,
    "start_time": "2024-04-17T23:23:55.075Z"
   },
   {
    "duration": 220,
    "start_time": "2024-04-17T23:25:31.867Z"
   },
   {
    "duration": 5,
    "start_time": "2024-04-17T23:27:19.095Z"
   },
   {
    "duration": 1106,
    "start_time": "2024-04-18T15:30:32.837Z"
   },
   {
    "duration": 60,
    "start_time": "2024-04-18T15:30:33.945Z"
   },
   {
    "duration": 17,
    "start_time": "2024-04-18T15:30:34.007Z"
   },
   {
    "duration": 31,
    "start_time": "2024-04-18T15:30:34.026Z"
   },
   {
    "duration": 7,
    "start_time": "2024-04-18T15:30:34.059Z"
   },
   {
    "duration": 13,
    "start_time": "2024-04-18T15:30:34.068Z"
   },
   {
    "duration": 8,
    "start_time": "2024-04-18T15:30:34.082Z"
   },
   {
    "duration": 11,
    "start_time": "2024-04-18T15:30:34.091Z"
   },
   {
    "duration": 13,
    "start_time": "2024-04-18T15:30:34.103Z"
   },
   {
    "duration": 20,
    "start_time": "2024-04-18T15:30:34.117Z"
   },
   {
    "duration": 17,
    "start_time": "2024-04-18T15:30:34.139Z"
   },
   {
    "duration": 26,
    "start_time": "2024-04-18T15:30:34.157Z"
   },
   {
    "duration": 192,
    "start_time": "2024-04-18T15:30:34.185Z"
   },
   {
    "duration": 6,
    "start_time": "2024-04-18T15:30:34.379Z"
   },
   {
    "duration": 297,
    "start_time": "2024-04-18T15:30:34.387Z"
   },
   {
    "duration": 11,
    "start_time": "2024-04-18T15:30:34.686Z"
   },
   {
    "duration": 289,
    "start_time": "2024-04-18T15:30:34.698Z"
   },
   {
    "duration": 221,
    "start_time": "2024-04-18T15:30:34.989Z"
   },
   {
    "duration": 177,
    "start_time": "2024-04-18T15:30:35.212Z"
   },
   {
    "duration": 195,
    "start_time": "2024-04-18T15:30:35.391Z"
   },
   {
    "duration": 203,
    "start_time": "2024-04-18T15:30:35.587Z"
   },
   {
    "duration": 13,
    "start_time": "2024-04-18T15:30:35.791Z"
   },
   {
    "duration": 21,
    "start_time": "2024-04-18T15:30:35.806Z"
   },
   {
    "duration": 33,
    "start_time": "2024-04-18T15:30:35.828Z"
   },
   {
    "duration": 276,
    "start_time": "2024-04-18T15:30:35.863Z"
   },
   {
    "duration": 188,
    "start_time": "2024-04-18T15:30:36.141Z"
   },
   {
    "duration": 188,
    "start_time": "2024-04-18T15:30:36.331Z"
   },
   {
    "duration": 142,
    "start_time": "2024-04-18T15:30:36.520Z"
   },
   {
    "duration": 139,
    "start_time": "2024-04-18T15:30:36.663Z"
   },
   {
    "duration": 146,
    "start_time": "2024-04-18T15:30:36.804Z"
   },
   {
    "duration": 12,
    "start_time": "2024-04-18T15:30:36.951Z"
   },
   {
    "duration": 9,
    "start_time": "2024-04-18T15:30:36.974Z"
   },
   {
    "duration": 88,
    "start_time": "2024-04-18T18:02:38.362Z"
   },
   {
    "duration": 23,
    "start_time": "2024-04-18T18:04:23.259Z"
   },
   {
    "duration": 8,
    "start_time": "2024-04-18T18:14:06.358Z"
   },
   {
    "duration": 1115,
    "start_time": "2024-04-18T18:14:24.937Z"
   },
   {
    "duration": 70,
    "start_time": "2024-04-18T18:14:26.055Z"
   },
   {
    "duration": 19,
    "start_time": "2024-04-18T18:14:26.127Z"
   },
   {
    "duration": 58,
    "start_time": "2024-04-18T18:14:26.148Z"
   },
   {
    "duration": 24,
    "start_time": "2024-04-18T18:14:26.209Z"
   },
   {
    "duration": 22,
    "start_time": "2024-04-18T18:14:26.235Z"
   },
   {
    "duration": 13,
    "start_time": "2024-04-18T18:14:26.259Z"
   },
   {
    "duration": 14,
    "start_time": "2024-04-18T18:14:26.275Z"
   },
   {
    "duration": 14,
    "start_time": "2024-04-18T18:14:26.291Z"
   },
   {
    "duration": 19,
    "start_time": "2024-04-18T18:14:26.306Z"
   },
   {
    "duration": 17,
    "start_time": "2024-04-18T18:14:26.326Z"
   },
   {
    "duration": 45,
    "start_time": "2024-04-18T18:14:26.345Z"
   },
   {
    "duration": 109,
    "start_time": "2024-04-18T18:14:26.394Z"
   },
   {
    "duration": 234,
    "start_time": "2024-04-18T18:14:26.507Z"
   },
   {
    "duration": 7,
    "start_time": "2024-04-18T18:14:26.742Z"
   },
   {
    "duration": 348,
    "start_time": "2024-04-18T18:14:26.750Z"
   },
   {
    "duration": 24,
    "start_time": "2024-04-18T18:14:27.099Z"
   },
   {
    "duration": 9,
    "start_time": "2024-04-18T18:14:27.124Z"
   },
   {
    "duration": 342,
    "start_time": "2024-04-18T18:14:27.135Z"
   },
   {
    "duration": 258,
    "start_time": "2024-04-18T18:14:27.480Z"
   },
   {
    "duration": 217,
    "start_time": "2024-04-18T18:14:27.739Z"
   },
   {
    "duration": 245,
    "start_time": "2024-04-18T18:14:27.958Z"
   },
   {
    "duration": 226,
    "start_time": "2024-04-18T18:14:28.205Z"
   },
   {
    "duration": 12,
    "start_time": "2024-04-18T18:14:28.432Z"
   },
   {
    "duration": 18,
    "start_time": "2024-04-18T18:14:28.445Z"
   },
   {
    "duration": 31,
    "start_time": "2024-04-18T18:14:28.464Z"
   },
   {
    "duration": 297,
    "start_time": "2024-04-18T18:14:28.497Z"
   },
   {
    "duration": 212,
    "start_time": "2024-04-18T18:14:28.796Z"
   },
   {
    "duration": 203,
    "start_time": "2024-04-18T18:14:29.010Z"
   },
   {
    "duration": 147,
    "start_time": "2024-04-18T18:14:29.214Z"
   },
   {
    "duration": 162,
    "start_time": "2024-04-18T18:14:29.363Z"
   },
   {
    "duration": 153,
    "start_time": "2024-04-18T18:14:29.527Z"
   },
   {
    "duration": 9,
    "start_time": "2024-04-18T18:14:29.682Z"
   },
   {
    "duration": 21,
    "start_time": "2024-04-18T18:14:29.693Z"
   },
   {
    "duration": 12,
    "start_time": "2024-04-18T18:14:29.715Z"
   },
   {
    "duration": 43,
    "start_time": "2024-04-18T18:54:31.526Z"
   },
   {
    "duration": 1198,
    "start_time": "2024-04-18T18:54:37.466Z"
   },
   {
    "duration": 194,
    "start_time": "2024-04-18T18:54:40.119Z"
   },
   {
    "duration": 20,
    "start_time": "2024-04-18T18:54:41.337Z"
   },
   {
    "duration": 14,
    "start_time": "2024-04-18T18:54:42.729Z"
   },
   {
    "duration": 5,
    "start_time": "2024-04-18T18:54:45.723Z"
   },
   {
    "duration": 4,
    "start_time": "2024-04-18T18:54:47.021Z"
   },
   {
    "duration": 5,
    "start_time": "2024-04-18T18:54:48.176Z"
   },
   {
    "duration": 6,
    "start_time": "2024-04-18T18:54:49.632Z"
   },
   {
    "duration": 9,
    "start_time": "2024-04-18T18:54:51.533Z"
   },
   {
    "duration": 18,
    "start_time": "2024-04-18T18:54:52.878Z"
   },
   {
    "duration": 15,
    "start_time": "2024-04-18T18:54:56.080Z"
   },
   {
    "duration": 14,
    "start_time": "2024-04-18T18:54:58.516Z"
   },
   {
    "duration": 1315,
    "start_time": "2024-04-18T18:55:00.198Z"
   },
   {
    "duration": 4,
    "start_time": "2024-04-18T18:55:09.678Z"
   },
   {
    "duration": 17,
    "start_time": "2024-04-18T18:57:16.598Z"
   },
   {
    "duration": 10,
    "start_time": "2024-04-18T18:58:12.994Z"
   },
   {
    "duration": 9,
    "start_time": "2024-04-18T18:58:48.241Z"
   },
   {
    "duration": 14,
    "start_time": "2024-04-18T18:59:11.362Z"
   },
   {
    "duration": 12,
    "start_time": "2024-04-18T18:59:35.419Z"
   },
   {
    "duration": 12,
    "start_time": "2024-04-18T18:59:49.936Z"
   },
   {
    "duration": 10,
    "start_time": "2024-04-18T18:59:58.844Z"
   },
   {
    "duration": 9,
    "start_time": "2024-04-18T19:00:00.883Z"
   },
   {
    "duration": 321,
    "start_time": "2024-04-18T19:00:24.450Z"
   },
   {
    "duration": 12,
    "start_time": "2024-04-18T19:00:32.968Z"
   },
   {
    "duration": 96,
    "start_time": "2024-04-18T19:02:07.327Z"
   },
   {
    "duration": 24,
    "start_time": "2024-04-18T19:02:33.554Z"
   },
   {
    "duration": 5,
    "start_time": "2024-04-18T19:05:51.946Z"
   },
   {
    "duration": 5,
    "start_time": "2024-04-18T19:06:27.080Z"
   },
   {
    "duration": 9,
    "start_time": "2024-04-18T19:06:51.464Z"
   },
   {
    "duration": 16,
    "start_time": "2024-04-18T19:07:02.438Z"
   },
   {
    "duration": 15,
    "start_time": "2024-04-18T19:07:17.343Z"
   },
   {
    "duration": 5,
    "start_time": "2024-04-18T19:07:41.594Z"
   },
   {
    "duration": 5,
    "start_time": "2024-04-18T19:07:48.937Z"
   },
   {
    "duration": 9,
    "start_time": "2024-04-18T19:10:58.559Z"
   },
   {
    "duration": 12,
    "start_time": "2024-04-18T19:11:08.455Z"
   },
   {
    "duration": 15,
    "start_time": "2024-04-18T19:11:28.651Z"
   },
   {
    "duration": 11,
    "start_time": "2024-04-18T19:12:08.638Z"
   },
   {
    "duration": 69,
    "start_time": "2024-04-18T19:12:29.834Z"
   },
   {
    "duration": 14,
    "start_time": "2024-04-18T19:12:40.867Z"
   },
   {
    "duration": 10,
    "start_time": "2024-04-18T19:12:45.489Z"
   },
   {
    "duration": 10,
    "start_time": "2024-04-18T19:14:55.899Z"
   },
   {
    "duration": 9,
    "start_time": "2024-04-18T19:17:08.605Z"
   },
   {
    "duration": 6,
    "start_time": "2024-04-18T19:20:18.191Z"
   },
   {
    "duration": 7,
    "start_time": "2024-04-18T19:20:50.878Z"
   },
   {
    "duration": 7,
    "start_time": "2024-04-18T19:20:58.825Z"
   },
   {
    "duration": 6,
    "start_time": "2024-04-18T19:21:04.974Z"
   },
   {
    "duration": 7,
    "start_time": "2024-04-18T19:21:26.747Z"
   },
   {
    "duration": 7,
    "start_time": "2024-04-18T19:22:18.952Z"
   },
   {
    "duration": 6,
    "start_time": "2024-04-18T19:22:26.714Z"
   },
   {
    "duration": 6,
    "start_time": "2024-04-18T19:23:36.679Z"
   },
   {
    "duration": 13,
    "start_time": "2024-04-18T19:31:15.315Z"
   },
   {
    "duration": 306,
    "start_time": "2024-04-18T19:31:41.273Z"
   },
   {
    "duration": 462,
    "start_time": "2024-04-18T19:31:45.157Z"
   },
   {
    "duration": 8,
    "start_time": "2024-04-18T19:31:51.405Z"
   },
   {
    "duration": 253,
    "start_time": "2024-04-18T19:31:59.576Z"
   },
   {
    "duration": 223,
    "start_time": "2024-04-18T19:37:17.744Z"
   },
   {
    "duration": 221,
    "start_time": "2024-04-18T19:38:50.719Z"
   },
   {
    "duration": 11,
    "start_time": "2024-04-18T19:42:09.921Z"
   },
   {
    "duration": 92,
    "start_time": "2024-04-18T19:42:21.822Z"
   },
   {
    "duration": 4,
    "start_time": "2024-04-18T19:42:28.863Z"
   },
   {
    "duration": 18,
    "start_time": "2024-04-18T19:42:51.849Z"
   },
   {
    "duration": 8,
    "start_time": "2024-04-18T19:43:04.982Z"
   },
   {
    "duration": 10,
    "start_time": "2024-04-18T19:43:30.663Z"
   },
   {
    "duration": 9,
    "start_time": "2024-04-18T19:43:55.938Z"
   },
   {
    "duration": 7,
    "start_time": "2024-04-18T19:44:18.636Z"
   },
   {
    "duration": 19,
    "start_time": "2024-04-18T19:48:40.657Z"
   },
   {
    "duration": 129,
    "start_time": "2024-04-18T19:48:52.050Z"
   },
   {
    "duration": 18,
    "start_time": "2024-04-18T19:49:10.684Z"
   },
   {
    "duration": 70,
    "start_time": "2024-04-18T19:51:28.330Z"
   },
   {
    "duration": 18,
    "start_time": "2024-04-18T19:51:45.595Z"
   },
   {
    "duration": 185,
    "start_time": "2024-04-18T19:51:58.608Z"
   },
   {
    "duration": 77,
    "start_time": "2024-04-18T19:52:08.633Z"
   },
   {
    "duration": 18,
    "start_time": "2024-04-18T19:52:11.908Z"
   },
   {
    "duration": 127,
    "start_time": "2024-04-18T19:53:09.539Z"
   },
   {
    "duration": 135,
    "start_time": "2024-04-18T19:53:30.252Z"
   },
   {
    "duration": 130,
    "start_time": "2024-04-18T19:53:35.543Z"
   },
   {
    "duration": 125,
    "start_time": "2024-04-18T19:53:44.572Z"
   },
   {
    "duration": 18,
    "start_time": "2024-04-18T19:54:00.384Z"
   },
   {
    "duration": 120,
    "start_time": "2024-04-18T19:55:12.121Z"
   },
   {
    "duration": 268,
    "start_time": "2024-04-18T19:56:52.112Z"
   },
   {
    "duration": 15,
    "start_time": "2024-04-18T19:57:41.418Z"
   },
   {
    "duration": 22,
    "start_time": "2024-04-18T19:58:20.740Z"
   },
   {
    "duration": 121,
    "start_time": "2024-04-18T19:58:38.718Z"
   },
   {
    "duration": 22,
    "start_time": "2024-04-18T19:58:45.520Z"
   },
   {
    "duration": 15,
    "start_time": "2024-04-18T19:59:09.428Z"
   },
   {
    "duration": 134,
    "start_time": "2024-04-18T19:59:22.319Z"
   },
   {
    "duration": 14,
    "start_time": "2024-04-18T19:59:29.688Z"
   },
   {
    "duration": 202,
    "start_time": "2024-04-18T20:01:55.525Z"
   },
   {
    "duration": 267,
    "start_time": "2024-04-18T20:02:43.460Z"
   },
   {
    "duration": 236,
    "start_time": "2024-04-18T20:03:29.460Z"
   },
   {
    "duration": 241,
    "start_time": "2024-04-18T20:04:14.898Z"
   },
   {
    "duration": 224,
    "start_time": "2024-04-18T20:04:44.539Z"
   },
   {
    "duration": 228,
    "start_time": "2024-04-18T20:04:53.729Z"
   },
   {
    "duration": 306,
    "start_time": "2024-04-18T20:05:00.770Z"
   },
   {
    "duration": 227,
    "start_time": "2024-04-18T20:06:49.392Z"
   },
   {
    "duration": 215,
    "start_time": "2024-04-18T20:07:01.152Z"
   },
   {
    "duration": 218,
    "start_time": "2024-04-18T20:07:11.480Z"
   },
   {
    "duration": 226,
    "start_time": "2024-04-18T20:07:21.499Z"
   },
   {
    "duration": 232,
    "start_time": "2024-04-18T20:07:31.309Z"
   },
   {
    "duration": 304,
    "start_time": "2024-04-18T20:07:39.773Z"
   },
   {
    "duration": 12,
    "start_time": "2024-04-18T20:16:44.562Z"
   },
   {
    "duration": 255,
    "start_time": "2024-04-18T20:17:38.285Z"
   },
   {
    "duration": 236,
    "start_time": "2024-04-18T20:18:22.817Z"
   },
   {
    "duration": 258,
    "start_time": "2024-04-18T20:18:29.626Z"
   },
   {
    "duration": 240,
    "start_time": "2024-04-18T20:18:36.056Z"
   },
   {
    "duration": 316,
    "start_time": "2024-04-18T20:18:43.174Z"
   },
   {
    "duration": 238,
    "start_time": "2024-04-18T20:19:10.674Z"
   },
   {
    "duration": 247,
    "start_time": "2024-04-18T20:19:52.176Z"
   },
   {
    "duration": 167,
    "start_time": "2024-04-18T20:38:38.440Z"
   },
   {
    "duration": 2910,
    "start_time": "2024-04-18T20:42:01.371Z"
   },
   {
    "duration": 13597,
    "start_time": "2024-04-18T20:42:15.714Z"
   },
   {
    "duration": 151,
    "start_time": "2024-04-18T20:42:30.548Z"
   },
   {
    "duration": 143,
    "start_time": "2024-04-18T20:43:04.653Z"
   },
   {
    "duration": 334,
    "start_time": "2024-04-18T20:47:22.864Z"
   },
   {
    "duration": 146,
    "start_time": "2024-04-18T20:47:30.014Z"
   },
   {
    "duration": 8,
    "start_time": "2024-04-18T20:47:52.311Z"
   },
   {
    "duration": 8,
    "start_time": "2024-04-18T20:48:08.750Z"
   },
   {
    "duration": 8,
    "start_time": "2024-04-18T20:48:13.716Z"
   },
   {
    "duration": 124,
    "start_time": "2024-04-18T20:49:05.045Z"
   },
   {
    "duration": 124,
    "start_time": "2024-04-18T20:51:32.302Z"
   },
   {
    "duration": 123,
    "start_time": "2024-04-18T20:52:22.051Z"
   },
   {
    "duration": 9,
    "start_time": "2024-04-18T20:59:42.795Z"
   },
   {
    "duration": 11,
    "start_time": "2024-04-18T20:59:46.599Z"
   },
   {
    "duration": 9,
    "start_time": "2024-04-18T20:59:50.418Z"
   },
   {
    "duration": 873,
    "start_time": "2024-04-18T21:09:25.275Z"
   },
   {
    "duration": 1236,
    "start_time": "2024-04-18T21:10:04.532Z"
   },
   {
    "duration": 1708,
    "start_time": "2024-04-18T21:12:23.879Z"
   },
   {
    "duration": 72,
    "start_time": "2024-04-18T21:13:53.988Z"
   },
   {
    "duration": 85,
    "start_time": "2024-04-18T21:14:07.917Z"
   },
   {
    "duration": 74,
    "start_time": "2024-04-18T21:14:27.043Z"
   },
   {
    "duration": 83,
    "start_time": "2024-04-18T21:14:56.565Z"
   },
   {
    "duration": 81,
    "start_time": "2024-04-18T21:15:08.549Z"
   },
   {
    "duration": 73,
    "start_time": "2024-04-18T21:15:22.828Z"
   },
   {
    "duration": 82,
    "start_time": "2024-04-18T21:15:41.369Z"
   },
   {
    "duration": 73,
    "start_time": "2024-04-18T21:16:31.280Z"
   },
   {
    "duration": 78,
    "start_time": "2024-04-18T21:16:41.430Z"
   },
   {
    "duration": 95,
    "start_time": "2024-04-18T21:17:00.047Z"
   },
   {
    "duration": 1823,
    "start_time": "2024-04-18T21:17:34.729Z"
   },
   {
    "duration": 1807,
    "start_time": "2024-04-18T21:17:49.058Z"
   },
   {
    "duration": 1529,
    "start_time": "2024-04-18T21:18:14.258Z"
   },
   {
    "duration": 1566,
    "start_time": "2024-04-18T21:18:38.664Z"
   },
   {
    "duration": 1583,
    "start_time": "2024-04-18T21:18:44.562Z"
   },
   {
    "duration": 1548,
    "start_time": "2024-04-18T21:19:02.293Z"
   },
   {
    "duration": 79,
    "start_time": "2024-04-18T21:19:09.806Z"
   },
   {
    "duration": 1532,
    "start_time": "2024-04-18T21:19:52.410Z"
   },
   {
    "duration": 1431,
    "start_time": "2024-04-18T21:20:19.387Z"
   },
   {
    "duration": 179,
    "start_time": "2024-04-18T21:22:04.799Z"
   },
   {
    "duration": 162,
    "start_time": "2024-04-18T21:22:13.934Z"
   },
   {
    "duration": 248,
    "start_time": "2024-04-18T21:22:28.429Z"
   },
   {
    "duration": 1507,
    "start_time": "2024-04-18T21:23:15.106Z"
   },
   {
    "duration": 162,
    "start_time": "2024-04-18T21:32:04.884Z"
   },
   {
    "duration": 157,
    "start_time": "2024-04-18T21:32:13.059Z"
   },
   {
    "duration": 10,
    "start_time": "2024-04-18T21:37:24.332Z"
   },
   {
    "duration": 192,
    "start_time": "2024-04-18T21:37:39.100Z"
   },
   {
    "duration": 104,
    "start_time": "2024-04-18T21:38:01.436Z"
   },
   {
    "duration": 5848,
    "start_time": "2024-04-18T21:38:21.391Z"
   },
   {
    "duration": 105,
    "start_time": "2024-04-18T21:38:48.154Z"
   },
   {
    "duration": 93,
    "start_time": "2024-04-18T21:38:54.667Z"
   },
   {
    "duration": 11,
    "start_time": "2024-04-18T21:39:34.568Z"
   },
   {
    "duration": 102,
    "start_time": "2024-04-18T21:39:41.590Z"
   },
   {
    "duration": 103,
    "start_time": "2024-04-18T21:39:51.623Z"
   },
   {
    "duration": 11,
    "start_time": "2024-04-18T21:41:22.794Z"
   },
   {
    "duration": 10,
    "start_time": "2024-04-18T21:41:49.059Z"
   },
   {
    "duration": 8,
    "start_time": "2024-04-18T21:42:34.871Z"
   },
   {
    "duration": 4,
    "start_time": "2024-04-18T21:42:51.320Z"
   },
   {
    "duration": 12,
    "start_time": "2024-04-18T21:43:10.849Z"
   },
   {
    "duration": 127,
    "start_time": "2024-04-18T21:43:18.186Z"
   },
   {
    "duration": 147,
    "start_time": "2024-04-18T21:43:49.965Z"
   },
   {
    "duration": 286,
    "start_time": "2024-04-18T21:44:45.198Z"
   },
   {
    "duration": 1081,
    "start_time": "2024-04-18T21:45:12.463Z"
   },
   {
    "duration": 54,
    "start_time": "2024-04-18T21:45:13.546Z"
   },
   {
    "duration": 17,
    "start_time": "2024-04-18T21:45:13.602Z"
   },
   {
    "duration": 14,
    "start_time": "2024-04-18T21:45:13.620Z"
   },
   {
    "duration": 4,
    "start_time": "2024-04-18T21:45:13.635Z"
   },
   {
    "duration": 7,
    "start_time": "2024-04-18T21:45:13.640Z"
   },
   {
    "duration": 5,
    "start_time": "2024-04-18T21:45:13.648Z"
   },
   {
    "duration": 12,
    "start_time": "2024-04-18T21:45:13.654Z"
   },
   {
    "duration": 8,
    "start_time": "2024-04-18T21:45:13.667Z"
   },
   {
    "duration": 17,
    "start_time": "2024-04-18T21:45:13.699Z"
   },
   {
    "duration": 15,
    "start_time": "2024-04-18T21:45:13.717Z"
   },
   {
    "duration": 13,
    "start_time": "2024-04-18T21:45:13.733Z"
   },
   {
    "duration": 9,
    "start_time": "2024-04-18T21:45:13.748Z"
   },
   {
    "duration": 98,
    "start_time": "2024-04-18T21:45:13.758Z"
   },
   {
    "duration": 6,
    "start_time": "2024-04-18T21:45:13.857Z"
   },
   {
    "duration": 201,
    "start_time": "2024-04-18T21:45:13.865Z"
   },
   {
    "duration": 6,
    "start_time": "2024-04-18T21:45:14.068Z"
   },
   {
    "duration": 286,
    "start_time": "2024-04-18T21:45:14.075Z"
   },
   {
    "duration": 22,
    "start_time": "2024-04-18T21:45:14.363Z"
   },
   {
    "duration": 19,
    "start_time": "2024-04-18T21:45:14.386Z"
   },
   {
    "duration": 266,
    "start_time": "2024-04-18T21:45:14.407Z"
   },
   {
    "duration": 235,
    "start_time": "2024-04-18T21:45:14.674Z"
   },
   {
    "duration": 242,
    "start_time": "2024-04-18T21:45:14.911Z"
   },
   {
    "duration": 169,
    "start_time": "2024-04-18T21:45:15.154Z"
   },
   {
    "duration": 235,
    "start_time": "2024-04-18T21:45:15.324Z"
   },
   {
    "duration": 1429,
    "start_time": "2024-04-18T21:45:15.561Z"
   },
   {
    "duration": 333,
    "start_time": "2024-04-18T21:45:17.000Z"
   },
   {
    "duration": 12,
    "start_time": "2024-04-18T21:45:17.336Z"
   },
   {
    "duration": 21,
    "start_time": "2024-04-18T21:45:17.349Z"
   },
   {
    "duration": 11,
    "start_time": "2024-04-18T21:45:17.372Z"
   },
   {
    "duration": 218,
    "start_time": "2024-04-18T21:45:17.384Z"
   },
   {
    "duration": 201,
    "start_time": "2024-04-18T21:45:17.604Z"
   },
   {
    "duration": 192,
    "start_time": "2024-04-18T21:45:17.807Z"
   },
   {
    "duration": 153,
    "start_time": "2024-04-18T21:45:18.001Z"
   },
   {
    "duration": 162,
    "start_time": "2024-04-18T21:45:18.156Z"
   },
   {
    "duration": 137,
    "start_time": "2024-04-18T21:45:18.320Z"
   },
   {
    "duration": 127,
    "start_time": "2024-04-18T21:45:18.458Z"
   },
   {
    "duration": 129,
    "start_time": "2024-04-18T21:45:18.586Z"
   },
   {
    "duration": 9,
    "start_time": "2024-04-18T21:45:18.717Z"
   },
   {
    "duration": 12,
    "start_time": "2024-04-18T21:45:18.727Z"
   },
   {
    "duration": 10,
    "start_time": "2024-04-18T21:45:18.741Z"
   },
   {
    "duration": 145,
    "start_time": "2024-04-18T21:46:03.188Z"
   },
   {
    "duration": 90,
    "start_time": "2024-04-18T21:47:32.656Z"
   },
   {
    "duration": 14,
    "start_time": "2024-04-18T21:47:50.444Z"
   },
   {
    "duration": 12,
    "start_time": "2024-04-18T21:49:10.727Z"
   },
   {
    "duration": 214,
    "start_time": "2024-04-18T21:51:42.895Z"
   },
   {
    "duration": 156,
    "start_time": "2024-04-18T21:52:18.407Z"
   },
   {
    "duration": 10,
    "start_time": "2024-04-18T21:52:35.051Z"
   },
   {
    "duration": 10,
    "start_time": "2024-04-18T21:53:18.061Z"
   },
   {
    "duration": 12,
    "start_time": "2024-04-18T21:54:07.777Z"
   },
   {
    "duration": 11,
    "start_time": "2024-04-18T21:54:24.510Z"
   },
   {
    "duration": 11,
    "start_time": "2024-04-18T21:55:18.765Z"
   },
   {
    "duration": 163,
    "start_time": "2024-04-18T21:55:27.422Z"
   },
   {
    "duration": 146,
    "start_time": "2024-04-18T21:55:46.151Z"
   },
   {
    "duration": 150,
    "start_time": "2024-04-18T21:55:54.855Z"
   },
   {
    "duration": 157,
    "start_time": "2024-04-18T21:56:00.088Z"
   },
   {
    "duration": 10,
    "start_time": "2024-04-18T21:58:30.330Z"
   },
   {
    "duration": 10,
    "start_time": "2024-04-18T21:59:27.407Z"
   },
   {
    "duration": 10,
    "start_time": "2024-04-18T21:59:38.741Z"
   },
   {
    "duration": 9,
    "start_time": "2024-04-18T21:59:50.720Z"
   },
   {
    "duration": 12,
    "start_time": "2024-04-18T22:01:23.960Z"
   },
   {
    "duration": 10,
    "start_time": "2024-04-18T22:01:43.566Z"
   },
   {
    "duration": 151,
    "start_time": "2024-04-18T22:01:58.804Z"
   },
   {
    "duration": 1058,
    "start_time": "2024-04-18T22:34:07.528Z"
   },
   {
    "duration": 52,
    "start_time": "2024-04-18T22:34:08.588Z"
   },
   {
    "duration": 18,
    "start_time": "2024-04-18T22:34:08.642Z"
   },
   {
    "duration": 15,
    "start_time": "2024-04-18T22:34:08.662Z"
   },
   {
    "duration": 5,
    "start_time": "2024-04-18T22:34:08.679Z"
   },
   {
    "duration": 6,
    "start_time": "2024-04-18T22:34:08.698Z"
   },
   {
    "duration": 15,
    "start_time": "2024-04-18T22:34:08.706Z"
   },
   {
    "duration": 7,
    "start_time": "2024-04-18T22:34:08.723Z"
   },
   {
    "duration": 10,
    "start_time": "2024-04-18T22:34:08.731Z"
   },
   {
    "duration": 18,
    "start_time": "2024-04-18T22:34:08.744Z"
   },
   {
    "duration": 48,
    "start_time": "2024-04-18T22:34:08.763Z"
   },
   {
    "duration": 13,
    "start_time": "2024-04-18T22:34:08.812Z"
   },
   {
    "duration": 9,
    "start_time": "2024-04-18T22:34:08.826Z"
   },
   {
    "duration": 97,
    "start_time": "2024-04-18T22:34:08.836Z"
   },
   {
    "duration": 6,
    "start_time": "2024-04-18T22:34:08.934Z"
   },
   {
    "duration": 207,
    "start_time": "2024-04-18T22:34:08.941Z"
   },
   {
    "duration": 7,
    "start_time": "2024-04-18T22:34:09.149Z"
   },
   {
    "duration": 300,
    "start_time": "2024-04-18T22:34:09.157Z"
   },
   {
    "duration": 23,
    "start_time": "2024-04-18T22:34:09.458Z"
   },
   {
    "duration": 22,
    "start_time": "2024-04-18T22:34:09.483Z"
   },
   {
    "duration": 272,
    "start_time": "2024-04-18T22:34:09.506Z"
   },
   {
    "duration": 240,
    "start_time": "2024-04-18T22:34:09.779Z"
   },
   {
    "duration": 244,
    "start_time": "2024-04-18T22:34:10.020Z"
   },
   {
    "duration": 159,
    "start_time": "2024-04-18T22:34:10.265Z"
   },
   {
    "duration": 234,
    "start_time": "2024-04-18T22:34:10.426Z"
   },
   {
    "duration": 1392,
    "start_time": "2024-04-18T22:34:10.661Z"
   },
   {
    "duration": 329,
    "start_time": "2024-04-18T22:34:12.054Z"
   },
   {
    "duration": 17,
    "start_time": "2024-04-18T22:34:12.386Z"
   },
   {
    "duration": 21,
    "start_time": "2024-04-18T22:34:12.405Z"
   },
   {
    "duration": 11,
    "start_time": "2024-04-18T22:34:12.427Z"
   },
   {
    "duration": 211,
    "start_time": "2024-04-18T22:34:12.439Z"
   },
   {
    "duration": 194,
    "start_time": "2024-04-18T22:34:12.651Z"
   },
   {
    "duration": 189,
    "start_time": "2024-04-18T22:34:12.846Z"
   },
   {
    "duration": 131,
    "start_time": "2024-04-18T22:34:13.036Z"
   },
   {
    "duration": 128,
    "start_time": "2024-04-18T22:34:13.169Z"
   },
   {
    "duration": 131,
    "start_time": "2024-04-18T22:34:13.299Z"
   },
   {
    "duration": 7,
    "start_time": "2024-04-18T22:34:13.432Z"
   },
   {
    "duration": 10,
    "start_time": "2024-04-18T22:34:13.440Z"
   },
   {
    "duration": 8,
    "start_time": "2024-04-18T22:34:13.452Z"
   },
   {
    "duration": 1069,
    "start_time": "2024-04-19T00:01:49.348Z"
   },
   {
    "duration": 52,
    "start_time": "2024-04-19T00:01:50.419Z"
   },
   {
    "duration": 58,
    "start_time": "2024-04-19T00:01:50.473Z"
   },
   {
    "duration": 46,
    "start_time": "2024-04-19T00:01:50.532Z"
   },
   {
    "duration": 17,
    "start_time": "2024-04-19T00:01:50.580Z"
   },
   {
    "duration": 35,
    "start_time": "2024-04-19T00:01:50.598Z"
   },
   {
    "duration": 44,
    "start_time": "2024-04-19T00:01:50.635Z"
   },
   {
    "duration": 41,
    "start_time": "2024-04-19T00:01:50.680Z"
   },
   {
    "duration": 33,
    "start_time": "2024-04-19T00:01:50.722Z"
   },
   {
    "duration": 37,
    "start_time": "2024-04-19T00:01:50.757Z"
   },
   {
    "duration": 49,
    "start_time": "2024-04-19T00:01:50.795Z"
   },
   {
    "duration": 55,
    "start_time": "2024-04-19T00:01:50.845Z"
   },
   {
    "duration": 24,
    "start_time": "2024-04-19T00:01:50.902Z"
   },
   {
    "duration": 96,
    "start_time": "2024-04-19T00:01:50.929Z"
   },
   {
    "duration": 7,
    "start_time": "2024-04-19T00:01:51.026Z"
   },
   {
    "duration": 224,
    "start_time": "2024-04-19T00:01:51.034Z"
   },
   {
    "duration": 6,
    "start_time": "2024-04-19T00:01:51.260Z"
   },
   {
    "duration": 303,
    "start_time": "2024-04-19T00:01:51.274Z"
   },
   {
    "duration": 24,
    "start_time": "2024-04-19T00:01:51.579Z"
   },
   {
    "duration": 18,
    "start_time": "2024-04-19T00:01:51.605Z"
   },
   {
    "duration": 305,
    "start_time": "2024-04-19T00:01:51.625Z"
   },
   {
    "duration": 253,
    "start_time": "2024-04-19T00:01:51.932Z"
   },
   {
    "duration": 241,
    "start_time": "2024-04-19T00:01:52.187Z"
   },
   {
    "duration": 165,
    "start_time": "2024-04-19T00:01:52.429Z"
   },
   {
    "duration": 233,
    "start_time": "2024-04-19T00:01:52.595Z"
   },
   {
    "duration": 1435,
    "start_time": "2024-04-19T00:01:52.829Z"
   },
   {
    "duration": 334,
    "start_time": "2024-04-19T00:01:54.274Z"
   },
   {
    "duration": 12,
    "start_time": "2024-04-19T00:01:54.609Z"
   },
   {
    "duration": 43,
    "start_time": "2024-04-19T00:01:54.622Z"
   },
   {
    "duration": 38,
    "start_time": "2024-04-19T00:01:54.667Z"
   },
   {
    "duration": 206,
    "start_time": "2024-04-19T00:01:54.706Z"
   },
   {
    "duration": 201,
    "start_time": "2024-04-19T00:01:54.913Z"
   },
   {
    "duration": 208,
    "start_time": "2024-04-19T00:01:55.116Z"
   },
   {
    "duration": 137,
    "start_time": "2024-04-19T00:01:55.325Z"
   },
   {
    "duration": 131,
    "start_time": "2024-04-19T00:01:55.464Z"
   },
   {
    "duration": 138,
    "start_time": "2024-04-19T00:01:55.597Z"
   },
   {
    "duration": 8,
    "start_time": "2024-04-19T00:01:55.736Z"
   },
   {
    "duration": 12,
    "start_time": "2024-04-19T00:01:55.745Z"
   },
   {
    "duration": 22,
    "start_time": "2024-04-19T00:01:55.759Z"
   },
   {
    "duration": 1154,
    "start_time": "2024-04-19T00:03:03.656Z"
   },
   {
    "duration": 52,
    "start_time": "2024-04-19T00:03:04.812Z"
   },
   {
    "duration": 17,
    "start_time": "2024-04-19T00:03:04.866Z"
   },
   {
    "duration": 29,
    "start_time": "2024-04-19T00:03:04.884Z"
   },
   {
    "duration": 5,
    "start_time": "2024-04-19T00:03:04.914Z"
   },
   {
    "duration": 36,
    "start_time": "2024-04-19T00:03:04.920Z"
   },
   {
    "duration": 24,
    "start_time": "2024-04-19T00:03:04.957Z"
   },
   {
    "duration": 28,
    "start_time": "2024-04-19T00:03:04.983Z"
   },
   {
    "duration": 42,
    "start_time": "2024-04-19T00:03:05.013Z"
   },
   {
    "duration": 44,
    "start_time": "2024-04-19T00:03:05.058Z"
   },
   {
    "duration": 17,
    "start_time": "2024-04-19T00:03:05.103Z"
   },
   {
    "duration": 40,
    "start_time": "2024-04-19T00:03:05.121Z"
   },
   {
    "duration": 8,
    "start_time": "2024-04-19T00:03:05.163Z"
   },
   {
    "duration": 70,
    "start_time": "2024-04-19T00:03:05.173Z"
   },
   {
    "duration": 6,
    "start_time": "2024-04-19T00:03:05.245Z"
   },
   {
    "duration": 202,
    "start_time": "2024-04-19T00:03:05.252Z"
   },
   {
    "duration": 6,
    "start_time": "2024-04-19T00:03:05.456Z"
   },
   {
    "duration": 308,
    "start_time": "2024-04-19T00:03:05.464Z"
   },
   {
    "duration": 25,
    "start_time": "2024-04-19T00:03:05.774Z"
   },
   {
    "duration": 25,
    "start_time": "2024-04-19T00:03:05.800Z"
   },
   {
    "duration": 306,
    "start_time": "2024-04-19T00:03:05.826Z"
   },
   {
    "duration": 263,
    "start_time": "2024-04-19T00:03:06.134Z"
   },
   {
    "duration": 250,
    "start_time": "2024-04-19T00:03:06.398Z"
   },
   {
    "duration": 162,
    "start_time": "2024-04-19T00:03:06.650Z"
   },
   {
    "duration": 237,
    "start_time": "2024-04-19T00:03:06.814Z"
   },
   {
    "duration": 1429,
    "start_time": "2024-04-19T00:03:07.052Z"
   },
   {
    "duration": 340,
    "start_time": "2024-04-19T00:03:08.483Z"
   },
   {
    "duration": 11,
    "start_time": "2024-04-19T00:03:08.826Z"
   },
   {
    "duration": 13,
    "start_time": "2024-04-19T00:03:08.839Z"
   },
   {
    "duration": 25,
    "start_time": "2024-04-19T00:03:08.853Z"
   },
   {
    "duration": 200,
    "start_time": "2024-04-19T00:03:08.880Z"
   },
   {
    "duration": 203,
    "start_time": "2024-04-19T00:03:09.082Z"
   },
   {
    "duration": 188,
    "start_time": "2024-04-19T00:03:09.286Z"
   },
   {
    "duration": 131,
    "start_time": "2024-04-19T00:03:09.476Z"
   },
   {
    "duration": 136,
    "start_time": "2024-04-19T00:03:09.609Z"
   },
   {
    "duration": 133,
    "start_time": "2024-04-19T00:03:09.746Z"
   },
   {
    "duration": 7,
    "start_time": "2024-04-19T00:03:09.881Z"
   },
   {
    "duration": 12,
    "start_time": "2024-04-19T00:03:09.889Z"
   },
   {
    "duration": 11,
    "start_time": "2024-04-19T00:03:09.903Z"
   },
   {
    "duration": 92,
    "start_time": "2024-04-19T00:05:17.364Z"
   },
   {
    "duration": 90,
    "start_time": "2024-04-19T00:05:29.697Z"
   },
   {
    "duration": 18,
    "start_time": "2024-04-19T00:05:44.997Z"
   },
   {
    "duration": 1061,
    "start_time": "2024-04-19T00:05:52.352Z"
   },
   {
    "duration": 52,
    "start_time": "2024-04-19T00:05:53.415Z"
   },
   {
    "duration": 18,
    "start_time": "2024-04-19T00:05:53.469Z"
   },
   {
    "duration": 14,
    "start_time": "2024-04-19T00:05:53.488Z"
   },
   {
    "duration": 7,
    "start_time": "2024-04-19T00:05:53.504Z"
   },
   {
    "duration": 8,
    "start_time": "2024-04-19T00:05:53.512Z"
   },
   {
    "duration": 5,
    "start_time": "2024-04-19T00:05:53.521Z"
   },
   {
    "duration": 7,
    "start_time": "2024-04-19T00:05:53.527Z"
   },
   {
    "duration": 10,
    "start_time": "2024-04-19T00:05:53.535Z"
   },
   {
    "duration": 39,
    "start_time": "2024-04-19T00:05:53.546Z"
   },
   {
    "duration": 14,
    "start_time": "2024-04-19T00:05:53.587Z"
   },
   {
    "duration": 36,
    "start_time": "2024-04-19T00:05:53.603Z"
   },
   {
    "duration": 9,
    "start_time": "2024-04-19T00:05:53.640Z"
   },
   {
    "duration": 33,
    "start_time": "2024-04-19T00:05:53.651Z"
   },
   {
    "duration": 117,
    "start_time": "2024-04-19T00:05:53.685Z"
   },
   {
    "duration": 6,
    "start_time": "2024-04-19T00:05:53.804Z"
   },
   {
    "duration": 394,
    "start_time": "2024-04-19T00:05:53.812Z"
   },
   {
    "duration": 6,
    "start_time": "2024-04-19T00:05:54.207Z"
   },
   {
    "duration": 591,
    "start_time": "2024-04-19T00:05:54.214Z"
   },
   {
    "duration": 76,
    "start_time": "2024-04-19T00:05:54.806Z"
   },
   {
    "duration": 8,
    "start_time": "2024-04-19T00:05:54.883Z"
   },
   {
    "duration": 336,
    "start_time": "2024-04-19T00:05:54.893Z"
   },
   {
    "duration": 235,
    "start_time": "2024-04-19T00:05:55.230Z"
   },
   {
    "duration": 241,
    "start_time": "2024-04-19T00:05:55.467Z"
   },
   {
    "duration": 158,
    "start_time": "2024-04-19T00:05:55.710Z"
   },
   {
    "duration": 235,
    "start_time": "2024-04-19T00:05:55.875Z"
   },
   {
    "duration": 1378,
    "start_time": "2024-04-19T00:05:56.111Z"
   },
   {
    "duration": 331,
    "start_time": "2024-04-19T00:05:57.490Z"
   },
   {
    "duration": 11,
    "start_time": "2024-04-19T00:05:57.822Z"
   },
   {
    "duration": 91,
    "start_time": "2024-04-19T00:05:57.835Z"
   },
   {
    "duration": 49,
    "start_time": "2024-04-19T00:05:57.928Z"
   },
   {
    "duration": 273,
    "start_time": "2024-04-19T00:05:57.978Z"
   },
   {
    "duration": 193,
    "start_time": "2024-04-19T00:05:58.252Z"
   },
   {
    "duration": 196,
    "start_time": "2024-04-19T00:05:58.447Z"
   },
   {
    "duration": 130,
    "start_time": "2024-04-19T00:05:58.644Z"
   },
   {
    "duration": 122,
    "start_time": "2024-04-19T00:05:58.775Z"
   },
   {
    "duration": 132,
    "start_time": "2024-04-19T00:05:58.898Z"
   },
   {
    "duration": 8,
    "start_time": "2024-04-19T00:05:59.031Z"
   },
   {
    "duration": 21,
    "start_time": "2024-04-19T00:05:59.040Z"
   },
   {
    "duration": 18,
    "start_time": "2024-04-19T00:05:59.062Z"
   }
  ],
  "kernelspec": {
   "display_name": "Python 3 (ipykernel)",
   "language": "python",
   "name": "python3"
  },
  "language_info": {
   "codemirror_mode": {
    "name": "ipython",
    "version": 3
   },
   "file_extension": ".py",
   "mimetype": "text/x-python",
   "name": "python",
   "nbconvert_exporter": "python",
   "pygments_lexer": "ipython3",
   "version": "3.9.5"
  },
  "toc": {
   "base_numbering": 1,
   "nav_menu": {},
   "number_sections": true,
   "sideBar": true,
   "skip_h1_title": true,
   "title_cell": "Table of Contents",
   "title_sidebar": "Contents",
   "toc_cell": false,
   "toc_position": {
    "height": "calc(100% - 180px)",
    "left": "10px",
    "top": "150px",
    "width": "268.423px"
   },
   "toc_section_display": true,
   "toc_window_display": true
  }
 },
 "nbformat": 4,
 "nbformat_minor": 2
}
