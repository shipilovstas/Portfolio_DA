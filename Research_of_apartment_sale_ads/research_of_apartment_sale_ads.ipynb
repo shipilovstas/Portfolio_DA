{
 "cells": [
  {
   "cell_type": "markdown",
   "metadata": {
    "id": "-VFbjcb3Awb7"
   },
   "source": [
    "# Исследование объявлений о продаже квартир\n",
    "\n",
    "В вашем распоряжении данные сервиса Яндекс Недвижимость — архив объявлений о продаже квартир в Санкт-Петербурге и соседних населённых пунктах за несколько лет. Вам нужно научиться определять рыночную стоимость объектов недвижимости. Для этого проведите исследовательский анализ данных и установите параметры, влияющие на цену объектов. Это позволит построить автоматизированную систему: она отследит аномалии и мошенническую деятельность.\n",
    "\n",
    "По каждой квартире на продажу доступны два вида данных. Первые вписаны пользователем, вторые — получены автоматически на основе картографических данных. Например, расстояние до центра, аэропорта и других объектов — эти данные автоматически получены из геосервисов. Количество парков и водоёмов также заполняется без участия пользователя.\n",
    "\n",
    "**Цель исследования:**\n",
    "1. Определить рыночную стоимость объектов недвижимости;\n",
    "2. Построить автоматизированную систему, которая отследит аномалии и мошенническую деятельность;\n",
    "3. Установить, какие факторы влияют на ценообразование стоимости квартир.\n",
    "\n",
    "    **Ход исследования**\n",
    "\n",
    "    Данные о недвижимости получу из файла '/datasets/real_estate_data.csv'. О качестве данных ничего неизвестно, поэтому перед тем, как приступать к целям исследования, понадобится обзор данных.\n",
    "\n",
    "    Я проверю данные на ошибки и оценю их влияние на исследование. Затем, на этапе предобработки я поищу возможность исправить все ошибки данных, которые не приведут к искажению конечного результата. Далее, создам необходимые столбцы и приступлю к проведению исследовательского анализа.\n",
    "\n",
    "    Таким образом, моё исследование пройдёт в семь этапов:\n",
    "    \n",
    "    * Обзор данных;\n",
    "    * Предобработка данных;\n",
    "    * Расчеты и добавление результатов в таблицу;\n",
    "    * Проведение анализа для Ленинградской области;\n",
    "    * Проведение анализа для Санкт-Петербурга;\n",
    "    * Поиск различий в факторах, которые определяют ценообразование стоимости квартир;\n",
    "    * Написание общего вывода.\n",
    "    "
   ]
  },
  {
   "cell_type": "markdown",
   "metadata": {
    "id": "aeFLH07FAwb9"
   },
   "source": [
    "## Открытие файла и изучение общей информации."
   ]
  },
  {
   "cell_type": "code",
   "execution_count": 1,
   "metadata": {},
   "outputs": [],
   "source": [
    "# Импорт библиотек\n",
    "import pandas as pd\n",
    "import matplotlib.pyplot as plt"
   ]
  },
  {
   "cell_type": "code",
   "execution_count": 2,
   "metadata": {},
   "outputs": [],
   "source": [
    "# Открытие данных и разделение колонок, столбцов\n",
    "data = pd.read_csv('/datasets/real_estate_data.csv', sep = '\\t')"
   ]
  },
  {
   "cell_type": "code",
   "execution_count": 3,
   "metadata": {},
   "outputs": [
    {
     "data": {
      "text/html": [
       "<div>\n",
       "<style scoped>\n",
       "    .dataframe tbody tr th:only-of-type {\n",
       "        vertical-align: middle;\n",
       "    }\n",
       "\n",
       "    .dataframe tbody tr th {\n",
       "        vertical-align: top;\n",
       "    }\n",
       "\n",
       "    .dataframe thead th {\n",
       "        text-align: right;\n",
       "    }\n",
       "</style>\n",
       "<table border=\"1\" class=\"dataframe\">\n",
       "  <thead>\n",
       "    <tr style=\"text-align: right;\">\n",
       "      <th></th>\n",
       "      <th>total_images</th>\n",
       "      <th>last_price</th>\n",
       "      <th>total_area</th>\n",
       "      <th>first_day_exposition</th>\n",
       "      <th>rooms</th>\n",
       "      <th>ceiling_height</th>\n",
       "      <th>floors_total</th>\n",
       "      <th>living_area</th>\n",
       "      <th>floor</th>\n",
       "      <th>is_apartment</th>\n",
       "      <th>...</th>\n",
       "      <th>kitchen_area</th>\n",
       "      <th>balcony</th>\n",
       "      <th>locality_name</th>\n",
       "      <th>airports_nearest</th>\n",
       "      <th>cityCenters_nearest</th>\n",
       "      <th>parks_around3000</th>\n",
       "      <th>parks_nearest</th>\n",
       "      <th>ponds_around3000</th>\n",
       "      <th>ponds_nearest</th>\n",
       "      <th>days_exposition</th>\n",
       "    </tr>\n",
       "  </thead>\n",
       "  <tbody>\n",
       "    <tr>\n",
       "      <th>0</th>\n",
       "      <td>20</td>\n",
       "      <td>13000000.0</td>\n",
       "      <td>108.0</td>\n",
       "      <td>2019-03-07T00:00:00</td>\n",
       "      <td>3</td>\n",
       "      <td>2.70</td>\n",
       "      <td>16.0</td>\n",
       "      <td>51.0</td>\n",
       "      <td>8</td>\n",
       "      <td>NaN</td>\n",
       "      <td>...</td>\n",
       "      <td>25.0</td>\n",
       "      <td>NaN</td>\n",
       "      <td>Санкт-Петербург</td>\n",
       "      <td>18863.0</td>\n",
       "      <td>16028.0</td>\n",
       "      <td>1.0</td>\n",
       "      <td>482.0</td>\n",
       "      <td>2.0</td>\n",
       "      <td>755.0</td>\n",
       "      <td>NaN</td>\n",
       "    </tr>\n",
       "    <tr>\n",
       "      <th>1</th>\n",
       "      <td>7</td>\n",
       "      <td>3350000.0</td>\n",
       "      <td>40.4</td>\n",
       "      <td>2018-12-04T00:00:00</td>\n",
       "      <td>1</td>\n",
       "      <td>NaN</td>\n",
       "      <td>11.0</td>\n",
       "      <td>18.6</td>\n",
       "      <td>1</td>\n",
       "      <td>NaN</td>\n",
       "      <td>...</td>\n",
       "      <td>11.0</td>\n",
       "      <td>2.0</td>\n",
       "      <td>посёлок Шушары</td>\n",
       "      <td>12817.0</td>\n",
       "      <td>18603.0</td>\n",
       "      <td>0.0</td>\n",
       "      <td>NaN</td>\n",
       "      <td>0.0</td>\n",
       "      <td>NaN</td>\n",
       "      <td>81.0</td>\n",
       "    </tr>\n",
       "    <tr>\n",
       "      <th>2</th>\n",
       "      <td>10</td>\n",
       "      <td>5196000.0</td>\n",
       "      <td>56.0</td>\n",
       "      <td>2015-08-20T00:00:00</td>\n",
       "      <td>2</td>\n",
       "      <td>NaN</td>\n",
       "      <td>5.0</td>\n",
       "      <td>34.3</td>\n",
       "      <td>4</td>\n",
       "      <td>NaN</td>\n",
       "      <td>...</td>\n",
       "      <td>8.3</td>\n",
       "      <td>0.0</td>\n",
       "      <td>Санкт-Петербург</td>\n",
       "      <td>21741.0</td>\n",
       "      <td>13933.0</td>\n",
       "      <td>1.0</td>\n",
       "      <td>90.0</td>\n",
       "      <td>2.0</td>\n",
       "      <td>574.0</td>\n",
       "      <td>558.0</td>\n",
       "    </tr>\n",
       "    <tr>\n",
       "      <th>3</th>\n",
       "      <td>0</td>\n",
       "      <td>64900000.0</td>\n",
       "      <td>159.0</td>\n",
       "      <td>2015-07-24T00:00:00</td>\n",
       "      <td>3</td>\n",
       "      <td>NaN</td>\n",
       "      <td>14.0</td>\n",
       "      <td>NaN</td>\n",
       "      <td>9</td>\n",
       "      <td>NaN</td>\n",
       "      <td>...</td>\n",
       "      <td>NaN</td>\n",
       "      <td>0.0</td>\n",
       "      <td>Санкт-Петербург</td>\n",
       "      <td>28098.0</td>\n",
       "      <td>6800.0</td>\n",
       "      <td>2.0</td>\n",
       "      <td>84.0</td>\n",
       "      <td>3.0</td>\n",
       "      <td>234.0</td>\n",
       "      <td>424.0</td>\n",
       "    </tr>\n",
       "    <tr>\n",
       "      <th>4</th>\n",
       "      <td>2</td>\n",
       "      <td>10000000.0</td>\n",
       "      <td>100.0</td>\n",
       "      <td>2018-06-19T00:00:00</td>\n",
       "      <td>2</td>\n",
       "      <td>3.03</td>\n",
       "      <td>14.0</td>\n",
       "      <td>32.0</td>\n",
       "      <td>13</td>\n",
       "      <td>NaN</td>\n",
       "      <td>...</td>\n",
       "      <td>41.0</td>\n",
       "      <td>NaN</td>\n",
       "      <td>Санкт-Петербург</td>\n",
       "      <td>31856.0</td>\n",
       "      <td>8098.0</td>\n",
       "      <td>2.0</td>\n",
       "      <td>112.0</td>\n",
       "      <td>1.0</td>\n",
       "      <td>48.0</td>\n",
       "      <td>121.0</td>\n",
       "    </tr>\n",
       "  </tbody>\n",
       "</table>\n",
       "<p>5 rows × 22 columns</p>\n",
       "</div>"
      ],
      "text/plain": [
       "   total_images  last_price  total_area first_day_exposition  rooms  \\\n",
       "0            20  13000000.0       108.0  2019-03-07T00:00:00      3   \n",
       "1             7   3350000.0        40.4  2018-12-04T00:00:00      1   \n",
       "2            10   5196000.0        56.0  2015-08-20T00:00:00      2   \n",
       "3             0  64900000.0       159.0  2015-07-24T00:00:00      3   \n",
       "4             2  10000000.0       100.0  2018-06-19T00:00:00      2   \n",
       "\n",
       "   ceiling_height  floors_total  living_area  floor is_apartment  ...  \\\n",
       "0            2.70          16.0         51.0      8          NaN  ...   \n",
       "1             NaN          11.0         18.6      1          NaN  ...   \n",
       "2             NaN           5.0         34.3      4          NaN  ...   \n",
       "3             NaN          14.0          NaN      9          NaN  ...   \n",
       "4            3.03          14.0         32.0     13          NaN  ...   \n",
       "\n",
       "   kitchen_area  balcony    locality_name  airports_nearest  \\\n",
       "0          25.0      NaN  Санкт-Петербург           18863.0   \n",
       "1          11.0      2.0   посёлок Шушары           12817.0   \n",
       "2           8.3      0.0  Санкт-Петербург           21741.0   \n",
       "3           NaN      0.0  Санкт-Петербург           28098.0   \n",
       "4          41.0      NaN  Санкт-Петербург           31856.0   \n",
       "\n",
       "  cityCenters_nearest  parks_around3000  parks_nearest  ponds_around3000  \\\n",
       "0             16028.0               1.0          482.0               2.0   \n",
       "1             18603.0               0.0            NaN               0.0   \n",
       "2             13933.0               1.0           90.0               2.0   \n",
       "3              6800.0               2.0           84.0               3.0   \n",
       "4              8098.0               2.0          112.0               1.0   \n",
       "\n",
       "   ponds_nearest  days_exposition  \n",
       "0          755.0              NaN  \n",
       "1            NaN             81.0  \n",
       "2          574.0            558.0  \n",
       "3          234.0            424.0  \n",
       "4           48.0            121.0  \n",
       "\n",
       "[5 rows x 22 columns]"
      ]
     },
     "metadata": {},
     "output_type": "display_data"
    }
   ],
   "source": [
    "# Вывод методом display() первых пяти строк методом head()\n",
    "display(data.head())"
   ]
  },
  {
   "cell_type": "code",
   "execution_count": 4,
   "metadata": {},
   "outputs": [
    {
     "name": "stdout",
     "output_type": "stream",
     "text": [
      "<class 'pandas.core.frame.DataFrame'>\n",
      "RangeIndex: 23699 entries, 0 to 23698\n",
      "Data columns (total 22 columns):\n",
      " #   Column                Non-Null Count  Dtype  \n",
      "---  ------                --------------  -----  \n",
      " 0   total_images          23699 non-null  int64  \n",
      " 1   last_price            23699 non-null  float64\n",
      " 2   total_area            23699 non-null  float64\n",
      " 3   first_day_exposition  23699 non-null  object \n",
      " 4   rooms                 23699 non-null  int64  \n",
      " 5   ceiling_height        14504 non-null  float64\n",
      " 6   floors_total          23613 non-null  float64\n",
      " 7   living_area           21796 non-null  float64\n",
      " 8   floor                 23699 non-null  int64  \n",
      " 9   is_apartment          2775 non-null   object \n",
      " 10  studio                23699 non-null  bool   \n",
      " 11  open_plan             23699 non-null  bool   \n",
      " 12  kitchen_area          21421 non-null  float64\n",
      " 13  balcony               12180 non-null  float64\n",
      " 14  locality_name         23650 non-null  object \n",
      " 15  airports_nearest      18157 non-null  float64\n",
      " 16  cityCenters_nearest   18180 non-null  float64\n",
      " 17  parks_around3000      18181 non-null  float64\n",
      " 18  parks_nearest         8079 non-null   float64\n",
      " 19  ponds_around3000      18181 non-null  float64\n",
      " 20  ponds_nearest         9110 non-null   float64\n",
      " 21  days_exposition       20518 non-null  float64\n",
      "dtypes: bool(2), float64(14), int64(3), object(3)\n",
      "memory usage: 3.7+ MB\n"
     ]
    }
   ],
   "source": [
    "# Вывод информации обо всей таблице методом info()\n",
    "data.info()"
   ]
  },
  {
   "cell_type": "markdown",
   "metadata": {},
   "source": [
    "Исходя из полученной информации, можно сделать вывод о том, что:\n",
    "    \n",
    "* проблема с названием только одного столбца - `cityCenters_nearest` (прописная буква);\n",
    "* много пропусков в разных столбцах;\n",
    "* несоответствие типов данных, например, количество балконов это целое число.\n"
   ]
  },
  {
   "cell_type": "code",
   "execution_count": 5,
   "metadata": {},
   "outputs": [
    {
     "data": {
      "image/png": "[encoded data removed]",
      "text/plain": [
       "<Figure size 1080x1440 with 20 Axes>"
      ]
     },
     "metadata": {
      "needs_background": "light"
     },
     "output_type": "display_data"
    }
   ],
   "source": [
    "# Построение гистограмм методом hist, параметром figsize задаю размеры графиков\n",
    "data.hist(figsize=(15, 20))\n",
    "plt.show()"
   ]
  },
  {
   "cell_type": "markdown",
   "metadata": {},
   "source": [
    "По этим гистограммам видно:\n",
    "    \n",
    "* большое количество выбросов и аномальных значений (например, столбцы `total_area`,`last_price`)"
   ]
  },
  {
   "cell_type": "markdown",
   "metadata": {
    "id": "-O5NtivEAwb9"
   },
   "source": [
    "## Предобработка данных"
   ]
  },
  {
   "cell_type": "markdown",
   "metadata": {},
   "source": [
    "### Нахождение и изучение пропущенных значений в столбцах."
   ]
  },
  {
   "cell_type": "code",
   "execution_count": 6,
   "metadata": {
    "id": "7v3vAeTuAwb-"
   },
   "outputs": [
    {
     "data": {
      "text/plain": [
       "total_images                0\n",
       "last_price                  0\n",
       "total_area                  0\n",
       "first_day_exposition        0\n",
       "rooms                       0\n",
       "ceiling_height           9195\n",
       "floors_total               86\n",
       "living_area              1903\n",
       "floor                       0\n",
       "is_apartment            20924\n",
       "studio                      0\n",
       "open_plan                   0\n",
       "kitchen_area             2278\n",
       "balcony                 11519\n",
       "locality_name              49\n",
       "airports_nearest         5542\n",
       "cityCenters_nearest      5519\n",
       "parks_around3000         5518\n",
       "parks_nearest           15620\n",
       "ponds_around3000         5518\n",
       "ponds_nearest           14589\n",
       "days_exposition          3181\n",
       "dtype: int64"
      ]
     },
     "execution_count": 6,
     "metadata": {},
     "output_type": "execute_result"
    }
   ],
   "source": [
    "#Вывод пропущенных значений для каждого столбца датафрейма. Методом isna() они находятся, а методом sum() подсчитываются\n",
    "data.isna().sum()"
   ]
  },
  {
   "cell_type": "markdown",
   "metadata": {},
   "source": [
    "Во многих столбцах датафрейма оказались пропущенные значения. Больше всех от этого пострадали столбцы: с информацией о статусе объекта недвижимости `is_apartment` (20924 пропусков), `parks_nearest` (15620 пропусков) и  `ponds_nearest` (14589 пропусков).\n",
    "    \n",
    "Как известно из описания проекта, пропуски оказались в данных, вписанных пользователями (человеческий фактор) и полученные автоматически на основе картографических данных (технический сбой, ошибка в скрипте и т.д.)"
   ]
  },
  {
   "cell_type": "code",
   "execution_count": 7,
   "metadata": {},
   "outputs": [],
   "source": [
    "#заполнение пропусков в столбцах нулевыми значениями методом fillna() для нахождения NaN значений\n",
    "data['balcony'] = data['balcony'].fillna(0)"
   ]
  },
  {
   "cell_type": "markdown",
   "metadata": {},
   "source": [
    "В столбце с количеством балконов пропуски были заполнены нулевыми значениями, предполагая их отсутствие в квартирах."
   ]
  },
  {
   "cell_type": "code",
   "execution_count": 8,
   "metadata": {},
   "outputs": [],
   "source": [
    "# заполнение пропусков в булевой переменной значениями False\n",
    "data['is_apartment'] = data['is_apartment'].fillna(False)\n",
    "\n",
    "# замена символа в названии столбца `cityCenters_nearest`\n",
    "data.columns = data.columns.str.replace('cityCenters_nearest', 'citycenters_nearest')"
   ]
  },
  {
   "cell_type": "markdown",
   "metadata": {},
   "source": [
    "В столбце `is_apartment` пропуски были заполнены значениями False, так как они составляют большую часть датасета."
   ]
  },
  {
   "cell_type": "code",
   "execution_count": 9,
   "metadata": {},
   "outputs": [
    {
     "name": "stdout",
     "output_type": "stream",
     "text": [
      "<class 'pandas.core.frame.DataFrame'>\n",
      "RangeIndex: 23699 entries, 0 to 23698\n",
      "Data columns (total 22 columns):\n",
      " #   Column                Non-Null Count  Dtype  \n",
      "---  ------                --------------  -----  \n",
      " 0   total_images          23699 non-null  int64  \n",
      " 1   last_price            23699 non-null  float64\n",
      " 2   total_area            23699 non-null  float64\n",
      " 3   first_day_exposition  23699 non-null  object \n",
      " 4   rooms                 23699 non-null  int64  \n",
      " 5   ceiling_height        14504 non-null  float64\n",
      " 6   floors_total          23613 non-null  float64\n",
      " 7   living_area           21796 non-null  float64\n",
      " 8   floor                 23699 non-null  int64  \n",
      " 9   is_apartment          23699 non-null  bool   \n",
      " 10  studio                23699 non-null  bool   \n",
      " 11  open_plan             23699 non-null  bool   \n",
      " 12  kitchen_area          21421 non-null  float64\n",
      " 13  balcony               23699 non-null  float64\n",
      " 14  locality_name         23650 non-null  object \n",
      " 15  airports_nearest      18157 non-null  float64\n",
      " 16  citycenters_nearest   18180 non-null  float64\n",
      " 17  parks_around3000      18181 non-null  float64\n",
      " 18  parks_nearest         8079 non-null   float64\n",
      " 19  ponds_around3000      18181 non-null  float64\n",
      " 20  ponds_nearest         9110 non-null   float64\n",
      " 21  days_exposition       20518 non-null  float64\n",
      "dtypes: bool(3), float64(14), int64(3), object(2)\n",
      "memory usage: 3.5+ MB\n"
     ]
    }
   ],
   "source": [
    "data.info()"
   ]
  },
  {
   "cell_type": "code",
   "execution_count": 10,
   "metadata": {},
   "outputs": [
    {
     "data": {
      "text/plain": [
       "total_images                0\n",
       "last_price                  0\n",
       "total_area                  0\n",
       "first_day_exposition        0\n",
       "rooms                       0\n",
       "ceiling_height           9195\n",
       "floors_total               86\n",
       "living_area              1903\n",
       "floor                       0\n",
       "is_apartment                0\n",
       "studio                      0\n",
       "open_plan                   0\n",
       "kitchen_area             2278\n",
       "balcony                     0\n",
       "locality_name              49\n",
       "airports_nearest         5542\n",
       "citycenters_nearest      5519\n",
       "parks_around3000         5518\n",
       "parks_nearest           15620\n",
       "ponds_around3000         5518\n",
       "ponds_nearest           14589\n",
       "days_exposition          3181\n",
       "dtype: int64"
      ]
     },
     "execution_count": 10,
     "metadata": {},
     "output_type": "execute_result"
    }
   ],
   "source": [
    "# проверка оставшихся пропусков\n",
    "data.isna().sum()"
   ]
  },
  {
   "cell_type": "markdown",
   "metadata": {},
   "source": [
    "Возможными причинами пропуска данных являются: \n",
    "* Человеческий фактор\n",
    "* Технические проблемы \n",
    "* Повреждение файла с данными\n",
    "* Пропуски/ошибки в картографических данных"
   ]
  },
  {
   "cell_type": "markdown",
   "metadata": {},
   "source": [
    "### Рассмотрение типов данных в столбцах."
   ]
  },
  {
   "cell_type": "code",
   "execution_count": 11,
   "metadata": {},
   "outputs": [
    {
     "data": {
      "text/plain": [
       "total_images              int64\n",
       "last_price              float64\n",
       "total_area              float64\n",
       "first_day_exposition     object\n",
       "rooms                     int64\n",
       "ceiling_height          float64\n",
       "floors_total            float64\n",
       "living_area             float64\n",
       "floor                     int64\n",
       "is_apartment               bool\n",
       "studio                     bool\n",
       "open_plan                  bool\n",
       "kitchen_area            float64\n",
       "balcony                 float64\n",
       "locality_name            object\n",
       "airports_nearest        float64\n",
       "citycenters_nearest     float64\n",
       "parks_around3000        float64\n",
       "parks_nearest           float64\n",
       "ponds_around3000        float64\n",
       "ponds_nearest           float64\n",
       "days_exposition         float64\n",
       "dtype: object"
      ]
     },
     "execution_count": 11,
     "metadata": {},
     "output_type": "execute_result"
    }
   ],
   "source": [
    "# вывод типа данных всех строк датафрейма\n",
    "data.dtypes"
   ]
  },
  {
   "cell_type": "markdown",
   "metadata": {},
   "source": [
    "Практически все столбцы имеют корректный тип данных.\n",
    "    \n",
    "`first_day_exposition` для дальнейших манипуляций лучше перевести в формат `datetime`"
   ]
  },
  {
   "cell_type": "code",
   "execution_count": 12,
   "metadata": {},
   "outputs": [],
   "source": [
    "# методом to_datetime превращаю содержимое столбца в особый тип данных datetime для проведения дальнейших арифметических операций\n",
    "data['first_day_exposition'] = pd.to_datetime(data['first_day_exposition'], format='%Y-%m-%d')"
   ]
  },
  {
   "cell_type": "markdown",
   "metadata": {},
   "source": []
  },
  {
   "cell_type": "code",
   "execution_count": 13,
   "metadata": {},
   "outputs": [
    {
     "name": "stdout",
     "output_type": "stream",
     "text": [
      "total_images                     int64\n",
      "last_price                     float64\n",
      "total_area                     float64\n",
      "first_day_exposition    datetime64[ns]\n",
      "rooms                            int64\n",
      "ceiling_height                 float64\n",
      "floors_total                   float64\n",
      "living_area                    float64\n",
      "floor                            int64\n",
      "is_apartment                      bool\n",
      "studio                            bool\n",
      "open_plan                         bool\n",
      "kitchen_area                   float64\n",
      "balcony                        float64\n",
      "locality_name                   object\n",
      "airports_nearest               float64\n",
      "citycenters_nearest            float64\n",
      "parks_around3000               float64\n",
      "parks_nearest                  float64\n",
      "ponds_around3000               float64\n",
      "ponds_nearest                  float64\n",
      "days_exposition                float64\n",
      "dtype: object\n"
     ]
    },
    {
     "data": {
      "text/html": [
       "<div>\n",
       "<style scoped>\n",
       "    .dataframe tbody tr th:only-of-type {\n",
       "        vertical-align: middle;\n",
       "    }\n",
       "\n",
       "    .dataframe tbody tr th {\n",
       "        vertical-align: top;\n",
       "    }\n",
       "\n",
       "    .dataframe thead th {\n",
       "        text-align: right;\n",
       "    }\n",
       "</style>\n",
       "<table border=\"1\" class=\"dataframe\">\n",
       "  <thead>\n",
       "    <tr style=\"text-align: right;\">\n",
       "      <th></th>\n",
       "      <th>total_images</th>\n",
       "      <th>last_price</th>\n",
       "      <th>total_area</th>\n",
       "      <th>first_day_exposition</th>\n",
       "      <th>rooms</th>\n",
       "      <th>ceiling_height</th>\n",
       "      <th>floors_total</th>\n",
       "      <th>living_area</th>\n",
       "      <th>floor</th>\n",
       "      <th>is_apartment</th>\n",
       "      <th>...</th>\n",
       "      <th>kitchen_area</th>\n",
       "      <th>balcony</th>\n",
       "      <th>locality_name</th>\n",
       "      <th>airports_nearest</th>\n",
       "      <th>citycenters_nearest</th>\n",
       "      <th>parks_around3000</th>\n",
       "      <th>parks_nearest</th>\n",
       "      <th>ponds_around3000</th>\n",
       "      <th>ponds_nearest</th>\n",
       "      <th>days_exposition</th>\n",
       "    </tr>\n",
       "  </thead>\n",
       "  <tbody>\n",
       "    <tr>\n",
       "      <th>0</th>\n",
       "      <td>20</td>\n",
       "      <td>13000000.0</td>\n",
       "      <td>108.00</td>\n",
       "      <td>2019-03-07</td>\n",
       "      <td>3</td>\n",
       "      <td>2.70</td>\n",
       "      <td>16.0</td>\n",
       "      <td>51.00</td>\n",
       "      <td>8</td>\n",
       "      <td>False</td>\n",
       "      <td>...</td>\n",
       "      <td>25.00</td>\n",
       "      <td>0.0</td>\n",
       "      <td>Санкт-Петербург</td>\n",
       "      <td>18863.0</td>\n",
       "      <td>16028.0</td>\n",
       "      <td>1.0</td>\n",
       "      <td>482.0</td>\n",
       "      <td>2.0</td>\n",
       "      <td>755.0</td>\n",
       "      <td>NaN</td>\n",
       "    </tr>\n",
       "    <tr>\n",
       "      <th>1</th>\n",
       "      <td>7</td>\n",
       "      <td>3350000.0</td>\n",
       "      <td>40.40</td>\n",
       "      <td>2018-12-04</td>\n",
       "      <td>1</td>\n",
       "      <td>NaN</td>\n",
       "      <td>11.0</td>\n",
       "      <td>18.60</td>\n",
       "      <td>1</td>\n",
       "      <td>False</td>\n",
       "      <td>...</td>\n",
       "      <td>11.00</td>\n",
       "      <td>2.0</td>\n",
       "      <td>посёлок Шушары</td>\n",
       "      <td>12817.0</td>\n",
       "      <td>18603.0</td>\n",
       "      <td>0.0</td>\n",
       "      <td>NaN</td>\n",
       "      <td>0.0</td>\n",
       "      <td>NaN</td>\n",
       "      <td>81.0</td>\n",
       "    </tr>\n",
       "    <tr>\n",
       "      <th>2</th>\n",
       "      <td>10</td>\n",
       "      <td>5196000.0</td>\n",
       "      <td>56.00</td>\n",
       "      <td>2015-08-20</td>\n",
       "      <td>2</td>\n",
       "      <td>NaN</td>\n",
       "      <td>5.0</td>\n",
       "      <td>34.30</td>\n",
       "      <td>4</td>\n",
       "      <td>False</td>\n",
       "      <td>...</td>\n",
       "      <td>8.30</td>\n",
       "      <td>0.0</td>\n",
       "      <td>Санкт-Петербург</td>\n",
       "      <td>21741.0</td>\n",
       "      <td>13933.0</td>\n",
       "      <td>1.0</td>\n",
       "      <td>90.0</td>\n",
       "      <td>2.0</td>\n",
       "      <td>574.0</td>\n",
       "      <td>558.0</td>\n",
       "    </tr>\n",
       "    <tr>\n",
       "      <th>3</th>\n",
       "      <td>0</td>\n",
       "      <td>64900000.0</td>\n",
       "      <td>159.00</td>\n",
       "      <td>2015-07-24</td>\n",
       "      <td>3</td>\n",
       "      <td>NaN</td>\n",
       "      <td>14.0</td>\n",
       "      <td>NaN</td>\n",
       "      <td>9</td>\n",
       "      <td>False</td>\n",
       "      <td>...</td>\n",
       "      <td>NaN</td>\n",
       "      <td>0.0</td>\n",
       "      <td>Санкт-Петербург</td>\n",
       "      <td>28098.0</td>\n",
       "      <td>6800.0</td>\n",
       "      <td>2.0</td>\n",
       "      <td>84.0</td>\n",
       "      <td>3.0</td>\n",
       "      <td>234.0</td>\n",
       "      <td>424.0</td>\n",
       "    </tr>\n",
       "    <tr>\n",
       "      <th>4</th>\n",
       "      <td>2</td>\n",
       "      <td>10000000.0</td>\n",
       "      <td>100.00</td>\n",
       "      <td>2018-06-19</td>\n",
       "      <td>2</td>\n",
       "      <td>3.03</td>\n",
       "      <td>14.0</td>\n",
       "      <td>32.00</td>\n",
       "      <td>13</td>\n",
       "      <td>False</td>\n",
       "      <td>...</td>\n",
       "      <td>41.00</td>\n",
       "      <td>0.0</td>\n",
       "      <td>Санкт-Петербург</td>\n",
       "      <td>31856.0</td>\n",
       "      <td>8098.0</td>\n",
       "      <td>2.0</td>\n",
       "      <td>112.0</td>\n",
       "      <td>1.0</td>\n",
       "      <td>48.0</td>\n",
       "      <td>121.0</td>\n",
       "    </tr>\n",
       "    <tr>\n",
       "      <th>5</th>\n",
       "      <td>10</td>\n",
       "      <td>2890000.0</td>\n",
       "      <td>30.40</td>\n",
       "      <td>2018-09-10</td>\n",
       "      <td>1</td>\n",
       "      <td>NaN</td>\n",
       "      <td>12.0</td>\n",
       "      <td>14.40</td>\n",
       "      <td>5</td>\n",
       "      <td>False</td>\n",
       "      <td>...</td>\n",
       "      <td>9.10</td>\n",
       "      <td>0.0</td>\n",
       "      <td>городской посёлок Янино-1</td>\n",
       "      <td>NaN</td>\n",
       "      <td>NaN</td>\n",
       "      <td>NaN</td>\n",
       "      <td>NaN</td>\n",
       "      <td>NaN</td>\n",
       "      <td>NaN</td>\n",
       "      <td>55.0</td>\n",
       "    </tr>\n",
       "    <tr>\n",
       "      <th>6</th>\n",
       "      <td>6</td>\n",
       "      <td>3700000.0</td>\n",
       "      <td>37.30</td>\n",
       "      <td>2017-11-02</td>\n",
       "      <td>1</td>\n",
       "      <td>NaN</td>\n",
       "      <td>26.0</td>\n",
       "      <td>10.60</td>\n",
       "      <td>6</td>\n",
       "      <td>False</td>\n",
       "      <td>...</td>\n",
       "      <td>14.40</td>\n",
       "      <td>1.0</td>\n",
       "      <td>посёлок Парголово</td>\n",
       "      <td>52996.0</td>\n",
       "      <td>19143.0</td>\n",
       "      <td>0.0</td>\n",
       "      <td>NaN</td>\n",
       "      <td>0.0</td>\n",
       "      <td>NaN</td>\n",
       "      <td>155.0</td>\n",
       "    </tr>\n",
       "    <tr>\n",
       "      <th>7</th>\n",
       "      <td>5</td>\n",
       "      <td>7915000.0</td>\n",
       "      <td>71.60</td>\n",
       "      <td>2019-04-18</td>\n",
       "      <td>2</td>\n",
       "      <td>NaN</td>\n",
       "      <td>24.0</td>\n",
       "      <td>NaN</td>\n",
       "      <td>22</td>\n",
       "      <td>False</td>\n",
       "      <td>...</td>\n",
       "      <td>18.90</td>\n",
       "      <td>2.0</td>\n",
       "      <td>Санкт-Петербург</td>\n",
       "      <td>23982.0</td>\n",
       "      <td>11634.0</td>\n",
       "      <td>0.0</td>\n",
       "      <td>NaN</td>\n",
       "      <td>0.0</td>\n",
       "      <td>NaN</td>\n",
       "      <td>NaN</td>\n",
       "    </tr>\n",
       "    <tr>\n",
       "      <th>8</th>\n",
       "      <td>20</td>\n",
       "      <td>2900000.0</td>\n",
       "      <td>33.16</td>\n",
       "      <td>2018-05-23</td>\n",
       "      <td>1</td>\n",
       "      <td>NaN</td>\n",
       "      <td>27.0</td>\n",
       "      <td>15.43</td>\n",
       "      <td>26</td>\n",
       "      <td>False</td>\n",
       "      <td>...</td>\n",
       "      <td>8.81</td>\n",
       "      <td>0.0</td>\n",
       "      <td>посёлок Мурино</td>\n",
       "      <td>NaN</td>\n",
       "      <td>NaN</td>\n",
       "      <td>NaN</td>\n",
       "      <td>NaN</td>\n",
       "      <td>NaN</td>\n",
       "      <td>NaN</td>\n",
       "      <td>189.0</td>\n",
       "    </tr>\n",
       "    <tr>\n",
       "      <th>9</th>\n",
       "      <td>18</td>\n",
       "      <td>5400000.0</td>\n",
       "      <td>61.00</td>\n",
       "      <td>2017-02-26</td>\n",
       "      <td>3</td>\n",
       "      <td>2.50</td>\n",
       "      <td>9.0</td>\n",
       "      <td>43.60</td>\n",
       "      <td>7</td>\n",
       "      <td>False</td>\n",
       "      <td>...</td>\n",
       "      <td>6.50</td>\n",
       "      <td>2.0</td>\n",
       "      <td>Санкт-Петербург</td>\n",
       "      <td>50898.0</td>\n",
       "      <td>15008.0</td>\n",
       "      <td>0.0</td>\n",
       "      <td>NaN</td>\n",
       "      <td>0.0</td>\n",
       "      <td>NaN</td>\n",
       "      <td>289.0</td>\n",
       "    </tr>\n",
       "  </tbody>\n",
       "</table>\n",
       "<p>10 rows × 22 columns</p>\n",
       "</div>"
      ],
      "text/plain": [
       "   total_images  last_price  total_area first_day_exposition  rooms  \\\n",
       "0            20  13000000.0      108.00           2019-03-07      3   \n",
       "1             7   3350000.0       40.40           2018-12-04      1   \n",
       "2            10   5196000.0       56.00           2015-08-20      2   \n",
       "3             0  64900000.0      159.00           2015-07-24      3   \n",
       "4             2  10000000.0      100.00           2018-06-19      2   \n",
       "5            10   2890000.0       30.40           2018-09-10      1   \n",
       "6             6   3700000.0       37.30           2017-11-02      1   \n",
       "7             5   7915000.0       71.60           2019-04-18      2   \n",
       "8            20   2900000.0       33.16           2018-05-23      1   \n",
       "9            18   5400000.0       61.00           2017-02-26      3   \n",
       "\n",
       "   ceiling_height  floors_total  living_area  floor  is_apartment  ...  \\\n",
       "0            2.70          16.0        51.00      8         False  ...   \n",
       "1             NaN          11.0        18.60      1         False  ...   \n",
       "2             NaN           5.0        34.30      4         False  ...   \n",
       "3             NaN          14.0          NaN      9         False  ...   \n",
       "4            3.03          14.0        32.00     13         False  ...   \n",
       "5             NaN          12.0        14.40      5         False  ...   \n",
       "6             NaN          26.0        10.60      6         False  ...   \n",
       "7             NaN          24.0          NaN     22         False  ...   \n",
       "8             NaN          27.0        15.43     26         False  ...   \n",
       "9            2.50           9.0        43.60      7         False  ...   \n",
       "\n",
       "   kitchen_area  balcony              locality_name  airports_nearest  \\\n",
       "0         25.00      0.0            Санкт-Петербург           18863.0   \n",
       "1         11.00      2.0             посёлок Шушары           12817.0   \n",
       "2          8.30      0.0            Санкт-Петербург           21741.0   \n",
       "3           NaN      0.0            Санкт-Петербург           28098.0   \n",
       "4         41.00      0.0            Санкт-Петербург           31856.0   \n",
       "5          9.10      0.0  городской посёлок Янино-1               NaN   \n",
       "6         14.40      1.0          посёлок Парголово           52996.0   \n",
       "7         18.90      2.0            Санкт-Петербург           23982.0   \n",
       "8          8.81      0.0             посёлок Мурино               NaN   \n",
       "9          6.50      2.0            Санкт-Петербург           50898.0   \n",
       "\n",
       "  citycenters_nearest  parks_around3000  parks_nearest  ponds_around3000  \\\n",
       "0             16028.0               1.0          482.0               2.0   \n",
       "1             18603.0               0.0            NaN               0.0   \n",
       "2             13933.0               1.0           90.0               2.0   \n",
       "3              6800.0               2.0           84.0               3.0   \n",
       "4              8098.0               2.0          112.0               1.0   \n",
       "5                 NaN               NaN            NaN               NaN   \n",
       "6             19143.0               0.0            NaN               0.0   \n",
       "7             11634.0               0.0            NaN               0.0   \n",
       "8                 NaN               NaN            NaN               NaN   \n",
       "9             15008.0               0.0            NaN               0.0   \n",
       "\n",
       "   ponds_nearest  days_exposition  \n",
       "0          755.0              NaN  \n",
       "1            NaN             81.0  \n",
       "2          574.0            558.0  \n",
       "3          234.0            424.0  \n",
       "4           48.0            121.0  \n",
       "5            NaN             55.0  \n",
       "6            NaN            155.0  \n",
       "7            NaN              NaN  \n",
       "8            NaN            189.0  \n",
       "9            NaN            289.0  \n",
       "\n",
       "[10 rows x 22 columns]"
      ]
     },
     "metadata": {},
     "output_type": "display_data"
    }
   ],
   "source": [
    "# вывожу все типы данных повторно для проверки и первые 10 строк датафрейма, чтобы проверить корректность значений\n",
    "print(data.dtypes)\n",
    "display(data.head(10))"
   ]
  },
  {
   "cell_type": "markdown",
   "metadata": {},
   "source": [
    "В результате преобразований типов данных получился датафрейм с корректными типами данных."
   ]
  },
  {
   "cell_type": "markdown",
   "metadata": {},
   "source": [
    "Изменить тип значений необходимо для удобства расчётов и дополнительной проверки столбцов на пропуски и неподходящие значения."
   ]
  },
  {
   "cell_type": "markdown",
   "metadata": {},
   "source": [
    "### Устранение неявных дубликатов в столбце с названиями."
   ]
  },
  {
   "cell_type": "code",
   "execution_count": 14,
   "metadata": {},
   "outputs": [
    {
     "name": "stdout",
     "output_type": "stream",
     "text": [
      "Количество уникальных значений до обработки: 365\n"
     ]
    },
    {
     "data": {
      "text/plain": [
       "array(['Санкт-Петербург', 'посёлок Шушары', 'городской посёлок Янино-1',\n",
       "       'посёлок Парголово', 'посёлок Мурино', 'Ломоносов', 'Сертолово',\n",
       "       'Петергоф', 'Пушкин', 'деревня Кудрово', 'Коммунар', 'Колпино',\n",
       "       'поселок городского типа Красный Бор', 'Гатчина', 'поселок Мурино',\n",
       "       'деревня Фёдоровское', 'Выборг', 'Кронштадт', 'Кировск',\n",
       "       'деревня Новое Девяткино', 'посёлок Металлострой',\n",
       "       'посёлок городского типа Лебяжье',\n",
       "       'посёлок городского типа Сиверский', 'поселок Молодцово',\n",
       "       'поселок городского типа Кузьмоловский',\n",
       "       'садовое товарищество Новая Ропша', 'Павловск',\n",
       "       'деревня Пикколово', 'Всеволожск', 'Волхов', 'Кингисепп',\n",
       "       'Приозерск', 'Сестрорецк', 'деревня Куттузи', 'посёлок Аннино',\n",
       "       'поселок городского типа Ефимовский', 'посёлок Плодовое',\n",
       "       'деревня Заклинье', 'поселок Торковичи', 'поселок Первомайское',\n",
       "       'Красное Село', 'посёлок Понтонный', 'Сясьстрой', 'деревня Старая',\n",
       "       'деревня Лесколово', 'посёлок Новый Свет', 'Сланцы',\n",
       "       'село Путилово', 'Ивангород', 'Мурино', 'Шлиссельбург',\n",
       "       'Никольское', 'Зеленогорск', 'Сосновый Бор', 'поселок Новый Свет',\n",
       "       'деревня Оржицы', 'деревня Кальтино', 'Кудрово',\n",
       "       'поселок Романовка', 'посёлок Бугры', 'поселок Бугры',\n",
       "       'поселок городского типа Рощино', 'Кириши', 'Луга', 'Волосово',\n",
       "       'Отрадное', 'село Павлово', 'поселок Оредеж', 'село Копорье',\n",
       "       'посёлок городского типа Красный Бор', 'посёлок Молодёжное',\n",
       "       'Тихвин', 'посёлок Победа', 'деревня Нурма',\n",
       "       'поселок городского типа Синявино', 'Тосно',\n",
       "       'посёлок городского типа Кузьмоловский', 'посёлок Стрельна',\n",
       "       'Бокситогорск', 'посёлок Александровская', 'деревня Лопухинка',\n",
       "       'Пикалёво', 'поселок Терволово',\n",
       "       'поселок городского типа Советский', 'Подпорожье',\n",
       "       'посёлок Петровское', 'посёлок городского типа Токсово',\n",
       "       'поселок Сельцо', 'посёлок городского типа Вырица',\n",
       "       'деревня Кипень', 'деревня Келози', 'деревня Вартемяги',\n",
       "       'посёлок Тельмана', 'поселок Севастьяново',\n",
       "       'городской поселок Большая Ижора', nan,\n",
       "       'городской посёлок Павлово', 'деревня Агалатово',\n",
       "       'посёлок Новогорелово', 'городской посёлок Лесогорский',\n",
       "       'деревня Лаголово', 'поселок Цвелодубово',\n",
       "       'поселок городского типа Рахья', 'поселок городского типа Вырица',\n",
       "       'деревня Белогорка', 'поселок Заводской',\n",
       "       'городской посёлок Новоселье', 'деревня Большие Колпаны',\n",
       "       'деревня Горбунки', 'деревня Батово', 'деревня Заневка',\n",
       "       'деревня Иссад', 'Приморск', 'городской посёлок Фёдоровское',\n",
       "       'деревня Мистолово', 'Новая Ладога', 'поселок Зимитицы',\n",
       "       'поселок Барышево', 'деревня Разметелево',\n",
       "       'поселок городского типа имени Свердлова', 'деревня Пеники',\n",
       "       'поселок Рябово', 'деревня Пудомяги', 'поселок станции Корнево',\n",
       "       'деревня Низино', 'деревня Бегуницы', 'посёлок Поляны',\n",
       "       'городской посёлок Мга', 'поселок Елизаветино',\n",
       "       'посёлок городского типа Кузнечное', 'деревня Колтуши',\n",
       "       'поселок Запорожское', 'посёлок городского типа Рощино',\n",
       "       'деревня Гостилицы', 'деревня Малое Карлино',\n",
       "       'посёлок Мичуринское', 'посёлок городского типа имени Морозова',\n",
       "       'посёлок Песочный', 'посёлок Сосново', 'деревня Аро',\n",
       "       'поселок Ильичёво', 'посёлок городского типа Тайцы',\n",
       "       'деревня Малое Верево', 'деревня Извара', 'поселок станции Вещево',\n",
       "       'село Паша', 'деревня Калитино',\n",
       "       'посёлок городского типа Ульяновка', 'деревня Чудской Бор',\n",
       "       'поселок городского типа Дубровка', 'деревня Мины',\n",
       "       'поселок Войсковицы', 'посёлок городского типа имени Свердлова',\n",
       "       'деревня Коркино', 'посёлок Ропша',\n",
       "       'поселок городского типа Приладожский', 'посёлок Щеглово',\n",
       "       'посёлок Гаврилово', 'Лодейное Поле', 'деревня Рабитицы',\n",
       "       'поселок городского типа Никольский', 'деревня Кузьмолово',\n",
       "       'деревня Малые Колпаны', 'поселок Тельмана',\n",
       "       'посёлок Петро-Славянка', 'городской посёлок Назия',\n",
       "       'посёлок Репино', 'посёлок Ильичёво', 'поселок Углово',\n",
       "       'поселок Старая Малукса', 'садовое товарищество Рахья',\n",
       "       'поселок Аннино', 'поселок Победа', 'деревня Меньково',\n",
       "       'деревня Старые Бегуницы', 'посёлок Сапёрный', 'поселок Семрино',\n",
       "       'поселок Гаврилово', 'поселок Глажево', 'поселок Кобринское',\n",
       "       'деревня Гарболово', 'деревня Юкки',\n",
       "       'поселок станции Приветнинское', 'деревня Мануйлово',\n",
       "       'деревня Пчева', 'поселок Поляны', 'поселок Цвылёво',\n",
       "       'поселок Мельниково', 'посёлок Пудость', 'посёлок Усть-Луга',\n",
       "       'Светогорск', 'Любань', 'поселок Селезнёво',\n",
       "       'поселок городского типа Рябово', 'Каменногорск', 'деревня Кривко',\n",
       "       'поселок Глебычево', 'деревня Парицы', 'поселок Жилпосёлок',\n",
       "       'посёлок городского типа Мга', 'городской поселок Янино-1',\n",
       "       'посёлок Войскорово', 'село Никольское', 'посёлок Терволово',\n",
       "       'поселок Стеклянный', 'посёлок городского типа Важины',\n",
       "       'посёлок Мыза-Ивановка', 'село Русско-Высоцкое',\n",
       "       'поселок городского типа Лебяжье',\n",
       "       'поселок городского типа Форносово', 'село Старая Ладога',\n",
       "       'поселок Житково', 'городской посёлок Виллози', 'деревня Лампово',\n",
       "       'деревня Шпаньково', 'деревня Лаврики', 'посёлок Сумино',\n",
       "       'посёлок Возрождение', 'деревня Старосиверская',\n",
       "       'посёлок Кикерино', 'поселок Возрождение',\n",
       "       'деревня Старое Хинколово', 'посёлок Пригородный',\n",
       "       'посёлок Торфяное', 'городской посёлок Будогощь',\n",
       "       'поселок Суходолье', 'поселок Красная Долина', 'деревня Хапо-Ое',\n",
       "       'поселок городского типа Дружная Горка', 'поселок Лисий Нос',\n",
       "       'деревня Яльгелево', 'посёлок Стеклянный', 'село Рождествено',\n",
       "       'деревня Старополье', 'посёлок Левашово', 'деревня Сяськелево',\n",
       "       'деревня Камышовка',\n",
       "       'садоводческое некоммерческое товарищество Лесная Поляна',\n",
       "       'деревня Хязельки', 'поселок Жилгородок',\n",
       "       'посёлок городского типа Павлово', 'деревня Ялгино',\n",
       "       'поселок Новый Учхоз', 'городской посёлок Рощино',\n",
       "       'поселок Гончарово', 'поселок Почап', 'посёлок Сапёрное',\n",
       "       'посёлок Платформа 69-й километр', 'поселок Каложицы',\n",
       "       'деревня Фалилеево', 'деревня Пельгора',\n",
       "       'поселок городского типа Лесогорский', 'деревня Торошковичи',\n",
       "       'посёлок Белоостров', 'посёлок Алексеевка', 'поселок Серебрянский',\n",
       "       'поселок Лукаши', 'поселок Петровское', 'деревня Щеглово',\n",
       "       'поселок Мичуринское', 'деревня Тарасово', 'поселок Кингисеппский',\n",
       "       'посёлок при железнодорожной станции Вещево', 'поселок Ушаки',\n",
       "       'деревня Котлы', 'деревня Сижно', 'деревня Торосово',\n",
       "       'посёлок Форт Красная Горка', 'поселок городского типа Токсово',\n",
       "       'деревня Новолисино', 'посёлок станции Громово', 'деревня Глинка',\n",
       "       'посёлок Мельниково', 'поселок городского типа Назия',\n",
       "       'деревня Старая Пустошь', 'поселок Коммунары', 'поселок Починок',\n",
       "       'посёлок городского типа Вознесенье', 'деревня Разбегаево',\n",
       "       'посёлок городского типа Рябово', 'поселок Гладкое',\n",
       "       'посёлок при железнодорожной станции Приветнинское',\n",
       "       'поселок Тёсово-4', 'посёлок Жилгородок', 'деревня Бор',\n",
       "       'посёлок Коробицыно', 'деревня Большая Вруда', 'деревня Курковицы',\n",
       "       'посёлок Лисий Нос', 'городской посёлок Советский',\n",
       "       'посёлок Кобралово', 'деревня Суоранда', 'поселок Кобралово',\n",
       "       'поселок городского типа Кондратьево',\n",
       "       'коттеджный поселок Счастье', 'поселок Любань', 'деревня Реброво',\n",
       "       'деревня Зимитицы', 'деревня Тойворово', 'поселок Семиозерье',\n",
       "       'поселок Лесное', 'поселок Совхозный', 'поселок Усть-Луга',\n",
       "       'посёлок Ленинское', 'посёлок Суйда',\n",
       "       'посёлок городского типа Форносово', 'деревня Нижние Осельки',\n",
       "       'посёлок станции Свирь', 'поселок Перово', 'Высоцк',\n",
       "       'поселок Гарболово', 'село Шум', 'поселок Котельский',\n",
       "       'поселок станции Лужайка', 'деревня Большая Пустомержа',\n",
       "       'поселок Красносельское', 'деревня Вахнова Кара', 'деревня Пижма',\n",
       "       'коттеджный поселок Кивеннапа Север', 'поселок Коробицыно',\n",
       "       'поселок Ромашки', 'посёлок Перово', 'деревня Каськово',\n",
       "       'деревня Куровицы', 'посёлок Плоское', 'поселок Сумино',\n",
       "       'поселок городского типа Большая Ижора', 'поселок Кирпичное',\n",
       "       'деревня Ям-Тесово', 'деревня Раздолье', 'деревня Терпилицы',\n",
       "       'посёлок Шугозеро', 'деревня Ваганово', 'поселок Пушное',\n",
       "       'садовое товарищество Садко', 'посёлок Усть-Ижора',\n",
       "       'деревня Выскатка', 'городской посёлок Свирьстрой',\n",
       "       'поселок Громово', 'деревня Кисельня', 'посёлок Старая Малукса',\n",
       "       'деревня Трубников Бор', 'поселок Калитино',\n",
       "       'посёлок Высокоключевой', 'садовое товарищество Приладожский',\n",
       "       'посёлок Пансионат Зелёный Бор', 'деревня Ненимяки',\n",
       "       'поселок Пансионат Зелёный Бор', 'деревня Снегирёвка',\n",
       "       'деревня Рапполово', 'деревня Пустынка', 'поселок Рабитицы',\n",
       "       'деревня Большой Сабск', 'деревня Русско', 'деревня Лупполово',\n",
       "       'деревня Большое Рейзино', 'деревня Малая Романовка',\n",
       "       'поселок Дружноселье', 'поселок Пчевжа', 'поселок Володарское',\n",
       "       'деревня Нижняя', 'коттеджный посёлок Лесное', 'деревня Тихковицы',\n",
       "       'деревня Борисова Грива', 'посёлок Дзержинского'], dtype=object)"
      ]
     },
     "metadata": {},
     "output_type": "display_data"
    }
   ],
   "source": [
    "# подсчёт количества уникальных значений комбинацией методов unique() и len()\n",
    "print('Количество уникальных значений до обработки:', len(data['locality_name'].unique()))\n",
    "\n",
    "# вывод списка всех уникальных значений с названиями населённых пунктов\n",
    "display(data['locality_name'].unique())"
   ]
  },
  {
   "cell_type": "code",
   "execution_count": 15,
   "metadata": {},
   "outputs": [],
   "source": [
    "# замена с помощью метода replace() символа 'ё' на 'е' и видов населённых пунктов на пропуск для устранения неявных дубликатов\n",
    "data['locality_name'] = (\n",
    "    data['locality_name']\n",
    "    .str.replace('ё', 'е')\n",
    "    .replace(['поселок городского типа ', 'деревня ', 'село ', 'городского типа ', 'городской ', 'при железнодорожной станции ', 'имени ', 'коттеджный ', 'садовое товарищество ', 'станции ', 'поселок ', 'садоводческое некоммерческое товарищество '], '', regex=True)\n",
    ") "
   ]
  },
  {
   "cell_type": "code",
   "execution_count": 16,
   "metadata": {},
   "outputs": [
    {
     "name": "stdout",
     "output_type": "stream",
     "text": [
      "Количество уникальных значений после обработки: 306\n"
     ]
    },
    {
     "data": {
      "text/plain": [
       "array(['Санкт-Петербург', 'Шушары', 'Янино-1', 'Парголово', 'Мурино',\n",
       "       'Ломоносов', 'Сертолово', 'Петергоф', 'Пушкин', 'Кудрово',\n",
       "       'Коммунар', 'Колпино', 'Красный Бор', 'Гатчина', 'Федоровское',\n",
       "       'Выборг', 'Кронштадт', 'Кировск', 'Новое Девяткино',\n",
       "       'Металлострой', 'Лебяжье', 'Сиверский', 'Молодцово',\n",
       "       'Кузьмоловский', 'Новая Ропша', 'Павловск', 'Пикколово',\n",
       "       'Всеволожск', 'Волхов', 'Кингисепп', 'Приозерск', 'Сестрорецк',\n",
       "       'Куттузи', 'Аннино', 'Ефимовский', 'Плодовое', 'Заклинье',\n",
       "       'Торковичи', 'Первомайское', 'Красное Село', 'Понтонный',\n",
       "       'Сясьстрой', 'Старая', 'Лесколово', 'Новый Свет', 'Сланцы',\n",
       "       'Путилово', 'Ивангород', 'Шлиссельбург', 'Никольское',\n",
       "       'Зеленогорск', 'Сосновый Бор', 'Оржицы', 'Кальтино', 'Романовка',\n",
       "       'Бугры', 'Рощино', 'Кириши', 'Луга', 'Волосово', 'Отрадное',\n",
       "       'Павлово', 'Оредеж', 'Копорье', 'Молодежное', 'Тихвин', 'Победа',\n",
       "       'Нурма', 'Синявино', 'Тосно', 'Стрельна', 'Бокситогорск',\n",
       "       'Александровская', 'Лопухинка', 'Пикалево', 'Терволово',\n",
       "       'Советский', 'Подпорожье', 'Петровское', 'Токсово', 'Сельцо',\n",
       "       'Вырица', 'Кипень', 'Келози', 'Вартемяги', 'Тельмана',\n",
       "       'Севастьяново', 'Большая Ижора', nan, 'Агалатово', 'Новогорелово',\n",
       "       'Лесогорский', 'Лаголово', 'Цвелодубово', 'Рахья', 'Белогорка',\n",
       "       'Заводской', 'Новоселье', 'Большие Колпаны', 'Горбунки', 'Батово',\n",
       "       'Заневка', 'Иссад', 'Приморск', 'Мистолово', 'Новая Ладога',\n",
       "       'Зимитицы', 'Барышево', 'Разметелево', 'Свердлова', 'Пеники',\n",
       "       'Рябово', 'Пудомяги', 'Корнево', 'Низино', 'Бегуницы', 'Поляны',\n",
       "       'Мга', 'Елизаветино', 'Кузнечное', 'Колтуши', 'Запорожское',\n",
       "       'Гостилицы', 'Малое Карлино', 'Мичуринское', 'Морозова',\n",
       "       'Песочный', 'Сосново', 'Аро', 'Ильичево', 'Тайцы', 'Малое Верево',\n",
       "       'Извара', 'Вещево', 'Паша', 'Калитино', 'Ульяновка', 'Чудской Бор',\n",
       "       'Дубровка', 'Мины', 'Войсковицы', 'Коркино', 'Ропша',\n",
       "       'Приладожский', 'Щеглово', 'Гаврилово', 'Лодейное Поле',\n",
       "       'Рабитицы', 'Никольский', 'Кузьмолово', 'Малые Колпаны',\n",
       "       'Петро-Славянка', 'Назия', 'Репино', 'Углово', 'Старая Малукса',\n",
       "       'Меньково', 'Старые Бегуницы', 'Саперный', 'Семрино', 'Глажево',\n",
       "       'Кобринское', 'Гарболово', 'Юкки', 'Приветнинское', 'Мануйлово',\n",
       "       'Пчева', 'Цвылево', 'Мельниково', 'Пудость', 'Усть-Луга',\n",
       "       'Светогорск', 'Любань', 'Селезнево', 'Каменногорск', 'Кривко',\n",
       "       'Глебычево', 'Парицы', 'Жилпоселок', 'Войскорово', 'Стеклянный',\n",
       "       'Важины', 'Мыза-Ивановка', 'Русско-Высоцкое', 'Форносово',\n",
       "       'Старая Ладога', 'Житково', 'Виллози', 'Лампово', 'Шпаньково',\n",
       "       'Лаврики', 'Сумино', 'Возрождение', 'Старосиверская', 'Кикерино',\n",
       "       'Старое Хинколово', 'Пригородный', 'Торфяное', 'Будогощь',\n",
       "       'Суходолье', 'Красная Долина', 'Хапо-Ое', 'Дружная Горка',\n",
       "       'Лисий Нос', 'Яльгелево', 'Рождествено', 'Старополье', 'Левашово',\n",
       "       'Сяськелево', 'Камышовка', 'Лесная Поляна', 'Хязельки',\n",
       "       'Жилгородок', 'Ялгино', 'Новый Учхоз', 'Гончарово', 'Почап',\n",
       "       'Саперное', 'Платформа 69-й километр', 'Каложицы', 'Фалилеево',\n",
       "       'Пельгора', 'Торошковичи', 'Белоостров', 'Алексеевка',\n",
       "       'Серебрянский', 'Лукаши', 'Тарасово', 'Кингисеппский', 'Ушаки',\n",
       "       'Котлы', 'Сижно', 'Торосово', 'Форт Красная Горка', 'Новолисино',\n",
       "       'Громово', 'Глинка', 'Старая Пустошь', 'Коммунары', 'Починок',\n",
       "       'Вознесенье', 'Разбегаево', 'Гладкое', 'Тесово-4', 'Бор',\n",
       "       'Коробицыно', 'Большая Вруда', 'Курковицы', 'Кобралово',\n",
       "       'Суоранда', 'Кондратьево', 'Счастье', 'Реброво', 'Тойворово',\n",
       "       'Семиозерье', 'Лесное', 'Совхозный', 'Ленинское', 'Суйда',\n",
       "       'Нижние Осельки', 'Свирь', 'Перово', 'Высоцк', 'Шум', 'Котельский',\n",
       "       'Лужайка', 'Большая Пустомержа', 'Красносельское', 'Вахнова Кара',\n",
       "       'Пижма', 'Кивеннапа Север', 'Ромашки', 'Каськово', 'Куровицы',\n",
       "       'Плоское', 'Кирпичное', 'Ям-Тесово', 'Раздолье', 'Терпилицы',\n",
       "       'Шугозеро', 'Ваганово', 'Пушное', 'Садко', 'Усть-Ижора',\n",
       "       'Выскатка', 'Свирьстрой', 'Кисельня', 'Трубников Бор',\n",
       "       'Высокоключевой', 'Пансионат Зеленый Бор', 'Ненимяки',\n",
       "       'Снегиревка', 'Рапполово', 'Пустынка', 'Большой Сабск', 'Русско',\n",
       "       'Лупполово', 'Большое Рейзино', 'Малая Романовка', 'Дружноселье',\n",
       "       'Пчевжа', 'Володарское', 'Нижняя', 'Тихковицы', 'Борисова Грива',\n",
       "       'Дзержинского'], dtype=object)"
      ]
     },
     "metadata": {},
     "output_type": "display_data"
    }
   ],
   "source": [
    "print('Количество уникальных значений после обработки:', len(data['locality_name'].unique()))\n",
    "\n",
    "# вывод списка всех уникальных значений с названиями населённых пунктов\n",
    "display(data['locality_name'].unique())"
   ]
  },
  {
   "cell_type": "markdown",
   "metadata": {},
   "source": [
    "После замены символов и видов населённых пунктов было удалено 59 уникальных значений, являющихся неявными дубликатами названия населённых пунктов."
   ]
  },
  {
   "cell_type": "code",
   "execution_count": 17,
   "metadata": {},
   "outputs": [
    {
     "data": {
      "text/plain": [
       "0"
      ]
     },
     "execution_count": 17,
     "metadata": {},
     "output_type": "execute_result"
    }
   ],
   "source": [
    "# проверка явных дубликатов с помощью метода duplicated() и их подсчет с помощью метода sum()\n",
    "data.duplicated().sum()"
   ]
  },
  {
   "cell_type": "markdown",
   "metadata": {},
   "source": [
    "В ходе работы были проверены и обработаны неявные дубликатов названий насёленных пунктов в столбце `locality_name`.\n",
    "Явные дубликаты в датафрейме отсутствуют."
   ]
  },
  {
   "cell_type": "markdown",
   "metadata": {
    "id": "QCcvyY6YAwb-"
   },
   "source": [
    "### Добавление новых столбцов"
   ]
  },
  {
   "cell_type": "code",
   "execution_count": 18,
   "metadata": {
    "id": "Z8eJek3IAwb-"
   },
   "outputs": [],
   "source": [
    "# расчёт цены за кв. м делением значений из столбца 'last_price' на значения из столбца 'total_area' и округлением до сотых методов round() c параметром 2\n",
    "data['price_one_square_meter'] = round(data['last_price'] / data['total_area'], 2)"
   ]
  },
  {
   "cell_type": "code",
   "execution_count": 19,
   "metadata": {},
   "outputs": [],
   "source": [
    "#определение дня недели публикации\n",
    "data['day_week_publication'] = data['first_day_exposition'].dt.weekday\n",
    "\n",
    "#определение месяца публикации\n",
    "data['month_publication'] = data['first_day_exposition'].dt.month\n",
    "\n",
    "#определение года публикации\n",
    "data['year_publication'] = data['first_day_exposition'].dt.year"
   ]
  },
  {
   "cell_type": "code",
   "execution_count": 20,
   "metadata": {},
   "outputs": [
    {
     "data": {
      "text/plain": [
       "array(['другой', 'первый', 'последний'], dtype=object)"
      ]
     },
     "execution_count": 20,
     "metadata": {},
     "output_type": "execute_result"
    }
   ],
   "source": [
    "\"\"\"\n",
    "Функция принимает 2 аргумента из датафрейма (этаж и всего этажей в доме) и \n",
    "возвращает тип этажа в зависимости от значения аргументов:\n",
    "- если этаж 1 то 'первый'\n",
    "- если этаж = всего этажей то 'последний'\n",
    "- во всех остальных случаях - 'другой'\n",
    "- в случае ошибки возращается 'Нет типа'\n",
    "\"\"\"\n",
    "def categorize_floor(floor, total_floor):\n",
    "    try:\n",
    "        if floor == 1:\n",
    "            return 'первый'\n",
    "        elif floor == total_floor:\n",
    "            return 'последний'\n",
    "        else:\n",
    "            return 'другой'\n",
    "    except:\n",
    "        return 'нет типа'\n",
    "    \n",
    "#определение типа этажа квартиры с помощью метода apply() и функции categorize_floor построчно\n",
    "data['floor_type'] = data.apply(lambda row: categorize_floor (row['floor'], row['floors_total']), axis=1)\n",
    "\n",
    "# проверка функции выводом уникальных значений методом unique()\n",
    "data['floor_type'].unique()"
   ]
  },
  {
   "cell_type": "markdown",
   "metadata": {},
   "source": [
    "После проверки видно, что всем значениям столбца `floor` был определён тип этажа, так как отсутствует вариант 'нет типа'."
   ]
  },
  {
   "cell_type": "code",
   "execution_count": 21,
   "metadata": {},
   "outputs": [
    {
     "data": {
      "text/html": [
       "<div>\n",
       "<style scoped>\n",
       "    .dataframe tbody tr th:only-of-type {\n",
       "        vertical-align: middle;\n",
       "    }\n",
       "\n",
       "    .dataframe tbody tr th {\n",
       "        vertical-align: top;\n",
       "    }\n",
       "\n",
       "    .dataframe thead th {\n",
       "        text-align: right;\n",
       "    }\n",
       "</style>\n",
       "<table border=\"1\" class=\"dataframe\">\n",
       "  <thead>\n",
       "    <tr style=\"text-align: right;\">\n",
       "      <th></th>\n",
       "      <th>total_images</th>\n",
       "      <th>last_price</th>\n",
       "      <th>total_area</th>\n",
       "      <th>first_day_exposition</th>\n",
       "      <th>rooms</th>\n",
       "      <th>ceiling_height</th>\n",
       "      <th>floors_total</th>\n",
       "      <th>living_area</th>\n",
       "      <th>floor</th>\n",
       "      <th>is_apartment</th>\n",
       "      <th>...</th>\n",
       "      <th>parks_nearest</th>\n",
       "      <th>ponds_around3000</th>\n",
       "      <th>ponds_nearest</th>\n",
       "      <th>days_exposition</th>\n",
       "      <th>price_one_square_meter</th>\n",
       "      <th>day_week_publication</th>\n",
       "      <th>month_publication</th>\n",
       "      <th>year_publication</th>\n",
       "      <th>floor_type</th>\n",
       "      <th>distance_center</th>\n",
       "    </tr>\n",
       "  </thead>\n",
       "  <tbody>\n",
       "    <tr>\n",
       "      <th>0</th>\n",
       "      <td>20</td>\n",
       "      <td>13000000.0</td>\n",
       "      <td>108.0</td>\n",
       "      <td>2019-03-07</td>\n",
       "      <td>3</td>\n",
       "      <td>2.70</td>\n",
       "      <td>16.0</td>\n",
       "      <td>51.0</td>\n",
       "      <td>8</td>\n",
       "      <td>False</td>\n",
       "      <td>...</td>\n",
       "      <td>482.0</td>\n",
       "      <td>2.0</td>\n",
       "      <td>755.0</td>\n",
       "      <td>NaN</td>\n",
       "      <td>120370.37</td>\n",
       "      <td>3</td>\n",
       "      <td>3</td>\n",
       "      <td>2019</td>\n",
       "      <td>другой</td>\n",
       "      <td>16.0</td>\n",
       "    </tr>\n",
       "    <tr>\n",
       "      <th>1</th>\n",
       "      <td>7</td>\n",
       "      <td>3350000.0</td>\n",
       "      <td>40.4</td>\n",
       "      <td>2018-12-04</td>\n",
       "      <td>1</td>\n",
       "      <td>NaN</td>\n",
       "      <td>11.0</td>\n",
       "      <td>18.6</td>\n",
       "      <td>1</td>\n",
       "      <td>False</td>\n",
       "      <td>...</td>\n",
       "      <td>NaN</td>\n",
       "      <td>0.0</td>\n",
       "      <td>NaN</td>\n",
       "      <td>81.0</td>\n",
       "      <td>82920.79</td>\n",
       "      <td>1</td>\n",
       "      <td>12</td>\n",
       "      <td>2018</td>\n",
       "      <td>первый</td>\n",
       "      <td>19.0</td>\n",
       "    </tr>\n",
       "    <tr>\n",
       "      <th>2</th>\n",
       "      <td>10</td>\n",
       "      <td>5196000.0</td>\n",
       "      <td>56.0</td>\n",
       "      <td>2015-08-20</td>\n",
       "      <td>2</td>\n",
       "      <td>NaN</td>\n",
       "      <td>5.0</td>\n",
       "      <td>34.3</td>\n",
       "      <td>4</td>\n",
       "      <td>False</td>\n",
       "      <td>...</td>\n",
       "      <td>90.0</td>\n",
       "      <td>2.0</td>\n",
       "      <td>574.0</td>\n",
       "      <td>558.0</td>\n",
       "      <td>92785.71</td>\n",
       "      <td>3</td>\n",
       "      <td>8</td>\n",
       "      <td>2015</td>\n",
       "      <td>другой</td>\n",
       "      <td>14.0</td>\n",
       "    </tr>\n",
       "    <tr>\n",
       "      <th>3</th>\n",
       "      <td>0</td>\n",
       "      <td>64900000.0</td>\n",
       "      <td>159.0</td>\n",
       "      <td>2015-07-24</td>\n",
       "      <td>3</td>\n",
       "      <td>NaN</td>\n",
       "      <td>14.0</td>\n",
       "      <td>NaN</td>\n",
       "      <td>9</td>\n",
       "      <td>False</td>\n",
       "      <td>...</td>\n",
       "      <td>84.0</td>\n",
       "      <td>3.0</td>\n",
       "      <td>234.0</td>\n",
       "      <td>424.0</td>\n",
       "      <td>408176.10</td>\n",
       "      <td>4</td>\n",
       "      <td>7</td>\n",
       "      <td>2015</td>\n",
       "      <td>другой</td>\n",
       "      <td>7.0</td>\n",
       "    </tr>\n",
       "    <tr>\n",
       "      <th>4</th>\n",
       "      <td>2</td>\n",
       "      <td>10000000.0</td>\n",
       "      <td>100.0</td>\n",
       "      <td>2018-06-19</td>\n",
       "      <td>2</td>\n",
       "      <td>3.03</td>\n",
       "      <td>14.0</td>\n",
       "      <td>32.0</td>\n",
       "      <td>13</td>\n",
       "      <td>False</td>\n",
       "      <td>...</td>\n",
       "      <td>112.0</td>\n",
       "      <td>1.0</td>\n",
       "      <td>48.0</td>\n",
       "      <td>121.0</td>\n",
       "      <td>100000.00</td>\n",
       "      <td>1</td>\n",
       "      <td>6</td>\n",
       "      <td>2018</td>\n",
       "      <td>другой</td>\n",
       "      <td>8.0</td>\n",
       "    </tr>\n",
       "  </tbody>\n",
       "</table>\n",
       "<p>5 rows × 28 columns</p>\n",
       "</div>"
      ],
      "text/plain": [
       "   total_images  last_price  total_area first_day_exposition  rooms  \\\n",
       "0            20  13000000.0       108.0           2019-03-07      3   \n",
       "1             7   3350000.0        40.4           2018-12-04      1   \n",
       "2            10   5196000.0        56.0           2015-08-20      2   \n",
       "3             0  64900000.0       159.0           2015-07-24      3   \n",
       "4             2  10000000.0       100.0           2018-06-19      2   \n",
       "\n",
       "   ceiling_height  floors_total  living_area  floor  is_apartment  ...  \\\n",
       "0            2.70          16.0         51.0      8         False  ...   \n",
       "1             NaN          11.0         18.6      1         False  ...   \n",
       "2             NaN           5.0         34.3      4         False  ...   \n",
       "3             NaN          14.0          NaN      9         False  ...   \n",
       "4            3.03          14.0         32.0     13         False  ...   \n",
       "\n",
       "   parks_nearest  ponds_around3000  ponds_nearest  days_exposition  \\\n",
       "0          482.0               2.0          755.0              NaN   \n",
       "1            NaN               0.0            NaN             81.0   \n",
       "2           90.0               2.0          574.0            558.0   \n",
       "3           84.0               3.0          234.0            424.0   \n",
       "4          112.0               1.0           48.0            121.0   \n",
       "\n",
       "  price_one_square_meter  day_week_publication  month_publication  \\\n",
       "0              120370.37                     3                  3   \n",
       "1               82920.79                     1                 12   \n",
       "2               92785.71                     3                  8   \n",
       "3              408176.10                     4                  7   \n",
       "4              100000.00                     1                  6   \n",
       "\n",
       "   year_publication  floor_type  distance_center  \n",
       "0              2019      другой             16.0  \n",
       "1              2018      первый             19.0  \n",
       "2              2015      другой             14.0  \n",
       "3              2015      другой              7.0  \n",
       "4              2018      другой              8.0  \n",
       "\n",
       "[5 rows x 28 columns]"
      ]
     },
     "metadata": {},
     "output_type": "display_data"
    }
   ],
   "source": [
    "# определение расстояния до центра в км, переведя метры в километры \n",
    "# делением на 1000, округляя до целых и переводя в целый числовой тип\n",
    "data['distance_center'] = round(data['citycenters_nearest'] / 1000)\n",
    "\n",
    "# вывод первых 5 строк датафрейма для проверки добавленных столбцов\n",
    "display(data.head(5))"
   ]
  },
  {
   "cell_type": "markdown",
   "metadata": {},
   "source": [
    "Было добавлено 6 новых столбцов, расчитанных на основании уже существующих данных, в качестве параметров для дальнейшего анализа и оценки."
   ]
  },
  {
   "cell_type": "markdown",
   "metadata": {
    "id": "pPyxrKWTAwb-"
   },
   "source": [
    "## Исследовательский анализ данных"
   ]
  },
  {
   "cell_type": "markdown",
   "metadata": {},
   "source": [
    "### Изучение параметров и построение гистограмм для каждого из этих параметров."
   ]
  },
  {
   "cell_type": "code",
   "execution_count": 22,
   "metadata": {
    "id": "V2f0D3kLAwb-"
   },
   "outputs": [
    {
     "name": "stdout",
     "output_type": "stream",
     "text": [
      "count    23699.000000\n",
      "mean        60.348651\n",
      "std         35.654083\n",
      "min         12.000000\n",
      "25%         40.000000\n",
      "50%         52.000000\n",
      "75%         69.900000\n",
      "max        900.000000\n",
      "Name: total_area, dtype: float64\n"
     ]
    },
    {
     "data": {
      "image/png": "[encoded data removed]",
      "text/plain": [
       "<Figure size 576x288 with 1 Axes>"
      ]
     },
     "metadata": {
      "needs_background": "light"
     },
     "output_type": "display_data"
    }
   ],
   "source": [
    "# Изучение общей площади с помощью метода describe(), который описывает значения диаграммы размаха\n",
    "print(data['total_area'].describe())\n",
    "\n",
    "# В результате получается распределение на гистограмме\n",
    "data.hist('total_area', bins=30, figsize=(8,4), range=(30, 80))\n",
    "plt.title('Распределение общей площади')\n",
    "plt.ylabel('Количество квартир')\n",
    "plt.xlabel('Площадь, кв. м')\n",
    "plt.show()"
   ]
  },
  {
   "cell_type": "markdown",
   "metadata": {},
   "source": [
    "По данной гистограмме видно, что типичной общей площадью для квартир является 45 кв. м. И чем больше эта площадь, тем реже такие квартиры встречаются в объявлениях на Яндекс Недвижимости."
   ]
  },
  {
   "cell_type": "code",
   "execution_count": 23,
   "metadata": {},
   "outputs": [
    {
     "name": "stdout",
     "output_type": "stream",
     "text": [
      "count    21796.000000\n",
      "mean        34.457852\n",
      "std         22.030445\n",
      "min          2.000000\n",
      "25%         18.600000\n",
      "50%         30.000000\n",
      "75%         42.300000\n",
      "max        409.700000\n",
      "Name: living_area, dtype: float64\n"
     ]
    },
    {
     "data": {
      "image/png": "[encoded data removed]",
      "text/plain": [
       "<Figure size 576x288 with 1 Axes>"
      ]
     },
     "metadata": {
      "needs_background": "light"
     },
     "output_type": "display_data"
    }
   ],
   "source": [
    "# Изучение жилой площади\n",
    "print(data['living_area'].describe())\n",
    "\n",
    "# В результате получается наглядное распределение\n",
    "data.hist('living_area', bins=20, figsize=(8,4), range=(10, 60))\n",
    "plt.title('Распределение жилой площади')\n",
    "plt.ylabel('Количество квартир')\n",
    "plt.xlabel('Площадь, кв. м')\n",
    "plt.show()"
   ]
  },
  {
   "cell_type": "markdown",
   "metadata": {},
   "source": [
    "Из этого графика наблюдается странный провал количества квартир с жилой площадью в 25 кв. м. Возможно это произошло из-за удаления части значений с пропусками.\n",
    "    \n",
    "Типичными значениями жилой площади стали 17.5 и 27.5 кв. м."
   ]
  },
  {
   "cell_type": "code",
   "execution_count": 24,
   "metadata": {},
   "outputs": [
    {
     "name": "stdout",
     "output_type": "stream",
     "text": [
      "count    21421.000000\n",
      "mean        10.569807\n",
      "std          5.905438\n",
      "min          1.300000\n",
      "25%          7.000000\n",
      "50%          9.100000\n",
      "75%         12.000000\n",
      "max        112.000000\n",
      "Name: kitchen_area, dtype: float64\n"
     ]
    },
    {
     "data": {
      "image/png": "[encoded data removed]",
      "text/plain": [
       "<Figure size 576x288 with 1 Axes>"
      ]
     },
     "metadata": {
      "needs_background": "light"
     },
     "output_type": "display_data"
    }
   ],
   "source": [
    "# Изучение площади кухни\n",
    "print(data['kitchen_area'].describe())\n",
    "\n",
    "# В результате получается наглядное распределение\n",
    "data.hist('kitchen_area', bins=15, figsize=(8,4), range=(3, 20))\n",
    "plt.title('Распределение площади кухни')\n",
    "plt.ylabel('Количество квартир')\n",
    "plt.xlabel('Площадь, кв. м')\n",
    "plt.show()"
   ]
  },
  {
   "cell_type": "markdown",
   "metadata": {},
   "source": [
    "По гистрограмме видно, что большая часть квартир имеет площадь кухни от 5 до 12 кв. м.\n",
    "    \n",
    "Самой типичной площадью обладают кухни с 6 кв. м."
   ]
  },
  {
   "cell_type": "code",
   "execution_count": 25,
   "metadata": {},
   "outputs": [
    {
     "name": "stdout",
     "output_type": "stream",
     "text": [
      "count    2.369900e+04\n",
      "mean     6.541549e+06\n",
      "std      1.088701e+07\n",
      "min      1.219000e+04\n",
      "25%      3.400000e+06\n",
      "50%      4.650000e+06\n",
      "75%      6.800000e+06\n",
      "max      7.630000e+08\n",
      "Name: last_price, dtype: float64\n"
     ]
    },
    {
     "data": {
      "image/png": "[encoded data removed]",
      "text/plain": [
       "<Figure size 576x288 with 1 Axes>"
      ]
     },
     "metadata": {
      "needs_background": "light"
     },
     "output_type": "display_data"
    }
   ],
   "source": [
    "# Изучение цены\n",
    "print(data['last_price'].describe())\n",
    "\n",
    "# В результате получается наглядное распределение\n",
    "data.hist('last_price', bins=30, figsize=(8,4), range=(2e+06, 8e+06))\n",
    "plt.title('Распределение цены квартир')\n",
    "plt.ylabel('Количество квартир')\n",
    "plt.xlabel('Цена, млн.')\n",
    "plt.show()"
   ]
  },
  {
   "cell_type": "markdown",
   "metadata": {},
   "source": [
    "На основании полученных данных, можно сделать вывод, что чаще всего квартиры стоили от 3.5 млн до 4 млн."
   ]
  },
  {
   "cell_type": "code",
   "execution_count": 26,
   "metadata": {},
   "outputs": [
    {
     "name": "stdout",
     "output_type": "stream",
     "text": [
      "count    23699.000000\n",
      "mean         2.070636\n",
      "std          1.078405\n",
      "min          0.000000\n",
      "25%          1.000000\n",
      "50%          2.000000\n",
      "75%          3.000000\n",
      "max         19.000000\n",
      "Name: rooms, dtype: float64\n"
     ]
    },
    {
     "data": {
      "image/png": "[encoded data removed]",
      "text/plain": [
       "<Figure size 576x288 with 1 Axes>"
      ]
     },
     "metadata": {
      "needs_background": "light"
     },
     "output_type": "display_data"
    }
   ],
   "source": [
    "# Изучение количества комнат\n",
    "print(data['rooms'].describe())\n",
    "\n",
    "# В этом разбросе проблем не замечено\n",
    "data.hist('rooms', bins=5, figsize=(8,4), grid = True, range=(1, 6))\n",
    "plt.title('Распределение количества комнат в квартирах')\n",
    "plt.ylabel('Количество квартир')\n",
    "plt.xlabel('Количество комнат')\n",
    "plt.show()"
   ]
  },
  {
   "cell_type": "markdown",
   "metadata": {},
   "source": [
    "Больше всего в данном наборе данных оказалось однокомнатных квартир. Прослеживается, что чем больше комнат, тем меньше шансов найти такую квартиру в объявлениях."
   ]
  },
  {
   "cell_type": "code",
   "execution_count": 27,
   "metadata": {},
   "outputs": [
    {
     "name": "stdout",
     "output_type": "stream",
     "text": [
      "count    14504.000000\n",
      "mean         2.771499\n",
      "std          1.261056\n",
      "min          1.000000\n",
      "25%          2.520000\n",
      "50%          2.650000\n",
      "75%          2.800000\n",
      "max        100.000000\n",
      "Name: ceiling_height, dtype: float64\n"
     ]
    },
    {
     "data": {
      "image/png": "[encoded data removed]",
      "text/plain": [
       "<Figure size 576x288 with 1 Axes>"
      ]
     },
     "metadata": {
      "needs_background": "light"
     },
     "output_type": "display_data"
    }
   ],
   "source": [
    "# Изучение высоты потолков\n",
    "print(data['ceiling_height'].describe())\n",
    "# Предположим, что значения больше 19, это аномальные значения, восстановим их делением на 10 с помощью логической индексации loc.\n",
    "data.loc[data['ceiling_height']>19, ['ceiling_height']] = data.loc[data['ceiling_height']>19, ['ceiling_height']]/10\n",
    "\n",
    "# В результате получается наглядное распределение\n",
    "data.hist('ceiling_height', bins=11, figsize=(8,4), range=(2.4, 3.2))\n",
    "plt.title('Распределение высоты потолков')\n",
    "plt.ylabel('Количество квартир')\n",
    "plt.xlabel('Высота потолков, м')\n",
    "plt.show()"
   ]
  },
  {
   "cell_type": "markdown",
   "metadata": {},
   "source": [
    "Типичной высотой для квартир Санкт-Петербурга является 2.5 метра."
   ]
  },
  {
   "cell_type": "code",
   "execution_count": 28,
   "metadata": {},
   "outputs": [
    {
     "data": {
      "image/png": "[encoded data removed]",
      "text/plain": [
       "<Figure size 504x288 with 1 Axes>"
      ]
     },
     "metadata": {
      "needs_background": "light"
     },
     "output_type": "display_data"
    }
   ],
   "source": [
    "# Изучение типа этажей квартир\n",
    "plt.figure(figsize = (7, 4))\n",
    "plt.title('floor_type')\n",
    "plt.hist(data['floor_type'], bins = 3)\n",
    "plt.title('Распределение типов этажей')\n",
    "plt.ylabel('Количество квартир')\n",
    "plt.xlabel('Тип этажа')\n",
    "plt.show()"
   ]
  },
  {
   "cell_type": "markdown",
   "metadata": {},
   "source": [
    "По типу этажей квартир замечена интересная особенность - количество квартир на первых и последних этажах приблизительно равно, как-будто в выборке оказались квартиры из одних и тех же домов в равных пропорциях.\n",
    "    \n",
    "Закономерно, самым частым типом этажей стал \"другой\"."
   ]
  },
  {
   "cell_type": "code",
   "execution_count": 29,
   "metadata": {},
   "outputs": [
    {
     "name": "stdout",
     "output_type": "stream",
     "text": [
      "count    23613.000000\n",
      "mean        10.673824\n",
      "std          6.597173\n",
      "min          1.000000\n",
      "25%          5.000000\n",
      "50%          9.000000\n",
      "75%         16.000000\n",
      "max         60.000000\n",
      "Name: floors_total, dtype: float64\n"
     ]
    },
    {
     "data": {
      "image/png": "[encoded data removed]",
      "text/plain": [
       "<Figure size 576x288 with 1 Axes>"
      ]
     },
     "metadata": {
      "needs_background": "light"
     },
     "output_type": "display_data"
    }
   ],
   "source": [
    "# Изучение общего количества этажей в доме\n",
    "print(data['floors_total'].describe())\n",
    "\n",
    "# В результате получается наглядное распределение\n",
    "data.hist('floors_total', bins=25, figsize=(8,4), range=(1, 25))\n",
    "plt.title('Распределение общего количества этажей в доме')\n",
    "plt.ylabel('Количество квартир')\n",
    "plt.xlabel('Количество этажей')\n",
    "plt.show()"
   ]
  },
  {
   "cell_type": "markdown",
   "metadata": {},
   "source": [
    "По количеству этажей в доме так же была проведена фильтрация нулевых значений и выбросов. По гистограмме заметно, что больше всего в Санкт-Петербурге строили пятиэтажные и девятиэтажные дома, предпочитая нечетные значения. Но начиная с 10 этажей, в приоритете у строителей четное число этажей в доме - 16, 24."
   ]
  },
  {
   "cell_type": "code",
   "execution_count": 30,
   "metadata": {},
   "outputs": [
    {
     "name": "stdout",
     "output_type": "stream",
     "text": [
      "count    18180.000000\n",
      "mean        14.184818\n",
      "std          8.616194\n",
      "min          0.000000\n",
      "25%          9.000000\n",
      "50%         13.000000\n",
      "75%         16.000000\n",
      "max         66.000000\n",
      "Name: distance_center, dtype: float64\n"
     ]
    },
    {
     "data": {
      "image/png": "[encoded data removed]",
      "text/plain": [
       "<Figure size 576x288 with 1 Axes>"
      ]
     },
     "metadata": {
      "needs_background": "light"
     },
     "output_type": "display_data"
    }
   ],
   "source": [
    "# Изучаем расстояние до центра\n",
    "print(data['distance_center'].describe())\n",
    "\n",
    "data.hist('distance_center', bins=20, figsize=(8,4), range=(0, 37))\n",
    "plt.title('Распределение расстояния до центра')\n",
    "plt.ylabel('Количество квартир')\n",
    "plt.xlabel('Расстояние, км')\n",
    "plt.show()"
   ]
  },
  {
   "cell_type": "markdown",
   "metadata": {},
   "source": [
    "Расстояние до центра города было добавлено в датафрейм на основании столбца 'cityсenters_nearest' и отфильтровано от аномальных нулевых значений. Больше всего квартир расположено на удалении 13-16 км от центра."
   ]
  },
  {
   "cell_type": "code",
   "execution_count": 31,
   "metadata": {},
   "outputs": [
    {
     "name": "stdout",
     "output_type": "stream",
     "text": [
      "count    8079.000000\n",
      "mean      490.804555\n",
      "std       342.317995\n",
      "min         1.000000\n",
      "25%       288.000000\n",
      "50%       455.000000\n",
      "75%       612.000000\n",
      "max      3190.000000\n",
      "Name: parks_nearest, dtype: float64\n"
     ]
    },
    {
     "data": {
      "image/png": "[encoded data removed]",
      "text/plain": [
       "<Figure size 576x288 with 1 Axes>"
      ]
     },
     "metadata": {
      "needs_background": "light"
     },
     "output_type": "display_data"
    }
   ],
   "source": [
    "# Изучим расстояние до ближайшего парка\n",
    "print(data['parks_nearest'].describe())\n",
    "\n",
    "data.hist('parks_nearest', bins=30, figsize=(8,4), range=(0, 1200))\n",
    "plt.title('Распределение расстояния до ближайшего парка')\n",
    "plt.ylabel('Количество квартир')\n",
    "plt.xlabel('Расстояние, м')\n",
    "plt.show()"
   ]
  },
  {
   "cell_type": "markdown",
   "metadata": {},
   "source": [
    "Расстояние до ближайшего парка похоже на распределение Пуассона, по которому видно, что самое частое расположение парков у квартир - 500 метров."
   ]
  },
  {
   "cell_type": "code",
   "execution_count": 32,
   "metadata": {},
   "outputs": [
    {
     "data": {
      "text/html": [
       "<div>\n",
       "<style scoped>\n",
       "    .dataframe tbody tr th:only-of-type {\n",
       "        vertical-align: middle;\n",
       "    }\n",
       "\n",
       "    .dataframe tbody tr th {\n",
       "        vertical-align: top;\n",
       "    }\n",
       "\n",
       "    .dataframe thead th {\n",
       "        text-align: right;\n",
       "    }\n",
       "</style>\n",
       "<table border=\"1\" class=\"dataframe\">\n",
       "  <thead>\n",
       "    <tr style=\"text-align: right;\">\n",
       "      <th></th>\n",
       "      <th>total_images</th>\n",
       "      <th>last_price</th>\n",
       "      <th>total_area</th>\n",
       "      <th>rooms</th>\n",
       "      <th>ceiling_height</th>\n",
       "      <th>floors_total</th>\n",
       "      <th>living_area</th>\n",
       "      <th>floor</th>\n",
       "      <th>kitchen_area</th>\n",
       "      <th>balcony</th>\n",
       "      <th>...</th>\n",
       "      <th>parks_around3000</th>\n",
       "      <th>parks_nearest</th>\n",
       "      <th>ponds_around3000</th>\n",
       "      <th>ponds_nearest</th>\n",
       "      <th>days_exposition</th>\n",
       "      <th>price_one_square_meter</th>\n",
       "      <th>day_week_publication</th>\n",
       "      <th>month_publication</th>\n",
       "      <th>year_publication</th>\n",
       "      <th>distance_center</th>\n",
       "    </tr>\n",
       "  </thead>\n",
       "  <tbody>\n",
       "    <tr>\n",
       "      <th>count</th>\n",
       "      <td>23699.000000</td>\n",
       "      <td>2.369900e+04</td>\n",
       "      <td>23699.000000</td>\n",
       "      <td>23699.000000</td>\n",
       "      <td>14504.000000</td>\n",
       "      <td>23613.000000</td>\n",
       "      <td>21796.000000</td>\n",
       "      <td>23699.000000</td>\n",
       "      <td>21421.000000</td>\n",
       "      <td>23699.000000</td>\n",
       "      <td>...</td>\n",
       "      <td>18181.000000</td>\n",
       "      <td>8079.000000</td>\n",
       "      <td>18181.000000</td>\n",
       "      <td>9110.000000</td>\n",
       "      <td>20518.000000</td>\n",
       "      <td>2.369900e+04</td>\n",
       "      <td>23699.000000</td>\n",
       "      <td>23699.000000</td>\n",
       "      <td>23699.000000</td>\n",
       "      <td>18180.000000</td>\n",
       "    </tr>\n",
       "    <tr>\n",
       "      <th>mean</th>\n",
       "      <td>9.858475</td>\n",
       "      <td>6.541549e+06</td>\n",
       "      <td>60.348651</td>\n",
       "      <td>2.070636</td>\n",
       "      <td>2.729608</td>\n",
       "      <td>10.673824</td>\n",
       "      <td>34.457852</td>\n",
       "      <td>5.892358</td>\n",
       "      <td>10.569807</td>\n",
       "      <td>0.591080</td>\n",
       "      <td>...</td>\n",
       "      <td>0.611408</td>\n",
       "      <td>490.804555</td>\n",
       "      <td>0.770255</td>\n",
       "      <td>517.980900</td>\n",
       "      <td>180.888634</td>\n",
       "      <td>9.942166e+04</td>\n",
       "      <td>2.569307</td>\n",
       "      <td>6.400101</td>\n",
       "      <td>2017.367146</td>\n",
       "      <td>14.184818</td>\n",
       "    </tr>\n",
       "    <tr>\n",
       "      <th>std</th>\n",
       "      <td>5.682529</td>\n",
       "      <td>1.088701e+07</td>\n",
       "      <td>35.654083</td>\n",
       "      <td>1.078405</td>\n",
       "      <td>0.319850</td>\n",
       "      <td>6.597173</td>\n",
       "      <td>22.030445</td>\n",
       "      <td>4.885249</td>\n",
       "      <td>5.905438</td>\n",
       "      <td>0.959298</td>\n",
       "      <td>...</td>\n",
       "      <td>0.802074</td>\n",
       "      <td>342.317995</td>\n",
       "      <td>0.938346</td>\n",
       "      <td>277.720643</td>\n",
       "      <td>219.727988</td>\n",
       "      <td>5.030680e+04</td>\n",
       "      <td>1.789082</td>\n",
       "      <td>3.491561</td>\n",
       "      <td>1.039771</td>\n",
       "      <td>8.616194</td>\n",
       "    </tr>\n",
       "    <tr>\n",
       "      <th>min</th>\n",
       "      <td>0.000000</td>\n",
       "      <td>1.219000e+04</td>\n",
       "      <td>12.000000</td>\n",
       "      <td>0.000000</td>\n",
       "      <td>1.000000</td>\n",
       "      <td>1.000000</td>\n",
       "      <td>2.000000</td>\n",
       "      <td>1.000000</td>\n",
       "      <td>1.300000</td>\n",
       "      <td>0.000000</td>\n",
       "      <td>...</td>\n",
       "      <td>0.000000</td>\n",
       "      <td>1.000000</td>\n",
       "      <td>0.000000</td>\n",
       "      <td>13.000000</td>\n",
       "      <td>1.000000</td>\n",
       "      <td>1.118300e+02</td>\n",
       "      <td>0.000000</td>\n",
       "      <td>1.000000</td>\n",
       "      <td>2014.000000</td>\n",
       "      <td>0.000000</td>\n",
       "    </tr>\n",
       "    <tr>\n",
       "      <th>25%</th>\n",
       "      <td>6.000000</td>\n",
       "      <td>3.400000e+06</td>\n",
       "      <td>40.000000</td>\n",
       "      <td>1.000000</td>\n",
       "      <td>2.510000</td>\n",
       "      <td>5.000000</td>\n",
       "      <td>18.600000</td>\n",
       "      <td>2.000000</td>\n",
       "      <td>7.000000</td>\n",
       "      <td>0.000000</td>\n",
       "      <td>...</td>\n",
       "      <td>0.000000</td>\n",
       "      <td>288.000000</td>\n",
       "      <td>0.000000</td>\n",
       "      <td>294.000000</td>\n",
       "      <td>45.000000</td>\n",
       "      <td>7.658547e+04</td>\n",
       "      <td>1.000000</td>\n",
       "      <td>3.000000</td>\n",
       "      <td>2017.000000</td>\n",
       "      <td>9.000000</td>\n",
       "    </tr>\n",
       "    <tr>\n",
       "      <th>50%</th>\n",
       "      <td>9.000000</td>\n",
       "      <td>4.650000e+06</td>\n",
       "      <td>52.000000</td>\n",
       "      <td>2.000000</td>\n",
       "      <td>2.650000</td>\n",
       "      <td>9.000000</td>\n",
       "      <td>30.000000</td>\n",
       "      <td>4.000000</td>\n",
       "      <td>9.100000</td>\n",
       "      <td>0.000000</td>\n",
       "      <td>...</td>\n",
       "      <td>0.000000</td>\n",
       "      <td>455.000000</td>\n",
       "      <td>1.000000</td>\n",
       "      <td>502.000000</td>\n",
       "      <td>95.000000</td>\n",
       "      <td>9.500000e+04</td>\n",
       "      <td>3.000000</td>\n",
       "      <td>6.000000</td>\n",
       "      <td>2017.000000</td>\n",
       "      <td>13.000000</td>\n",
       "    </tr>\n",
       "    <tr>\n",
       "      <th>75%</th>\n",
       "      <td>14.000000</td>\n",
       "      <td>6.800000e+06</td>\n",
       "      <td>69.900000</td>\n",
       "      <td>3.000000</td>\n",
       "      <td>2.800000</td>\n",
       "      <td>16.000000</td>\n",
       "      <td>42.300000</td>\n",
       "      <td>8.000000</td>\n",
       "      <td>12.000000</td>\n",
       "      <td>1.000000</td>\n",
       "      <td>...</td>\n",
       "      <td>1.000000</td>\n",
       "      <td>612.000000</td>\n",
       "      <td>1.000000</td>\n",
       "      <td>729.000000</td>\n",
       "      <td>232.000000</td>\n",
       "      <td>1.142563e+05</td>\n",
       "      <td>4.000000</td>\n",
       "      <td>10.000000</td>\n",
       "      <td>2018.000000</td>\n",
       "      <td>16.000000</td>\n",
       "    </tr>\n",
       "    <tr>\n",
       "      <th>max</th>\n",
       "      <td>50.000000</td>\n",
       "      <td>7.630000e+08</td>\n",
       "      <td>900.000000</td>\n",
       "      <td>19.000000</td>\n",
       "      <td>14.000000</td>\n",
       "      <td>60.000000</td>\n",
       "      <td>409.700000</td>\n",
       "      <td>33.000000</td>\n",
       "      <td>112.000000</td>\n",
       "      <td>5.000000</td>\n",
       "      <td>...</td>\n",
       "      <td>3.000000</td>\n",
       "      <td>3190.000000</td>\n",
       "      <td>3.000000</td>\n",
       "      <td>1344.000000</td>\n",
       "      <td>1580.000000</td>\n",
       "      <td>1.907500e+06</td>\n",
       "      <td>6.000000</td>\n",
       "      <td>12.000000</td>\n",
       "      <td>2019.000000</td>\n",
       "      <td>66.000000</td>\n",
       "    </tr>\n",
       "  </tbody>\n",
       "</table>\n",
       "<p>8 rows × 22 columns</p>\n",
       "</div>"
      ],
      "text/plain": [
       "       total_images    last_price    total_area         rooms  ceiling_height  \\\n",
       "count  23699.000000  2.369900e+04  23699.000000  23699.000000    14504.000000   \n",
       "mean       9.858475  6.541549e+06     60.348651      2.070636        2.729608   \n",
       "std        5.682529  1.088701e+07     35.654083      1.078405        0.319850   \n",
       "min        0.000000  1.219000e+04     12.000000      0.000000        1.000000   \n",
       "25%        6.000000  3.400000e+06     40.000000      1.000000        2.510000   \n",
       "50%        9.000000  4.650000e+06     52.000000      2.000000        2.650000   \n",
       "75%       14.000000  6.800000e+06     69.900000      3.000000        2.800000   \n",
       "max       50.000000  7.630000e+08    900.000000     19.000000       14.000000   \n",
       "\n",
       "       floors_total   living_area         floor  kitchen_area       balcony  \\\n",
       "count  23613.000000  21796.000000  23699.000000  21421.000000  23699.000000   \n",
       "mean      10.673824     34.457852      5.892358     10.569807      0.591080   \n",
       "std        6.597173     22.030445      4.885249      5.905438      0.959298   \n",
       "min        1.000000      2.000000      1.000000      1.300000      0.000000   \n",
       "25%        5.000000     18.600000      2.000000      7.000000      0.000000   \n",
       "50%        9.000000     30.000000      4.000000      9.100000      0.000000   \n",
       "75%       16.000000     42.300000      8.000000     12.000000      1.000000   \n",
       "max       60.000000    409.700000     33.000000    112.000000      5.000000   \n",
       "\n",
       "       ...  parks_around3000  parks_nearest  ponds_around3000  ponds_nearest  \\\n",
       "count  ...      18181.000000    8079.000000      18181.000000    9110.000000   \n",
       "mean   ...          0.611408     490.804555          0.770255     517.980900   \n",
       "std    ...          0.802074     342.317995          0.938346     277.720643   \n",
       "min    ...          0.000000       1.000000          0.000000      13.000000   \n",
       "25%    ...          0.000000     288.000000          0.000000     294.000000   \n",
       "50%    ...          0.000000     455.000000          1.000000     502.000000   \n",
       "75%    ...          1.000000     612.000000          1.000000     729.000000   \n",
       "max    ...          3.000000    3190.000000          3.000000    1344.000000   \n",
       "\n",
       "       days_exposition  price_one_square_meter  day_week_publication  \\\n",
       "count     20518.000000            2.369900e+04          23699.000000   \n",
       "mean        180.888634            9.942166e+04              2.569307   \n",
       "std         219.727988            5.030680e+04              1.789082   \n",
       "min           1.000000            1.118300e+02              0.000000   \n",
       "25%          45.000000            7.658547e+04              1.000000   \n",
       "50%          95.000000            9.500000e+04              3.000000   \n",
       "75%         232.000000            1.142563e+05              4.000000   \n",
       "max        1580.000000            1.907500e+06              6.000000   \n",
       "\n",
       "       month_publication  year_publication  distance_center  \n",
       "count       23699.000000      23699.000000     18180.000000  \n",
       "mean            6.400101       2017.367146        14.184818  \n",
       "std             3.491561          1.039771         8.616194  \n",
       "min             1.000000       2014.000000         0.000000  \n",
       "25%             3.000000       2017.000000         9.000000  \n",
       "50%             6.000000       2017.000000        13.000000  \n",
       "75%            10.000000       2018.000000        16.000000  \n",
       "max            12.000000       2019.000000        66.000000  \n",
       "\n",
       "[8 rows x 22 columns]"
      ]
     },
     "execution_count": 32,
     "metadata": {},
     "output_type": "execute_result"
    }
   ],
   "source": [
    "data.describe()"
   ]
  },
  {
   "cell_type": "markdown",
   "metadata": {},
   "source": [
    "### Изучение скорости продажи квартир."
   ]
  },
  {
   "cell_type": "code",
   "execution_count": 33,
   "metadata": {},
   "outputs": [
    {
     "data": {
      "text/plain": [
       "count    20518.000000\n",
       "mean       180.888634\n",
       "std        219.727988\n",
       "min          1.000000\n",
       "25%         45.000000\n",
       "50%         95.000000\n",
       "75%        232.000000\n",
       "max       1580.000000\n",
       "Name: days_exposition, dtype: float64"
      ]
     },
     "execution_count": 33,
     "metadata": {},
     "output_type": "execute_result"
    }
   ],
   "source": [
    "# Изучение скорости продажи квартир\n",
    "data['days_exposition'].describe()"
   ]
  },
  {
   "cell_type": "markdown",
   "metadata": {},
   "source": [
    "Из значений диаграммы размаха видно, что обычно квартиры продаются за 3 месяца (92 дня), но не редки продажи в первые недели публикации объявлений. В целом можно сделать вывод, что большая часть квартир, опубликованных в сервисе Яндекс Недвижимость, покупаются за первые полгода.\n",
    "\n",
    "Значит быстрой можно считать продажу, которая произошла за 44 дня (Квартиль 1). А необычно долгими: объявления,которые были размещены больше полугода - 223 дня(Квартиль 3)."
   ]
  },
  {
   "cell_type": "markdown",
   "metadata": {},
   "source": [
    "### Определение факторов, больше всего влияющих на стоимость объекта."
   ]
  },
  {
   "cell_type": "code",
   "execution_count": 34,
   "metadata": {},
   "outputs": [
    {
     "data": {
      "image/png": "[encoded data removed]",
      "text/plain": [
       "<Figure size 432x288 with 1 Axes>"
      ]
     },
     "metadata": {
      "needs_background": "light"
     },
     "output_type": "display_data"
    },
    {
     "name": "stdout",
     "output_type": "stream",
     "text": [
      "Коэффициент корреляции Пирсона: 0.65\n"
     ]
    }
   ],
   "source": [
    "# График рассеивания общей площади\n",
    "data.plot(x='last_price', y='total_area', kind='scatter')\n",
    "plt.title('График рассеивания общей площади')\n",
    "plt.ylabel('Общая площадь, кв. м')\n",
    "plt.xlabel('Цена, млн')\n",
    "plt.show()\n",
    "\n",
    "print('Коэффициент корреляции Пирсона:', round(data['last_price'].corr(data['total_area']), 2))"
   ]
  },
  {
   "cell_type": "markdown",
   "metadata": {},
   "source": [
    "Видна уверенная положительная корреляция цены квартиры и общей площади, т.е. чем больше площадь, тем выше цена.\n",
    "    \n",
    "На графика четко видны аномальные значения, они обозначены отдельными точками в левом верхнем углу. Возможно, это объявления мошенников."
   ]
  },
  {
   "cell_type": "code",
   "execution_count": 35,
   "metadata": {},
   "outputs": [
    {
     "data": {
      "image/png": "[encoded data removed]",
      "text/plain": [
       "<Figure size 432x288 with 1 Axes>"
      ]
     },
     "metadata": {
      "needs_background": "light"
     },
     "output_type": "display_data"
    },
    {
     "name": "stdout",
     "output_type": "stream",
     "text": [
      "Коэффициент корреляции Пирсона: 0.57\n"
     ]
    }
   ],
   "source": [
    "# График рассевания жилой площади\n",
    "data.plot(x='last_price', y='living_area', kind='scatter')\n",
    "plt.title('График рассеивания жилой площади')\n",
    "plt.ylabel('Жилая площадь, кв. м')\n",
    "plt.xlabel('Цена, млн')\n",
    "plt.show()\n",
    "\n",
    "print('Коэффициент корреляции Пирсона:', round(data['last_price'].corr(data['living_area']), 2))"
   ]
  },
  {
   "cell_type": "markdown",
   "metadata": {},
   "source": [
    "Здесь положительная кореляция уже слабее, но всё равно прослеживается увеличение цены при увеличении жилой площади.\n",
    "    \n",
    "И так же наблюдаются аномальные значения отдельными точками на графике - выглядит подозрительно."
   ]
  },
  {
   "cell_type": "code",
   "execution_count": 36,
   "metadata": {},
   "outputs": [
    {
     "data": {
      "image/png": "[encoded data removed]",
      "text/plain": [
       "<Figure size 432x288 with 1 Axes>"
      ]
     },
     "metadata": {
      "needs_background": "light"
     },
     "output_type": "display_data"
    },
    {
     "name": "stdout",
     "output_type": "stream",
     "text": [
      "Коэффициент корреляции Пирсона: 0.52\n"
     ]
    }
   ],
   "source": [
    "# График рассевания площади кухни\n",
    "data.plot(x='last_price', y='kitchen_area', kind='scatter')\n",
    "plt.title('График рассеивания площади кухонь')\n",
    "plt.ylabel('Площадь кухонь, кв. м')\n",
    "plt.xlabel('Цена, млн')\n",
    "plt.show()\n",
    "\n",
    "print('Коэффициент корреляции Пирсона:', round(data['last_price'].corr(data['kitchen_area']), 2))"
   ]
  },
  {
   "cell_type": "markdown",
   "metadata": {},
   "source": [
    "Здесь положительная кореляция ещё слабее, закономерность прослеживается меньше, чем у предыдущих параметров.\n",
    "    \n",
    "И так же наблюдаются аномальные значения отдельными точками на графике."
   ]
  },
  {
   "cell_type": "code",
   "execution_count": 37,
   "metadata": {},
   "outputs": [
    {
     "data": {
      "image/png": "[encoded data removed]",
      "text/plain": [
       "<Figure size 864x504 with 1 Axes>"
      ]
     },
     "metadata": {
      "needs_background": "light"
     },
     "output_type": "display_data"
    }
   ],
   "source": [
    "# Группировка данных для построения графика\n",
    "rooms_bar = data.groupby('rooms')['last_price'].median()\n",
    "\n",
    "rooms_bar.plot.bar(x='last_price', y='rooms', grid=True, figsize=(12,7), title = 'Зависимость цены квартир от количества комнат',xlabel='Количество комнат', ylabel = 'Медианная цена, млн')\n",
    "plt.show()"
   ]
  },
  {
   "cell_type": "markdown",
   "metadata": {},
   "source": [
    "На графике видна четкая взаимосвязь данных - чем больше комнат, тем выше цена квартир. На значении 12 комнат замечен сильный выброс."
   ]
  },
  {
   "cell_type": "code",
   "execution_count": 38,
   "metadata": {},
   "outputs": [
    {
     "data": {
      "image/png": "[encoded data removed]",
      "text/plain": [
       "<Figure size 864x504 with 1 Axes>"
      ]
     },
     "metadata": {
      "needs_background": "light"
     },
     "output_type": "display_data"
    }
   ],
   "source": [
    "# Группировка данных для построения графика\n",
    "floor_bar = data.groupby('floor_type')['last_price'].median()\n",
    "\n",
    "floor_bar.plot.bar(x='last_price', y='floor_type', grid=True, figsize=(12,7), title = 'Зависимость цены квартир от типа этажа', xlabel='Тип этажа', ylabel = 'Медианная цена, млн')\n",
    "plt.show()"
   ]
  },
  {
   "cell_type": "markdown",
   "metadata": {},
   "source": [
    "Квартиры находящиеся на первых этажах имеют наименьшую цену.\n",
    "\n",
    "Дальше по стоимости идут последние этажи.\n",
    "\n",
    "Самыми дорогими являются квартиры на других этажах."
   ]
  },
  {
   "cell_type": "code",
   "execution_count": 39,
   "metadata": {},
   "outputs": [
    {
     "data": {
      "image/png": "[encoded data removed]",
      "text/plain": [
       "<Figure size 864x504 with 1 Axes>"
      ]
     },
     "metadata": {
      "needs_background": "light"
     },
     "output_type": "display_data"
    }
   ],
   "source": [
    "# Группировка данных для построения графика\n",
    "day_bar = data.groupby('day_week_publication')['last_price'].median()\n",
    "\n",
    "day_bar.plot.bar(x='last_price', y='day_week_publication', grid=True, figsize=(12,7), title = 'Зависимость цены квартир от типа этажа', xlabel='День недели продажи', ylabel = 'Медианная цена, млн')\n",
    "plt.show()"
   ]
  },
  {
   "cell_type": "markdown",
   "metadata": {},
   "source": [
    "День публикации объявления никак не влияет на стоимость продажи квартиры."
   ]
  },
  {
   "cell_type": "code",
   "execution_count": 40,
   "metadata": {},
   "outputs": [
    {
     "data": {
      "image/png": "[encoded data removed]",
      "text/plain": [
       "<Figure size 864x504 with 1 Axes>"
      ]
     },
     "metadata": {
      "needs_background": "light"
     },
     "output_type": "display_data"
    }
   ],
   "source": [
    "# Группировка данных для построения графика\n",
    "mounth_bar = data.groupby('month_publication')['last_price'].median()\n",
    "\n",
    "mounth_bar.plot.bar(x='last_price', y='month_publication', grid=True, figsize=(12,7), title = 'Зависимость цены квартир от типа этажа', xlabel='Месяц продажи', ylabel = 'Медианная цена, млн')\n",
    "plt.show()"
   ]
  },
  {
   "cell_type": "markdown",
   "metadata": {},
   "source": [
    "Прослеживается небольшая связь месяца продажи и цены квартиры: дороже всего квартиры в декабре - видимо, связано с завершением года и подсчётом бюджетов.\n",
    "\n",
    "Дешевле всего квартиры стоят в марте.\n",
    "\n",
    "Но в целом взаимосвязь достаточно слабая и находится на уровне погрешности."
   ]
  },
  {
   "cell_type": "code",
   "execution_count": 41,
   "metadata": {},
   "outputs": [
    {
     "data": {
      "image/png": "[encoded data removed]",
      "text/plain": [
       "<Figure size 864x504 with 1 Axes>"
      ]
     },
     "metadata": {
      "needs_background": "light"
     },
     "output_type": "display_data"
    }
   ],
   "source": [
    "# Группировка данных для построения графика\n",
    "year_bar = data.groupby('year_publication')['last_price'].median()\n",
    "\n",
    "year_bar.plot.bar(x='last_price', y='year_publication', grid=True, figsize=(12,7), title = 'Зависимость цены квартир от типа этажа', xlabel='Год продажи', ylabel = 'Медианная цена, млн')\n",
    "plt.show()"
   ]
  },
  {
   "cell_type": "markdown",
   "metadata": {},
   "source": [
    "Видно планомерное падение цен на недвижимость в Санкт-Петербурге с 2014 года по 2017 год, связанная, скорее всего, с кризисом 2014 года и дальнейший медленный рост."
   ]
  },
  {
   "cell_type": "markdown",
   "metadata": {},
   "source": [
    "Как видно из графиков и расчётов - больше всего на цену недвижимости влияет общая площадь квартиры. Выраженная положительная корреляция, свидетельствующая о росте цены при увеличении площади.\n",
    "    \n",
    "Вторым по значимости параметром стала жилая площадь - чем она больше, тем выше цена недвижимости.\n",
    "    \n",
    "На третьем месте по коэффициенту Пирсона оказалась площадь кухни - чем больше площадь кухни, тем больше цена квартиры.\n",
    "    \n",
    "Количество комнат так же оказывает сильное влияние на стоимость квартиры, которое можно увидеть на представленной столбчатой диаграмме.\n",
    "    \n",
    "Первые и последние этажи по объективным причинам немного уменьшают цену квартир.\n",
    "    \n",
    "Год продажи тоже сыграл свою роль - из-за кризиса 2014 года цены на жильё начали падать и продолжали снижаться до 2017 года."
   ]
  },
  {
   "cell_type": "markdown",
   "metadata": {},
   "source": [
    "### Расчёт средней цены одного квадратного метра в 10 населённых пунктах с наибольшим числом объявлений."
   ]
  },
  {
   "cell_type": "code",
   "execution_count": 42,
   "metadata": {},
   "outputs": [
    {
     "name": "stdout",
     "output_type": "stream",
     "text": [
      "locality_name\n",
      "Санкт-Петербург    15721\n",
      "Мурино               590\n",
      "Кудрово              472\n",
      "Шушары               440\n",
      "Всеволожск           398\n",
      "Пушкин               369\n",
      "Колпино              338\n",
      "Парголово            327\n",
      "Гатчина              307\n",
      "Выборг               237\n",
      "Петергоф             201\n",
      "Name: price_one_square_meter, dtype: int64\n"
     ]
    }
   ],
   "source": [
    "# Определение средней цены одного квадратного метра в 10 населённых пунктах с наибольшим числом объявлений\n",
    "\n",
    "# группировка данных по столбцу locality_name методом groupby() с сортировкой по количеству \n",
    "# объявлений методом count() по убыванию методом sort_values и параметром ascending = False\n",
    "\n",
    "print(data.groupby('locality_name')['price_one_square_meter'].count().sort_values(ascending = False).head(11))"
   ]
  },
  {
   "cell_type": "code",
   "execution_count": 43,
   "metadata": {
    "scrolled": true
   },
   "outputs": [
    {
     "name": "stdout",
     "output_type": "stream",
     "text": [
      "                 mean_price_square_meter  count\n",
      "locality_name                                  \n",
      "Санкт-Петербург            114849.008793  15721\n",
      "Пушкин                     103125.819377    369\n",
      "Кудрово                     95324.930508    472\n",
      "Парголово                   90175.913089    327\n",
      "Мурино                      86087.512017    590\n",
      "Петергоф                    84757.559602    201\n",
      "Шушары                      78677.364318    440\n",
      "Колпино                     75424.579112    338\n",
      "Гатчина                     68746.146515    307\n",
      "Всеволожск                  68654.473970    398\n",
      "Выборг                      58141.909325    237\n"
     ]
    }
   ],
   "source": [
    "# Создание сводой таблицы методом pivot_table, группируя данные по названию населённых пунктов\n",
    "# и применяя к столбцу с ценой за кв. м. метод mean(), чтобы посчитать среднее значение и \n",
    "# count() чтобы посчитать количество объявлений по населённым пунктам\n",
    "mean_price_square_m = data.pivot_table(index='locality_name', values='price_one_square_meter', aggfunc=['mean', 'count'])\n",
    "\n",
    "# Переименование столбцов с помощью columns для удобства дальнейших действий\n",
    "mean_price_square_m.columns = ['mean_price_square_meter', 'count']\n",
    "\n",
    "# Отфильтровывание населённых пунктов, которые не вошли в 10 по количеству объявлений\n",
    "mean_price_square_m = mean_price_square_m[mean_price_square_m['count'] > 197]\n",
    "\n",
    "# вывод получившейся сводной таблицы сортировкой по средней цене за кв. м. по убыванию\n",
    "print(mean_price_square_m.sort_values(by='mean_price_square_meter', ascending = False))"
   ]
  },
  {
   "cell_type": "markdown",
   "metadata": {},
   "source": [
    "   Как и следовало ожидать, больше всех средняя цена за квадратный метр в Санкт-Петербурге (110737), тогда как самая низкая средняя стоимость за квадратный метр оказалась в Выборге(58225)."
   ]
  },
  {
   "cell_type": "markdown",
   "metadata": {},
   "source": [
    "### Исследование зависимости средней стоимости квадратного метра от расстояния до центра города."
   ]
  },
  {
   "cell_type": "code",
   "execution_count": 44,
   "metadata": {},
   "outputs": [
    {
     "data": {
      "image/png": "[encoded data removed]",
      "text/plain": [
       "<Figure size 864x504 with 1 Axes>"
      ]
     },
     "metadata": {
      "needs_background": "light"
     },
     "output_type": "display_data"
    },
    {
     "name": "stdout",
     "output_type": "stream",
     "text": [
      "Коэффициент корреляции Пирсона: -0.31\n"
     ]
    }
   ],
   "source": [
    "# Определение средней цены за кв. м в зависимости от расстояния до центра (только в Санкт-Петербурге)\n",
    "\n",
    "# Создаю дф с отфильтрованными значениями из основного дф\n",
    "distance_to_sp = data[data['locality_name'] == 'Санкт-Петербург']\n",
    "\n",
    "# Группирую по расстоянию от центра и рассчитываю среднюю цену кв. м.\n",
    "distance_to_sp_grp = distance_to_sp.groupby('distance_center')['price_one_square_meter'].median()\n",
    "\n",
    "# Строю график зависимости средней цены за кв. м от расстояния до центра\n",
    "distance_to_sp_grp.plot(x='distance_center', y='price_one_square_meter', grid=True, figsize=(12,7), title = 'График зависимости цены квадратного метра от расстояния до центра города', xlabel='Расстояние до центра города, км', ylabel='Медианная цена за кв. м')\n",
    "# Ограничиваю ось с расстоянием до центра для наглядности и удобства работы с графиком\n",
    "plt.xticks(ticks=range(1, 30))\n",
    "plt.show()\n",
    "\n",
    "print('Коэффициент корреляции Пирсона:', round(distance_to_sp['distance_center'].corr(distance_to_sp['price_one_square_meter']), 2))"
   ]
  },
  {
   "cell_type": "markdown",
   "metadata": {},
   "source": [
    "На основании графика прослеживается снижение цены за кв.м при удалении от цента города. Однако есть выброс в районе 27 км от центра."
   ]
  },
  {
   "cell_type": "markdown",
   "metadata": {
    "id": "h7VpzkIDAwb-"
   },
   "source": [
    "## Общий вывод"
   ]
  },
  {
   "cell_type": "markdown",
   "metadata": {
    "id": "3H4lnp_KAwb-"
   },
   "source": [
    "<h4> Предобработка данных:  <a class=\"tocSkip\"></h4>\n",
    "\n",
    "* В ходе предобработки данных было обнаружено большое количество пропусков в столбцах, содержащих разнородную информацию. Возможными причинами явлются: человеческий фактор, технические проблемы и повреждение файла с данными. Хуже всех дела обстояли со столбцами, в которых хранится информация о том, аппартаменты ли это или нет (20924 пропуска) и столбцы с расстояниями до ближайших парков и водоёмов (15620 и 14589 пропуска соответственно. Часть пропусков была заполненна нулями (количество балконов). Часть пропусков была удалена, так как восстановить их не представляется возможным. Остальные пропуски были оставлены без изменений.\n",
    "* Затем были переведены некоторые типы данных в соответствующие их сущности (целым значениям - int, логическим - bool) и дата была переведена в формат datetime для дальнейшего анализа.\n",
    "* Устранены неявные дубликаты в названиях населённых пунктов и проведена проверка на явные дубликаты.\n",
    "* Добавлено 6 новых столбцов, в которых расчитывалась цена одного квадратного метра, расстояние до центра города, определялся тип этажа квартиры и разделялись значения года, месяца и дня публикации объявлений.\n",
    "    \n",
    "<h4> Результаты проекта:  <a class=\"tocSkip\"></h4>\n",
    "\n",
    "1. Большое всего на цену недвижимости влияет общая площадь квартиры. Чем больше площадь, тем выше цена. Далее по убыванию влияния идут: жилая площадь, количество комнат и площадь кухни, так же выражена положительная корреляция (чем ольше значение параметра, тем выше цена квартриры).\n",
    "2. Больше всего объявлений о продаже квартир, находящихся непосредственно в Санкт-Петербурге, и эти же квартиры имеют наибольшую среднюю цену за квадратный метр. Меньше всего публикуется объявлений о продаже квартир из Кронштадта. Однако самая низкая средняя цена за квадратный метр среди 10 самых популярных населённых пунктов является Красное Село.\n",
    "3. Ещё одним параметром, сильно влияющем на цену объектов, является удаление от центра города - отрицательная корреляция (чем больше расстояние, тем ниже цена).\n",
    "    \n",
    "<h4> Рекомендации  <a class=\"tocSkip\"></h4>\n",
    "\n",
    "Самыми дорогими являются квартиры в центре Санкт-Петербурга, имеющие большую общую площадь и площадь кухни, большое количество комнат ограничивает минимально возможную цену.\n",
    "    \n",
    "Дешевле остальных являются однокомнатные квартиры с маленькой общей площадью и площадью кухни, расположенные на первом или последнем этажах и находящиеся на большом отдалении от центра города.\n",
    "    \n",
    "Для более объективной оценки цены квартир в объявлениях необходимо учитывать такие параметры как:\n",
    "1. Общая площадь;\n",
    "2. Жилая площадь;\n",
    "3. Количество комнат;\n",
    "4. Площадь кухни;\n",
    "5. Расстояние до центра."
   ]
  }
 ],
 "metadata": {
  "ExecuteTimeLog": [
   {
    "duration": 639,
    "start_time": "2024-04-03T19:58:25.882Z"
   },
   {
    "duration": 182,
    "start_time": "2024-04-03T20:01:23.011Z"
   },
   {
    "duration": 106,
    "start_time": "2024-04-03T20:01:33.360Z"
   },
   {
    "duration": 129,
    "start_time": "2024-04-03T20:02:03.082Z"
   },
   {
    "duration": 454,
    "start_time": "2024-04-03T20:02:22.320Z"
   },
   {
    "duration": 104,
    "start_time": "2024-04-03T20:03:02.456Z"
   },
   {
    "duration": 97,
    "start_time": "2024-04-03T20:03:19.420Z"
   },
   {
    "duration": 122,
    "start_time": "2024-04-03T20:03:39.466Z"
   },
   {
    "duration": 623,
    "start_time": "2024-04-05T13:21:42.560Z"
   },
   {
    "duration": 2411,
    "start_time": "2024-04-05T13:22:52.816Z"
   },
   {
    "duration": 176,
    "start_time": "2024-04-05T13:29:42.555Z"
   },
   {
    "duration": 114,
    "start_time": "2024-04-05T13:35:28.772Z"
   },
   {
    "duration": 107,
    "start_time": "2024-04-05T13:36:00.463Z"
   },
   {
    "duration": 24680,
    "start_time": "2024-04-05T13:36:15.009Z"
   },
   {
    "duration": 23928,
    "start_time": "2024-04-05T13:37:45.099Z"
   },
   {
    "duration": 25659,
    "start_time": "2024-04-05T13:38:13.680Z"
   },
   {
    "duration": 1263,
    "start_time": "2024-04-05T13:38:40.828Z"
   },
   {
    "duration": 1999,
    "start_time": "2024-04-05T13:44:17.880Z"
   },
   {
    "duration": 45,
    "start_time": "2024-04-05T13:46:09.678Z"
   },
   {
    "duration": 9,
    "start_time": "2024-04-05T13:48:42.696Z"
   },
   {
    "duration": 14,
    "start_time": "2024-04-05T13:54:32.564Z"
   },
   {
    "duration": 25,
    "start_time": "2024-04-05T13:58:18.455Z"
   },
   {
    "duration": 43,
    "start_time": "2024-04-05T13:58:33.818Z"
   },
   {
    "duration": 52,
    "start_time": "2024-04-05T14:01:39.419Z"
   },
   {
    "duration": 44,
    "start_time": "2024-04-05T14:01:47.036Z"
   },
   {
    "duration": 44,
    "start_time": "2024-04-05T14:04:45.724Z"
   },
   {
    "duration": 71,
    "start_time": "2024-04-05T14:26:49.407Z"
   },
   {
    "duration": 40,
    "start_time": "2024-04-05T14:26:55.803Z"
   },
   {
    "duration": 36,
    "start_time": "2024-04-05T14:27:52.205Z"
   },
   {
    "duration": 38,
    "start_time": "2024-04-05T14:28:10.893Z"
   },
   {
    "duration": 40,
    "start_time": "2024-04-05T14:34:35.029Z"
   },
   {
    "duration": 51,
    "start_time": "2024-04-05T14:37:37.660Z"
   },
   {
    "duration": 14,
    "start_time": "2024-04-05T14:47:21.591Z"
   },
   {
    "duration": 50,
    "start_time": "2024-04-05T14:48:50.647Z"
   },
   {
    "duration": 42,
    "start_time": "2024-04-05T14:54:29.396Z"
   },
   {
    "duration": 46,
    "start_time": "2024-04-05T15:03:09.206Z"
   },
   {
    "duration": 51,
    "start_time": "2024-04-05T15:05:32.800Z"
   },
   {
    "duration": 54,
    "start_time": "2024-04-05T15:07:10.621Z"
   },
   {
    "duration": 54,
    "start_time": "2024-04-05T15:08:29.732Z"
   },
   {
    "duration": 21,
    "start_time": "2024-04-05T15:18:54.009Z"
   },
   {
    "duration": 22,
    "start_time": "2024-04-05T15:19:16.065Z"
   },
   {
    "duration": 23,
    "start_time": "2024-04-05T15:19:46.171Z"
   },
   {
    "duration": 4,
    "start_time": "2024-04-05T15:20:06.961Z"
   },
   {
    "duration": 17,
    "start_time": "2024-04-05T15:20:14.833Z"
   },
   {
    "duration": 49,
    "start_time": "2024-04-05T15:26:08.973Z"
   },
   {
    "duration": 47,
    "start_time": "2024-04-05T15:27:04.458Z"
   },
   {
    "duration": 23,
    "start_time": "2024-04-05T17:22:55.484Z"
   },
   {
    "duration": 17,
    "start_time": "2024-04-05T17:23:17.029Z"
   },
   {
    "duration": 72,
    "start_time": "2024-04-05T17:38:15.380Z"
   },
   {
    "duration": 75,
    "start_time": "2024-04-05T17:38:38.014Z"
   },
   {
    "duration": 52,
    "start_time": "2024-04-05T17:38:46.688Z"
   },
   {
    "duration": 2823,
    "start_time": "2024-04-05T17:39:26.696Z"
   },
   {
    "duration": 46,
    "start_time": "2024-04-05T17:43:46.020Z"
   },
   {
    "duration": 2682,
    "start_time": "2024-04-05T17:43:58.759Z"
   },
   {
    "duration": 25,
    "start_time": "2024-04-05T17:44:01.628Z"
   },
   {
    "duration": 49,
    "start_time": "2024-04-05T17:44:22.954Z"
   },
   {
    "duration": 2720,
    "start_time": "2024-04-05T17:45:09.795Z"
   },
   {
    "duration": 49,
    "start_time": "2024-04-05T17:53:57.333Z"
   },
   {
    "duration": 2790,
    "start_time": "2024-04-05T17:54:04.121Z"
   },
   {
    "duration": 25,
    "start_time": "2024-04-05T17:54:08.921Z"
   },
   {
    "duration": 39,
    "start_time": "2024-04-05T17:54:51.129Z"
   },
   {
    "duration": 19,
    "start_time": "2024-04-05T17:58:01.483Z"
   },
   {
    "duration": 22,
    "start_time": "2024-04-05T17:59:50.102Z"
   },
   {
    "duration": 23,
    "start_time": "2024-04-05T18:00:16.656Z"
   },
   {
    "duration": 48,
    "start_time": "2024-04-05T18:04:42.337Z"
   },
   {
    "duration": 54,
    "start_time": "2024-04-05T18:16:34.327Z"
   },
   {
    "duration": 45,
    "start_time": "2024-04-05T18:18:30.724Z"
   },
   {
    "duration": 46,
    "start_time": "2024-04-05T18:21:24.586Z"
   },
   {
    "duration": 60,
    "start_time": "2024-04-05T18:21:50.428Z"
   },
   {
    "duration": 41,
    "start_time": "2024-04-05T18:22:21.535Z"
   },
   {
    "duration": 40,
    "start_time": "2024-04-05T18:22:47.960Z"
   },
   {
    "duration": 37,
    "start_time": "2024-04-05T18:30:20.899Z"
   },
   {
    "duration": 41,
    "start_time": "2024-04-05T18:35:40.874Z"
   },
   {
    "duration": 4,
    "start_time": "2024-04-05T18:43:12.428Z"
   },
   {
    "duration": 7,
    "start_time": "2024-04-05T18:45:17.571Z"
   },
   {
    "duration": 27,
    "start_time": "2024-04-05T18:45:31.162Z"
   },
   {
    "duration": 28,
    "start_time": "2024-04-05T18:45:58.660Z"
   },
   {
    "duration": 30,
    "start_time": "2024-04-05T18:46:50.589Z"
   },
   {
    "duration": 44,
    "start_time": "2024-04-05T18:49:31.034Z"
   },
   {
    "duration": 33,
    "start_time": "2024-04-05T18:49:36.856Z"
   },
   {
    "duration": 28,
    "start_time": "2024-04-05T18:50:28.977Z"
   },
   {
    "duration": 24,
    "start_time": "2024-04-05T18:50:46.531Z"
   },
   {
    "duration": 37,
    "start_time": "2024-04-05T18:56:19.530Z"
   },
   {
    "duration": 34,
    "start_time": "2024-04-05T18:56:52.625Z"
   },
   {
    "duration": 37,
    "start_time": "2024-04-05T18:58:50.021Z"
   },
   {
    "duration": 47,
    "start_time": "2024-04-05T18:58:56.781Z"
   },
   {
    "duration": 1931,
    "start_time": "2024-04-05T18:59:11.325Z"
   },
   {
    "duration": 85,
    "start_time": "2024-04-05T18:59:18.850Z"
   },
   {
    "duration": 67,
    "start_time": "2024-04-05T19:06:19.039Z"
   },
   {
    "duration": 36,
    "start_time": "2024-04-05T19:06:32.195Z"
   },
   {
    "duration": 18,
    "start_time": "2024-04-05T19:07:19.910Z"
   },
   {
    "duration": 20,
    "start_time": "2024-04-05T19:07:37.461Z"
   },
   {
    "duration": 1255,
    "start_time": "2024-04-05T19:07:46.460Z"
   },
   {
    "duration": 14,
    "start_time": "2024-04-05T19:08:00.575Z"
   },
   {
    "duration": 17,
    "start_time": "2024-04-05T19:08:25.227Z"
   },
   {
    "duration": 16,
    "start_time": "2024-04-05T19:08:58.464Z"
   },
   {
    "duration": 14,
    "start_time": "2024-04-05T19:09:16.116Z"
   },
   {
    "duration": 13,
    "start_time": "2024-04-05T19:09:58.716Z"
   },
   {
    "duration": 17,
    "start_time": "2024-04-05T19:10:17.649Z"
   },
   {
    "duration": 7,
    "start_time": "2024-04-05T19:12:23.847Z"
   },
   {
    "duration": 56,
    "start_time": "2024-04-05T19:12:38.603Z"
   },
   {
    "duration": 59,
    "start_time": "2024-04-05T19:12:59.531Z"
   },
   {
    "duration": 25,
    "start_time": "2024-04-05T19:13:42.617Z"
   },
   {
    "duration": 90,
    "start_time": "2024-04-05T19:14:14.269Z"
   },
   {
    "duration": 49,
    "start_time": "2024-04-05T19:14:43.134Z"
   },
   {
    "duration": 55,
    "start_time": "2024-04-05T19:15:01.873Z"
   },
   {
    "duration": 37,
    "start_time": "2024-04-05T19:15:30.391Z"
   },
   {
    "duration": 36,
    "start_time": "2024-04-05T19:17:05.747Z"
   },
   {
    "duration": 40,
    "start_time": "2024-04-05T19:21:56.337Z"
   },
   {
    "duration": 6,
    "start_time": "2024-04-05T19:33:16.006Z"
   },
   {
    "duration": 36,
    "start_time": "2024-04-05T20:22:12.000Z"
   },
   {
    "duration": 9,
    "start_time": "2024-04-05T20:26:23.008Z"
   },
   {
    "duration": 7,
    "start_time": "2024-04-05T20:28:34.821Z"
   },
   {
    "duration": 8,
    "start_time": "2024-04-05T20:28:46.947Z"
   },
   {
    "duration": 8,
    "start_time": "2024-04-05T20:28:55.887Z"
   },
   {
    "duration": 2740,
    "start_time": "2024-04-05T20:30:01.422Z"
   },
   {
    "duration": 8,
    "start_time": "2024-04-05T20:30:57.579Z"
   },
   {
    "duration": 7,
    "start_time": "2024-04-05T20:31:19.918Z"
   },
   {
    "duration": 5,
    "start_time": "2024-04-05T20:39:07.129Z"
   },
   {
    "duration": 1151,
    "start_time": "2024-04-05T20:45:16.473Z"
   },
   {
    "duration": 38,
    "start_time": "2024-04-05T20:45:32.331Z"
   },
   {
    "duration": 70,
    "start_time": "2024-04-05T20:46:15.161Z"
   },
   {
    "duration": 69,
    "start_time": "2024-04-05T20:46:35.761Z"
   },
   {
    "duration": 72,
    "start_time": "2024-04-05T20:47:05.479Z"
   },
   {
    "duration": 105,
    "start_time": "2024-04-05T20:47:51.041Z"
   },
   {
    "duration": 143,
    "start_time": "2024-04-05T20:49:16.215Z"
   },
   {
    "duration": 180,
    "start_time": "2024-04-05T20:49:58.424Z"
   },
   {
    "duration": 195,
    "start_time": "2024-04-05T20:50:12.225Z"
   },
   {
    "duration": 189,
    "start_time": "2024-04-05T20:50:30.867Z"
   },
   {
    "duration": 192,
    "start_time": "2024-04-05T20:53:05.932Z"
   },
   {
    "duration": 205,
    "start_time": "2024-04-05T20:53:21.378Z"
   },
   {
    "duration": 1910,
    "start_time": "2024-04-05T20:53:38.315Z"
   },
   {
    "duration": 14,
    "start_time": "2024-04-05T20:53:42.225Z"
   },
   {
    "duration": 1939,
    "start_time": "2024-04-05T20:53:58.901Z"
   },
   {
    "duration": 16,
    "start_time": "2024-04-05T20:54:05.249Z"
   },
   {
    "duration": 43,
    "start_time": "2024-04-05T20:54:12.856Z"
   },
   {
    "duration": 197,
    "start_time": "2024-04-05T20:54:16.729Z"
   },
   {
    "duration": 197,
    "start_time": "2024-04-05T20:55:00.116Z"
   },
   {
    "duration": 214,
    "start_time": "2024-04-05T20:55:34.911Z"
   },
   {
    "duration": 231,
    "start_time": "2024-04-05T20:56:13.763Z"
   },
   {
    "duration": 225,
    "start_time": "2024-04-05T20:57:15.202Z"
   },
   {
    "duration": 229,
    "start_time": "2024-04-05T20:57:21.657Z"
   },
   {
    "duration": 29,
    "start_time": "2024-04-05T21:03:31.332Z"
   },
   {
    "duration": 30,
    "start_time": "2024-04-05T21:07:06.682Z"
   },
   {
    "duration": 13,
    "start_time": "2024-04-05T21:10:35.628Z"
   },
   {
    "duration": 9,
    "start_time": "2024-04-05T21:11:09.924Z"
   },
   {
    "duration": 34,
    "start_time": "2024-04-05T21:11:25.037Z"
   },
   {
    "duration": 36,
    "start_time": "2024-04-05T21:19:31.340Z"
   },
   {
    "duration": 36,
    "start_time": "2024-04-05T21:20:02.770Z"
   },
   {
    "duration": 21,
    "start_time": "2024-04-05T21:22:55.825Z"
   },
   {
    "duration": 16,
    "start_time": "2024-04-05T21:25:31.722Z"
   },
   {
    "duration": 32,
    "start_time": "2024-04-05T21:27:16.788Z"
   },
   {
    "duration": 288,
    "start_time": "2024-04-05T21:27:26.929Z"
   },
   {
    "duration": 22,
    "start_time": "2024-04-05T21:27:47.516Z"
   },
   {
    "duration": 22,
    "start_time": "2024-04-05T21:27:50.890Z"
   },
   {
    "duration": 265,
    "start_time": "2024-04-05T21:27:52.018Z"
   },
   {
    "duration": 1977,
    "start_time": "2024-04-05T21:28:11.196Z"
   },
   {
    "duration": 31,
    "start_time": "2024-04-05T21:28:16.057Z"
   },
   {
    "duration": 19,
    "start_time": "2024-04-05T21:28:40.955Z"
   },
   {
    "duration": 42,
    "start_time": "2024-04-05T21:28:46.009Z"
   },
   {
    "duration": 263,
    "start_time": "2024-04-05T21:28:52.661Z"
   },
   {
    "duration": 85,
    "start_time": "2024-04-06T08:37:43.900Z"
   },
   {
    "duration": 110,
    "start_time": "2024-04-06T08:37:51.791Z"
   },
   {
    "duration": 82,
    "start_time": "2024-04-06T08:38:05.575Z"
   },
   {
    "duration": 44,
    "start_time": "2024-04-06T08:38:11.414Z"
   },
   {
    "duration": 2895,
    "start_time": "2024-04-06T08:38:25.367Z"
   },
   {
    "duration": 25,
    "start_time": "2024-04-06T08:38:31.121Z"
   },
   {
    "duration": 45,
    "start_time": "2024-04-06T08:38:34.611Z"
   },
   {
    "duration": 239,
    "start_time": "2024-04-06T08:38:37.618Z"
   },
   {
    "duration": 43,
    "start_time": "2024-04-06T08:38:40.155Z"
   },
   {
    "duration": 91,
    "start_time": "2024-04-06T08:40:30.255Z"
   },
   {
    "duration": 1580,
    "start_time": "2024-04-06T08:40:43.639Z"
   },
   {
    "duration": 105,
    "start_time": "2024-04-06T08:44:01.567Z"
   },
   {
    "duration": 102,
    "start_time": "2024-04-06T08:45:07.769Z"
   },
   {
    "duration": 80,
    "start_time": "2024-04-06T08:45:20.205Z"
   },
   {
    "duration": 18,
    "start_time": "2024-04-06T08:45:28.433Z"
   },
   {
    "duration": 18,
    "start_time": "2024-04-06T08:45:49.425Z"
   },
   {
    "duration": 22,
    "start_time": "2024-04-06T08:46:14.188Z"
   },
   {
    "duration": 2535,
    "start_time": "2024-04-06T08:46:49.355Z"
   },
   {
    "duration": 27,
    "start_time": "2024-04-06T08:46:55.280Z"
   },
   {
    "duration": 47,
    "start_time": "2024-04-06T08:46:57.903Z"
   },
   {
    "duration": 223,
    "start_time": "2024-04-06T08:47:00.479Z"
   },
   {
    "duration": 89,
    "start_time": "2024-04-06T08:47:02.500Z"
   },
   {
    "duration": 18,
    "start_time": "2024-04-06T08:47:48.555Z"
   },
   {
    "duration": 85,
    "start_time": "2024-04-06T08:48:17.743Z"
   },
   {
    "duration": 1622,
    "start_time": "2024-04-06T08:48:57.791Z"
   },
   {
    "duration": 279,
    "start_time": "2024-04-06T08:49:26.400Z"
   },
   {
    "duration": 369,
    "start_time": "2024-04-06T08:49:34.130Z"
   },
   {
    "duration": 267,
    "start_time": "2024-04-06T08:50:43.322Z"
   },
   {
    "duration": 272,
    "start_time": "2024-04-06T08:54:50.738Z"
   },
   {
    "duration": 367,
    "start_time": "2024-04-06T08:55:08.679Z"
   },
   {
    "duration": 289,
    "start_time": "2024-04-06T08:55:31.356Z"
   },
   {
    "duration": 278,
    "start_time": "2024-04-06T08:55:51.479Z"
   },
   {
    "duration": 277,
    "start_time": "2024-04-06T08:56:38.088Z"
   },
   {
    "duration": 354,
    "start_time": "2024-04-06T09:06:50.008Z"
   },
   {
    "duration": 24,
    "start_time": "2024-04-06T09:15:31.520Z"
   },
   {
    "duration": 2550,
    "start_time": "2024-04-06T18:02:29.384Z"
   },
   {
    "duration": 32,
    "start_time": "2024-04-06T18:02:39.326Z"
   },
   {
    "duration": 45,
    "start_time": "2024-04-06T18:02:50.794Z"
   },
   {
    "duration": 231,
    "start_time": "2024-04-06T18:02:54.110Z"
   },
   {
    "duration": 347,
    "start_time": "2024-04-06T18:03:01.685Z"
   },
   {
    "duration": 274,
    "start_time": "2024-04-06T18:03:25.933Z"
   },
   {
    "duration": 1877,
    "start_time": "2024-04-06T18:03:37.140Z"
   },
   {
    "duration": 29,
    "start_time": "2024-04-06T18:03:41.743Z"
   },
   {
    "duration": 42,
    "start_time": "2024-04-06T18:03:44.018Z"
   },
   {
    "duration": 230,
    "start_time": "2024-04-06T18:03:46.655Z"
   },
   {
    "duration": 388,
    "start_time": "2024-04-06T18:03:48.608Z"
   },
   {
    "duration": 228,
    "start_time": "2024-04-06T18:03:54.693Z"
   },
   {
    "duration": 274,
    "start_time": "2024-04-06T18:03:56.104Z"
   },
   {
    "duration": 2502,
    "start_time": "2024-04-06T18:04:40.180Z"
   },
   {
    "duration": 31,
    "start_time": "2024-04-06T18:04:42.684Z"
   },
   {
    "duration": 46,
    "start_time": "2024-04-06T18:04:42.716Z"
   },
   {
    "duration": 257,
    "start_time": "2024-04-06T18:04:42.764Z"
   },
   {
    "duration": 394,
    "start_time": "2024-04-06T18:04:43.023Z"
   },
   {
    "duration": 2470,
    "start_time": "2024-04-06T18:05:16.356Z"
   },
   {
    "duration": 29,
    "start_time": "2024-04-06T18:05:18.829Z"
   },
   {
    "duration": 47,
    "start_time": "2024-04-06T18:05:18.859Z"
   },
   {
    "duration": 251,
    "start_time": "2024-04-06T18:05:18.908Z"
   },
   {
    "duration": 304,
    "start_time": "2024-04-06T18:05:19.160Z"
   },
   {
    "duration": 21,
    "start_time": "2024-04-06T18:05:49.155Z"
   },
   {
    "duration": 43,
    "start_time": "2024-04-06T18:06:00.007Z"
   },
   {
    "duration": 227,
    "start_time": "2024-04-06T18:06:02.691Z"
   },
   {
    "duration": 358,
    "start_time": "2024-04-06T18:06:04.193Z"
   },
   {
    "duration": 348,
    "start_time": "2024-04-06T18:06:45.338Z"
   },
   {
    "duration": 283,
    "start_time": "2024-04-06T18:06:52.187Z"
   },
   {
    "duration": 1884,
    "start_time": "2024-04-06T18:07:00.311Z"
   },
   {
    "duration": 26,
    "start_time": "2024-04-06T18:07:14.838Z"
   },
   {
    "duration": 42,
    "start_time": "2024-04-06T18:07:17.900Z"
   },
   {
    "duration": 237,
    "start_time": "2024-04-06T18:07:26.515Z"
   },
   {
    "duration": 292,
    "start_time": "2024-04-06T18:07:28.292Z"
   },
   {
    "duration": 52,
    "start_time": "2024-04-06T18:07:37.409Z"
   },
   {
    "duration": 384,
    "start_time": "2024-04-06T18:07:44.078Z"
   },
   {
    "duration": 123,
    "start_time": "2024-04-06T18:14:42.828Z"
   },
   {
    "duration": 149,
    "start_time": "2024-04-06T18:15:29.603Z"
   },
   {
    "duration": 156,
    "start_time": "2024-04-06T18:15:46.520Z"
   },
   {
    "duration": 151,
    "start_time": "2024-04-06T18:16:34.262Z"
   },
   {
    "duration": 154,
    "start_time": "2024-04-06T18:17:15.609Z"
   },
   {
    "duration": 166,
    "start_time": "2024-04-06T18:18:46.973Z"
   },
   {
    "duration": 160,
    "start_time": "2024-04-06T18:19:40.450Z"
   },
   {
    "duration": 328,
    "start_time": "2024-04-06T18:20:40.704Z"
   },
   {
    "duration": 592,
    "start_time": "2024-04-06T18:21:33.385Z"
   },
   {
    "duration": 492,
    "start_time": "2024-04-06T18:21:46.770Z"
   },
   {
    "duration": 462,
    "start_time": "2024-04-06T18:22:01.171Z"
   },
   {
    "duration": 626,
    "start_time": "2024-04-06T18:22:53.901Z"
   },
   {
    "duration": 767,
    "start_time": "2024-04-06T18:23:17.151Z"
   },
   {
    "duration": 623,
    "start_time": "2024-04-06T18:23:37.656Z"
   },
   {
    "duration": 585,
    "start_time": "2024-04-06T18:24:42.647Z"
   },
   {
    "duration": 794,
    "start_time": "2024-04-06T18:25:32.496Z"
   },
   {
    "duration": 582,
    "start_time": "2024-04-06T18:29:42.165Z"
   },
   {
    "duration": 471,
    "start_time": "2024-04-06T18:30:07.209Z"
   },
   {
    "duration": 596,
    "start_time": "2024-04-06T18:30:39.362Z"
   },
   {
    "duration": 710,
    "start_time": "2024-04-06T18:35:57.987Z"
   },
   {
    "duration": 586,
    "start_time": "2024-04-06T18:36:29.968Z"
   },
   {
    "duration": 609,
    "start_time": "2024-04-06T18:36:56.097Z"
   },
   {
    "duration": 604,
    "start_time": "2024-04-06T18:39:53.795Z"
   },
   {
    "duration": 753,
    "start_time": "2024-04-06T18:40:20.290Z"
   },
   {
    "duration": 742,
    "start_time": "2024-04-06T18:40:50.957Z"
   },
   {
    "duration": 848,
    "start_time": "2024-04-06T18:41:12.181Z"
   },
   {
    "duration": 663,
    "start_time": "2024-04-06T18:41:43.652Z"
   },
   {
    "duration": 816,
    "start_time": "2024-04-06T18:42:14.153Z"
   },
   {
    "duration": 1178,
    "start_time": "2024-04-06T18:42:57.248Z"
   },
   {
    "duration": 1176,
    "start_time": "2024-04-06T18:44:03.482Z"
   },
   {
    "duration": 61,
    "start_time": "2024-04-07T08:18:21.820Z"
   },
   {
    "duration": 3058,
    "start_time": "2024-04-07T08:18:27.327Z"
   },
   {
    "duration": 33,
    "start_time": "2024-04-07T08:18:30.387Z"
   },
   {
    "duration": 173,
    "start_time": "2024-04-07T08:18:30.422Z"
   },
   {
    "duration": 406,
    "start_time": "2024-04-07T08:18:30.597Z"
   },
   {
    "duration": 329,
    "start_time": "2024-04-07T08:18:31.005Z"
   },
   {
    "duration": 207,
    "start_time": "2024-04-07T08:18:31.335Z"
   },
   {
    "duration": 1360,
    "start_time": "2024-04-07T08:18:52.435Z"
   },
   {
    "duration": 17,
    "start_time": "2024-04-07T08:19:24.950Z"
   },
   {
    "duration": 22,
    "start_time": "2024-04-07T08:21:13.099Z"
   },
   {
    "duration": 1645,
    "start_time": "2024-04-07T08:21:38.899Z"
   },
   {
    "duration": 1413,
    "start_time": "2024-04-07T08:23:07.032Z"
   },
   {
    "duration": 1532,
    "start_time": "2024-04-07T08:23:16.302Z"
   },
   {
    "duration": 1303,
    "start_time": "2024-04-07T08:44:14.639Z"
   },
   {
    "duration": 1409,
    "start_time": "2024-04-07T08:46:22.881Z"
   },
   {
    "duration": 1631,
    "start_time": "2024-04-07T08:48:47.340Z"
   },
   {
    "duration": 1315,
    "start_time": "2024-04-07T08:49:08.526Z"
   },
   {
    "duration": 1346,
    "start_time": "2024-04-07T08:49:23.530Z"
   },
   {
    "duration": 1438,
    "start_time": "2024-04-07T08:49:34.515Z"
   },
   {
    "duration": 379,
    "start_time": "2024-04-07T08:54:10.443Z"
   },
   {
    "duration": 354,
    "start_time": "2024-04-07T08:54:20.791Z"
   },
   {
    "duration": 400,
    "start_time": "2024-04-07T08:54:35.519Z"
   },
   {
    "duration": 7,
    "start_time": "2024-04-07T08:54:46.669Z"
   },
   {
    "duration": 1446,
    "start_time": "2024-04-07T08:57:24.389Z"
   },
   {
    "duration": 1327,
    "start_time": "2024-04-07T08:57:53.518Z"
   },
   {
    "duration": 1453,
    "start_time": "2024-04-07T08:58:16.118Z"
   },
   {
    "duration": 1463,
    "start_time": "2024-04-07T08:58:41.773Z"
   },
   {
    "duration": 1304,
    "start_time": "2024-04-07T09:02:03.111Z"
   },
   {
    "duration": 1441,
    "start_time": "2024-04-07T09:02:46.234Z"
   },
   {
    "duration": 1423,
    "start_time": "2024-04-07T09:03:02.381Z"
   },
   {
    "duration": 82,
    "start_time": "2024-04-07T09:03:24.847Z"
   },
   {
    "duration": 367,
    "start_time": "2024-04-07T09:03:29.248Z"
   },
   {
    "duration": 1275,
    "start_time": "2024-04-07T09:03:37.815Z"
   },
   {
    "duration": 494,
    "start_time": "2024-04-07T09:08:47.795Z"
   },
   {
    "duration": 1364,
    "start_time": "2024-04-07T09:08:55.498Z"
   },
   {
    "duration": 1545,
    "start_time": "2024-04-07T09:11:29.597Z"
   },
   {
    "duration": 1452,
    "start_time": "2024-04-07T09:12:00.552Z"
   },
   {
    "duration": 1386,
    "start_time": "2024-04-07T09:12:39.203Z"
   },
   {
    "duration": 1447,
    "start_time": "2024-04-07T09:13:12.897Z"
   },
   {
    "duration": 1326,
    "start_time": "2024-04-07T09:15:48.470Z"
   },
   {
    "duration": 1472,
    "start_time": "2024-04-07T09:20:37.211Z"
   },
   {
    "duration": 1435,
    "start_time": "2024-04-07T09:26:53.780Z"
   },
   {
    "duration": 1469,
    "start_time": "2024-04-07T12:35:32.479Z"
   },
   {
    "duration": 767,
    "start_time": "2024-04-07T12:59:15.853Z"
   },
   {
    "duration": 1410,
    "start_time": "2024-04-07T12:59:45.245Z"
   },
   {
    "duration": 1233,
    "start_time": "2024-04-07T13:00:08.590Z"
   },
   {
    "duration": 1476,
    "start_time": "2024-04-07T13:00:41.882Z"
   },
   {
    "duration": 1291,
    "start_time": "2024-04-07T13:07:00.796Z"
   },
   {
    "duration": 2679,
    "start_time": "2024-04-07T13:08:07.098Z"
   },
   {
    "duration": 27,
    "start_time": "2024-04-07T13:08:09.778Z"
   },
   {
    "duration": 48,
    "start_time": "2024-04-07T13:08:09.807Z"
   },
   {
    "duration": 328,
    "start_time": "2024-04-07T13:08:09.857Z"
   },
   {
    "duration": 373,
    "start_time": "2024-04-07T13:08:10.186Z"
   },
   {
    "duration": 1345,
    "start_time": "2024-04-07T13:08:10.561Z"
   },
   {
    "duration": 1249,
    "start_time": "2024-04-07T13:09:58.675Z"
   },
   {
    "duration": 2660,
    "start_time": "2024-04-07T13:10:12.925Z"
   },
   {
    "duration": 33,
    "start_time": "2024-04-07T13:10:15.586Z"
   },
   {
    "duration": 55,
    "start_time": "2024-04-07T13:10:15.624Z"
   },
   {
    "duration": 257,
    "start_time": "2024-04-07T13:10:15.681Z"
   },
   {
    "duration": 325,
    "start_time": "2024-04-07T13:10:15.940Z"
   },
   {
    "duration": 1310,
    "start_time": "2024-04-07T13:10:16.267Z"
   },
   {
    "duration": 1282,
    "start_time": "2024-04-07T13:10:35.151Z"
   },
   {
    "duration": 1336,
    "start_time": "2024-04-07T13:17:02.265Z"
   },
   {
    "duration": 1407,
    "start_time": "2024-04-07T13:18:09.940Z"
   },
   {
    "duration": 1297,
    "start_time": "2024-04-07T13:20:01.104Z"
   },
   {
    "duration": 1336,
    "start_time": "2024-04-07T13:20:47.791Z"
   },
   {
    "duration": 2084,
    "start_time": "2024-04-07T13:22:49.017Z"
   },
   {
    "duration": 2132,
    "start_time": "2024-04-07T13:23:02.270Z"
   },
   {
    "duration": 1291,
    "start_time": "2024-04-07T13:24:00.623Z"
   },
   {
    "duration": 1370,
    "start_time": "2024-04-07T13:24:13.715Z"
   },
   {
    "duration": 1247,
    "start_time": "2024-04-07T13:26:36.447Z"
   },
   {
    "duration": 1392,
    "start_time": "2024-04-07T13:26:56.338Z"
   },
   {
    "duration": 1558,
    "start_time": "2024-04-07T13:28:52.583Z"
   },
   {
    "duration": 1386,
    "start_time": "2024-04-07T13:29:42.328Z"
   },
   {
    "duration": 1520,
    "start_time": "2024-04-07T13:30:15.378Z"
   },
   {
    "duration": 1420,
    "start_time": "2024-04-07T13:31:30.085Z"
   },
   {
    "duration": 1548,
    "start_time": "2024-04-07T13:32:12.713Z"
   },
   {
    "duration": 2860,
    "start_time": "2024-04-07T13:32:57.717Z"
   },
   {
    "duration": 31,
    "start_time": "2024-04-07T13:33:00.580Z"
   },
   {
    "duration": 104,
    "start_time": "2024-04-07T13:33:00.613Z"
   },
   {
    "duration": 290,
    "start_time": "2024-04-07T13:33:00.719Z"
   },
   {
    "duration": 369,
    "start_time": "2024-04-07T13:33:01.011Z"
   },
   {
    "duration": 1431,
    "start_time": "2024-04-07T13:33:01.382Z"
   },
   {
    "duration": 1542,
    "start_time": "2024-04-07T13:40:50.890Z"
   },
   {
    "duration": 1717,
    "start_time": "2024-04-07T13:44:00.064Z"
   },
   {
    "duration": 1583,
    "start_time": "2024-04-07T14:45:20.679Z"
   },
   {
    "duration": 1437,
    "start_time": "2024-04-07T14:45:41.645Z"
   },
   {
    "duration": 1571,
    "start_time": "2024-04-07T14:45:52.194Z"
   },
   {
    "duration": 1069,
    "start_time": "2024-04-07T14:46:54.255Z"
   },
   {
    "duration": 1188,
    "start_time": "2024-04-07T14:47:14.997Z"
   },
   {
    "duration": 1051,
    "start_time": "2024-04-07T14:47:39.344Z"
   },
   {
    "duration": 1556,
    "start_time": "2024-04-07T14:51:31.015Z"
   },
   {
    "duration": 1572,
    "start_time": "2024-04-07T14:54:35.905Z"
   },
   {
    "duration": 1461,
    "start_time": "2024-04-07T14:54:54.472Z"
   },
   {
    "duration": 1150,
    "start_time": "2024-04-07T14:57:43.196Z"
   },
   {
    "duration": 998,
    "start_time": "2024-04-07T14:58:24.553Z"
   },
   {
    "duration": 1137,
    "start_time": "2024-04-07T14:58:38.890Z"
   },
   {
    "duration": 109,
    "start_time": "2024-04-07T15:03:11.032Z"
   },
   {
    "duration": 1487,
    "start_time": "2024-04-07T15:03:21.924Z"
   },
   {
    "duration": 1654,
    "start_time": "2024-04-07T15:04:09.277Z"
   },
   {
    "duration": 89,
    "start_time": "2024-04-07T15:04:46.537Z"
   },
   {
    "duration": 1065,
    "start_time": "2024-04-07T15:04:52.969Z"
   },
   {
    "duration": 1665,
    "start_time": "2024-04-07T15:05:12.154Z"
   },
   {
    "duration": 1622,
    "start_time": "2024-04-07T15:05:34.862Z"
   },
   {
    "duration": 1491,
    "start_time": "2024-04-07T15:05:52.749Z"
   },
   {
    "duration": 82,
    "start_time": "2024-04-07T15:06:03.568Z"
   },
   {
    "duration": 1188,
    "start_time": "2024-04-07T15:06:18.266Z"
   },
   {
    "duration": 2290,
    "start_time": "2024-04-07T15:07:19.654Z"
   },
   {
    "duration": 1195,
    "start_time": "2024-04-07T15:07:38.193Z"
   },
   {
    "duration": 1151,
    "start_time": "2024-04-07T15:07:51.975Z"
   },
   {
    "duration": 2727,
    "start_time": "2024-04-07T15:08:02.242Z"
   },
   {
    "duration": 28,
    "start_time": "2024-04-07T15:08:04.971Z"
   },
   {
    "duration": 52,
    "start_time": "2024-04-07T15:08:05.000Z"
   },
   {
    "duration": 274,
    "start_time": "2024-04-07T15:08:05.054Z"
   },
   {
    "duration": 373,
    "start_time": "2024-04-07T15:08:05.330Z"
   },
   {
    "duration": 1194,
    "start_time": "2024-04-07T15:08:05.705Z"
   },
   {
    "duration": 1135,
    "start_time": "2024-04-07T15:08:16.393Z"
   },
   {
    "duration": 1126,
    "start_time": "2024-04-07T15:08:39.640Z"
   },
   {
    "duration": 1174,
    "start_time": "2024-04-07T15:08:44.165Z"
   },
   {
    "duration": 2868,
    "start_time": "2024-04-07T15:09:51.389Z"
   },
   {
    "duration": 41,
    "start_time": "2024-04-07T15:09:54.259Z"
   },
   {
    "duration": 57,
    "start_time": "2024-04-07T15:09:54.302Z"
   },
   {
    "duration": 265,
    "start_time": "2024-04-07T15:09:54.370Z"
   },
   {
    "duration": 312,
    "start_time": "2024-04-07T15:09:54.637Z"
   },
   {
    "duration": 1170,
    "start_time": "2024-04-07T15:09:54.950Z"
   },
   {
    "duration": 1180,
    "start_time": "2024-04-07T15:11:40.729Z"
   },
   {
    "duration": 2773,
    "start_time": "2024-04-07T15:11:57.528Z"
   },
   {
    "duration": 31,
    "start_time": "2024-04-07T15:12:00.302Z"
   },
   {
    "duration": 113,
    "start_time": "2024-04-07T15:12:00.335Z"
   },
   {
    "duration": 388,
    "start_time": "2024-04-07T15:12:00.449Z"
   },
   {
    "duration": 350,
    "start_time": "2024-04-07T15:12:00.839Z"
   },
   {
    "duration": 1489,
    "start_time": "2024-04-07T15:12:01.191Z"
   },
   {
    "duration": 1126,
    "start_time": "2024-04-07T15:15:32.800Z"
   },
   {
    "duration": 1157,
    "start_time": "2024-04-07T15:15:55.252Z"
   },
   {
    "duration": 2830,
    "start_time": "2024-04-07T15:17:07.731Z"
   },
   {
    "duration": 35,
    "start_time": "2024-04-07T15:17:10.563Z"
   },
   {
    "duration": 52,
    "start_time": "2024-04-07T15:17:10.600Z"
   },
   {
    "duration": 275,
    "start_time": "2024-04-07T15:17:10.669Z"
   },
   {
    "duration": 346,
    "start_time": "2024-04-07T15:17:10.946Z"
   },
   {
    "duration": 1484,
    "start_time": "2024-04-07T15:17:11.294Z"
   },
   {
    "duration": 1129,
    "start_time": "2024-04-07T15:20:02.082Z"
   },
   {
    "duration": 1227,
    "start_time": "2024-04-07T15:20:20.824Z"
   },
   {
    "duration": 1172,
    "start_time": "2024-04-07T15:22:27.369Z"
   },
   {
    "duration": 1156,
    "start_time": "2024-04-07T15:22:37.181Z"
   },
   {
    "duration": 1316,
    "start_time": "2024-04-07T15:22:48.176Z"
   },
   {
    "duration": 2706,
    "start_time": "2024-04-07T15:22:54.059Z"
   },
   {
    "duration": 29,
    "start_time": "2024-04-07T15:22:56.767Z"
   },
   {
    "duration": 61,
    "start_time": "2024-04-07T15:22:56.798Z"
   },
   {
    "duration": 271,
    "start_time": "2024-04-07T15:22:56.861Z"
   },
   {
    "duration": 319,
    "start_time": "2024-04-07T15:22:57.133Z"
   },
   {
    "duration": 1432,
    "start_time": "2024-04-07T15:22:57.453Z"
   },
   {
    "duration": 1172,
    "start_time": "2024-04-07T15:24:59.240Z"
   },
   {
    "duration": 1171,
    "start_time": "2024-04-07T15:25:22.928Z"
   },
   {
    "duration": 1338,
    "start_time": "2024-04-07T15:25:40.583Z"
   },
   {
    "duration": 1467,
    "start_time": "2024-04-07T15:26:16.739Z"
   },
   {
    "duration": 2653,
    "start_time": "2024-04-07T16:18:36.212Z"
   },
   {
    "duration": 28,
    "start_time": "2024-04-07T16:18:38.867Z"
   },
   {
    "duration": 47,
    "start_time": "2024-04-07T16:18:38.896Z"
   },
   {
    "duration": 264,
    "start_time": "2024-04-07T16:18:38.945Z"
   },
   {
    "duration": 337,
    "start_time": "2024-04-07T16:18:39.211Z"
   },
   {
    "duration": 1435,
    "start_time": "2024-04-07T16:18:39.550Z"
   },
   {
    "duration": 87,
    "start_time": "2024-04-07T16:22:14.430Z"
   },
   {
    "duration": 1039,
    "start_time": "2024-04-07T16:22:29.787Z"
   },
   {
    "duration": 81,
    "start_time": "2024-04-07T16:23:09.927Z"
   },
   {
    "duration": 86,
    "start_time": "2024-04-07T16:23:36.177Z"
   },
   {
    "duration": 1554,
    "start_time": "2024-04-07T16:24:35.292Z"
   },
   {
    "duration": 1295,
    "start_time": "2024-04-07T16:27:18.771Z"
   },
   {
    "duration": 1360,
    "start_time": "2024-04-07T16:27:58.484Z"
   },
   {
    "duration": 1237,
    "start_time": "2024-04-07T16:28:26.077Z"
   },
   {
    "duration": 1446,
    "start_time": "2024-04-07T16:30:08.416Z"
   },
   {
    "duration": 1345,
    "start_time": "2024-04-07T16:30:30.737Z"
   },
   {
    "duration": 1411,
    "start_time": "2024-04-07T16:33:31.539Z"
   },
   {
    "duration": 1240,
    "start_time": "2024-04-07T16:36:40.809Z"
   },
   {
    "duration": 1494,
    "start_time": "2024-04-07T16:36:59.010Z"
   },
   {
    "duration": 1445,
    "start_time": "2024-04-07T16:37:11.828Z"
   },
   {
    "duration": 1554,
    "start_time": "2024-04-07T16:38:13.885Z"
   },
   {
    "duration": 1761,
    "start_time": "2024-04-07T16:40:53.096Z"
   },
   {
    "duration": 1876,
    "start_time": "2024-04-07T16:41:59.633Z"
   },
   {
    "duration": 1107,
    "start_time": "2024-04-07T16:42:17.132Z"
   },
   {
    "duration": 1665,
    "start_time": "2024-04-07T16:42:47.818Z"
   },
   {
    "duration": 1782,
    "start_time": "2024-04-07T16:44:59.781Z"
   },
   {
    "duration": 1281,
    "start_time": "2024-04-07T16:45:40.192Z"
   },
   {
    "duration": 1385,
    "start_time": "2024-04-07T16:47:55.041Z"
   },
   {
    "duration": 1450,
    "start_time": "2024-04-07T16:48:34.435Z"
   },
   {
    "duration": 1597,
    "start_time": "2024-04-07T16:49:14.606Z"
   },
   {
    "duration": 1608,
    "start_time": "2024-04-07T16:50:19.590Z"
   },
   {
    "duration": 1486,
    "start_time": "2024-04-07T16:50:39.171Z"
   },
   {
    "duration": 1623,
    "start_time": "2024-04-07T16:50:52.797Z"
   },
   {
    "duration": 25,
    "start_time": "2024-04-07T16:53:08.162Z"
   },
   {
    "duration": 236,
    "start_time": "2024-04-07T16:53:18.239Z"
   },
   {
    "duration": 1590,
    "start_time": "2024-04-07T16:53:27.414Z"
   },
   {
    "duration": 1455,
    "start_time": "2024-04-07T17:31:44.302Z"
   },
   {
    "duration": 1620,
    "start_time": "2024-04-07T17:32:08.803Z"
   },
   {
    "duration": 1481,
    "start_time": "2024-04-07T17:33:38.578Z"
   },
   {
    "duration": 1605,
    "start_time": "2024-04-07T17:33:46.772Z"
   },
   {
    "duration": 1575,
    "start_time": "2024-04-07T17:35:16.333Z"
   },
   {
    "duration": 2810,
    "start_time": "2024-04-07T17:36:23.463Z"
   },
   {
    "duration": 30,
    "start_time": "2024-04-07T17:36:26.275Z"
   },
   {
    "duration": 64,
    "start_time": "2024-04-07T17:36:26.306Z"
   },
   {
    "duration": 265,
    "start_time": "2024-04-07T17:36:26.372Z"
   },
   {
    "duration": 324,
    "start_time": "2024-04-07T17:36:26.639Z"
   },
   {
    "duration": 1620,
    "start_time": "2024-04-07T17:36:26.964Z"
   },
   {
    "duration": 1638,
    "start_time": "2024-04-07T17:51:48.619Z"
   },
   {
    "duration": 1477,
    "start_time": "2024-04-07T17:52:11.085Z"
   },
   {
    "duration": 1756,
    "start_time": "2024-04-07T18:00:54.682Z"
   },
   {
    "duration": 1640,
    "start_time": "2024-04-07T18:02:56.001Z"
   },
   {
    "duration": 1621,
    "start_time": "2024-04-07T18:03:05.911Z"
   },
   {
    "duration": 1527,
    "start_time": "2024-04-07T18:03:39.090Z"
   },
   {
    "duration": 1581,
    "start_time": "2024-04-07T18:03:50.924Z"
   },
   {
    "duration": 1606,
    "start_time": "2024-04-07T18:04:07.722Z"
   },
   {
    "duration": 1432,
    "start_time": "2024-04-07T18:04:27.903Z"
   },
   {
    "duration": 1623,
    "start_time": "2024-04-07T18:06:58.030Z"
   },
   {
    "duration": 1661,
    "start_time": "2024-04-07T18:11:28.103Z"
   },
   {
    "duration": 1583,
    "start_time": "2024-04-07T18:51:58.751Z"
   },
   {
    "duration": 68,
    "start_time": "2024-04-07T18:53:04.186Z"
   },
   {
    "duration": 7,
    "start_time": "2024-04-07T18:53:14.744Z"
   },
   {
    "duration": 186,
    "start_time": "2024-04-07T18:53:50.447Z"
   },
   {
    "duration": 201,
    "start_time": "2024-04-07T18:54:05.599Z"
   },
   {
    "duration": 246,
    "start_time": "2024-04-07T18:54:13.690Z"
   },
   {
    "duration": 252,
    "start_time": "2024-04-07T18:55:16.249Z"
   },
   {
    "duration": 259,
    "start_time": "2024-04-07T18:55:39.530Z"
   },
   {
    "duration": 402,
    "start_time": "2024-04-07T18:56:01.483Z"
   },
   {
    "duration": 257,
    "start_time": "2024-04-07T18:58:00.184Z"
   },
   {
    "duration": 395,
    "start_time": "2024-04-07T18:59:06.036Z"
   },
   {
    "duration": 299,
    "start_time": "2024-04-07T18:59:12.983Z"
   },
   {
    "duration": 484,
    "start_time": "2024-04-07T18:59:19.793Z"
   },
   {
    "duration": 324,
    "start_time": "2024-04-07T18:59:30.737Z"
   },
   {
    "duration": 266,
    "start_time": "2024-04-07T18:59:39.805Z"
   },
   {
    "duration": 281,
    "start_time": "2024-04-07T18:59:52.974Z"
   },
   {
    "duration": 48,
    "start_time": "2024-04-08T08:23:14.600Z"
   },
   {
    "duration": 6,
    "start_time": "2024-04-08T08:23:22.851Z"
   },
   {
    "duration": 3143,
    "start_time": "2024-04-08T08:23:30.684Z"
   },
   {
    "duration": 30,
    "start_time": "2024-04-08T08:23:33.829Z"
   },
   {
    "duration": 48,
    "start_time": "2024-04-08T08:23:33.861Z"
   },
   {
    "duration": 259,
    "start_time": "2024-04-08T08:23:33.914Z"
   },
   {
    "duration": 325,
    "start_time": "2024-04-08T08:23:34.175Z"
   },
   {
    "duration": 1625,
    "start_time": "2024-04-08T08:23:34.502Z"
   },
   {
    "duration": 276,
    "start_time": "2024-04-08T08:23:36.128Z"
   },
   {
    "duration": 400,
    "start_time": "2024-04-08T08:23:36.405Z"
   },
   {
    "duration": 377,
    "start_time": "2024-04-08T08:24:01.947Z"
   },
   {
    "duration": 162,
    "start_time": "2024-04-08T08:35:02.865Z"
   },
   {
    "duration": 264,
    "start_time": "2024-04-08T08:39:25.032Z"
   },
   {
    "duration": 80,
    "start_time": "2024-04-08T08:39:40.628Z"
   },
   {
    "duration": 364,
    "start_time": "2024-04-08T08:39:53.795Z"
   },
   {
    "duration": 164,
    "start_time": "2024-04-08T08:40:38.035Z"
   },
   {
    "duration": 156,
    "start_time": "2024-04-08T08:41:16.439Z"
   },
   {
    "duration": 160,
    "start_time": "2024-04-08T08:44:31.999Z"
   },
   {
    "duration": 152,
    "start_time": "2024-04-08T08:44:53.714Z"
   },
   {
    "duration": 148,
    "start_time": "2024-04-08T08:45:08.390Z"
   },
   {
    "duration": 247,
    "start_time": "2024-04-08T08:45:45.967Z"
   },
   {
    "duration": 174,
    "start_time": "2024-04-08T08:46:02.275Z"
   },
   {
    "duration": 165,
    "start_time": "2024-04-08T08:46:08.568Z"
   },
   {
    "duration": 164,
    "start_time": "2024-04-08T08:46:15.173Z"
   },
   {
    "duration": 177,
    "start_time": "2024-04-08T08:46:30.470Z"
   },
   {
    "duration": 160,
    "start_time": "2024-04-08T08:46:36.541Z"
   },
   {
    "duration": 150,
    "start_time": "2024-04-08T08:47:00.241Z"
   },
   {
    "duration": 153,
    "start_time": "2024-04-08T08:47:06.155Z"
   },
   {
    "duration": 160,
    "start_time": "2024-04-08T08:47:37.901Z"
   },
   {
    "duration": 267,
    "start_time": "2024-04-08T08:47:42.674Z"
   },
   {
    "duration": 161,
    "start_time": "2024-04-08T08:48:37.106Z"
   },
   {
    "duration": 159,
    "start_time": "2024-04-08T08:48:52.322Z"
   },
   {
    "duration": 261,
    "start_time": "2024-04-08T08:49:37.287Z"
   },
   {
    "duration": 146,
    "start_time": "2024-04-08T08:50:06.329Z"
   },
   {
    "duration": 233,
    "start_time": "2024-04-08T08:50:32.759Z"
   },
   {
    "duration": 225,
    "start_time": "2024-04-08T08:50:44.922Z"
   },
   {
    "duration": 165,
    "start_time": "2024-04-08T08:51:17.844Z"
   },
   {
    "duration": 186,
    "start_time": "2024-04-08T08:52:25.415Z"
   },
   {
    "duration": 169,
    "start_time": "2024-04-08T08:52:32.611Z"
   },
   {
    "duration": 162,
    "start_time": "2024-04-08T08:52:38.625Z"
   },
   {
    "duration": 182,
    "start_time": "2024-04-08T08:52:42.795Z"
   },
   {
    "duration": 168,
    "start_time": "2024-04-08T08:52:49.233Z"
   },
   {
    "duration": 223,
    "start_time": "2024-04-08T08:53:42.935Z"
   },
   {
    "duration": 275,
    "start_time": "2024-04-08T08:54:02.995Z"
   },
   {
    "duration": 395,
    "start_time": "2024-04-08T08:57:22.700Z"
   },
   {
    "duration": 202,
    "start_time": "2024-04-08T08:59:17.264Z"
   },
   {
    "duration": 18119,
    "start_time": "2024-04-08T08:59:53.221Z"
   },
   {
    "duration": 19438,
    "start_time": "2024-04-08T09:00:11.635Z"
   },
   {
    "duration": 159,
    "start_time": "2024-04-08T09:03:51.757Z"
   },
   {
    "duration": 117,
    "start_time": "2024-04-08T09:04:25.302Z"
   },
   {
    "duration": 126,
    "start_time": "2024-04-08T09:04:31.711Z"
   },
   {
    "duration": 3080,
    "start_time": "2024-04-08T09:07:40.246Z"
   },
   {
    "duration": 1661,
    "start_time": "2024-04-08T09:08:05.571Z"
   },
   {
    "duration": 167,
    "start_time": "2024-04-08T09:09:07.980Z"
   },
   {
    "duration": 390,
    "start_time": "2024-04-08T09:11:19.510Z"
   },
   {
    "duration": 136,
    "start_time": "2024-04-08T09:16:11.789Z"
   },
   {
    "duration": 145,
    "start_time": "2024-04-08T09:16:30.589Z"
   },
   {
    "duration": 138,
    "start_time": "2024-04-08T09:16:57.113Z"
   },
   {
    "duration": 138,
    "start_time": "2024-04-08T09:17:13.053Z"
   },
   {
    "duration": 166,
    "start_time": "2024-04-08T09:17:55.342Z"
   },
   {
    "duration": 171,
    "start_time": "2024-04-08T09:18:04.909Z"
   },
   {
    "duration": 294,
    "start_time": "2024-04-08T09:19:10.772Z"
   },
   {
    "duration": 97,
    "start_time": "2024-04-08T09:21:44.410Z"
   },
   {
    "duration": 4979,
    "start_time": "2024-04-08T09:23:00.095Z"
   },
   {
    "duration": 11,
    "start_time": "2024-04-08T09:25:56.004Z"
   },
   {
    "duration": 465,
    "start_time": "2024-04-08T12:23:00.056Z"
   },
   {
    "duration": 329,
    "start_time": "2024-04-08T12:23:50.773Z"
   },
   {
    "duration": 453,
    "start_time": "2024-04-08T12:24:07.125Z"
   },
   {
    "duration": 338,
    "start_time": "2024-04-08T12:24:14.999Z"
   },
   {
    "duration": 344,
    "start_time": "2024-04-08T12:26:26.648Z"
   },
   {
    "duration": 7,
    "start_time": "2024-04-08T12:27:53.019Z"
   },
   {
    "duration": 9,
    "start_time": "2024-04-08T12:28:10.181Z"
   },
   {
    "duration": 7,
    "start_time": "2024-04-08T12:28:38.764Z"
   },
   {
    "duration": 8,
    "start_time": "2024-04-08T12:28:48.296Z"
   },
   {
    "duration": 9,
    "start_time": "2024-04-08T12:33:19.604Z"
   },
   {
    "duration": 11,
    "start_time": "2024-04-08T12:33:29.880Z"
   },
   {
    "duration": 11,
    "start_time": "2024-04-08T12:33:49.842Z"
   },
   {
    "duration": 14,
    "start_time": "2024-04-08T12:34:16.022Z"
   },
   {
    "duration": 167,
    "start_time": "2024-04-08T12:35:30.217Z"
   },
   {
    "duration": 156,
    "start_time": "2024-04-08T12:36:03.369Z"
   },
   {
    "duration": 167,
    "start_time": "2024-04-08T12:36:17.497Z"
   },
   {
    "duration": 560,
    "start_time": "2024-04-08T12:37:15.746Z"
   },
   {
    "duration": 7,
    "start_time": "2024-04-08T12:41:57.609Z"
   },
   {
    "duration": 10,
    "start_time": "2024-04-08T12:42:39.494Z"
   },
   {
    "duration": 9,
    "start_time": "2024-04-08T12:42:53.357Z"
   },
   {
    "duration": 7,
    "start_time": "2024-04-08T12:43:07.739Z"
   },
   {
    "duration": 14,
    "start_time": "2024-04-08T12:48:54.075Z"
   },
   {
    "duration": 18,
    "start_time": "2024-04-08T12:49:52.336Z"
   },
   {
    "duration": 16,
    "start_time": "2024-04-08T12:50:25.880Z"
   },
   {
    "duration": 15,
    "start_time": "2024-04-08T12:50:47.027Z"
   },
   {
    "duration": 85,
    "start_time": "2024-04-08T13:07:50.807Z"
   },
   {
    "duration": 28,
    "start_time": "2024-04-08T13:08:16.263Z"
   },
   {
    "duration": 21,
    "start_time": "2024-04-08T13:08:37.341Z"
   },
   {
    "duration": 23,
    "start_time": "2024-04-08T13:09:58.974Z"
   },
   {
    "duration": 21,
    "start_time": "2024-04-08T13:10:04.250Z"
   },
   {
    "duration": 21,
    "start_time": "2024-04-08T13:10:30.530Z"
   },
   {
    "duration": 588,
    "start_time": "2024-04-08T13:17:09.308Z"
   },
   {
    "duration": 19,
    "start_time": "2024-04-08T13:17:28.456Z"
   },
   {
    "duration": 26,
    "start_time": "2024-04-08T13:18:18.695Z"
   },
   {
    "duration": 22,
    "start_time": "2024-04-08T13:22:33.451Z"
   },
   {
    "duration": 1420,
    "start_time": "2024-04-08T13:23:06.576Z"
   },
   {
    "duration": 1843,
    "start_time": "2024-04-08T13:25:38.397Z"
   },
   {
    "duration": 20,
    "start_time": "2024-04-08T13:25:53.023Z"
   },
   {
    "duration": 86,
    "start_time": "2024-04-08T13:26:17.644Z"
   },
   {
    "duration": 54,
    "start_time": "2024-04-08T13:26:28.834Z"
   },
   {
    "duration": 51,
    "start_time": "2024-04-08T13:26:35.213Z"
   },
   {
    "duration": 28,
    "start_time": "2024-04-08T13:26:53.244Z"
   },
   {
    "duration": 66,
    "start_time": "2024-04-08T13:27:06.758Z"
   },
   {
    "duration": 4,
    "start_time": "2024-04-08T13:27:12.472Z"
   },
   {
    "duration": 1762,
    "start_time": "2024-04-08T13:27:18.972Z"
   },
   {
    "duration": 20,
    "start_time": "2024-04-08T13:27:34.547Z"
   },
   {
    "duration": 37,
    "start_time": "2024-04-08T13:30:14.966Z"
   },
   {
    "duration": 31,
    "start_time": "2024-04-08T13:33:14.911Z"
   },
   {
    "duration": 22,
    "start_time": "2024-04-08T13:33:27.083Z"
   },
   {
    "duration": 20,
    "start_time": "2024-04-08T13:34:45.426Z"
   },
   {
    "duration": 20,
    "start_time": "2024-04-08T13:35:58.931Z"
   },
   {
    "duration": 20,
    "start_time": "2024-04-08T13:37:05.495Z"
   },
   {
    "duration": 20,
    "start_time": "2024-04-08T13:37:36.763Z"
   },
   {
    "duration": 24,
    "start_time": "2024-04-08T13:38:09.108Z"
   },
   {
    "duration": 21,
    "start_time": "2024-04-08T13:38:30.664Z"
   },
   {
    "duration": 22,
    "start_time": "2024-04-08T13:40:07.502Z"
   },
   {
    "duration": 22,
    "start_time": "2024-04-08T13:47:46.416Z"
   },
   {
    "duration": 27,
    "start_time": "2024-04-08T13:48:06.628Z"
   },
   {
    "duration": 49,
    "start_time": "2024-04-08T13:48:32.430Z"
   },
   {
    "duration": 12,
    "start_time": "2024-04-08T13:56:48.311Z"
   },
   {
    "duration": 11,
    "start_time": "2024-04-08T13:57:59.805Z"
   },
   {
    "duration": 9,
    "start_time": "2024-04-08T13:58:17.909Z"
   },
   {
    "duration": 10,
    "start_time": "2024-04-08T13:58:32.017Z"
   },
   {
    "duration": 140,
    "start_time": "2024-04-08T13:59:50.769Z"
   },
   {
    "duration": 7,
    "start_time": "2024-04-08T14:02:30.807Z"
   },
   {
    "duration": 119,
    "start_time": "2024-04-08T14:03:12.905Z"
   },
   {
    "duration": 156,
    "start_time": "2024-04-08T14:04:05.208Z"
   },
   {
    "duration": 176,
    "start_time": "2024-04-08T14:04:30.785Z"
   },
   {
    "duration": 148,
    "start_time": "2024-04-08T14:08:19.282Z"
   },
   {
    "duration": 152,
    "start_time": "2024-04-08T14:08:51.845Z"
   },
   {
    "duration": 216,
    "start_time": "2024-04-08T14:12:27.162Z"
   },
   {
    "duration": 206,
    "start_time": "2024-04-08T14:13:05.521Z"
   },
   {
    "duration": 151,
    "start_time": "2024-04-08T14:13:32.888Z"
   },
   {
    "duration": 220,
    "start_time": "2024-04-08T14:14:01.084Z"
   },
   {
    "duration": 205,
    "start_time": "2024-04-08T14:14:12.504Z"
   },
   {
    "duration": 2918,
    "start_time": "2024-04-08T14:16:48.612Z"
   },
   {
    "duration": 215,
    "start_time": "2024-04-08T14:16:56.355Z"
   },
   {
    "duration": 209,
    "start_time": "2024-04-08T14:17:10.875Z"
   },
   {
    "duration": 227,
    "start_time": "2024-04-08T14:17:18.259Z"
   },
   {
    "duration": 202,
    "start_time": "2024-04-08T14:17:22.924Z"
   },
   {
    "duration": 382,
    "start_time": "2024-04-08T14:17:32.686Z"
   },
   {
    "duration": 51,
    "start_time": "2024-04-08T14:17:36.461Z"
   },
   {
    "duration": 231,
    "start_time": "2024-04-08T14:17:43.435Z"
   },
   {
    "duration": 227,
    "start_time": "2024-04-08T14:17:48.597Z"
   },
   {
    "duration": 227,
    "start_time": "2024-04-08T14:18:00.254Z"
   },
   {
    "duration": 25,
    "start_time": "2024-04-08T14:45:43.901Z"
   },
   {
    "duration": 16,
    "start_time": "2024-04-08T14:45:57.752Z"
   },
   {
    "duration": 17,
    "start_time": "2024-04-08T14:49:02.845Z"
   },
   {
    "duration": 1895,
    "start_time": "2024-04-08T20:20:50.374Z"
   },
   {
    "duration": 33,
    "start_time": "2024-04-08T20:20:56.333Z"
   },
   {
    "duration": 2284,
    "start_time": "2024-04-08T20:40:46.354Z"
   },
   {
    "duration": 16,
    "start_time": "2024-04-08T21:11:30.212Z"
   },
   {
    "duration": 13,
    "start_time": "2024-04-08T21:13:24.741Z"
   },
   {
    "duration": 13,
    "start_time": "2024-04-08T21:13:27.385Z"
   },
   {
    "duration": 2585,
    "start_time": "2024-04-08T21:13:36.330Z"
   },
   {
    "duration": 26,
    "start_time": "2024-04-08T21:13:38.916Z"
   },
   {
    "duration": 48,
    "start_time": "2024-04-08T21:13:38.943Z"
   },
   {
    "duration": 293,
    "start_time": "2024-04-08T21:13:38.992Z"
   },
   {
    "duration": 306,
    "start_time": "2024-04-08T21:13:39.287Z"
   },
   {
    "duration": 1498,
    "start_time": "2024-04-08T21:13:39.595Z"
   },
   {
    "duration": 280,
    "start_time": "2024-04-08T21:13:41.095Z"
   },
   {
    "duration": 166,
    "start_time": "2024-04-08T21:13:41.377Z"
   },
   {
    "duration": 187,
    "start_time": "2024-04-08T21:13:41.545Z"
   },
   {
    "duration": 183,
    "start_time": "2024-04-08T21:13:41.734Z"
   },
   {
    "duration": 193,
    "start_time": "2024-04-08T21:13:41.918Z"
   },
   {
    "duration": 258,
    "start_time": "2024-04-08T21:13:42.113Z"
   },
   {
    "duration": 495,
    "start_time": "2024-04-08T21:13:42.372Z"
   },
   {
    "duration": 20,
    "start_time": "2024-04-08T21:13:42.869Z"
   },
   {
    "duration": 232,
    "start_time": "2024-04-08T21:13:42.891Z"
   },
   {
    "duration": 231,
    "start_time": "2024-04-08T21:14:02.202Z"
   },
   {
    "duration": 229,
    "start_time": "2024-04-08T21:15:45.898Z"
   },
   {
    "duration": 224,
    "start_time": "2024-04-08T21:16:28.896Z"
   },
   {
    "duration": 223,
    "start_time": "2024-04-08T21:16:44.846Z"
   },
   {
    "duration": 2674,
    "start_time": "2024-04-08T21:18:16.489Z"
   },
   {
    "duration": 27,
    "start_time": "2024-04-08T21:18:19.165Z"
   },
   {
    "duration": 47,
    "start_time": "2024-04-08T21:18:19.194Z"
   },
   {
    "duration": 239,
    "start_time": "2024-04-08T21:18:19.243Z"
   },
   {
    "duration": 307,
    "start_time": "2024-04-08T21:18:19.484Z"
   },
   {
    "duration": 1507,
    "start_time": "2024-04-08T21:18:19.792Z"
   },
   {
    "duration": 287,
    "start_time": "2024-04-08T21:18:21.301Z"
   },
   {
    "duration": 175,
    "start_time": "2024-04-08T21:18:21.590Z"
   },
   {
    "duration": 177,
    "start_time": "2024-04-08T21:18:21.767Z"
   },
   {
    "duration": 167,
    "start_time": "2024-04-08T21:18:21.947Z"
   },
   {
    "duration": 172,
    "start_time": "2024-04-08T21:18:22.116Z"
   },
   {
    "duration": 240,
    "start_time": "2024-04-08T21:18:22.290Z"
   },
   {
    "duration": 531,
    "start_time": "2024-04-08T21:18:22.532Z"
   },
   {
    "duration": 20,
    "start_time": "2024-04-08T21:18:23.065Z"
   },
   {
    "duration": 235,
    "start_time": "2024-04-08T21:18:23.087Z"
   },
   {
    "duration": 128,
    "start_time": "2024-04-08T21:20:25.417Z"
   },
   {
    "duration": 2656,
    "start_time": "2024-04-08T21:20:34.383Z"
   },
   {
    "duration": 26,
    "start_time": "2024-04-08T21:20:37.041Z"
   },
   {
    "duration": 47,
    "start_time": "2024-04-08T21:20:37.069Z"
   },
   {
    "duration": 244,
    "start_time": "2024-04-08T21:20:37.118Z"
   },
   {
    "duration": 303,
    "start_time": "2024-04-08T21:20:37.364Z"
   },
   {
    "duration": 1529,
    "start_time": "2024-04-08T21:20:37.669Z"
   },
   {
    "duration": 259,
    "start_time": "2024-04-08T21:20:39.199Z"
   },
   {
    "duration": 192,
    "start_time": "2024-04-08T21:20:39.459Z"
   },
   {
    "duration": 164,
    "start_time": "2024-04-08T21:20:39.652Z"
   },
   {
    "duration": 168,
    "start_time": "2024-04-08T21:20:39.818Z"
   },
   {
    "duration": 168,
    "start_time": "2024-04-08T21:20:39.987Z"
   },
   {
    "duration": 232,
    "start_time": "2024-04-08T21:20:40.156Z"
   },
   {
    "duration": 482,
    "start_time": "2024-04-08T21:20:40.390Z"
   },
   {
    "duration": 26,
    "start_time": "2024-04-08T21:20:40.873Z"
   },
   {
    "duration": 251,
    "start_time": "2024-04-08T21:20:40.914Z"
   },
   {
    "duration": 122,
    "start_time": "2024-04-08T21:20:57.719Z"
   },
   {
    "duration": 121,
    "start_time": "2024-04-08T21:21:19.522Z"
   },
   {
    "duration": 2514,
    "start_time": "2024-04-08T21:53:03.962Z"
   },
   {
    "duration": 40,
    "start_time": "2024-04-08T21:53:06.478Z"
   },
   {
    "duration": 46,
    "start_time": "2024-04-08T21:53:06.519Z"
   },
   {
    "duration": 247,
    "start_time": "2024-04-08T21:53:06.566Z"
   },
   {
    "duration": 298,
    "start_time": "2024-04-08T21:53:06.818Z"
   },
   {
    "duration": 1478,
    "start_time": "2024-04-08T21:53:07.118Z"
   },
   {
    "duration": 264,
    "start_time": "2024-04-08T21:53:08.598Z"
   },
   {
    "duration": 168,
    "start_time": "2024-04-08T21:53:08.864Z"
   },
   {
    "duration": 170,
    "start_time": "2024-04-08T21:53:09.034Z"
   },
   {
    "duration": 163,
    "start_time": "2024-04-08T21:53:09.205Z"
   },
   {
    "duration": 171,
    "start_time": "2024-04-08T21:53:09.370Z"
   },
   {
    "duration": 254,
    "start_time": "2024-04-08T21:53:09.542Z"
   },
   {
    "duration": 509,
    "start_time": "2024-04-08T21:53:09.797Z"
   },
   {
    "duration": 24,
    "start_time": "2024-04-08T21:53:10.308Z"
   },
   {
    "duration": 253,
    "start_time": "2024-04-08T21:53:10.333Z"
   },
   {
    "duration": 3056,
    "start_time": "2024-04-09T14:00:10.115Z"
   },
   {
    "duration": 1960,
    "start_time": "2024-04-09T14:02:17.030Z"
   },
   {
    "duration": 1839,
    "start_time": "2024-04-09T14:09:44.231Z"
   },
   {
    "duration": 89,
    "start_time": "2024-04-09T14:10:00.869Z"
   },
   {
    "duration": 15,
    "start_time": "2024-04-09T14:11:49.056Z"
   },
   {
    "duration": 1719,
    "start_time": "2024-04-09T14:11:56.161Z"
   },
   {
    "duration": 99,
    "start_time": "2024-04-09T14:19:33.554Z"
   },
   {
    "duration": 113,
    "start_time": "2024-04-09T14:19:45.082Z"
   },
   {
    "duration": 45,
    "start_time": "2024-04-09T14:33:09.160Z"
   },
   {
    "duration": 776,
    "start_time": "2024-04-09T14:33:13.559Z"
   },
   {
    "duration": 15,
    "start_time": "2024-04-09T14:33:16.520Z"
   },
   {
    "duration": 1916,
    "start_time": "2024-04-09T14:34:28.159Z"
   },
   {
    "duration": 9,
    "start_time": "2024-04-09T14:40:01.949Z"
   },
   {
    "duration": 19,
    "start_time": "2024-04-09T14:47:40.889Z"
   },
   {
    "duration": 119,
    "start_time": "2024-04-09T15:03:59.335Z"
   },
   {
    "duration": 37,
    "start_time": "2024-04-09T15:09:03.760Z"
   },
   {
    "duration": 8,
    "start_time": "2024-04-09T15:12:26.738Z"
   },
   {
    "duration": 107,
    "start_time": "2024-04-09T15:17:37.765Z"
   },
   {
    "duration": 15,
    "start_time": "2024-04-09T15:17:40.922Z"
   },
   {
    "duration": 1813,
    "start_time": "2024-04-09T15:17:42.614Z"
   },
   {
    "duration": 8,
    "start_time": "2024-04-09T15:17:46.714Z"
   },
   {
    "duration": 6,
    "start_time": "2024-04-09T15:17:49.098Z"
   },
   {
    "duration": 25,
    "start_time": "2024-04-09T15:19:44.607Z"
   },
   {
    "duration": 12,
    "start_time": "2024-04-09T15:21:39.277Z"
   },
   {
    "duration": 1578,
    "start_time": "2024-04-09T15:21:55.282Z"
   },
   {
    "duration": 109,
    "start_time": "2024-04-09T15:22:09.601Z"
   },
   {
    "duration": 16,
    "start_time": "2024-04-09T15:22:11.968Z"
   },
   {
    "duration": 1814,
    "start_time": "2024-04-09T15:22:13.778Z"
   },
   {
    "duration": 8,
    "start_time": "2024-04-09T15:22:18.221Z"
   },
   {
    "duration": 1555,
    "start_time": "2024-04-09T15:22:21.728Z"
   },
   {
    "duration": 8,
    "start_time": "2024-04-09T15:22:37.025Z"
   },
   {
    "duration": 7,
    "start_time": "2024-04-09T15:45:56.287Z"
   },
   {
    "duration": 13,
    "start_time": "2024-04-09T15:49:14.279Z"
   },
   {
    "duration": 12,
    "start_time": "2024-04-09T15:54:52.149Z"
   },
   {
    "duration": 756,
    "start_time": "2024-04-09T18:48:56.066Z"
   },
   {
    "duration": 14,
    "start_time": "2024-04-09T18:48:58.398Z"
   },
   {
    "duration": 1949,
    "start_time": "2024-04-09T18:49:00.782Z"
   },
   {
    "duration": 76,
    "start_time": "2024-04-09T18:49:14.106Z"
   },
   {
    "duration": 118,
    "start_time": "2024-04-09T18:55:40.154Z"
   },
   {
    "duration": 15,
    "start_time": "2024-04-09T18:55:42.248Z"
   },
   {
    "duration": 1860,
    "start_time": "2024-04-09T18:55:44.105Z"
   },
   {
    "duration": 9,
    "start_time": "2024-04-09T18:55:48.176Z"
   },
   {
    "duration": 8,
    "start_time": "2024-04-09T18:55:50.404Z"
   },
   {
    "duration": 7,
    "start_time": "2024-04-09T18:55:54.182Z"
   },
   {
    "duration": 18,
    "start_time": "2024-04-09T18:56:04.767Z"
   },
   {
    "duration": 12,
    "start_time": "2024-04-09T18:56:08.369Z"
   },
   {
    "duration": 13,
    "start_time": "2024-04-09T19:10:04.007Z"
   },
   {
    "duration": 47,
    "start_time": "2024-04-09T19:10:16.334Z"
   },
   {
    "duration": 6,
    "start_time": "2024-04-09T19:48:25.882Z"
   },
   {
    "duration": 113,
    "start_time": "2024-04-09T19:50:36.038Z"
   },
   {
    "duration": 14,
    "start_time": "2024-04-09T19:50:38.510Z"
   },
   {
    "duration": 1925,
    "start_time": "2024-04-09T19:50:41.789Z"
   },
   {
    "duration": 9,
    "start_time": "2024-04-09T19:50:46.289Z"
   },
   {
    "duration": 7,
    "start_time": "2024-04-09T19:50:48.754Z"
   },
   {
    "duration": 6,
    "start_time": "2024-04-09T19:50:51.675Z"
   },
   {
    "duration": 19,
    "start_time": "2024-04-09T19:50:53.759Z"
   },
   {
    "duration": 11,
    "start_time": "2024-04-09T19:50:56.253Z"
   },
   {
    "duration": 4,
    "start_time": "2024-04-09T19:50:58.912Z"
   },
   {
    "duration": 44,
    "start_time": "2024-04-09T20:10:43.376Z"
   },
   {
    "duration": 15,
    "start_time": "2024-04-09T20:16:27.786Z"
   },
   {
    "duration": 32,
    "start_time": "2024-04-09T20:17:45.923Z"
   },
   {
    "duration": 18,
    "start_time": "2024-04-09T20:18:44.402Z"
   },
   {
    "duration": 31,
    "start_time": "2024-04-09T20:18:46.243Z"
   },
   {
    "duration": 18,
    "start_time": "2024-04-09T20:19:40.480Z"
   },
   {
    "duration": 29,
    "start_time": "2024-04-09T20:19:42.932Z"
   },
   {
    "duration": 5,
    "start_time": "2024-04-09T20:33:50.832Z"
   },
   {
    "duration": 227,
    "start_time": "2024-04-09T20:35:03.295Z"
   },
   {
    "duration": 5,
    "start_time": "2024-04-09T20:35:22.307Z"
   },
   {
    "duration": 9,
    "start_time": "2024-04-09T20:36:15.095Z"
   },
   {
    "duration": 9,
    "start_time": "2024-04-09T20:41:06.567Z"
   },
   {
    "duration": 223,
    "start_time": "2024-04-09T20:42:41.672Z"
   },
   {
    "duration": 32,
    "start_time": "2024-04-09T20:52:38.123Z"
   },
   {
    "duration": 12,
    "start_time": "2024-04-09T20:53:13.769Z"
   },
   {
    "duration": 269,
    "start_time": "2024-04-09T20:54:16.838Z"
   },
   {
    "duration": 343,
    "start_time": "2024-04-09T20:54:51.290Z"
   },
   {
    "duration": 1602,
    "start_time": "2024-04-09T20:55:06.316Z"
   },
   {
    "duration": 23,
    "start_time": "2024-04-09T20:55:18.383Z"
   },
   {
    "duration": 23,
    "start_time": "2024-04-09T20:57:27.159Z"
   },
   {
    "duration": 145,
    "start_time": "2024-04-09T21:01:15.087Z"
   },
   {
    "duration": 134,
    "start_time": "2024-04-09T21:01:57.180Z"
   },
   {
    "duration": 136,
    "start_time": "2024-04-09T21:03:27.029Z"
   },
   {
    "duration": 168,
    "start_time": "2024-04-09T21:08:32.063Z"
   },
   {
    "duration": 136,
    "start_time": "2024-04-09T21:08:39.657Z"
   },
   {
    "duration": 167,
    "start_time": "2024-04-09T21:09:20.064Z"
   },
   {
    "duration": 173,
    "start_time": "2024-04-09T21:10:15.932Z"
   },
   {
    "duration": 128,
    "start_time": "2024-04-09T21:15:43.603Z"
   },
   {
    "duration": 125,
    "start_time": "2024-04-09T21:17:36.686Z"
   },
   {
    "duration": 132,
    "start_time": "2024-04-09T21:18:14.467Z"
   },
   {
    "duration": 159,
    "start_time": "2024-04-09T21:20:45.518Z"
   },
   {
    "duration": 233,
    "start_time": "2024-04-09T21:22:20.411Z"
   },
   {
    "duration": 122,
    "start_time": "2024-04-09T21:24:37.079Z"
   },
   {
    "duration": 121,
    "start_time": "2024-04-09T21:24:46.086Z"
   },
   {
    "duration": 134,
    "start_time": "2024-04-09T21:27:10.868Z"
   },
   {
    "duration": 158,
    "start_time": "2024-04-09T21:27:58.609Z"
   },
   {
    "duration": 114,
    "start_time": "2024-04-09T21:28:04.011Z"
   },
   {
    "duration": 136,
    "start_time": "2024-04-09T21:28:10.304Z"
   },
   {
    "duration": 122,
    "start_time": "2024-04-09T21:28:21.339Z"
   },
   {
    "duration": 137,
    "start_time": "2024-04-09T21:28:28.236Z"
   },
   {
    "duration": 95,
    "start_time": "2024-04-09T21:30:23.589Z"
   },
   {
    "duration": 145,
    "start_time": "2024-04-09T21:32:32.802Z"
   },
   {
    "duration": 213,
    "start_time": "2024-04-09T21:33:08.191Z"
   },
   {
    "duration": 145,
    "start_time": "2024-04-09T21:33:19.926Z"
   },
   {
    "duration": 158,
    "start_time": "2024-04-09T21:33:27.435Z"
   },
   {
    "duration": 153,
    "start_time": "2024-04-09T21:33:31.917Z"
   },
   {
    "duration": 148,
    "start_time": "2024-04-09T21:33:35.893Z"
   },
   {
    "duration": 151,
    "start_time": "2024-04-09T21:33:41.667Z"
   },
   {
    "duration": 161,
    "start_time": "2024-04-09T21:33:44.950Z"
   },
   {
    "duration": 145,
    "start_time": "2024-04-09T21:34:57.128Z"
   },
   {
    "duration": 146,
    "start_time": "2024-04-09T21:36:30.220Z"
   },
   {
    "duration": 258,
    "start_time": "2024-04-09T21:38:37.036Z"
   },
   {
    "duration": 338,
    "start_time": "2024-04-09T21:40:29.861Z"
   },
   {
    "duration": 147,
    "start_time": "2024-04-09T21:48:19.729Z"
   },
   {
    "duration": 152,
    "start_time": "2024-04-09T21:48:22.971Z"
   },
   {
    "duration": 152,
    "start_time": "2024-04-09T21:48:28.491Z"
   },
   {
    "duration": 147,
    "start_time": "2024-04-09T21:50:04.524Z"
   },
   {
    "duration": 130,
    "start_time": "2024-04-09T21:50:16.442Z"
   },
   {
    "duration": 505,
    "start_time": "2024-04-09T21:53:31.423Z"
   },
   {
    "duration": 492,
    "start_time": "2024-04-09T21:54:07.880Z"
   },
   {
    "duration": 22,
    "start_time": "2024-04-09T21:55:59.321Z"
   },
   {
    "duration": 7,
    "start_time": "2024-04-09T21:56:51.466Z"
   },
   {
    "duration": 18,
    "start_time": "2024-04-09T21:59:14.834Z"
   },
   {
    "duration": 6,
    "start_time": "2024-04-09T22:06:14.646Z"
   },
   {
    "duration": 6,
    "start_time": "2024-04-09T22:06:21.428Z"
   },
   {
    "duration": 307,
    "start_time": "2024-04-09T22:06:59.148Z"
   },
   {
    "duration": 221,
    "start_time": "2024-04-09T22:09:06.994Z"
   },
   {
    "duration": 2592,
    "start_time": "2024-04-09T22:09:31.721Z"
   },
   {
    "duration": 113,
    "start_time": "2024-04-09T22:09:34.314Z"
   },
   {
    "duration": 17,
    "start_time": "2024-04-09T22:09:34.429Z"
   },
   {
    "duration": 1785,
    "start_time": "2024-04-09T22:09:34.448Z"
   },
   {
    "duration": 7,
    "start_time": "2024-04-09T22:09:36.235Z"
   },
   {
    "duration": 23,
    "start_time": "2024-04-09T22:09:36.244Z"
   },
   {
    "duration": 6,
    "start_time": "2024-04-09T22:09:36.268Z"
   },
   {
    "duration": 23,
    "start_time": "2024-04-09T22:09:36.275Z"
   },
   {
    "duration": 11,
    "start_time": "2024-04-09T22:09:36.300Z"
   },
   {
    "duration": 10,
    "start_time": "2024-04-09T22:09:36.313Z"
   },
   {
    "duration": 26,
    "start_time": "2024-04-09T22:09:36.324Z"
   },
   {
    "duration": 31,
    "start_time": "2024-04-09T22:09:36.352Z"
   },
   {
    "duration": 8,
    "start_time": "2024-04-09T22:09:36.385Z"
   },
   {
    "duration": 250,
    "start_time": "2024-04-09T22:09:36.395Z"
   },
   {
    "duration": 16,
    "start_time": "2024-04-09T22:09:36.647Z"
   },
   {
    "duration": 5,
    "start_time": "2024-04-09T22:09:36.664Z"
   },
   {
    "duration": 13,
    "start_time": "2024-04-09T22:09:36.670Z"
   },
   {
    "duration": 274,
    "start_time": "2024-04-09T22:09:36.685Z"
   },
   {
    "duration": 23,
    "start_time": "2024-04-09T22:09:36.960Z"
   },
   {
    "duration": 153,
    "start_time": "2024-04-09T22:09:36.985Z"
   },
   {
    "duration": 174,
    "start_time": "2024-04-09T22:09:37.139Z"
   },
   {
    "duration": 156,
    "start_time": "2024-04-09T22:09:37.314Z"
   },
   {
    "duration": 176,
    "start_time": "2024-04-09T22:09:37.472Z"
   },
   {
    "duration": 128,
    "start_time": "2024-04-09T22:09:37.649Z"
   },
   {
    "duration": 224,
    "start_time": "2024-04-09T22:09:37.778Z"
   },
   {
    "duration": 104,
    "start_time": "2024-04-09T22:09:38.004Z"
   },
   {
    "duration": 146,
    "start_time": "2024-04-09T22:09:38.109Z"
   },
   {
    "duration": 163,
    "start_time": "2024-04-09T22:09:38.258Z"
   },
   {
    "duration": 153,
    "start_time": "2024-04-09T22:09:38.422Z"
   },
   {
    "duration": 283,
    "start_time": "2024-04-09T22:09:38.576Z"
   },
   {
    "duration": 135,
    "start_time": "2024-04-09T22:09:38.860Z"
   },
   {
    "duration": 149,
    "start_time": "2024-04-09T22:09:38.996Z"
   },
   {
    "duration": 148,
    "start_time": "2024-04-09T22:09:39.146Z"
   },
   {
    "duration": 150,
    "start_time": "2024-04-09T22:09:39.295Z"
   },
   {
    "duration": 228,
    "start_time": "2024-04-09T22:09:39.447Z"
   },
   {
    "duration": 478,
    "start_time": "2024-04-09T22:09:39.676Z"
   },
   {
    "duration": 7,
    "start_time": "2024-04-09T22:09:40.155Z"
   },
   {
    "duration": 22,
    "start_time": "2024-04-09T22:09:40.163Z"
   },
   {
    "duration": 231,
    "start_time": "2024-04-09T22:09:40.187Z"
   },
   {
    "duration": 2971,
    "start_time": "2024-04-09T22:33:03.220Z"
   },
   {
    "duration": 129,
    "start_time": "2024-04-09T22:33:06.194Z"
   },
   {
    "duration": 14,
    "start_time": "2024-04-09T22:33:06.325Z"
   },
   {
    "duration": 2047,
    "start_time": "2024-04-09T22:33:06.342Z"
   },
   {
    "duration": 9,
    "start_time": "2024-04-09T22:33:08.390Z"
   },
   {
    "duration": 10,
    "start_time": "2024-04-09T22:33:08.401Z"
   },
   {
    "duration": 6,
    "start_time": "2024-04-09T22:33:08.413Z"
   },
   {
    "duration": 20,
    "start_time": "2024-04-09T22:33:08.420Z"
   },
   {
    "duration": 37,
    "start_time": "2024-04-09T22:33:08.442Z"
   },
   {
    "duration": 4,
    "start_time": "2024-04-09T22:33:08.482Z"
   },
   {
    "duration": 28,
    "start_time": "2024-04-09T22:33:08.488Z"
   },
   {
    "duration": 32,
    "start_time": "2024-04-09T22:33:08.517Z"
   },
   {
    "duration": 31,
    "start_time": "2024-04-09T22:33:08.551Z"
   },
   {
    "duration": 285,
    "start_time": "2024-04-09T22:33:08.584Z"
   },
   {
    "duration": 12,
    "start_time": "2024-04-09T22:33:08.870Z"
   },
   {
    "duration": 5,
    "start_time": "2024-04-09T22:33:08.884Z"
   },
   {
    "duration": 17,
    "start_time": "2024-04-09T22:33:08.891Z"
   },
   {
    "duration": 329,
    "start_time": "2024-04-09T22:33:08.909Z"
   },
   {
    "duration": 34,
    "start_time": "2024-04-09T22:33:09.240Z"
   },
   {
    "duration": 167,
    "start_time": "2024-04-09T22:33:09.276Z"
   },
   {
    "duration": 189,
    "start_time": "2024-04-09T22:33:09.444Z"
   },
   {
    "duration": 159,
    "start_time": "2024-04-09T22:33:09.635Z"
   },
   {
    "duration": 192,
    "start_time": "2024-04-09T22:33:09.796Z"
   },
   {
    "duration": 167,
    "start_time": "2024-04-09T22:33:09.989Z"
   },
   {
    "duration": 279,
    "start_time": "2024-04-09T22:33:10.158Z"
   },
   {
    "duration": 118,
    "start_time": "2024-04-09T22:33:10.439Z"
   },
   {
    "duration": 164,
    "start_time": "2024-04-09T22:33:10.559Z"
   },
   {
    "duration": 184,
    "start_time": "2024-04-09T22:33:10.727Z"
   },
   {
    "duration": 168,
    "start_time": "2024-04-09T22:33:10.913Z"
   },
   {
    "duration": 302,
    "start_time": "2024-04-09T22:33:11.082Z"
   },
   {
    "duration": 154,
    "start_time": "2024-04-09T22:33:11.385Z"
   },
   {
    "duration": 180,
    "start_time": "2024-04-09T22:33:11.540Z"
   },
   {
    "duration": 167,
    "start_time": "2024-04-09T22:33:11.722Z"
   },
   {
    "duration": 171,
    "start_time": "2024-04-09T22:33:11.891Z"
   },
   {
    "duration": 244,
    "start_time": "2024-04-09T22:33:12.072Z"
   },
   {
    "duration": 514,
    "start_time": "2024-04-09T22:33:12.317Z"
   },
   {
    "duration": 8,
    "start_time": "2024-04-09T22:33:12.833Z"
   },
   {
    "duration": 42,
    "start_time": "2024-04-09T22:33:12.843Z"
   },
   {
    "duration": 261,
    "start_time": "2024-04-09T22:33:12.887Z"
   },
   {
    "duration": 78,
    "start_time": "2024-04-09T22:42:34.934Z"
   },
   {
    "duration": 15,
    "start_time": "2024-04-09T22:42:41.664Z"
   },
   {
    "duration": 250,
    "start_time": "2024-04-09T22:44:38.269Z"
   },
   {
    "duration": 45,
    "start_time": "2024-04-10T08:01:46.356Z"
   },
   {
    "duration": 1263,
    "start_time": "2024-04-10T08:01:51.780Z"
   },
   {
    "duration": 16,
    "start_time": "2024-04-10T08:01:55.705Z"
   },
   {
    "duration": 1929,
    "start_time": "2024-04-10T08:01:58.322Z"
   },
   {
    "duration": 10,
    "start_time": "2024-04-10T08:02:06.853Z"
   },
   {
    "duration": 13,
    "start_time": "2024-04-10T08:29:11.565Z"
   },
   {
    "duration": 5,
    "start_time": "2024-04-10T08:29:15.416Z"
   },
   {
    "duration": 8,
    "start_time": "2024-04-10T08:29:17.226Z"
   },
   {
    "duration": 9,
    "start_time": "2024-04-10T08:29:24.841Z"
   },
   {
    "duration": 10,
    "start_time": "2024-04-10T08:30:16.138Z"
   },
   {
    "duration": 8,
    "start_time": "2024-04-10T08:30:23.984Z"
   },
   {
    "duration": 7,
    "start_time": "2024-04-10T08:31:17.887Z"
   },
   {
    "duration": 8,
    "start_time": "2024-04-10T08:31:21.086Z"
   },
   {
    "duration": 14,
    "start_time": "2024-04-10T08:52:08.119Z"
   },
   {
    "duration": 10,
    "start_time": "2024-04-10T08:53:43.770Z"
   },
   {
    "duration": 45,
    "start_time": "2024-04-10T08:54:50.446Z"
   },
   {
    "duration": 24,
    "start_time": "2024-04-10T08:54:58.284Z"
   },
   {
    "duration": 22,
    "start_time": "2024-04-10T08:55:38.961Z"
   },
   {
    "duration": 25,
    "start_time": "2024-04-10T09:00:59.946Z"
   },
   {
    "duration": 214,
    "start_time": "2024-04-10T09:01:42.201Z"
   },
   {
    "duration": 209,
    "start_time": "2024-04-10T09:02:42.261Z"
   },
   {
    "duration": 145,
    "start_time": "2024-04-10T09:23:59.618Z"
   },
   {
    "duration": 131,
    "start_time": "2024-04-10T09:24:27.665Z"
   },
   {
    "duration": 177,
    "start_time": "2024-04-10T09:24:38.943Z"
   },
   {
    "duration": 169,
    "start_time": "2024-04-10T09:24:48.326Z"
   },
   {
    "duration": 170,
    "start_time": "2024-04-10T09:24:57.045Z"
   },
   {
    "duration": 201,
    "start_time": "2024-04-10T09:25:04.968Z"
   },
   {
    "duration": 273,
    "start_time": "2024-04-10T09:25:17.278Z"
   },
   {
    "duration": 157,
    "start_time": "2024-04-10T09:25:25.594Z"
   },
   {
    "duration": 157,
    "start_time": "2024-04-10T09:25:52.813Z"
   },
   {
    "duration": 165,
    "start_time": "2024-04-10T09:26:10.738Z"
   },
   {
    "duration": 175,
    "start_time": "2024-04-10T09:26:14.895Z"
   },
   {
    "duration": 194,
    "start_time": "2024-04-10T09:26:25.246Z"
   },
   {
    "duration": 167,
    "start_time": "2024-04-10T09:26:31.421Z"
   },
   {
    "duration": 160,
    "start_time": "2024-04-10T09:26:37.203Z"
   },
   {
    "duration": 170,
    "start_time": "2024-04-10T09:26:54.119Z"
   },
   {
    "duration": 26,
    "start_time": "2024-04-10T11:32:30.621Z"
   },
   {
    "duration": 21,
    "start_time": "2024-04-10T11:32:43.247Z"
   },
   {
    "duration": 4,
    "start_time": "2024-04-10T11:32:48.305Z"
   },
   {
    "duration": 19,
    "start_time": "2024-04-10T11:32:50.080Z"
   },
   {
    "duration": 2736,
    "start_time": "2024-04-10T11:32:58.813Z"
   },
   {
    "duration": 122,
    "start_time": "2024-04-10T11:33:01.551Z"
   },
   {
    "duration": 110,
    "start_time": "2024-04-10T11:33:01.674Z"
   },
   {
    "duration": 1916,
    "start_time": "2024-04-10T11:33:01.786Z"
   },
   {
    "duration": 9,
    "start_time": "2024-04-10T11:33:03.704Z"
   },
   {
    "duration": 22,
    "start_time": "2024-04-10T11:33:03.715Z"
   },
   {
    "duration": 95,
    "start_time": "2024-04-10T11:33:03.739Z"
   },
   {
    "duration": 0,
    "start_time": "2024-04-10T11:33:03.837Z"
   },
   {
    "duration": 0,
    "start_time": "2024-04-10T11:33:03.839Z"
   },
   {
    "duration": 0,
    "start_time": "2024-04-10T11:33:03.840Z"
   },
   {
    "duration": 0,
    "start_time": "2024-04-10T11:33:03.841Z"
   },
   {
    "duration": 0,
    "start_time": "2024-04-10T11:33:03.842Z"
   },
   {
    "duration": 0,
    "start_time": "2024-04-10T11:33:03.843Z"
   },
   {
    "duration": 0,
    "start_time": "2024-04-10T11:33:03.845Z"
   },
   {
    "duration": 0,
    "start_time": "2024-04-10T11:33:03.845Z"
   },
   {
    "duration": 0,
    "start_time": "2024-04-10T11:33:03.846Z"
   },
   {
    "duration": 0,
    "start_time": "2024-04-10T11:33:03.847Z"
   },
   {
    "duration": 0,
    "start_time": "2024-04-10T11:33:03.849Z"
   },
   {
    "duration": 0,
    "start_time": "2024-04-10T11:33:03.850Z"
   },
   {
    "duration": 0,
    "start_time": "2024-04-10T11:33:03.872Z"
   },
   {
    "duration": 0,
    "start_time": "2024-04-10T11:33:03.873Z"
   },
   {
    "duration": 0,
    "start_time": "2024-04-10T11:33:03.875Z"
   },
   {
    "duration": 0,
    "start_time": "2024-04-10T11:33:03.876Z"
   },
   {
    "duration": 0,
    "start_time": "2024-04-10T11:33:03.878Z"
   },
   {
    "duration": 0,
    "start_time": "2024-04-10T11:33:03.880Z"
   },
   {
    "duration": 0,
    "start_time": "2024-04-10T11:33:03.882Z"
   },
   {
    "duration": 0,
    "start_time": "2024-04-10T11:33:03.883Z"
   },
   {
    "duration": 0,
    "start_time": "2024-04-10T11:33:03.884Z"
   },
   {
    "duration": 0,
    "start_time": "2024-04-10T11:33:03.886Z"
   },
   {
    "duration": 0,
    "start_time": "2024-04-10T11:33:03.888Z"
   },
   {
    "duration": 0,
    "start_time": "2024-04-10T11:33:03.890Z"
   },
   {
    "duration": 1,
    "start_time": "2024-04-10T11:33:03.891Z"
   },
   {
    "duration": 0,
    "start_time": "2024-04-10T11:33:03.893Z"
   },
   {
    "duration": 0,
    "start_time": "2024-04-10T11:33:03.895Z"
   },
   {
    "duration": 0,
    "start_time": "2024-04-10T11:33:03.896Z"
   },
   {
    "duration": 0,
    "start_time": "2024-04-10T11:33:03.898Z"
   },
   {
    "duration": 0,
    "start_time": "2024-04-10T11:33:03.899Z"
   },
   {
    "duration": 0,
    "start_time": "2024-04-10T11:33:03.900Z"
   },
   {
    "duration": 0,
    "start_time": "2024-04-10T11:33:03.901Z"
   },
   {
    "duration": 0,
    "start_time": "2024-04-10T11:33:03.902Z"
   },
   {
    "duration": 0,
    "start_time": "2024-04-10T11:33:03.904Z"
   },
   {
    "duration": 13,
    "start_time": "2024-04-10T11:33:34.432Z"
   },
   {
    "duration": 18,
    "start_time": "2024-04-10T11:35:07.729Z"
   },
   {
    "duration": 20,
    "start_time": "2024-04-10T11:35:18.865Z"
   },
   {
    "duration": 2741,
    "start_time": "2024-04-10T11:35:23.964Z"
   },
   {
    "duration": 116,
    "start_time": "2024-04-10T11:35:26.707Z"
   },
   {
    "duration": 14,
    "start_time": "2024-04-10T11:35:26.825Z"
   },
   {
    "duration": 1950,
    "start_time": "2024-04-10T11:35:26.842Z"
   },
   {
    "duration": 10,
    "start_time": "2024-04-10T11:35:28.794Z"
   },
   {
    "duration": 23,
    "start_time": "2024-04-10T11:35:28.805Z"
   },
   {
    "duration": 19,
    "start_time": "2024-04-10T11:35:28.830Z"
   },
   {
    "duration": 7,
    "start_time": "2024-04-10T11:35:28.851Z"
   },
   {
    "duration": 25,
    "start_time": "2024-04-10T11:35:28.860Z"
   },
   {
    "duration": 13,
    "start_time": "2024-04-10T11:35:28.888Z"
   },
   {
    "duration": 4,
    "start_time": "2024-04-10T11:35:28.903Z"
   },
   {
    "duration": 32,
    "start_time": "2024-04-10T11:35:28.909Z"
   },
   {
    "duration": 48,
    "start_time": "2024-04-10T11:35:28.943Z"
   },
   {
    "duration": 9,
    "start_time": "2024-04-10T11:35:28.992Z"
   },
   {
    "duration": 246,
    "start_time": "2024-04-10T11:35:29.003Z"
   },
   {
    "duration": 9,
    "start_time": "2024-04-10T11:35:29.251Z"
   },
   {
    "duration": 29,
    "start_time": "2024-04-10T11:35:29.270Z"
   },
   {
    "duration": 4,
    "start_time": "2024-04-10T11:35:29.301Z"
   },
   {
    "duration": 24,
    "start_time": "2024-04-10T11:35:29.307Z"
   },
   {
    "duration": 274,
    "start_time": "2024-04-10T11:35:29.333Z"
   },
   {
    "duration": 85,
    "start_time": "2024-04-10T11:35:29.609Z"
   },
   {
    "duration": 0,
    "start_time": "2024-04-10T11:35:29.696Z"
   },
   {
    "duration": 0,
    "start_time": "2024-04-10T11:35:29.697Z"
   },
   {
    "duration": 0,
    "start_time": "2024-04-10T11:35:29.698Z"
   },
   {
    "duration": 0,
    "start_time": "2024-04-10T11:35:29.699Z"
   },
   {
    "duration": 0,
    "start_time": "2024-04-10T11:35:29.700Z"
   },
   {
    "duration": 0,
    "start_time": "2024-04-10T11:35:29.701Z"
   },
   {
    "duration": 0,
    "start_time": "2024-04-10T11:35:29.702Z"
   },
   {
    "duration": 0,
    "start_time": "2024-04-10T11:35:29.703Z"
   },
   {
    "duration": 0,
    "start_time": "2024-04-10T11:35:29.704Z"
   },
   {
    "duration": 0,
    "start_time": "2024-04-10T11:35:29.705Z"
   },
   {
    "duration": 0,
    "start_time": "2024-04-10T11:35:29.706Z"
   },
   {
    "duration": 0,
    "start_time": "2024-04-10T11:35:29.706Z"
   },
   {
    "duration": 0,
    "start_time": "2024-04-10T11:35:29.708Z"
   },
   {
    "duration": 0,
    "start_time": "2024-04-10T11:35:29.709Z"
   },
   {
    "duration": 0,
    "start_time": "2024-04-10T11:35:29.710Z"
   },
   {
    "duration": 0,
    "start_time": "2024-04-10T11:35:29.711Z"
   },
   {
    "duration": 0,
    "start_time": "2024-04-10T11:35:29.712Z"
   },
   {
    "duration": 0,
    "start_time": "2024-04-10T11:35:29.713Z"
   },
   {
    "duration": 0,
    "start_time": "2024-04-10T11:35:29.713Z"
   },
   {
    "duration": 0,
    "start_time": "2024-04-10T11:35:29.714Z"
   },
   {
    "duration": 33,
    "start_time": "2024-04-10T11:35:53.584Z"
   },
   {
    "duration": 18,
    "start_time": "2024-04-10T11:36:43.985Z"
   },
   {
    "duration": 22,
    "start_time": "2024-04-10T11:37:42.129Z"
   },
   {
    "duration": 2774,
    "start_time": "2024-04-10T11:37:46.943Z"
   },
   {
    "duration": 122,
    "start_time": "2024-04-10T11:37:49.719Z"
   },
   {
    "duration": 15,
    "start_time": "2024-04-10T11:37:49.843Z"
   },
   {
    "duration": 1989,
    "start_time": "2024-04-10T11:37:49.860Z"
   },
   {
    "duration": 10,
    "start_time": "2024-04-10T11:37:51.850Z"
   },
   {
    "duration": 23,
    "start_time": "2024-04-10T11:37:51.869Z"
   },
   {
    "duration": 17,
    "start_time": "2024-04-10T11:37:51.894Z"
   },
   {
    "duration": 31,
    "start_time": "2024-04-10T11:37:51.913Z"
   },
   {
    "duration": 39,
    "start_time": "2024-04-10T11:37:51.946Z"
   },
   {
    "duration": 12,
    "start_time": "2024-04-10T11:37:51.987Z"
   },
   {
    "duration": 31,
    "start_time": "2024-04-10T11:37:52.000Z"
   },
   {
    "duration": 41,
    "start_time": "2024-04-10T11:37:52.032Z"
   },
   {
    "duration": 48,
    "start_time": "2024-04-10T11:37:52.075Z"
   },
   {
    "duration": 29,
    "start_time": "2024-04-10T11:37:52.125Z"
   },
   {
    "duration": 217,
    "start_time": "2024-04-10T11:37:52.156Z"
   },
   {
    "duration": 8,
    "start_time": "2024-04-10T11:37:52.374Z"
   },
   {
    "duration": 36,
    "start_time": "2024-04-10T11:37:52.384Z"
   },
   {
    "duration": 17,
    "start_time": "2024-04-10T11:37:52.421Z"
   },
   {
    "duration": 34,
    "start_time": "2024-04-10T11:37:52.439Z"
   },
   {
    "duration": 229,
    "start_time": "2024-04-10T11:37:52.474Z"
   },
   {
    "duration": 77,
    "start_time": "2024-04-10T11:37:52.705Z"
   },
   {
    "duration": 0,
    "start_time": "2024-04-10T11:37:52.784Z"
   },
   {
    "duration": 0,
    "start_time": "2024-04-10T11:37:52.786Z"
   },
   {
    "duration": 0,
    "start_time": "2024-04-10T11:37:52.787Z"
   },
   {
    "duration": 0,
    "start_time": "2024-04-10T11:37:52.788Z"
   },
   {
    "duration": 0,
    "start_time": "2024-04-10T11:37:52.789Z"
   },
   {
    "duration": 0,
    "start_time": "2024-04-10T11:37:52.790Z"
   },
   {
    "duration": 0,
    "start_time": "2024-04-10T11:37:52.790Z"
   },
   {
    "duration": 0,
    "start_time": "2024-04-10T11:37:52.791Z"
   },
   {
    "duration": 0,
    "start_time": "2024-04-10T11:37:52.792Z"
   },
   {
    "duration": 0,
    "start_time": "2024-04-10T11:37:52.793Z"
   },
   {
    "duration": 0,
    "start_time": "2024-04-10T11:37:52.794Z"
   },
   {
    "duration": 0,
    "start_time": "2024-04-10T11:37:52.795Z"
   },
   {
    "duration": 0,
    "start_time": "2024-04-10T11:37:52.797Z"
   },
   {
    "duration": 0,
    "start_time": "2024-04-10T11:37:52.797Z"
   },
   {
    "duration": 0,
    "start_time": "2024-04-10T11:37:52.798Z"
   },
   {
    "duration": 0,
    "start_time": "2024-04-10T11:37:52.799Z"
   },
   {
    "duration": 0,
    "start_time": "2024-04-10T11:37:52.800Z"
   },
   {
    "duration": 0,
    "start_time": "2024-04-10T11:37:52.801Z"
   },
   {
    "duration": 0,
    "start_time": "2024-04-10T11:37:52.802Z"
   },
   {
    "duration": 0,
    "start_time": "2024-04-10T11:37:52.803Z"
   },
   {
    "duration": 10,
    "start_time": "2024-04-10T11:38:11.040Z"
   },
   {
    "duration": 117,
    "start_time": "2024-04-10T11:38:25.172Z"
   },
   {
    "duration": 2,
    "start_time": "2024-04-10T11:39:02.821Z"
   },
   {
    "duration": 91,
    "start_time": "2024-04-10T11:39:04.580Z"
   },
   {
    "duration": 26,
    "start_time": "2024-04-10T11:39:05.947Z"
   },
   {
    "duration": 23,
    "start_time": "2024-04-10T11:39:10.934Z"
   },
   {
    "duration": 1975,
    "start_time": "2024-04-10T11:39:14.144Z"
   },
   {
    "duration": 10,
    "start_time": "2024-04-10T11:39:21.392Z"
   },
   {
    "duration": 3,
    "start_time": "2024-04-10T11:39:37.220Z"
   },
   {
    "duration": 9,
    "start_time": "2024-04-10T11:39:39.905Z"
   },
   {
    "duration": 8,
    "start_time": "2024-04-10T11:39:54.794Z"
   },
   {
    "duration": 5,
    "start_time": "2024-04-10T11:40:09.385Z"
   },
   {
    "duration": 16,
    "start_time": "2024-04-10T11:40:11.412Z"
   },
   {
    "duration": 19,
    "start_time": "2024-04-10T11:47:06.161Z"
   },
   {
    "duration": 4,
    "start_time": "2024-04-10T11:47:11.760Z"
   },
   {
    "duration": 16,
    "start_time": "2024-04-10T11:47:13.519Z"
   },
   {
    "duration": 626,
    "start_time": "2024-04-10T12:27:13.130Z"
   },
   {
    "duration": 102,
    "start_time": "2024-04-10T12:27:15.043Z"
   },
   {
    "duration": 27,
    "start_time": "2024-04-10T12:27:16.197Z"
   },
   {
    "duration": 16,
    "start_time": "2024-04-10T12:27:18.305Z"
   },
   {
    "duration": 1994,
    "start_time": "2024-04-10T12:27:20.543Z"
   },
   {
    "duration": 9,
    "start_time": "2024-04-10T12:27:25.771Z"
   },
   {
    "duration": 4,
    "start_time": "2024-04-10T12:28:00.974Z"
   },
   {
    "duration": 13,
    "start_time": "2024-04-10T12:28:03.552Z"
   },
   {
    "duration": 7,
    "start_time": "2024-04-10T12:28:07.639Z"
   },
   {
    "duration": 16,
    "start_time": "2024-04-10T12:28:50.745Z"
   },
   {
    "duration": 8,
    "start_time": "2024-04-10T12:28:55.565Z"
   },
   {
    "duration": 84,
    "start_time": "2024-04-10T12:29:41.603Z"
   },
   {
    "duration": 13,
    "start_time": "2024-04-10T12:34:13.080Z"
   },
   {
    "duration": 11,
    "start_time": "2024-04-10T12:34:41.176Z"
   },
   {
    "duration": 11,
    "start_time": "2024-04-10T12:38:00.969Z"
   },
   {
    "duration": 37,
    "start_time": "2024-04-10T12:38:23.508Z"
   },
   {
    "duration": 18,
    "start_time": "2024-04-10T12:39:03.578Z"
   },
   {
    "duration": 692,
    "start_time": "2024-04-10T12:39:19.265Z"
   },
   {
    "duration": 106,
    "start_time": "2024-04-10T12:39:21.113Z"
   },
   {
    "duration": 30,
    "start_time": "2024-04-10T12:39:22.413Z"
   },
   {
    "duration": 15,
    "start_time": "2024-04-10T12:39:24.335Z"
   },
   {
    "duration": 1940,
    "start_time": "2024-04-10T12:39:26.077Z"
   },
   {
    "duration": 14,
    "start_time": "2024-04-10T12:39:29.915Z"
   },
   {
    "duration": 3,
    "start_time": "2024-04-10T12:39:34.751Z"
   },
   {
    "duration": 14,
    "start_time": "2024-04-10T12:39:37.466Z"
   },
   {
    "duration": 8,
    "start_time": "2024-04-10T12:39:48.518Z"
   },
   {
    "duration": 14,
    "start_time": "2024-04-10T12:39:59.547Z"
   },
   {
    "duration": 30,
    "start_time": "2024-04-10T12:40:03.811Z"
   },
   {
    "duration": 7,
    "start_time": "2024-04-10T12:41:04.431Z"
   },
   {
    "duration": 7,
    "start_time": "2024-04-10T12:41:23.839Z"
   },
   {
    "duration": 147,
    "start_time": "2024-04-10T12:41:34.945Z"
   },
   {
    "duration": 7,
    "start_time": "2024-04-10T12:41:36.223Z"
   },
   {
    "duration": 657,
    "start_time": "2024-04-10T12:42:18.472Z"
   },
   {
    "duration": 101,
    "start_time": "2024-04-10T12:42:20.218Z"
   },
   {
    "duration": 33,
    "start_time": "2024-04-10T12:42:21.491Z"
   },
   {
    "duration": 17,
    "start_time": "2024-04-10T12:42:23.682Z"
   },
   {
    "duration": 1985,
    "start_time": "2024-04-10T12:42:25.412Z"
   },
   {
    "duration": 9,
    "start_time": "2024-04-10T12:42:29.908Z"
   },
   {
    "duration": 5,
    "start_time": "2024-04-10T12:42:32.187Z"
   },
   {
    "duration": 14,
    "start_time": "2024-04-10T12:42:34.618Z"
   },
   {
    "duration": 7,
    "start_time": "2024-04-10T12:42:39.042Z"
   },
   {
    "duration": 4,
    "start_time": "2024-04-10T12:42:42.388Z"
   },
   {
    "duration": 14,
    "start_time": "2024-04-10T12:42:44.821Z"
   },
   {
    "duration": 31,
    "start_time": "2024-04-10T12:42:46.999Z"
   },
   {
    "duration": 7,
    "start_time": "2024-04-10T12:42:49.619Z"
   },
   {
    "duration": 148,
    "start_time": "2024-04-10T12:43:07.450Z"
   },
   {
    "duration": 6,
    "start_time": "2024-04-10T12:43:08.900Z"
   },
   {
    "duration": 17,
    "start_time": "2024-04-10T12:43:12.824Z"
   },
   {
    "duration": 4,
    "start_time": "2024-04-10T12:43:14.938Z"
   },
   {
    "duration": 8,
    "start_time": "2024-04-10T12:43:16.247Z"
   },
   {
    "duration": 193,
    "start_time": "2024-04-10T12:43:17.795Z"
   },
   {
    "duration": 24,
    "start_time": "2024-04-10T12:43:20.539Z"
   },
   {
    "duration": 197,
    "start_time": "2024-04-10T12:44:34.449Z"
   },
   {
    "duration": 178,
    "start_time": "2024-04-10T12:44:52.146Z"
   },
   {
    "duration": 52,
    "start_time": "2024-04-10T12:47:34.886Z"
   },
   {
    "duration": 646,
    "start_time": "2024-04-10T12:47:46.181Z"
   },
   {
    "duration": 113,
    "start_time": "2024-04-10T12:47:48.128Z"
   },
   {
    "duration": 30,
    "start_time": "2024-04-10T12:47:49.336Z"
   },
   {
    "duration": 17,
    "start_time": "2024-04-10T12:47:51.322Z"
   },
   {
    "duration": 11,
    "start_time": "2024-04-10T12:47:55.036Z"
   },
   {
    "duration": 3,
    "start_time": "2024-04-10T12:47:57.750Z"
   },
   {
    "duration": 18,
    "start_time": "2024-04-10T12:47:59.929Z"
   },
   {
    "duration": 8,
    "start_time": "2024-04-10T12:48:03.550Z"
   },
   {
    "duration": 4,
    "start_time": "2024-04-10T12:48:06.112Z"
   },
   {
    "duration": 22,
    "start_time": "2024-04-10T12:48:08.342Z"
   },
   {
    "duration": 7,
    "start_time": "2024-04-10T12:48:12.382Z"
   },
   {
    "duration": 160,
    "start_time": "2024-04-10T12:48:14.055Z"
   },
   {
    "duration": 6,
    "start_time": "2024-04-10T12:48:18.197Z"
   },
   {
    "duration": 21,
    "start_time": "2024-04-10T12:48:29.065Z"
   },
   {
    "duration": 4,
    "start_time": "2024-04-10T12:48:31.200Z"
   },
   {
    "duration": 9,
    "start_time": "2024-04-10T12:48:32.429Z"
   },
   {
    "duration": 184,
    "start_time": "2024-04-10T12:48:34.082Z"
   },
   {
    "duration": 25,
    "start_time": "2024-04-10T12:48:36.067Z"
   },
   {
    "duration": 188,
    "start_time": "2024-04-10T12:48:38.607Z"
   },
   {
    "duration": 165,
    "start_time": "2024-04-10T12:48:43.413Z"
   },
   {
    "duration": 193,
    "start_time": "2024-04-10T12:48:47.588Z"
   },
   {
    "duration": 168,
    "start_time": "2024-04-10T12:51:11.109Z"
   },
   {
    "duration": 162,
    "start_time": "2024-04-10T12:51:31.043Z"
   },
   {
    "duration": 185,
    "start_time": "2024-04-10T12:51:56.550Z"
   },
   {
    "duration": 143,
    "start_time": "2024-04-10T12:52:08.840Z"
   },
   {
    "duration": 173,
    "start_time": "2024-04-10T12:53:14.161Z"
   },
   {
    "duration": 163,
    "start_time": "2024-04-10T12:55:11.546Z"
   },
   {
    "duration": 169,
    "start_time": "2024-04-10T12:55:26.077Z"
   },
   {
    "duration": 188,
    "start_time": "2024-04-10T12:55:42.466Z"
   },
   {
    "duration": 180,
    "start_time": "2024-04-10T12:55:49.446Z"
   },
   {
    "duration": 192,
    "start_time": "2024-04-10T12:56:11.095Z"
   },
   {
    "duration": 252,
    "start_time": "2024-04-10T12:57:24.040Z"
   },
   {
    "duration": 158,
    "start_time": "2024-04-10T12:57:41.504Z"
   },
   {
    "duration": 145,
    "start_time": "2024-04-10T12:58:07.090Z"
   },
   {
    "duration": 107,
    "start_time": "2024-04-10T12:59:50.485Z"
   },
   {
    "duration": 184,
    "start_time": "2024-04-10T13:00:55.855Z"
   },
   {
    "duration": 139,
    "start_time": "2024-04-10T13:02:12.740Z"
   },
   {
    "duration": 160,
    "start_time": "2024-04-10T13:02:47.846Z"
   },
   {
    "duration": 150,
    "start_time": "2024-04-10T13:03:04.901Z"
   },
   {
    "duration": 158,
    "start_time": "2024-04-10T13:03:10.061Z"
   },
   {
    "duration": 162,
    "start_time": "2024-04-10T13:04:26.037Z"
   },
   {
    "duration": 147,
    "start_time": "2024-04-10T13:04:46.737Z"
   },
   {
    "duration": 224,
    "start_time": "2024-04-10T13:05:10.662Z"
   },
   {
    "duration": 168,
    "start_time": "2024-04-10T13:05:52.455Z"
   },
   {
    "duration": 7,
    "start_time": "2024-04-10T13:07:36.593Z"
   },
   {
    "duration": 42,
    "start_time": "2024-04-10T13:08:44.897Z"
   },
   {
    "duration": 7,
    "start_time": "2024-04-10T13:09:10.514Z"
   },
   {
    "duration": 156,
    "start_time": "2024-04-10T13:27:11.444Z"
   },
   {
    "duration": 141,
    "start_time": "2024-04-10T13:28:32.415Z"
   },
   {
    "duration": 142,
    "start_time": "2024-04-10T13:29:34.824Z"
   },
   {
    "duration": 145,
    "start_time": "2024-04-10T13:32:08.315Z"
   },
   {
    "duration": 9,
    "start_time": "2024-04-10T14:00:50.298Z"
   },
   {
    "duration": 9,
    "start_time": "2024-04-10T14:01:08.063Z"
   },
   {
    "duration": 13351,
    "start_time": "2024-04-10T14:03:50.864Z"
   },
   {
    "duration": 13657,
    "start_time": "2024-04-10T14:04:19.281Z"
   },
   {
    "duration": 13210,
    "start_time": "2024-04-10T14:05:00.644Z"
   },
   {
    "duration": 5,
    "start_time": "2024-04-10T14:05:16.147Z"
   },
   {
    "duration": 5,
    "start_time": "2024-04-10T14:05:21.213Z"
   },
   {
    "duration": 6,
    "start_time": "2024-04-10T14:06:46.832Z"
   },
   {
    "duration": 10,
    "start_time": "2024-04-10T14:09:32.389Z"
   },
   {
    "duration": 7,
    "start_time": "2024-04-10T14:09:40.511Z"
   },
   {
    "duration": 5,
    "start_time": "2024-04-10T14:09:53.130Z"
   },
   {
    "duration": 1160,
    "start_time": "2024-04-10T14:11:31.149Z"
   },
   {
    "duration": 187,
    "start_time": "2024-04-10T14:12:10.253Z"
   },
   {
    "duration": 141,
    "start_time": "2024-04-10T14:12:59.283Z"
   },
   {
    "duration": 147,
    "start_time": "2024-04-10T14:16:34.446Z"
   },
   {
    "duration": 158,
    "start_time": "2024-04-10T14:20:14.323Z"
   },
   {
    "duration": 148,
    "start_time": "2024-04-10T14:21:00.818Z"
   },
   {
    "duration": 153,
    "start_time": "2024-04-10T14:21:24.658Z"
   },
   {
    "duration": 152,
    "start_time": "2024-04-10T14:21:44.461Z"
   },
   {
    "duration": 121,
    "start_time": "2024-04-10T14:23:26.389Z"
   },
   {
    "duration": 129,
    "start_time": "2024-04-10T14:24:25.035Z"
   },
   {
    "duration": 136,
    "start_time": "2024-04-10T14:25:15.055Z"
   },
   {
    "duration": 138,
    "start_time": "2024-04-10T14:25:43.458Z"
   },
   {
    "duration": 464,
    "start_time": "2024-04-10T14:28:38.824Z"
   },
   {
    "duration": 147,
    "start_time": "2024-04-10T14:30:02.819Z"
   },
   {
    "duration": 158,
    "start_time": "2024-04-10T14:30:14.842Z"
   },
   {
    "duration": 175,
    "start_time": "2024-04-10T14:31:16.751Z"
   },
   {
    "duration": 179,
    "start_time": "2024-04-10T14:31:35.782Z"
   },
   {
    "duration": 150,
    "start_time": "2024-04-10T14:32:09.583Z"
   },
   {
    "duration": 152,
    "start_time": "2024-04-10T14:33:16.767Z"
   },
   {
    "duration": 156,
    "start_time": "2024-04-10T14:39:06.197Z"
   },
   {
    "duration": 7,
    "start_time": "2024-04-10T14:46:50.979Z"
   },
   {
    "duration": 18,
    "start_time": "2024-04-10T14:46:52.218Z"
   },
   {
    "duration": 241,
    "start_time": "2024-04-10T14:47:26.186Z"
   },
   {
    "duration": 231,
    "start_time": "2024-04-10T14:48:07.339Z"
   },
   {
    "duration": 248,
    "start_time": "2024-04-10T14:48:41.078Z"
   },
   {
    "duration": 273,
    "start_time": "2024-04-10T14:49:58.400Z"
   },
   {
    "duration": 248,
    "start_time": "2024-04-10T14:50:42.802Z"
   },
   {
    "duration": 2871,
    "start_time": "2024-04-10T14:55:59.182Z"
   },
   {
    "duration": 2,
    "start_time": "2024-04-10T14:56:02.055Z"
   },
   {
    "duration": 156,
    "start_time": "2024-04-10T14:56:02.058Z"
   },
   {
    "duration": 28,
    "start_time": "2024-04-10T14:56:02.216Z"
   },
   {
    "duration": 36,
    "start_time": "2024-04-10T14:56:02.246Z"
   },
   {
    "duration": 1981,
    "start_time": "2024-04-10T14:56:02.284Z"
   },
   {
    "duration": 12,
    "start_time": "2024-04-10T14:56:04.266Z"
   },
   {
    "duration": 27,
    "start_time": "2024-04-10T14:56:04.279Z"
   },
   {
    "duration": 30,
    "start_time": "2024-04-10T14:56:04.307Z"
   },
   {
    "duration": 5,
    "start_time": "2024-04-10T14:56:04.340Z"
   },
   {
    "duration": 28,
    "start_time": "2024-04-10T14:56:04.346Z"
   },
   {
    "duration": 33,
    "start_time": "2024-04-10T14:56:04.376Z"
   },
   {
    "duration": 9,
    "start_time": "2024-04-10T14:56:04.411Z"
   },
   {
    "duration": 18,
    "start_time": "2024-04-10T14:56:04.422Z"
   },
   {
    "duration": 36,
    "start_time": "2024-04-10T14:56:04.441Z"
   },
   {
    "duration": 7,
    "start_time": "2024-04-10T14:56:04.478Z"
   },
   {
    "duration": 154,
    "start_time": "2024-04-10T14:56:04.486Z"
   },
   {
    "duration": 7,
    "start_time": "2024-04-10T14:56:04.642Z"
   },
   {
    "duration": 27,
    "start_time": "2024-04-10T14:56:04.650Z"
   },
   {
    "duration": 4,
    "start_time": "2024-04-10T14:56:04.679Z"
   },
   {
    "duration": 13,
    "start_time": "2024-04-10T14:56:04.685Z"
   },
   {
    "duration": 181,
    "start_time": "2024-04-10T14:56:04.699Z"
   },
   {
    "duration": 28,
    "start_time": "2024-04-10T14:56:04.881Z"
   },
   {
    "duration": 200,
    "start_time": "2024-04-10T14:56:04.911Z"
   },
   {
    "duration": 167,
    "start_time": "2024-04-10T14:56:05.113Z"
   },
   {
    "duration": 171,
    "start_time": "2024-04-10T14:56:05.282Z"
   },
   {
    "duration": 197,
    "start_time": "2024-04-10T14:56:05.455Z"
   },
   {
    "duration": 163,
    "start_time": "2024-04-10T14:56:05.655Z"
   },
   {
    "duration": 166,
    "start_time": "2024-04-10T14:56:05.819Z"
   },
   {
    "duration": 244,
    "start_time": "2024-04-10T14:56:05.987Z"
   },
   {
    "duration": 200,
    "start_time": "2024-04-10T14:56:06.233Z"
   },
   {
    "duration": 170,
    "start_time": "2024-04-10T14:56:06.435Z"
   },
   {
    "duration": 185,
    "start_time": "2024-04-10T14:56:06.607Z"
   },
   {
    "duration": 6,
    "start_time": "2024-04-10T14:56:06.794Z"
   },
   {
    "duration": 157,
    "start_time": "2024-04-10T14:56:06.802Z"
   },
   {
    "duration": 171,
    "start_time": "2024-04-10T14:56:06.961Z"
   },
   {
    "duration": 171,
    "start_time": "2024-04-10T14:56:07.133Z"
   },
   {
    "duration": 176,
    "start_time": "2024-04-10T14:56:07.306Z"
   },
   {
    "duration": 138,
    "start_time": "2024-04-10T14:56:07.484Z"
   },
   {
    "duration": 163,
    "start_time": "2024-04-10T14:56:07.624Z"
   },
   {
    "duration": 196,
    "start_time": "2024-04-10T14:56:07.789Z"
   },
   {
    "duration": 172,
    "start_time": "2024-04-10T14:56:07.987Z"
   },
   {
    "duration": 9,
    "start_time": "2024-04-10T14:56:08.161Z"
   },
   {
    "duration": 24,
    "start_time": "2024-04-10T14:56:08.172Z"
   },
   {
    "duration": 377,
    "start_time": "2024-04-10T14:56:08.198Z"
   },
   {
    "duration": 158,
    "start_time": "2024-04-10T15:03:51.715Z"
   },
   {
    "duration": 150,
    "start_time": "2024-04-10T15:04:10.376Z"
   },
   {
    "duration": 141,
    "start_time": "2024-04-10T15:04:33.363Z"
   },
   {
    "duration": 20,
    "start_time": "2024-04-10T15:05:02.440Z"
   },
   {
    "duration": 18,
    "start_time": "2024-04-10T15:05:23.523Z"
   },
   {
    "duration": 300,
    "start_time": "2024-04-10T15:07:14.858Z"
   },
   {
    "duration": 7,
    "start_time": "2024-04-10T15:07:19.971Z"
   },
   {
    "duration": 3166,
    "start_time": "2024-04-10T16:18:49.774Z"
   },
   {
    "duration": 3,
    "start_time": "2024-04-10T16:18:52.942Z"
   },
   {
    "duration": 105,
    "start_time": "2024-04-10T16:18:52.947Z"
   },
   {
    "duration": 27,
    "start_time": "2024-04-10T16:18:53.055Z"
   },
   {
    "duration": 16,
    "start_time": "2024-04-10T16:18:53.084Z"
   },
   {
    "duration": 2091,
    "start_time": "2024-04-10T16:18:53.101Z"
   },
   {
    "duration": 9,
    "start_time": "2024-04-10T16:18:55.194Z"
   },
   {
    "duration": 8,
    "start_time": "2024-04-10T16:18:55.205Z"
   },
   {
    "duration": 15,
    "start_time": "2024-04-10T16:18:55.215Z"
   },
   {
    "duration": 7,
    "start_time": "2024-04-10T16:18:55.234Z"
   },
   {
    "duration": 5,
    "start_time": "2024-04-10T16:18:55.256Z"
   },
   {
    "duration": 17,
    "start_time": "2024-04-10T16:18:55.263Z"
   },
   {
    "duration": 32,
    "start_time": "2024-04-10T16:18:55.281Z"
   },
   {
    "duration": 44,
    "start_time": "2024-04-10T16:18:55.314Z"
   },
   {
    "duration": 165,
    "start_time": "2024-04-10T16:18:55.360Z"
   },
   {
    "duration": 8,
    "start_time": "2024-04-10T16:18:55.526Z"
   },
   {
    "duration": 31,
    "start_time": "2024-04-10T16:18:55.536Z"
   },
   {
    "duration": 5,
    "start_time": "2024-04-10T16:18:55.569Z"
   },
   {
    "duration": 11,
    "start_time": "2024-04-10T16:18:55.575Z"
   },
   {
    "duration": 205,
    "start_time": "2024-04-10T16:18:55.587Z"
   },
   {
    "duration": 24,
    "start_time": "2024-04-10T16:18:55.794Z"
   },
   {
    "duration": 218,
    "start_time": "2024-04-10T16:18:55.820Z"
   },
   {
    "duration": 178,
    "start_time": "2024-04-10T16:18:56.040Z"
   },
   {
    "duration": 179,
    "start_time": "2024-04-10T16:18:56.220Z"
   },
   {
    "duration": 200,
    "start_time": "2024-04-10T16:18:56.401Z"
   },
   {
    "duration": 161,
    "start_time": "2024-04-10T16:18:56.603Z"
   },
   {
    "duration": 159,
    "start_time": "2024-04-10T16:18:56.766Z"
   },
   {
    "duration": 241,
    "start_time": "2024-04-10T16:18:56.929Z"
   },
   {
    "duration": 211,
    "start_time": "2024-04-10T16:18:57.172Z"
   },
   {
    "duration": 171,
    "start_time": "2024-04-10T16:18:57.385Z"
   },
   {
    "duration": 191,
    "start_time": "2024-04-10T16:18:57.557Z"
   },
   {
    "duration": 12,
    "start_time": "2024-04-10T16:18:57.749Z"
   },
   {
    "duration": 165,
    "start_time": "2024-04-10T16:18:57.763Z"
   },
   {
    "duration": 171,
    "start_time": "2024-04-10T16:18:57.929Z"
   },
   {
    "duration": 165,
    "start_time": "2024-04-10T16:18:58.102Z"
   },
   {
    "duration": 176,
    "start_time": "2024-04-10T16:18:58.268Z"
   },
   {
    "duration": 157,
    "start_time": "2024-04-10T16:18:58.445Z"
   },
   {
    "duration": 165,
    "start_time": "2024-04-10T16:18:58.604Z"
   },
   {
    "duration": 196,
    "start_time": "2024-04-10T16:18:58.771Z"
   },
   {
    "duration": 170,
    "start_time": "2024-04-10T16:18:58.969Z"
   },
   {
    "duration": 6,
    "start_time": "2024-04-10T16:18:59.141Z"
   },
   {
    "duration": 19,
    "start_time": "2024-04-10T16:18:59.156Z"
   },
   {
    "duration": 369,
    "start_time": "2024-04-10T16:18:59.177Z"
   },
   {
    "duration": 13,
    "start_time": "2024-04-10T16:22:27.540Z"
   },
   {
    "duration": 2845,
    "start_time": "2024-04-10T16:22:33.787Z"
   },
   {
    "duration": 2,
    "start_time": "2024-04-10T16:22:36.634Z"
   },
   {
    "duration": 111,
    "start_time": "2024-04-10T16:22:36.638Z"
   },
   {
    "duration": 28,
    "start_time": "2024-04-10T16:22:36.751Z"
   },
   {
    "duration": 15,
    "start_time": "2024-04-10T16:22:36.781Z"
   },
   {
    "duration": 2007,
    "start_time": "2024-04-10T16:22:36.797Z"
   },
   {
    "duration": 11,
    "start_time": "2024-04-10T16:22:38.806Z"
   },
   {
    "duration": 10,
    "start_time": "2024-04-10T16:22:38.819Z"
   },
   {
    "duration": 12,
    "start_time": "2024-04-10T16:22:38.830Z"
   },
   {
    "duration": 16,
    "start_time": "2024-04-10T16:22:38.857Z"
   },
   {
    "duration": 10,
    "start_time": "2024-04-10T16:22:38.875Z"
   },
   {
    "duration": 8,
    "start_time": "2024-04-10T16:22:38.887Z"
   },
   {
    "duration": 17,
    "start_time": "2024-04-10T16:22:38.896Z"
   },
   {
    "duration": 44,
    "start_time": "2024-04-10T16:22:38.915Z"
   },
   {
    "duration": 6,
    "start_time": "2024-04-10T16:22:38.961Z"
   },
   {
    "duration": 169,
    "start_time": "2024-04-10T16:22:38.969Z"
   },
   {
    "duration": 7,
    "start_time": "2024-04-10T16:22:39.139Z"
   },
   {
    "duration": 18,
    "start_time": "2024-04-10T16:22:39.156Z"
   },
   {
    "duration": 4,
    "start_time": "2024-04-10T16:22:39.175Z"
   },
   {
    "duration": 12,
    "start_time": "2024-04-10T16:22:39.180Z"
   },
   {
    "duration": 222,
    "start_time": "2024-04-10T16:22:39.193Z"
   },
   {
    "duration": 25,
    "start_time": "2024-04-10T16:22:39.416Z"
   },
   {
    "duration": 192,
    "start_time": "2024-04-10T16:22:39.455Z"
   },
   {
    "duration": 199,
    "start_time": "2024-04-10T16:22:39.649Z"
   },
   {
    "duration": 188,
    "start_time": "2024-04-10T16:22:39.849Z"
   },
   {
    "duration": 207,
    "start_time": "2024-04-10T16:22:40.039Z"
   },
   {
    "duration": 158,
    "start_time": "2024-04-10T16:22:40.247Z"
   },
   {
    "duration": 168,
    "start_time": "2024-04-10T16:22:40.409Z"
   },
   {
    "duration": 234,
    "start_time": "2024-04-10T16:22:40.579Z"
   },
   {
    "duration": 208,
    "start_time": "2024-04-10T16:22:40.815Z"
   },
   {
    "duration": 184,
    "start_time": "2024-04-10T16:22:41.025Z"
   },
   {
    "duration": 251,
    "start_time": "2024-04-10T16:22:41.211Z"
   },
   {
    "duration": 7,
    "start_time": "2024-04-10T16:22:41.464Z"
   },
   {
    "duration": 155,
    "start_time": "2024-04-10T16:22:41.472Z"
   },
   {
    "duration": 229,
    "start_time": "2024-04-10T16:22:41.628Z"
   },
   {
    "duration": 160,
    "start_time": "2024-04-10T16:22:41.859Z"
   },
   {
    "duration": 174,
    "start_time": "2024-04-10T16:22:42.021Z"
   },
   {
    "duration": 166,
    "start_time": "2024-04-10T16:22:42.197Z"
   },
   {
    "duration": 164,
    "start_time": "2024-04-10T16:22:42.364Z"
   },
   {
    "duration": 188,
    "start_time": "2024-04-10T16:22:42.530Z"
   },
   {
    "duration": 165,
    "start_time": "2024-04-10T16:22:42.720Z"
   },
   {
    "duration": 5,
    "start_time": "2024-04-10T16:22:42.887Z"
   },
   {
    "duration": 18,
    "start_time": "2024-04-10T16:22:42.893Z"
   },
   {
    "duration": 369,
    "start_time": "2024-04-10T16:22:42.912Z"
   },
   {
    "duration": 78,
    "start_time": "2024-04-10T16:25:32.176Z"
   },
   {
    "duration": 716,
    "start_time": "2024-04-11T11:53:34.261Z"
   },
   {
    "duration": 226,
    "start_time": "2024-04-11T11:53:36.093Z"
   },
   {
    "duration": 30,
    "start_time": "2024-04-11T11:53:37.719Z"
   },
   {
    "duration": 15,
    "start_time": "2024-04-11T11:53:40.030Z"
   },
   {
    "duration": 1910,
    "start_time": "2024-04-11T11:53:42.221Z"
   },
   {
    "duration": 14,
    "start_time": "2024-04-11T11:53:46.882Z"
   },
   {
    "duration": 3,
    "start_time": "2024-04-11T11:55:19.475Z"
   },
   {
    "duration": 7,
    "start_time": "2024-04-11T11:55:22.310Z"
   },
   {
    "duration": 13,
    "start_time": "2024-04-11T11:55:26.057Z"
   },
   {
    "duration": 10,
    "start_time": "2024-04-11T11:56:02.365Z"
   },
   {
    "duration": 5,
    "start_time": "2024-04-11T11:56:15.307Z"
   },
   {
    "duration": 81,
    "start_time": "2024-04-11T11:56:18.396Z"
   },
   {
    "duration": 9,
    "start_time": "2024-04-11T12:09:44.036Z"
   },
   {
    "duration": 30,
    "start_time": "2024-04-11T12:09:48.284Z"
   },
   {
    "duration": 12,
    "start_time": "2024-04-11T12:10:13.656Z"
   },
   {
    "duration": 227,
    "start_time": "2024-04-11T12:10:16.641Z"
   },
   {
    "duration": 9,
    "start_time": "2024-04-11T12:10:18.407Z"
   },
   {
    "duration": 24,
    "start_time": "2024-04-11T12:10:23.355Z"
   },
   {
    "duration": 5,
    "start_time": "2024-04-11T12:10:27.209Z"
   },
   {
    "duration": 11,
    "start_time": "2024-04-11T12:10:28.986Z"
   },
   {
    "duration": 275,
    "start_time": "2024-04-11T12:10:42.889Z"
   },
   {
    "duration": 13,
    "start_time": "2024-04-11T12:10:52.663Z"
   },
   {
    "duration": 27,
    "start_time": "2024-04-11T12:11:08.462Z"
   },
   {
    "duration": 164,
    "start_time": "2024-04-11T12:11:15.240Z"
   },
   {
    "duration": 191,
    "start_time": "2024-04-11T12:11:26.171Z"
   },
   {
    "duration": 142,
    "start_time": "2024-04-11T12:11:44.198Z"
   },
   {
    "duration": 231,
    "start_time": "2024-04-11T12:11:54.000Z"
   },
   {
    "duration": 135,
    "start_time": "2024-04-11T12:11:57.185Z"
   },
   {
    "duration": 137,
    "start_time": "2024-04-11T12:12:05.141Z"
   },
   {
    "duration": 164,
    "start_time": "2024-04-11T12:12:09.764Z"
   },
   {
    "duration": 119,
    "start_time": "2024-04-11T12:12:12.971Z"
   },
   {
    "duration": 179,
    "start_time": "2024-04-11T12:12:15.556Z"
   },
   {
    "duration": 144,
    "start_time": "2024-04-11T12:12:17.996Z"
   },
   {
    "duration": 164,
    "start_time": "2024-04-11T12:12:20.467Z"
   },
   {
    "duration": 74,
    "start_time": "2024-04-11T12:12:25.282Z"
   },
   {
    "duration": 10,
    "start_time": "2024-04-11T12:15:08.527Z"
   },
   {
    "duration": 146,
    "start_time": "2024-04-11T12:16:22.550Z"
   },
   {
    "duration": 151,
    "start_time": "2024-04-11T12:16:31.516Z"
   },
   {
    "duration": 164,
    "start_time": "2024-04-11T12:16:46.129Z"
   },
   {
    "duration": 205,
    "start_time": "2024-04-11T12:16:48.997Z"
   },
   {
    "duration": 135,
    "start_time": "2024-04-11T12:16:50.696Z"
   },
   {
    "duration": 139,
    "start_time": "2024-04-11T12:17:21.661Z"
   },
   {
    "duration": 138,
    "start_time": "2024-04-11T12:17:26.613Z"
   },
   {
    "duration": 185,
    "start_time": "2024-04-11T12:17:28.384Z"
   },
   {
    "duration": 147,
    "start_time": "2024-04-11T12:17:30.072Z"
   },
   {
    "duration": 8,
    "start_time": "2024-04-11T12:17:35.089Z"
   },
   {
    "duration": 20,
    "start_time": "2024-04-11T12:17:37.371Z"
   },
   {
    "duration": 20,
    "start_time": "2024-04-11T12:18:02.166Z"
   },
   {
    "duration": 283,
    "start_time": "2024-04-11T12:18:55.516Z"
   },
   {
    "duration": 12,
    "start_time": "2024-04-11T12:22:31.053Z"
   },
   {
    "duration": 2,
    "start_time": "2024-04-11T12:23:05.173Z"
   },
   {
    "duration": 91,
    "start_time": "2024-04-11T12:23:06.813Z"
   },
   {
    "duration": 23,
    "start_time": "2024-04-11T12:23:07.976Z"
   },
   {
    "duration": 13,
    "start_time": "2024-04-11T12:23:11.159Z"
   },
   {
    "duration": 1826,
    "start_time": "2024-04-11T12:23:12.991Z"
   },
   {
    "duration": 1885,
    "start_time": "2024-04-11T12:23:32.888Z"
   },
   {
    "duration": 11,
    "start_time": "2024-04-11T12:23:38.213Z"
   },
   {
    "duration": 4,
    "start_time": "2024-04-11T12:23:41.779Z"
   },
   {
    "duration": 6,
    "start_time": "2024-04-11T12:23:45.178Z"
   },
   {
    "duration": 16,
    "start_time": "2024-04-11T12:23:47.300Z"
   },
   {
    "duration": 12,
    "start_time": "2024-04-11T12:23:51.882Z"
   },
   {
    "duration": 5,
    "start_time": "2024-04-11T12:24:01.270Z"
   },
   {
    "duration": 8,
    "start_time": "2024-04-11T12:25:36.685Z"
   },
   {
    "duration": 32,
    "start_time": "2024-04-11T12:25:39.609Z"
   },
   {
    "duration": 9,
    "start_time": "2024-04-11T12:25:52.328Z"
   },
   {
    "duration": 243,
    "start_time": "2024-04-11T12:25:54.547Z"
   },
   {
    "duration": 8,
    "start_time": "2024-04-11T12:25:55.986Z"
   },
   {
    "duration": 23,
    "start_time": "2024-04-11T12:27:18.949Z"
   },
   {
    "duration": 4,
    "start_time": "2024-04-11T12:27:21.027Z"
   },
   {
    "duration": 13,
    "start_time": "2024-04-11T12:27:23.245Z"
   },
   {
    "duration": 14,
    "start_time": "2024-04-11T12:27:25.520Z"
   },
   {
    "duration": 273,
    "start_time": "2024-04-11T12:27:27.207Z"
   },
   {
    "duration": 25,
    "start_time": "2024-04-11T12:27:29.192Z"
   },
   {
    "duration": 11,
    "start_time": "2024-04-11T12:27:40.708Z"
   },
   {
    "duration": 185,
    "start_time": "2024-04-11T12:27:49.126Z"
   },
   {
    "duration": 175,
    "start_time": "2024-04-11T12:27:54.268Z"
   },
   {
    "duration": 148,
    "start_time": "2024-04-11T12:28:10.880Z"
   },
   {
    "duration": 47,
    "start_time": "2024-04-11T12:29:13.117Z"
   },
   {
    "duration": 640,
    "start_time": "2024-04-11T12:31:17.502Z"
   },
   {
    "duration": 97,
    "start_time": "2024-04-11T12:31:19.007Z"
   },
   {
    "duration": 28,
    "start_time": "2024-04-11T12:31:20.407Z"
   },
   {
    "duration": 16,
    "start_time": "2024-04-11T12:31:22.384Z"
   },
   {
    "duration": 1895,
    "start_time": "2024-04-11T12:31:25.844Z"
   },
   {
    "duration": 13,
    "start_time": "2024-04-11T12:31:32.662Z"
   },
   {
    "duration": 3,
    "start_time": "2024-04-11T12:31:43.094Z"
   },
   {
    "duration": 6,
    "start_time": "2024-04-11T12:31:44.753Z"
   },
   {
    "duration": 14,
    "start_time": "2024-04-11T12:31:47.282Z"
   },
   {
    "duration": 8,
    "start_time": "2024-04-11T12:31:51.523Z"
   },
   {
    "duration": 5,
    "start_time": "2024-04-11T12:31:54.428Z"
   },
   {
    "duration": 8,
    "start_time": "2024-04-11T12:31:57.153Z"
   },
   {
    "duration": 47,
    "start_time": "2024-04-11T12:31:59.007Z"
   },
   {
    "duration": 8,
    "start_time": "2024-04-11T12:32:04.087Z"
   },
   {
    "duration": 253,
    "start_time": "2024-04-11T12:32:06.210Z"
   },
   {
    "duration": 8,
    "start_time": "2024-04-11T12:32:07.795Z"
   },
   {
    "duration": 23,
    "start_time": "2024-04-11T12:32:12.260Z"
   },
   {
    "duration": 6,
    "start_time": "2024-04-11T12:32:22.492Z"
   },
   {
    "duration": 12,
    "start_time": "2024-04-11T12:32:24.169Z"
   },
   {
    "duration": 293,
    "start_time": "2024-04-11T12:32:26.380Z"
   },
   {
    "duration": 26,
    "start_time": "2024-04-11T12:32:28.368Z"
   },
   {
    "duration": 174,
    "start_time": "2024-04-11T12:32:30.467Z"
   },
   {
    "duration": 160,
    "start_time": "2024-04-11T12:32:46.335Z"
   },
   {
    "duration": 147,
    "start_time": "2024-04-11T12:32:53.681Z"
   },
   {
    "duration": 249,
    "start_time": "2024-04-11T12:33:07.160Z"
   },
   {
    "duration": 145,
    "start_time": "2024-04-11T12:33:10.423Z"
   },
   {
    "duration": 146,
    "start_time": "2024-04-11T12:33:32.508Z"
   },
   {
    "duration": 147,
    "start_time": "2024-04-11T12:34:09.813Z"
   },
   {
    "duration": 181,
    "start_time": "2024-04-11T12:34:14.606Z"
   },
   {
    "duration": 169,
    "start_time": "2024-04-11T12:34:20.050Z"
   },
   {
    "duration": 162,
    "start_time": "2024-04-11T12:34:45.518Z"
   },
   {
    "duration": 171,
    "start_time": "2024-04-11T12:34:58.327Z"
   },
   {
    "duration": 150,
    "start_time": "2024-04-11T12:35:09.558Z"
   },
   {
    "duration": 160,
    "start_time": "2024-04-11T12:35:14.731Z"
   },
   {
    "duration": 168,
    "start_time": "2024-04-11T12:35:45.996Z"
   },
   {
    "duration": 220,
    "start_time": "2024-04-11T12:35:53.854Z"
   },
   {
    "duration": 171,
    "start_time": "2024-04-11T12:36:24.210Z"
   },
   {
    "duration": 134,
    "start_time": "2024-04-11T12:36:33.210Z"
   },
   {
    "duration": 161,
    "start_time": "2024-04-11T12:36:52.488Z"
   },
   {
    "duration": 156,
    "start_time": "2024-04-11T12:37:15.340Z"
   },
   {
    "duration": 155,
    "start_time": "2024-04-11T12:37:33.239Z"
   },
   {
    "duration": 181,
    "start_time": "2024-04-11T12:37:58.546Z"
   },
   {
    "duration": 164,
    "start_time": "2024-04-11T12:38:20.956Z"
   },
   {
    "duration": 188,
    "start_time": "2024-04-11T12:38:27.332Z"
   },
   {
    "duration": 167,
    "start_time": "2024-04-11T12:38:34.102Z"
   },
   {
    "duration": 9,
    "start_time": "2024-04-11T12:38:50.596Z"
   },
   {
    "duration": 166,
    "start_time": "2024-04-11T12:40:00.387Z"
   },
   {
    "duration": 239,
    "start_time": "2024-04-11T12:40:15.034Z"
   },
   {
    "duration": 163,
    "start_time": "2024-04-11T12:40:22.536Z"
   },
   {
    "duration": 162,
    "start_time": "2024-04-11T12:40:25.939Z"
   },
   {
    "duration": 127,
    "start_time": "2024-04-11T12:40:33.344Z"
   },
   {
    "duration": 145,
    "start_time": "2024-04-11T12:40:36.476Z"
   },
   {
    "duration": 169,
    "start_time": "2024-04-11T12:40:38.152Z"
   },
   {
    "duration": 151,
    "start_time": "2024-04-11T12:40:41.062Z"
   },
   {
    "duration": 8,
    "start_time": "2024-04-11T12:40:46.047Z"
   },
   {
    "duration": 21,
    "start_time": "2024-04-11T12:40:47.792Z"
   },
   {
    "duration": 20,
    "start_time": "2024-04-11T12:40:59.560Z"
   },
   {
    "duration": 252,
    "start_time": "2024-04-11T12:41:28.774Z"
   },
   {
    "duration": 624,
    "start_time": "2024-04-11T12:43:54.740Z"
   },
   {
    "duration": 96,
    "start_time": "2024-04-11T12:43:55.366Z"
   },
   {
    "duration": 29,
    "start_time": "2024-04-11T12:43:55.464Z"
   },
   {
    "duration": 31,
    "start_time": "2024-04-11T12:43:55.495Z"
   },
   {
    "duration": 1887,
    "start_time": "2024-04-11T12:43:55.528Z"
   },
   {
    "duration": 11,
    "start_time": "2024-04-11T12:43:57.417Z"
   },
   {
    "duration": 4,
    "start_time": "2024-04-11T12:43:57.430Z"
   },
   {
    "duration": 8,
    "start_time": "2024-04-11T12:43:57.436Z"
   },
   {
    "duration": 15,
    "start_time": "2024-04-11T12:43:57.446Z"
   },
   {
    "duration": 9,
    "start_time": "2024-04-11T12:43:57.465Z"
   },
   {
    "duration": 43,
    "start_time": "2024-04-11T12:43:57.476Z"
   },
   {
    "duration": 9,
    "start_time": "2024-04-11T12:43:57.521Z"
   },
   {
    "duration": 33,
    "start_time": "2024-04-11T12:43:57.531Z"
   },
   {
    "duration": 9,
    "start_time": "2024-04-11T12:43:57.566Z"
   },
   {
    "duration": 291,
    "start_time": "2024-04-11T12:43:57.576Z"
   },
   {
    "duration": 9,
    "start_time": "2024-04-11T12:43:57.869Z"
   },
   {
    "duration": 48,
    "start_time": "2024-04-11T12:43:57.879Z"
   },
   {
    "duration": 6,
    "start_time": "2024-04-11T12:43:57.929Z"
   },
   {
    "duration": 14,
    "start_time": "2024-04-11T12:43:57.937Z"
   },
   {
    "duration": 300,
    "start_time": "2024-04-11T12:43:57.953Z"
   },
   {
    "duration": 24,
    "start_time": "2024-04-11T12:43:58.255Z"
   },
   {
    "duration": 184,
    "start_time": "2024-04-11T12:43:58.281Z"
   },
   {
    "duration": 182,
    "start_time": "2024-04-11T12:43:58.466Z"
   },
   {
    "duration": 177,
    "start_time": "2024-04-11T12:43:58.650Z"
   },
   {
    "duration": 279,
    "start_time": "2024-04-11T12:43:58.829Z"
   },
   {
    "duration": 151,
    "start_time": "2024-04-11T12:43:59.110Z"
   },
   {
    "duration": 218,
    "start_time": "2024-04-11T12:43:59.262Z"
   },
   {
    "duration": 137,
    "start_time": "2024-04-11T12:43:59.483Z"
   },
   {
    "duration": 191,
    "start_time": "2024-04-11T12:43:59.622Z"
   },
   {
    "duration": 171,
    "start_time": "2024-04-11T12:43:59.818Z"
   },
   {
    "duration": 186,
    "start_time": "2024-04-11T12:43:59.990Z"
   },
   {
    "duration": 94,
    "start_time": "2024-04-11T12:44:00.178Z"
   },
   {
    "duration": 8,
    "start_time": "2024-04-11T12:44:00.274Z"
   },
   {
    "duration": 210,
    "start_time": "2024-04-11T12:44:00.284Z"
   },
   {
    "duration": 197,
    "start_time": "2024-04-11T12:44:00.496Z"
   },
   {
    "duration": 179,
    "start_time": "2024-04-11T12:44:00.695Z"
   },
   {
    "duration": 217,
    "start_time": "2024-04-11T12:44:00.876Z"
   },
   {
    "duration": 199,
    "start_time": "2024-04-11T12:44:01.094Z"
   },
   {
    "duration": 149,
    "start_time": "2024-04-11T12:44:01.295Z"
   },
   {
    "duration": 182,
    "start_time": "2024-04-11T12:44:01.445Z"
   },
   {
    "duration": 175,
    "start_time": "2024-04-11T12:44:01.630Z"
   },
   {
    "duration": 13,
    "start_time": "2024-04-11T12:44:01.806Z"
   },
   {
    "duration": 110,
    "start_time": "2024-04-11T12:44:01.820Z"
   },
   {
    "duration": 307,
    "start_time": "2024-04-11T12:44:01.931Z"
   },
   {
    "duration": 166,
    "start_time": "2024-04-11T12:45:21.979Z"
   },
   {
    "duration": 150,
    "start_time": "2024-04-11T12:45:28.798Z"
   },
   {
    "duration": 208,
    "start_time": "2024-04-11T12:47:04.515Z"
   },
   {
    "duration": 122,
    "start_time": "2024-04-11T12:47:30.825Z"
   },
   {
    "duration": 204,
    "start_time": "2024-04-11T12:47:50.765Z"
   },
   {
    "duration": 62,
    "start_time": "2024-04-11T12:49:15.363Z"
   },
   {
    "duration": 189,
    "start_time": "2024-04-11T12:50:32.693Z"
   },
   {
    "duration": 225,
    "start_time": "2024-04-11T12:50:41.283Z"
   },
   {
    "duration": 206,
    "start_time": "2024-04-11T12:50:43.128Z"
   },
   {
    "duration": 160,
    "start_time": "2024-04-11T12:51:11.957Z"
   },
   {
    "duration": 141,
    "start_time": "2024-04-11T12:51:13.932Z"
   },
   {
    "duration": 181,
    "start_time": "2024-04-11T12:51:15.395Z"
   },
   {
    "duration": 153,
    "start_time": "2024-04-11T12:51:16.847Z"
   },
   {
    "duration": 7,
    "start_time": "2024-04-11T12:51:18.962Z"
   },
   {
    "duration": 19,
    "start_time": "2024-04-11T12:51:20.108Z"
   },
   {
    "duration": 259,
    "start_time": "2024-04-11T12:51:21.337Z"
   },
   {
    "duration": 46,
    "start_time": "2024-06-29T09:08:27.854Z"
   },
   {
    "duration": 606,
    "start_time": "2024-06-29T09:08:34.435Z"
   },
   {
    "duration": 223,
    "start_time": "2024-06-29T09:08:35.043Z"
   },
   {
    "duration": 26,
    "start_time": "2024-06-29T09:08:35.268Z"
   },
   {
    "duration": 13,
    "start_time": "2024-06-29T09:08:35.296Z"
   },
   {
    "duration": 1813,
    "start_time": "2024-06-29T09:08:35.311Z"
   },
   {
    "duration": 9,
    "start_time": "2024-06-29T09:08:37.125Z"
   },
   {
    "duration": 3,
    "start_time": "2024-06-29T09:08:37.136Z"
   },
   {
    "duration": 13,
    "start_time": "2024-06-29T09:08:37.141Z"
   },
   {
    "duration": 15,
    "start_time": "2024-06-29T09:08:37.155Z"
   },
   {
    "duration": 8,
    "start_time": "2024-06-29T09:08:37.174Z"
   },
   {
    "duration": 4,
    "start_time": "2024-06-29T09:08:37.184Z"
   },
   {
    "duration": 10,
    "start_time": "2024-06-29T09:08:37.190Z"
   },
   {
    "duration": 32,
    "start_time": "2024-06-29T09:08:37.201Z"
   },
   {
    "duration": 8,
    "start_time": "2024-06-29T09:08:37.234Z"
   },
   {
    "duration": 244,
    "start_time": "2024-06-29T09:08:37.243Z"
   },
   {
    "duration": 8,
    "start_time": "2024-06-29T09:08:37.488Z"
   },
   {
    "duration": 26,
    "start_time": "2024-06-29T09:08:37.497Z"
   },
   {
    "duration": 4,
    "start_time": "2024-06-29T09:08:37.525Z"
   },
   {
    "duration": 35,
    "start_time": "2024-06-29T09:08:37.530Z"
   },
   {
    "duration": 301,
    "start_time": "2024-06-29T09:08:37.567Z"
   },
   {
    "duration": 22,
    "start_time": "2024-06-29T09:08:37.870Z"
   },
   {
    "duration": 172,
    "start_time": "2024-06-29T09:08:37.894Z"
   },
   {
    "duration": 151,
    "start_time": "2024-06-29T09:08:38.068Z"
   },
   {
    "duration": 152,
    "start_time": "2024-06-29T09:08:38.220Z"
   },
   {
    "duration": 233,
    "start_time": "2024-06-29T09:08:38.374Z"
   },
   {
    "duration": 151,
    "start_time": "2024-06-29T09:08:38.608Z"
   },
   {
    "duration": 173,
    "start_time": "2024-06-29T09:08:38.765Z"
   },
   {
    "duration": 132,
    "start_time": "2024-06-29T09:08:38.942Z"
   },
   {
    "duration": 173,
    "start_time": "2024-06-29T09:08:39.076Z"
   },
   {
    "duration": 163,
    "start_time": "2024-06-29T09:08:39.251Z"
   },
   {
    "duration": 165,
    "start_time": "2024-06-29T09:08:39.415Z"
   },
   {
    "duration": 88,
    "start_time": "2024-06-29T09:08:39.582Z"
   },
   {
    "duration": 8,
    "start_time": "2024-06-29T09:08:39.671Z"
   },
   {
    "duration": 180,
    "start_time": "2024-06-29T09:08:39.681Z"
   },
   {
    "duration": 184,
    "start_time": "2024-06-29T09:08:39.865Z"
   },
   {
    "duration": 168,
    "start_time": "2024-06-29T09:08:40.050Z"
   },
   {
    "duration": 8,
    "start_time": "2024-06-29T09:08:40.220Z"
   },
   {
    "duration": 149,
    "start_time": "2024-06-29T09:08:40.229Z"
   },
   {
    "duration": 208,
    "start_time": "2024-06-29T09:08:40.380Z"
   },
   {
    "duration": 166,
    "start_time": "2024-06-29T09:08:40.589Z"
   },
   {
    "duration": 154,
    "start_time": "2024-06-29T09:08:40.757Z"
   },
   {
    "duration": 8,
    "start_time": "2024-06-29T09:08:40.913Z"
   },
   {
    "duration": 20,
    "start_time": "2024-06-29T09:08:40.923Z"
   },
   {
    "duration": 224,
    "start_time": "2024-06-29T09:08:40.965Z"
   },
   {
    "duration": 189,
    "start_time": "2024-06-29T09:09:40.751Z"
   },
   {
    "duration": 937,
    "start_time": "2024-08-11T10:16:51.118Z"
   },
   {
    "duration": 176,
    "start_time": "2024-08-11T10:16:52.058Z"
   },
   {
    "duration": 31,
    "start_time": "2024-08-11T10:16:52.237Z"
   },
   {
    "duration": 18,
    "start_time": "2024-08-11T10:16:52.270Z"
   },
   {
    "duration": 2379,
    "start_time": "2024-08-11T10:16:52.290Z"
   },
   {
    "duration": 13,
    "start_time": "2024-08-11T10:16:54.672Z"
   },
   {
    "duration": 9,
    "start_time": "2024-08-11T10:16:54.687Z"
   },
   {
    "duration": 16,
    "start_time": "2024-08-11T10:16:54.699Z"
   },
   {
    "duration": 30,
    "start_time": "2024-08-11T10:16:54.717Z"
   },
   {
    "duration": 12,
    "start_time": "2024-08-11T10:16:54.751Z"
   },
   {
    "duration": 7,
    "start_time": "2024-08-11T10:16:54.765Z"
   },
   {
    "duration": 46,
    "start_time": "2024-08-11T10:16:54.775Z"
   },
   {
    "duration": 84,
    "start_time": "2024-08-11T10:16:54.825Z"
   },
   {
    "duration": 11,
    "start_time": "2024-08-11T10:16:54.912Z"
   },
   {
    "duration": 389,
    "start_time": "2024-08-11T10:16:54.927Z"
   },
   {
    "duration": 15,
    "start_time": "2024-08-11T10:16:55.318Z"
   },
   {
    "duration": 37,
    "start_time": "2024-08-11T10:16:55.335Z"
   },
   {
    "duration": 7,
    "start_time": "2024-08-11T10:16:55.374Z"
   },
   {
    "duration": 34,
    "start_time": "2024-08-11T10:16:55.384Z"
   },
   {
    "duration": 439,
    "start_time": "2024-08-11T10:16:55.420Z"
   },
   {
    "duration": 27,
    "start_time": "2024-08-11T10:16:55.861Z"
   },
   {
    "duration": 249,
    "start_time": "2024-08-11T10:16:55.890Z"
   },
   {
    "duration": 225,
    "start_time": "2024-08-11T10:16:56.140Z"
   },
   {
    "duration": 226,
    "start_time": "2024-08-11T10:16:56.368Z"
   },
   {
    "duration": 346,
    "start_time": "2024-08-11T10:16:56.604Z"
   },
   {
    "duration": 216,
    "start_time": "2024-08-11T10:16:56.953Z"
   },
   {
    "duration": 214,
    "start_time": "2024-08-11T10:16:57.171Z"
   },
   {
    "duration": 166,
    "start_time": "2024-08-11T10:16:57.391Z"
   },
   {
    "duration": 210,
    "start_time": "2024-08-11T10:16:57.559Z"
   },
   {
    "duration": 216,
    "start_time": "2024-08-11T10:16:57.771Z"
   },
   {
    "duration": 238,
    "start_time": "2024-08-11T10:16:57.989Z"
   },
   {
    "duration": 127,
    "start_time": "2024-08-11T10:16:58.230Z"
   },
   {
    "duration": 11,
    "start_time": "2024-08-11T10:16:58.359Z"
   },
   {
    "duration": 251,
    "start_time": "2024-08-11T10:16:58.372Z"
   },
   {
    "duration": 321,
    "start_time": "2024-08-11T10:16:58.625Z"
   },
   {
    "duration": 241,
    "start_time": "2024-08-11T10:16:58.949Z"
   },
   {
    "duration": 277,
    "start_time": "2024-08-11T10:16:59.193Z"
   },
   {
    "duration": 246,
    "start_time": "2024-08-11T10:16:59.472Z"
   },
   {
    "duration": 186,
    "start_time": "2024-08-11T10:16:59.720Z"
   },
   {
    "duration": 221,
    "start_time": "2024-08-11T10:16:59.909Z"
   },
   {
    "duration": 201,
    "start_time": "2024-08-11T10:17:00.132Z"
   },
   {
    "duration": 9,
    "start_time": "2024-08-11T10:17:00.335Z"
   },
   {
    "duration": 109,
    "start_time": "2024-08-11T10:17:00.346Z"
   },
   {
    "duration": 395,
    "start_time": "2024-08-11T10:17:00.458Z"
   }
  ],
  "colab": {
   "provenance": []
  },
  "kernelspec": {
   "display_name": "Python 3 (ipykernel)",
   "language": "python",
   "name": "python3"
  },
  "language_info": {
   "codemirror_mode": {
    "name": "ipython",
    "version": 3
   },
   "file_extension": ".py",
   "mimetype": "text/x-python",
   "name": "python",
   "nbconvert_exporter": "python",
   "pygments_lexer": "ipython3",
   "version": "3.9.5"
  },
  "toc": {
   "base_numbering": 1,
   "nav_menu": {},
   "number_sections": true,
   "sideBar": true,
   "skip_h1_title": true,
   "title_cell": "Table of Contents",
   "title_sidebar": "Contents",
   "toc_cell": false,
   "toc_position": {
    "height": "calc(100% - 180px)",
    "left": "10px",
    "top": "150px",
    "width": "384px"
   },
   "toc_section_display": true,
   "toc_window_display": true
  }
 },
 "nbformat": 4,
 "nbformat_minor": 1
}
