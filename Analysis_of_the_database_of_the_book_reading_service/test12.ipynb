{
 "cells": [
  {
   "cell_type": "markdown",
   "metadata": {},
   "source": [
    "# Проект по SQL\n",
    "# Анализ базы данных сервиса для чтения книг"
   ]
  },
  {
   "cell_type": "markdown",
   "metadata": {},
   "source": [
    "**Цели исследования:**\n",
    "\n",
    "Сформировать ценностное предложения для нового продукта, для этого необходимо:\n",
    "* Посчитать количество книг, выпущенных в 21 веке, количество обзоров на них и среднюю оценку;\n",
    "* Определить самое выпускающее издательство;\n",
    "* Определить лучшего автора на основании средней оценки его книг;\n",
    "* Посчитать сколько обзоров в среднем оставляют самые активные пользователи.\n"
   ]
  },
  {
   "cell_type": "markdown",
   "metadata": {},
   "source": [
    "**Задачи:**\n",
    "1. Посчитать, сколько книг вышло после 1 января 2000 года;\n",
    "2. Для каждой книги посчитать количество обзоров и среднюю оценку;\n",
    "3. Определить издательство, которое выпустило наибольшее число книг толще 50 страниц;\n",
    "4. Определить автора с самой высокой средней оценкой книг — учитывать только книги с 50 и более оценками;\n",
    "5. Посчитайть среднее количество обзоров от пользователей, которые поставили больше 48 оценок."
   ]
  },
  {
   "cell_type": "markdown",
   "metadata": {},
   "source": [
    "**Описание данных:**\n",
    "\n",
    "Таблица `books`. Содержит данные о книгах:\n",
    "* `book_id` — идентификатор книги;\n",
    "* `author_id` — идентификатор автора;\n",
    "* `title` — название книги;\n",
    "* `num_pages` — количество страниц;\n",
    "* `publication_date` — дата публикации книги;\n",
    "* `publisher_id` — идентификатор издателя.\n",
    "\n",
    "Таблица `authors`. Содержит данные об авторах:\n",
    "* `author_id` — идентификатор автора;\n",
    "* `author` — имя автора.\n",
    "\n",
    "Таблица `publishers`. Содержит данные об издательствах:\n",
    "* `publisher_id` — идентификатор издательства;\n",
    "* `publisher` — название издательства;\n",
    "\n",
    "Таблица `ratings`. Содержит данные о пользовательских оценках книг:\n",
    "* `rating_id` — идентификатор оценки;\n",
    "* `book_id` — идентификатор книги;\n",
    "* `username` — имя пользователя, оставившего оценку;\n",
    "* `rating` — оценка книги.\n",
    "\n",
    "Таблица `reviews`. Содержит данные о пользовательских обзорах:\n",
    "* `review_id` — идентификатор обзора;\n",
    "* `book_id` — идентификатор книги;\n",
    "* `username` — имя автора обзора;\n",
    "* `text` — текст обзора."
   ]
  },
  {
   "cell_type": "markdown",
   "metadata": {},
   "source": [
    "## Загрузка модулей и данных"
   ]
  },
  {
   "cell_type": "code",
   "execution_count": 1,
   "metadata": {},
   "outputs": [],
   "source": [
    "# импортируем библиотеки\n",
    "import pandas as pd\n",
    "from sqlalchemy import text, create_engine"
   ]
  },
  {
   "cell_type": "code",
   "execution_count": 2,
   "metadata": {},
   "outputs": [],
   "source": [
    "# устанавливаем параметры\n",
    "db_config = {'user': '***', # имя пользователя\n",
    "'pwd': '***', # пароль\n",
    "'host': '***',\n",
    "'port': 6432, # порт подключения\n",
    "'db': '***'} # название базы данных\n",
    "connection_string = 'postgresql://{user}:{pwd}@{host}:{port}/{db}'.format(**db_config)\n",
    "# сохраняем коннектор\n",
    "engine = create_engine(connection_string, connect_args={'sslmode':'require'})"
   ]
  },
  {
   "cell_type": "code",
   "execution_count": 3,
   "metadata": {},
   "outputs": [
    {
     "data": {
      "text/html": [
       "<div>\n",
       "<style scoped>\n",
       "    .dataframe tbody tr th:only-of-type {\n",
       "        vertical-align: middle;\n",
       "    }\n",
       "\n",
       "    .dataframe tbody tr th {\n",
       "        vertical-align: top;\n",
       "    }\n",
       "\n",
       "    .dataframe thead th {\n",
       "        text-align: right;\n",
       "    }\n",
       "</style>\n",
       "<table border=\"1\" class=\"dataframe\">\n",
       "  <thead>\n",
       "    <tr style=\"text-align: right;\">\n",
       "      <th></th>\n",
       "      <th>book_id</th>\n",
       "      <th>author_id</th>\n",
       "      <th>title</th>\n",
       "      <th>num_pages</th>\n",
       "      <th>publication_date</th>\n",
       "      <th>publisher_id</th>\n",
       "    </tr>\n",
       "  </thead>\n",
       "  <tbody>\n",
       "    <tr>\n",
       "      <th>0</th>\n",
       "      <td>1</td>\n",
       "      <td>546</td>\n",
       "      <td>'Salem's Lot</td>\n",
       "      <td>594</td>\n",
       "      <td>2005-11-01</td>\n",
       "      <td>93</td>\n",
       "    </tr>\n",
       "    <tr>\n",
       "      <th>1</th>\n",
       "      <td>2</td>\n",
       "      <td>465</td>\n",
       "      <td>1 000 Places to See Before You Die</td>\n",
       "      <td>992</td>\n",
       "      <td>2003-05-22</td>\n",
       "      <td>336</td>\n",
       "    </tr>\n",
       "    <tr>\n",
       "      <th>2</th>\n",
       "      <td>3</td>\n",
       "      <td>407</td>\n",
       "      <td>13 Little Blue Envelopes (Little Blue Envelope...</td>\n",
       "      <td>322</td>\n",
       "      <td>2010-12-21</td>\n",
       "      <td>135</td>\n",
       "    </tr>\n",
       "    <tr>\n",
       "      <th>3</th>\n",
       "      <td>4</td>\n",
       "      <td>82</td>\n",
       "      <td>1491: New Revelations of the Americas Before C...</td>\n",
       "      <td>541</td>\n",
       "      <td>2006-10-10</td>\n",
       "      <td>309</td>\n",
       "    </tr>\n",
       "    <tr>\n",
       "      <th>4</th>\n",
       "      <td>5</td>\n",
       "      <td>125</td>\n",
       "      <td>1776</td>\n",
       "      <td>386</td>\n",
       "      <td>2006-07-04</td>\n",
       "      <td>268</td>\n",
       "    </tr>\n",
       "  </tbody>\n",
       "</table>\n",
       "</div>"
      ],
      "text/plain": [
       "   book_id  author_id                                              title  \\\n",
       "0        1        546                                       'Salem's Lot   \n",
       "1        2        465                 1 000 Places to See Before You Die   \n",
       "2        3        407  13 Little Blue Envelopes (Little Blue Envelope...   \n",
       "3        4         82  1491: New Revelations of the Americas Before C...   \n",
       "4        5        125                                               1776   \n",
       "\n",
       "   num_pages publication_date  publisher_id  \n",
       "0        594       2005-11-01            93  \n",
       "1        992       2003-05-22           336  \n",
       "2        322       2010-12-21           135  \n",
       "3        541       2006-10-10           309  \n",
       "4        386       2006-07-04           268  "
      ]
     },
     "execution_count": 3,
     "metadata": {},
     "output_type": "execute_result"
    }
   ],
   "source": [
    "# Вывод первых пяти строк таблицы books\n",
    "query = '''SELECT * FROM books LIMIT 5'''\n",
    "con=engine.connect()\n",
    "pd.io.sql.read_sql(sql=text(query), con = con)"
   ]
  },
  {
   "cell_type": "code",
   "execution_count": 4,
   "metadata": {},
   "outputs": [
    {
     "data": {
      "text/html": [
       "<div>\n",
       "<style scoped>\n",
       "    .dataframe tbody tr th:only-of-type {\n",
       "        vertical-align: middle;\n",
       "    }\n",
       "\n",
       "    .dataframe tbody tr th {\n",
       "        vertical-align: top;\n",
       "    }\n",
       "\n",
       "    .dataframe thead th {\n",
       "        text-align: right;\n",
       "    }\n",
       "</style>\n",
       "<table border=\"1\" class=\"dataframe\">\n",
       "  <thead>\n",
       "    <tr style=\"text-align: right;\">\n",
       "      <th></th>\n",
       "      <th>review_id</th>\n",
       "      <th>book_id</th>\n",
       "      <th>username</th>\n",
       "      <th>text</th>\n",
       "    </tr>\n",
       "  </thead>\n",
       "  <tbody>\n",
       "    <tr>\n",
       "      <th>0</th>\n",
       "      <td>1</td>\n",
       "      <td>1</td>\n",
       "      <td>brandtandrea</td>\n",
       "      <td>Mention society tell send professor analysis. ...</td>\n",
       "    </tr>\n",
       "    <tr>\n",
       "      <th>1</th>\n",
       "      <td>2</td>\n",
       "      <td>1</td>\n",
       "      <td>ryanfranco</td>\n",
       "      <td>Foot glass pretty audience hit themselves. Amo...</td>\n",
       "    </tr>\n",
       "    <tr>\n",
       "      <th>2</th>\n",
       "      <td>3</td>\n",
       "      <td>2</td>\n",
       "      <td>lorichen</td>\n",
       "      <td>Listen treat keep worry. Miss husband tax but ...</td>\n",
       "    </tr>\n",
       "    <tr>\n",
       "      <th>3</th>\n",
       "      <td>4</td>\n",
       "      <td>3</td>\n",
       "      <td>johnsonamanda</td>\n",
       "      <td>Finally month interesting blue could nature cu...</td>\n",
       "    </tr>\n",
       "    <tr>\n",
       "      <th>4</th>\n",
       "      <td>5</td>\n",
       "      <td>3</td>\n",
       "      <td>scotttamara</td>\n",
       "      <td>Nation purpose heavy give wait song will. List...</td>\n",
       "    </tr>\n",
       "  </tbody>\n",
       "</table>\n",
       "</div>"
      ],
      "text/plain": [
       "   review_id  book_id       username  \\\n",
       "0          1        1   brandtandrea   \n",
       "1          2        1     ryanfranco   \n",
       "2          3        2       lorichen   \n",
       "3          4        3  johnsonamanda   \n",
       "4          5        3    scotttamara   \n",
       "\n",
       "                                                text  \n",
       "0  Mention society tell send professor analysis. ...  \n",
       "1  Foot glass pretty audience hit themselves. Amo...  \n",
       "2  Listen treat keep worry. Miss husband tax but ...  \n",
       "3  Finally month interesting blue could nature cu...  \n",
       "4  Nation purpose heavy give wait song will. List...  "
      ]
     },
     "execution_count": 4,
     "metadata": {},
     "output_type": "execute_result"
    }
   ],
   "source": [
    "# Вывод первых пяти строк таблицы reviews\n",
    "query = '''SELECT * FROM reviews LIMIT 5'''\n",
    "con=engine.connect()\n",
    "pd.io.sql.read_sql(sql=text(query), con = con)"
   ]
  },
  {
   "cell_type": "code",
   "execution_count": 5,
   "metadata": {},
   "outputs": [
    {
     "data": {
      "text/html": [
       "<div>\n",
       "<style scoped>\n",
       "    .dataframe tbody tr th:only-of-type {\n",
       "        vertical-align: middle;\n",
       "    }\n",
       "\n",
       "    .dataframe tbody tr th {\n",
       "        vertical-align: top;\n",
       "    }\n",
       "\n",
       "    .dataframe thead th {\n",
       "        text-align: right;\n",
       "    }\n",
       "</style>\n",
       "<table border=\"1\" class=\"dataframe\">\n",
       "  <thead>\n",
       "    <tr style=\"text-align: right;\">\n",
       "      <th></th>\n",
       "      <th>rating_id</th>\n",
       "      <th>book_id</th>\n",
       "      <th>username</th>\n",
       "      <th>rating</th>\n",
       "    </tr>\n",
       "  </thead>\n",
       "  <tbody>\n",
       "    <tr>\n",
       "      <th>0</th>\n",
       "      <td>1</td>\n",
       "      <td>1</td>\n",
       "      <td>ryanfranco</td>\n",
       "      <td>4</td>\n",
       "    </tr>\n",
       "    <tr>\n",
       "      <th>1</th>\n",
       "      <td>2</td>\n",
       "      <td>1</td>\n",
       "      <td>grantpatricia</td>\n",
       "      <td>2</td>\n",
       "    </tr>\n",
       "    <tr>\n",
       "      <th>2</th>\n",
       "      <td>3</td>\n",
       "      <td>1</td>\n",
       "      <td>brandtandrea</td>\n",
       "      <td>5</td>\n",
       "    </tr>\n",
       "    <tr>\n",
       "      <th>3</th>\n",
       "      <td>4</td>\n",
       "      <td>2</td>\n",
       "      <td>lorichen</td>\n",
       "      <td>3</td>\n",
       "    </tr>\n",
       "    <tr>\n",
       "      <th>4</th>\n",
       "      <td>5</td>\n",
       "      <td>2</td>\n",
       "      <td>mariokeller</td>\n",
       "      <td>2</td>\n",
       "    </tr>\n",
       "  </tbody>\n",
       "</table>\n",
       "</div>"
      ],
      "text/plain": [
       "   rating_id  book_id       username  rating\n",
       "0          1        1     ryanfranco       4\n",
       "1          2        1  grantpatricia       2\n",
       "2          3        1   brandtandrea       5\n",
       "3          4        2       lorichen       3\n",
       "4          5        2    mariokeller       2"
      ]
     },
     "execution_count": 5,
     "metadata": {},
     "output_type": "execute_result"
    }
   ],
   "source": [
    "# Вывод первых пяти строк таблицы ratings\n",
    "query = '''SELECT * FROM ratings LIMIT 5'''\n",
    "con=engine.connect()\n",
    "pd.io.sql.read_sql(sql=text(query), con = con)"
   ]
  },
  {
   "cell_type": "code",
   "execution_count": 6,
   "metadata": {},
   "outputs": [
    {
     "data": {
      "text/html": [
       "<div>\n",
       "<style scoped>\n",
       "    .dataframe tbody tr th:only-of-type {\n",
       "        vertical-align: middle;\n",
       "    }\n",
       "\n",
       "    .dataframe tbody tr th {\n",
       "        vertical-align: top;\n",
       "    }\n",
       "\n",
       "    .dataframe thead th {\n",
       "        text-align: right;\n",
       "    }\n",
       "</style>\n",
       "<table border=\"1\" class=\"dataframe\">\n",
       "  <thead>\n",
       "    <tr style=\"text-align: right;\">\n",
       "      <th></th>\n",
       "      <th>publisher_id</th>\n",
       "      <th>publisher</th>\n",
       "    </tr>\n",
       "  </thead>\n",
       "  <tbody>\n",
       "    <tr>\n",
       "      <th>0</th>\n",
       "      <td>1</td>\n",
       "      <td>Ace</td>\n",
       "    </tr>\n",
       "    <tr>\n",
       "      <th>1</th>\n",
       "      <td>2</td>\n",
       "      <td>Ace Book</td>\n",
       "    </tr>\n",
       "    <tr>\n",
       "      <th>2</th>\n",
       "      <td>3</td>\n",
       "      <td>Ace Books</td>\n",
       "    </tr>\n",
       "    <tr>\n",
       "      <th>3</th>\n",
       "      <td>4</td>\n",
       "      <td>Ace Hardcover</td>\n",
       "    </tr>\n",
       "    <tr>\n",
       "      <th>4</th>\n",
       "      <td>5</td>\n",
       "      <td>Addison Wesley Publishing Company</td>\n",
       "    </tr>\n",
       "  </tbody>\n",
       "</table>\n",
       "</div>"
      ],
      "text/plain": [
       "   publisher_id                          publisher\n",
       "0             1                                Ace\n",
       "1             2                           Ace Book\n",
       "2             3                          Ace Books\n",
       "3             4                      Ace Hardcover\n",
       "4             5  Addison Wesley Publishing Company"
      ]
     },
     "execution_count": 6,
     "metadata": {},
     "output_type": "execute_result"
    }
   ],
   "source": [
    "# Вывод первых пяти строк таблицы publishers\n",
    "query = '''SELECT * FROM publishers LIMIT 5'''\n",
    "con=engine.connect()\n",
    "pd.io.sql.read_sql(sql=text(query), con = con)"
   ]
  },
  {
   "cell_type": "code",
   "execution_count": 7,
   "metadata": {},
   "outputs": [
    {
     "data": {
      "text/html": [
       "<div>\n",
       "<style scoped>\n",
       "    .dataframe tbody tr th:only-of-type {\n",
       "        vertical-align: middle;\n",
       "    }\n",
       "\n",
       "    .dataframe tbody tr th {\n",
       "        vertical-align: top;\n",
       "    }\n",
       "\n",
       "    .dataframe thead th {\n",
       "        text-align: right;\n",
       "    }\n",
       "</style>\n",
       "<table border=\"1\" class=\"dataframe\">\n",
       "  <thead>\n",
       "    <tr style=\"text-align: right;\">\n",
       "      <th></th>\n",
       "      <th>author_id</th>\n",
       "      <th>author</th>\n",
       "    </tr>\n",
       "  </thead>\n",
       "  <tbody>\n",
       "    <tr>\n",
       "      <th>0</th>\n",
       "      <td>1</td>\n",
       "      <td>A.S. Byatt</td>\n",
       "    </tr>\n",
       "    <tr>\n",
       "      <th>1</th>\n",
       "      <td>2</td>\n",
       "      <td>Aesop/Laura Harris/Laura Gibbs</td>\n",
       "    </tr>\n",
       "    <tr>\n",
       "      <th>2</th>\n",
       "      <td>3</td>\n",
       "      <td>Agatha Christie</td>\n",
       "    </tr>\n",
       "    <tr>\n",
       "      <th>3</th>\n",
       "      <td>4</td>\n",
       "      <td>Alan Brennert</td>\n",
       "    </tr>\n",
       "    <tr>\n",
       "      <th>4</th>\n",
       "      <td>5</td>\n",
       "      <td>Alan Moore/David   Lloyd</td>\n",
       "    </tr>\n",
       "  </tbody>\n",
       "</table>\n",
       "</div>"
      ],
      "text/plain": [
       "   author_id                          author\n",
       "0          1                      A.S. Byatt\n",
       "1          2  Aesop/Laura Harris/Laura Gibbs\n",
       "2          3                 Agatha Christie\n",
       "3          4                   Alan Brennert\n",
       "4          5        Alan Moore/David   Lloyd"
      ]
     },
     "execution_count": 7,
     "metadata": {},
     "output_type": "execute_result"
    }
   ],
   "source": [
    "# Вывод первых пяти строк таблицы authors\n",
    "query = '''SELECT * FROM authors LIMIT 5'''\n",
    "con=engine.connect()\n",
    "pd.io.sql.read_sql(sql=text(query), con = con)"
   ]
  },
  {
   "cell_type": "markdown",
   "metadata": {},
   "source": [
    "## Выполнение задач\n",
    "### Книги, выпущенные после 1 января 2020 года"
   ]
  },
  {
   "cell_type": "code",
   "execution_count": 8,
   "metadata": {},
   "outputs": [
    {
     "data": {
      "text/html": [
       "<div>\n",
       "<style scoped>\n",
       "    .dataframe tbody tr th:only-of-type {\n",
       "        vertical-align: middle;\n",
       "    }\n",
       "\n",
       "    .dataframe tbody tr th {\n",
       "        vertical-align: top;\n",
       "    }\n",
       "\n",
       "    .dataframe thead th {\n",
       "        text-align: right;\n",
       "    }\n",
       "</style>\n",
       "<table border=\"1\" class=\"dataframe\">\n",
       "  <thead>\n",
       "    <tr style=\"text-align: right;\">\n",
       "      <th></th>\n",
       "      <th>count</th>\n",
       "    </tr>\n",
       "  </thead>\n",
       "  <tbody>\n",
       "    <tr>\n",
       "      <th>0</th>\n",
       "      <td>819</td>\n",
       "    </tr>\n",
       "  </tbody>\n",
       "</table>\n",
       "</div>"
      ],
      "text/plain": [
       "   count\n",
       "0    819"
      ]
     },
     "execution_count": 8,
     "metadata": {},
     "output_type": "execute_result"
    }
   ],
   "source": [
    "# Количество книг, выпущенных после 1 января 2000 года\n",
    "query = '''SELECT COUNT(book_id)\n",
    "FROM books\n",
    "WHERE publication_date > '2000-01-01';'''\n",
    "con=engine.connect()\n",
    "pd.io.sql.read_sql(sql=text(query), con = con)"
   ]
  },
  {
   "cell_type": "markdown",
   "metadata": {},
   "source": [
    "В базе данных сервиса находится 819 книг, выпущенных после 1 января 2000 года."
   ]
  },
  {
   "cell_type": "markdown",
   "metadata": {},
   "source": [
    "### Исследование книг"
   ]
  },
  {
   "cell_type": "code",
   "execution_count": 9,
   "metadata": {},
   "outputs": [
    {
     "data": {
      "text/html": [
       "<div>\n",
       "<style scoped>\n",
       "    .dataframe tbody tr th:only-of-type {\n",
       "        vertical-align: middle;\n",
       "    }\n",
       "\n",
       "    .dataframe tbody tr th {\n",
       "        vertical-align: top;\n",
       "    }\n",
       "\n",
       "    .dataframe thead th {\n",
       "        text-align: right;\n",
       "    }\n",
       "</style>\n",
       "<table border=\"1\" class=\"dataframe\">\n",
       "  <thead>\n",
       "    <tr style=\"text-align: right;\">\n",
       "      <th></th>\n",
       "      <th>book_id</th>\n",
       "      <th>title</th>\n",
       "      <th>count</th>\n",
       "      <th>avg</th>\n",
       "    </tr>\n",
       "  </thead>\n",
       "  <tbody>\n",
       "    <tr>\n",
       "      <th>0</th>\n",
       "      <td>948</td>\n",
       "      <td>Twilight (Twilight  #1)</td>\n",
       "      <td>7</td>\n",
       "      <td>3.662500</td>\n",
       "    </tr>\n",
       "    <tr>\n",
       "      <th>1</th>\n",
       "      <td>750</td>\n",
       "      <td>The Hobbit  or There and Back Again</td>\n",
       "      <td>6</td>\n",
       "      <td>4.125000</td>\n",
       "    </tr>\n",
       "    <tr>\n",
       "      <th>2</th>\n",
       "      <td>673</td>\n",
       "      <td>The Catcher in the Rye</td>\n",
       "      <td>6</td>\n",
       "      <td>3.825581</td>\n",
       "    </tr>\n",
       "    <tr>\n",
       "      <th>3</th>\n",
       "      <td>302</td>\n",
       "      <td>Harry Potter and the Prisoner of Azkaban (Harr...</td>\n",
       "      <td>6</td>\n",
       "      <td>4.414634</td>\n",
       "    </tr>\n",
       "    <tr>\n",
       "      <th>4</th>\n",
       "      <td>299</td>\n",
       "      <td>Harry Potter and the Chamber of Secrets (Harry...</td>\n",
       "      <td>6</td>\n",
       "      <td>4.287500</td>\n",
       "    </tr>\n",
       "    <tr>\n",
       "      <th>...</th>\n",
       "      <td>...</td>\n",
       "      <td>...</td>\n",
       "      <td>...</td>\n",
       "      <td>...</td>\n",
       "    </tr>\n",
       "    <tr>\n",
       "      <th>995</th>\n",
       "      <td>221</td>\n",
       "      <td>Essential Tales and Poems</td>\n",
       "      <td>0</td>\n",
       "      <td>4.000000</td>\n",
       "    </tr>\n",
       "    <tr>\n",
       "      <th>996</th>\n",
       "      <td>387</td>\n",
       "      <td>Leonardo's Notebooks</td>\n",
       "      <td>0</td>\n",
       "      <td>4.000000</td>\n",
       "    </tr>\n",
       "    <tr>\n",
       "      <th>997</th>\n",
       "      <td>672</td>\n",
       "      <td>The Cat in the Hat and Other Dr. Seuss Favorites</td>\n",
       "      <td>0</td>\n",
       "      <td>5.000000</td>\n",
       "    </tr>\n",
       "    <tr>\n",
       "      <th>998</th>\n",
       "      <td>83</td>\n",
       "      <td>Anne Rice's The Vampire Lestat: A Graphic Novel</td>\n",
       "      <td>0</td>\n",
       "      <td>3.666667</td>\n",
       "    </tr>\n",
       "    <tr>\n",
       "      <th>999</th>\n",
       "      <td>808</td>\n",
       "      <td>The Natural Way to Draw</td>\n",
       "      <td>0</td>\n",
       "      <td>3.000000</td>\n",
       "    </tr>\n",
       "  </tbody>\n",
       "</table>\n",
       "<p>1000 rows × 4 columns</p>\n",
       "</div>"
      ],
      "text/plain": [
       "     book_id                                              title  count  \\\n",
       "0        948                            Twilight (Twilight  #1)      7   \n",
       "1        750                The Hobbit  or There and Back Again      6   \n",
       "2        673                             The Catcher in the Rye      6   \n",
       "3        302  Harry Potter and the Prisoner of Azkaban (Harr...      6   \n",
       "4        299  Harry Potter and the Chamber of Secrets (Harry...      6   \n",
       "..       ...                                                ...    ...   \n",
       "995      221                          Essential Tales and Poems      0   \n",
       "996      387                               Leonardo's Notebooks      0   \n",
       "997      672   The Cat in the Hat and Other Dr. Seuss Favorites      0   \n",
       "998       83    Anne Rice's The Vampire Lestat: A Graphic Novel      0   \n",
       "999      808                            The Natural Way to Draw      0   \n",
       "\n",
       "          avg  \n",
       "0    3.662500  \n",
       "1    4.125000  \n",
       "2    3.825581  \n",
       "3    4.414634  \n",
       "4    4.287500  \n",
       "..        ...  \n",
       "995  4.000000  \n",
       "996  4.000000  \n",
       "997  5.000000  \n",
       "998  3.666667  \n",
       "999  3.000000  \n",
       "\n",
       "[1000 rows x 4 columns]"
      ]
     },
     "execution_count": 9,
     "metadata": {},
     "output_type": "execute_result"
    }
   ],
   "source": [
    "# Количество обзоров и средняя оценка каждой книги\n",
    "query = '''SELECT b.book_id,\n",
    "b.title,\n",
    "COUNT(DISTINCT review_id),\n",
    "AVG(rating)\n",
    "FROM books b\n",
    "LEFT JOIN reviews AS rev ON b.book_id = rev.book_id\n",
    "LEFT JOIN ratings AS rat ON b.book_id = rat.book_id\n",
    "GROUP BY b.book_id\n",
    "ORDER BY COUNT(review_id) DESC;'''\n",
    "con=engine.connect()\n",
    "pd.io.sql.read_sql(sql=text(query), con = con)"
   ]
  },
  {
   "cell_type": "markdown",
   "metadata": {},
   "source": [
    "В результате получилась таблица, в которой: `count` - количество обзоров книги, `avg` - средняя оценка книги.\n",
    "\n",
    "Самой обозревамой книгой стала первая часть Сумерок (Twilight) - 7 обзоров со средней оценкой 3.66. На втором месте книга про Хоббитов (The Hobbit or There and Back Again) с 6 отзывами и оценкой 4.13. Почётное третье место заняла книга \"Над пропастью во ржи\" (The Catcher in the Rye), у которой тоже 6 отзывов со средней оценкой 3.83."
   ]
  },
  {
   "cell_type": "markdown",
   "metadata": {},
   "source": [
    "### Изучение издательств"
   ]
  },
  {
   "cell_type": "code",
   "execution_count": 10,
   "metadata": {},
   "outputs": [
    {
     "data": {
      "text/html": [
       "<div>\n",
       "<style scoped>\n",
       "    .dataframe tbody tr th:only-of-type {\n",
       "        vertical-align: middle;\n",
       "    }\n",
       "\n",
       "    .dataframe tbody tr th {\n",
       "        vertical-align: top;\n",
       "    }\n",
       "\n",
       "    .dataframe thead th {\n",
       "        text-align: right;\n",
       "    }\n",
       "</style>\n",
       "<table border=\"1\" class=\"dataframe\">\n",
       "  <thead>\n",
       "    <tr style=\"text-align: right;\">\n",
       "      <th></th>\n",
       "      <th>publisher</th>\n",
       "      <th>count</th>\n",
       "    </tr>\n",
       "  </thead>\n",
       "  <tbody>\n",
       "    <tr>\n",
       "      <th>0</th>\n",
       "      <td>Penguin Books</td>\n",
       "      <td>42</td>\n",
       "    </tr>\n",
       "  </tbody>\n",
       "</table>\n",
       "</div>"
      ],
      "text/plain": [
       "       publisher  count\n",
       "0  Penguin Books     42"
      ]
     },
     "execution_count": 10,
     "metadata": {},
     "output_type": "execute_result"
    }
   ],
   "source": [
    "# Определение самого выпускающего издательства\n",
    "query = '''SELECT p.publisher,\n",
    "COUNT(book_id)\n",
    "FROM books b\n",
    "LEFT JOIN publishers AS p ON b.publisher_id = p.publisher_id\n",
    "WHERE b.num_pages >= 50\n",
    "GROUP BY p.publisher\n",
    "ORDER BY COUNT(book_id) DESC\n",
    "LIMIT 1;'''\n",
    "con=engine.connect()\n",
    "pd.io.sql.read_sql(sql=text(query), con = con)"
   ]
  },
  {
   "cell_type": "markdown",
   "metadata": {},
   "source": [
    "Издательство `Penguin Books` выпустило наибольшее число книг (42 штуки), толще 50 см."
   ]
  },
  {
   "cell_type": "markdown",
   "metadata": {},
   "source": [
    "### Составление рейтинга авторов"
   ]
  },
  {
   "cell_type": "code",
   "execution_count": 11,
   "metadata": {},
   "outputs": [
    {
     "data": {
      "text/html": [
       "<div>\n",
       "<style scoped>\n",
       "    .dataframe tbody tr th:only-of-type {\n",
       "        vertical-align: middle;\n",
       "    }\n",
       "\n",
       "    .dataframe tbody tr th {\n",
       "        vertical-align: top;\n",
       "    }\n",
       "\n",
       "    .dataframe thead th {\n",
       "        text-align: right;\n",
       "    }\n",
       "</style>\n",
       "<table border=\"1\" class=\"dataframe\">\n",
       "  <thead>\n",
       "    <tr style=\"text-align: right;\">\n",
       "      <th></th>\n",
       "      <th>author</th>\n",
       "      <th>avg</th>\n",
       "      <th>count_rating</th>\n",
       "    </tr>\n",
       "  </thead>\n",
       "  <tbody>\n",
       "    <tr>\n",
       "      <th>0</th>\n",
       "      <td>J.K. Rowling/Mary GrandPré</td>\n",
       "      <td>4.288462</td>\n",
       "      <td>312</td>\n",
       "    </tr>\n",
       "  </tbody>\n",
       "</table>\n",
       "</div>"
      ],
      "text/plain": [
       "                       author       avg  count_rating\n",
       "0  J.K. Rowling/Mary GrandPré  4.288462           312"
      ]
     },
     "execution_count": 11,
     "metadata": {},
     "output_type": "execute_result"
    }
   ],
   "source": [
    "# Определение автора с самой высокой оценкой\n",
    "query = '''SELECT a.author,\n",
    "AVG(rat.rating),\n",
    "COUNT(rat.rating) AS count_rating\n",
    "FROM authors AS a\n",
    "INNER JOIN books AS b ON b.author_id = a.author_id\n",
    "INNER JOIN ratings AS rat ON rat.book_id = b.book_id\n",
    "GROUP BY a.author\n",
    "HAVING COUNT(rat.rating) >= 50 \n",
    "ORDER BY count_rating DESC\n",
    "LIMIT 1;'''\n",
    "con=engine.connect()\n",
    "pd.io.sql.read_sql(sql=text(query), con = con)"
   ]
  },
  {
   "cell_type": "markdown",
   "metadata": {},
   "source": [
    "Автором с самой высокой оценкой книги является дуэт `J.K. Rowling/Mary GrandPré`. Их книги оценили 312 пользователей со средней оценкой 4.29."
   ]
  },
  {
   "cell_type": "markdown",
   "metadata": {},
   "source": [
    "### Расчет среднего количества обзоров книг от пользователей"
   ]
  },
  {
   "cell_type": "code",
   "execution_count": 12,
   "metadata": {},
   "outputs": [
    {
     "data": {
      "text/html": [
       "<div>\n",
       "<style scoped>\n",
       "    .dataframe tbody tr th:only-of-type {\n",
       "        vertical-align: middle;\n",
       "    }\n",
       "\n",
       "    .dataframe tbody tr th {\n",
       "        vertical-align: top;\n",
       "    }\n",
       "\n",
       "    .dataframe thead th {\n",
       "        text-align: right;\n",
       "    }\n",
       "</style>\n",
       "<table border=\"1\" class=\"dataframe\">\n",
       "  <thead>\n",
       "    <tr style=\"text-align: right;\">\n",
       "      <th></th>\n",
       "      <th>avg_reviews</th>\n",
       "    </tr>\n",
       "  </thead>\n",
       "  <tbody>\n",
       "    <tr>\n",
       "      <th>0</th>\n",
       "      <td>24.0</td>\n",
       "    </tr>\n",
       "  </tbody>\n",
       "</table>\n",
       "</div>"
      ],
      "text/plain": [
       "   avg_reviews\n",
       "0         24.0"
      ]
     },
     "execution_count": 12,
     "metadata": {},
     "output_type": "execute_result"
    }
   ],
   "source": [
    "# Расчет среднего количества обзоров от пользователей\n",
    "query = '''SELECT AVG(num_reviews) AS avg_reviews\n",
    "FROM (SELECT COUNT(review_id) AS num_reviews\n",
    "  FROM reviews\n",
    "  WHERE username IN (SELECT username\n",
    "                    FROM ratings\n",
    "                    GROUP BY username\n",
    "                    HAVING COUNT(rating_id) > 48)\n",
    "  GROUP BY username) AS sub;'''\n",
    "con=engine.connect()\n",
    "pd.io.sql.read_sql(sql=text(query), con = con)"
   ]
  },
  {
   "cell_type": "markdown",
   "metadata": {},
   "source": [
    "Пользователи, которые поставили больше 48 оценок, создали в среднем по 24 обзора."
   ]
  },
  {
   "cell_type": "markdown",
   "metadata": {},
   "source": [
    "## Выводы"
   ]
  },
  {
   "cell_type": "markdown",
   "metadata": {},
   "source": [
    "В ходе проекта была проанализирована база данных сервиса для чтения книг, которая состоит из 5 таблиц.\n",
    "\n",
    "В результате было определено, что:\n",
    "* С 1 января 2000 года было выпущено 819 книг;\n",
    "* Самой обозревамой книгой стала первая часть Сумерок (Twilight) - 7 обзоров со средней оценкой 3.66;\n",
    "* Самым выпускающим стало издательство `Penguin Books`, которое опубликовало 42 книги;\n",
    "* Автор с самой высокой оценкой книги - `J.K. Rowling/Mary GrandPré`. Их книги оценили 312 пользователей со средней оценкой 4.29;\n",
    "* Самые активные пользователи оставили в среднем по 24 обзора."
   ]
  }
 ],
 "metadata": {
  "ExecuteTimeLog": [
   {
    "duration": 7693,
    "start_time": "2024-07-04T06:25:24.830Z"
   },
   {
    "duration": 60,
    "start_time": "2024-07-04T07:16:08.166Z"
   },
   {
    "duration": 129679,
    "start_time": "2024-07-04T07:17:22.715Z"
   },
   {
    "duration": 136673,
    "start_time": "2024-07-04T07:21:27.705Z"
   },
   {
    "duration": 0,
    "start_time": "2024-07-04T07:23:44.380Z"
   },
   {
    "duration": 7621,
    "start_time": "2024-07-04T07:27:32.731Z"
   },
   {
    "duration": 0,
    "start_time": "2024-07-04T07:27:40.353Z"
   },
   {
    "duration": 346,
    "start_time": "2024-07-04T07:28:57.657Z"
   },
   {
    "duration": 130,
    "start_time": "2024-07-04T07:29:04.307Z"
   },
   {
    "duration": 97,
    "start_time": "2024-07-04T07:29:42.147Z"
   },
   {
    "duration": 48,
    "start_time": "2024-07-04T07:29:56.242Z"
   },
   {
    "duration": 51,
    "start_time": "2024-07-04T07:30:23.894Z"
   },
   {
    "duration": 52,
    "start_time": "2024-07-04T07:30:40.489Z"
   },
   {
    "duration": 58,
    "start_time": "2024-07-04T07:39:13.283Z"
   },
   {
    "duration": 66,
    "start_time": "2024-07-04T07:39:19.397Z"
   },
   {
    "duration": 71,
    "start_time": "2024-07-04T07:40:05.218Z"
   },
   {
    "duration": 64,
    "start_time": "2024-07-04T07:40:19.030Z"
   },
   {
    "duration": 60,
    "start_time": "2024-07-04T07:40:34.686Z"
   },
   {
    "duration": 73,
    "start_time": "2024-07-04T07:42:39.948Z"
   },
   {
    "duration": 74,
    "start_time": "2024-07-04T07:42:47.058Z"
   },
   {
    "duration": 122,
    "start_time": "2024-07-04T07:43:38.491Z"
   },
   {
    "duration": 289,
    "start_time": "2024-07-04T07:44:08.948Z"
   },
   {
    "duration": 129,
    "start_time": "2024-07-04T07:44:17.083Z"
   },
   {
    "duration": 49,
    "start_time": "2024-07-04T07:44:38.820Z"
   },
   {
    "duration": 46,
    "start_time": "2024-07-04T07:45:34.273Z"
   },
   {
    "duration": 101,
    "start_time": "2024-07-04T07:54:34.987Z"
   },
   {
    "duration": 65,
    "start_time": "2024-07-04T07:54:43.422Z"
   },
   {
    "duration": 54,
    "start_time": "2024-07-04T07:54:51.464Z"
   },
   {
    "duration": 55,
    "start_time": "2024-07-04T07:55:05.368Z"
   },
   {
    "duration": 135,
    "start_time": "2024-07-04T07:55:19.963Z"
   },
   {
    "duration": 157,
    "start_time": "2024-07-04T07:55:47.665Z"
   },
   {
    "duration": 69,
    "start_time": "2024-07-04T07:56:13.126Z"
   },
   {
    "duration": 72,
    "start_time": "2024-07-04T07:56:20.332Z"
   },
   {
    "duration": 69,
    "start_time": "2024-07-04T07:56:38.637Z"
   },
   {
    "duration": 64,
    "start_time": "2024-07-04T08:17:50.416Z"
   },
   {
    "duration": 41,
    "start_time": "2024-07-04T08:18:36.310Z"
   },
   {
    "duration": 66,
    "start_time": "2024-07-04T08:19:21.041Z"
   },
   {
    "duration": 58,
    "start_time": "2024-07-04T08:19:27.700Z"
   },
   {
    "duration": 49,
    "start_time": "2024-07-04T08:19:36.071Z"
   },
   {
    "duration": 54,
    "start_time": "2024-07-04T08:20:06.385Z"
   },
   {
    "duration": 52,
    "start_time": "2024-07-04T08:20:18.505Z"
   },
   {
    "duration": 50,
    "start_time": "2024-07-04T08:21:30.952Z"
   },
   {
    "duration": 48,
    "start_time": "2024-07-04T08:21:40.676Z"
   },
   {
    "duration": 64,
    "start_time": "2024-07-04T08:22:34.290Z"
   },
   {
    "duration": 38,
    "start_time": "2024-07-04T08:22:44.366Z"
   },
   {
    "duration": 48,
    "start_time": "2024-07-04T08:29:14.511Z"
   },
   {
    "duration": 49,
    "start_time": "2024-07-04T08:32:46.240Z"
   },
   {
    "duration": 62,
    "start_time": "2024-07-04T08:33:41.271Z"
   },
   {
    "duration": 48,
    "start_time": "2024-07-04T08:34:52.706Z"
   },
   {
    "duration": 67,
    "start_time": "2024-07-04T08:40:21.667Z"
   },
   {
    "duration": 58,
    "start_time": "2024-07-04T08:42:39.614Z"
   },
   {
    "duration": 141,
    "start_time": "2024-07-04T08:42:57.053Z"
   },
   {
    "duration": 106,
    "start_time": "2024-07-04T08:43:04.735Z"
   },
   {
    "duration": 131,
    "start_time": "2024-07-04T08:43:37.151Z"
   },
   {
    "duration": 50,
    "start_time": "2024-07-04T08:44:04.137Z"
   },
   {
    "duration": 52,
    "start_time": "2024-07-04T08:44:25.496Z"
   },
   {
    "duration": 73,
    "start_time": "2024-07-04T08:44:44.260Z"
   },
   {
    "duration": 60,
    "start_time": "2024-07-04T08:45:16.147Z"
   },
   {
    "duration": 63,
    "start_time": "2024-07-04T08:45:49.465Z"
   },
   {
    "duration": 55,
    "start_time": "2024-07-04T08:45:56.256Z"
   },
   {
    "duration": 53,
    "start_time": "2024-07-04T08:46:31.785Z"
   },
   {
    "duration": 52,
    "start_time": "2024-07-04T08:46:52.830Z"
   },
   {
    "duration": 65,
    "start_time": "2024-07-04T09:50:24.253Z"
   },
   {
    "duration": 47,
    "start_time": "2024-07-04T09:50:52.647Z"
   },
   {
    "duration": 66,
    "start_time": "2024-07-04T09:52:02.569Z"
   },
   {
    "duration": 39,
    "start_time": "2024-07-04T09:56:15.501Z"
   },
   {
    "duration": 53,
    "start_time": "2024-07-04T10:06:32.992Z"
   },
   {
    "duration": 82,
    "start_time": "2024-07-04T10:09:41.293Z"
   },
   {
    "duration": 7060,
    "start_time": "2024-07-04T10:09:49.653Z"
   },
   {
    "duration": 119,
    "start_time": "2024-07-04T10:09:56.715Z"
   },
   {
    "duration": 47,
    "start_time": "2024-07-04T10:09:56.836Z"
   },
   {
    "duration": 47,
    "start_time": "2024-07-04T10:09:56.885Z"
   },
   {
    "duration": 47,
    "start_time": "2024-07-04T10:09:56.933Z"
   },
   {
    "duration": 47,
    "start_time": "2024-07-04T10:09:56.981Z"
   },
   {
    "duration": 91,
    "start_time": "2024-07-04T10:09:57.029Z"
   },
   {
    "duration": 48,
    "start_time": "2024-07-04T10:09:57.121Z"
   },
   {
    "duration": 51,
    "start_time": "2024-07-04T10:09:57.170Z"
   },
   {
    "duration": 50,
    "start_time": "2024-07-04T10:09:57.224Z"
   },
   {
    "duration": 8617,
    "start_time": "2024-07-04T14:11:54.328Z"
   },
   {
    "duration": 127,
    "start_time": "2024-07-04T14:12:02.946Z"
   },
   {
    "duration": 54,
    "start_time": "2024-07-04T14:12:03.074Z"
   },
   {
    "duration": 51,
    "start_time": "2024-07-04T14:12:03.130Z"
   },
   {
    "duration": 50,
    "start_time": "2024-07-04T14:12:03.183Z"
   },
   {
    "duration": 50,
    "start_time": "2024-07-04T14:12:03.235Z"
   },
   {
    "duration": 88,
    "start_time": "2024-07-04T14:12:03.286Z"
   },
   {
    "duration": 52,
    "start_time": "2024-07-04T14:12:03.375Z"
   },
   {
    "duration": 54,
    "start_time": "2024-07-04T14:12:03.428Z"
   },
   {
    "duration": 53,
    "start_time": "2024-07-04T14:12:03.484Z"
   },
   {
    "duration": 87,
    "start_time": "2024-07-04T14:13:49.103Z"
   },
   {
    "duration": 88,
    "start_time": "2024-07-04T14:13:52.153Z"
   },
   {
    "duration": 44,
    "start_time": "2024-07-04T14:29:22.098Z"
   },
   {
    "duration": 6871,
    "start_time": "2024-07-04T14:29:28.051Z"
   },
   {
    "duration": 23,
    "start_time": "2024-07-04T14:29:34.924Z"
   },
   {
    "duration": 8,
    "start_time": "2024-07-04T14:29:34.949Z"
   },
   {
    "duration": 24,
    "start_time": "2024-07-04T14:29:34.959Z"
   },
   {
    "duration": 38,
    "start_time": "2024-07-04T14:29:34.984Z"
   },
   {
    "duration": 14,
    "start_time": "2024-07-04T14:29:35.023Z"
   },
   {
    "duration": 50,
    "start_time": "2024-07-04T14:29:35.038Z"
   },
   {
    "duration": 10,
    "start_time": "2024-07-04T14:29:35.089Z"
   },
   {
    "duration": 14,
    "start_time": "2024-07-04T14:29:35.100Z"
   },
   {
    "duration": 22,
    "start_time": "2024-07-04T14:29:35.116Z"
   },
   {
    "duration": 4,
    "start_time": "2024-07-04T14:31:12.935Z"
   },
   {
    "duration": 33,
    "start_time": "2024-07-04T14:31:16.443Z"
   },
   {
    "duration": 3,
    "start_time": "2024-07-04T14:31:33.723Z"
   },
   {
    "duration": 3,
    "start_time": "2024-07-04T14:31:38.548Z"
   },
   {
    "duration": 103,
    "start_time": "2024-07-04T14:40:34.177Z"
   },
   {
    "duration": 44,
    "start_time": "2024-07-04T14:43:56.872Z"
   },
   {
    "duration": 47,
    "start_time": "2024-07-04T14:46:23.604Z"
   },
   {
    "duration": 25,
    "start_time": "2024-07-04T14:46:57.125Z"
   },
   {
    "duration": 24,
    "start_time": "2024-07-04T14:47:06.299Z"
   },
   {
    "duration": 11,
    "start_time": "2024-07-04T14:53:37.353Z"
   },
   {
    "duration": 15,
    "start_time": "2024-07-04T14:55:30.927Z"
   },
   {
    "duration": 15,
    "start_time": "2024-07-04T14:58:14.765Z"
   },
   {
    "duration": 18,
    "start_time": "2024-07-04T14:58:40.725Z"
   },
   {
    "duration": 13,
    "start_time": "2024-07-04T14:58:52.700Z"
   },
   {
    "duration": 80,
    "start_time": "2024-07-04T15:02:21.102Z"
   },
   {
    "duration": 438,
    "start_time": "2024-07-04T15:32:22.503Z"
   },
   {
    "duration": 5931,
    "start_time": "2024-07-04T15:32:22.943Z"
   },
   {
    "duration": 43,
    "start_time": "2024-07-04T15:32:28.876Z"
   },
   {
    "duration": 59,
    "start_time": "2024-07-04T15:32:28.921Z"
   },
   {
    "duration": 9,
    "start_time": "2024-07-04T15:32:28.981Z"
   },
   {
    "duration": 8,
    "start_time": "2024-07-04T15:32:28.991Z"
   },
   {
    "duration": 8,
    "start_time": "2024-07-04T15:32:29.000Z"
   },
   {
    "duration": 8,
    "start_time": "2024-07-04T15:32:29.009Z"
   },
   {
    "duration": 64,
    "start_time": "2024-07-04T15:32:29.018Z"
   },
   {
    "duration": 11,
    "start_time": "2024-07-04T15:32:29.084Z"
   },
   {
    "duration": 13,
    "start_time": "2024-07-04T15:32:29.096Z"
   },
   {
    "duration": 10,
    "start_time": "2024-07-04T15:32:29.110Z"
   },
   {
    "duration": 503,
    "start_time": "2024-07-05T06:10:12.905Z"
   },
   {
    "duration": 5925,
    "start_time": "2024-07-05T06:10:13.410Z"
   },
   {
    "duration": 231,
    "start_time": "2024-07-05T06:10:19.339Z"
   },
   {
    "duration": 113,
    "start_time": "2024-07-05T06:10:19.572Z"
   },
   {
    "duration": 49,
    "start_time": "2024-07-05T06:10:19.687Z"
   },
   {
    "duration": 48,
    "start_time": "2024-07-05T06:10:19.766Z"
   },
   {
    "duration": 52,
    "start_time": "2024-07-05T06:10:19.816Z"
   },
   {
    "duration": 49,
    "start_time": "2024-07-05T06:10:19.870Z"
   },
   {
    "duration": 84,
    "start_time": "2024-07-05T06:10:19.922Z"
   },
   {
    "duration": 48,
    "start_time": "2024-07-05T06:10:20.007Z"
   },
   {
    "duration": 51,
    "start_time": "2024-07-05T06:10:20.057Z"
   },
   {
    "duration": 50,
    "start_time": "2024-07-05T06:10:20.109Z"
   },
   {
    "duration": 482,
    "start_time": "2024-07-05T09:15:49.066Z"
   },
   {
    "duration": 7016,
    "start_time": "2024-07-05T09:15:49.550Z"
   },
   {
    "duration": 68,
    "start_time": "2024-07-05T09:15:56.568Z"
   },
   {
    "duration": 42,
    "start_time": "2024-07-05T09:15:56.638Z"
   },
   {
    "duration": 12,
    "start_time": "2024-07-05T09:15:56.683Z"
   },
   {
    "duration": 12,
    "start_time": "2024-07-05T09:15:56.696Z"
   },
   {
    "duration": 10,
    "start_time": "2024-07-05T09:15:56.716Z"
   },
   {
    "duration": 10,
    "start_time": "2024-07-05T09:15:56.727Z"
   },
   {
    "duration": 29,
    "start_time": "2024-07-05T09:15:56.738Z"
   },
   {
    "duration": 16,
    "start_time": "2024-07-05T09:15:56.768Z"
   },
   {
    "duration": 26,
    "start_time": "2024-07-05T09:15:56.785Z"
   },
   {
    "duration": 13,
    "start_time": "2024-07-05T09:15:56.813Z"
   },
   {
    "duration": 567,
    "start_time": "2024-07-05T13:01:35.012Z"
   },
   {
    "duration": 7436,
    "start_time": "2024-07-05T13:01:35.581Z"
   },
   {
    "duration": 130,
    "start_time": "2024-07-05T13:01:43.019Z"
   },
   {
    "duration": 33,
    "start_time": "2024-07-05T13:01:43.151Z"
   },
   {
    "duration": 22,
    "start_time": "2024-07-05T13:01:43.186Z"
   },
   {
    "duration": 14,
    "start_time": "2024-07-05T13:01:43.210Z"
   },
   {
    "duration": 27,
    "start_time": "2024-07-05T13:01:43.226Z"
   },
   {
    "duration": 20,
    "start_time": "2024-07-05T13:01:43.255Z"
   },
   {
    "duration": 42,
    "start_time": "2024-07-05T13:01:43.277Z"
   },
   {
    "duration": 13,
    "start_time": "2024-07-05T13:01:43.321Z"
   },
   {
    "duration": 46,
    "start_time": "2024-07-05T13:01:43.336Z"
   },
   {
    "duration": 48,
    "start_time": "2024-07-05T13:01:43.383Z"
   },
   {
    "duration": 593,
    "start_time": "2024-08-12T16:23:13.962Z"
   },
   {
    "duration": 8134,
    "start_time": "2024-08-12T16:23:15.602Z"
   },
   {
    "duration": 0,
    "start_time": "2024-08-12T16:23:42.514Z"
   },
   {
    "duration": 0,
    "start_time": "2024-08-12T16:23:42.515Z"
   },
   {
    "duration": 0,
    "start_time": "2024-08-12T16:23:42.516Z"
   },
   {
    "duration": 0,
    "start_time": "2024-08-12T16:23:42.517Z"
   },
   {
    "duration": 0,
    "start_time": "2024-08-12T16:23:42.518Z"
   },
   {
    "duration": 0,
    "start_time": "2024-08-12T16:23:42.518Z"
   },
   {
    "duration": 0,
    "start_time": "2024-08-12T16:23:42.519Z"
   },
   {
    "duration": 0,
    "start_time": "2024-08-12T16:23:42.520Z"
   },
   {
    "duration": 0,
    "start_time": "2024-08-12T16:23:42.521Z"
   },
   {
    "duration": 0,
    "start_time": "2024-08-12T16:23:42.522Z"
   },
   {
    "duration": 0,
    "start_time": "2024-08-12T16:23:42.523Z"
   },
   {
    "duration": 0,
    "start_time": "2024-08-12T16:23:42.524Z"
   },
   {
    "duration": 502,
    "start_time": "2024-08-12T16:23:51.557Z"
   },
   {
    "duration": 51,
    "start_time": "2024-08-12T16:23:52.060Z"
   },
   {
    "duration": 0,
    "start_time": "2024-08-12T16:23:52.113Z"
   },
   {
    "duration": 0,
    "start_time": "2024-08-12T16:23:52.114Z"
   },
   {
    "duration": 0,
    "start_time": "2024-08-12T16:23:52.115Z"
   },
   {
    "duration": 0,
    "start_time": "2024-08-12T16:23:52.116Z"
   },
   {
    "duration": 0,
    "start_time": "2024-08-12T16:23:52.117Z"
   },
   {
    "duration": 0,
    "start_time": "2024-08-12T16:23:52.118Z"
   },
   {
    "duration": 0,
    "start_time": "2024-08-12T16:23:52.119Z"
   },
   {
    "duration": 0,
    "start_time": "2024-08-12T16:23:52.120Z"
   },
   {
    "duration": 0,
    "start_time": "2024-08-12T16:23:52.121Z"
   },
   {
    "duration": 0,
    "start_time": "2024-08-12T16:23:52.122Z"
   },
   {
    "duration": 5571,
    "start_time": "2024-08-12T16:24:23.226Z"
   },
   {
    "duration": 544,
    "start_time": "2024-08-12T16:55:03.215Z"
   },
   {
    "duration": 5606,
    "start_time": "2024-08-12T16:55:03.761Z"
   },
   {
    "duration": 54,
    "start_time": "2024-08-12T16:55:09.369Z"
   },
   {
    "duration": 34,
    "start_time": "2024-08-12T16:55:09.424Z"
   },
   {
    "duration": 10,
    "start_time": "2024-08-12T16:55:09.460Z"
   },
   {
    "duration": 38,
    "start_time": "2024-08-12T16:55:09.472Z"
   },
   {
    "duration": 10,
    "start_time": "2024-08-12T16:55:09.512Z"
   },
   {
    "duration": 9,
    "start_time": "2024-08-12T16:55:09.523Z"
   },
   {
    "duration": 32,
    "start_time": "2024-08-12T16:55:09.534Z"
   },
   {
    "duration": 11,
    "start_time": "2024-08-12T16:55:09.568Z"
   },
   {
    "duration": 19,
    "start_time": "2024-08-12T16:55:09.581Z"
   },
   {
    "duration": 14,
    "start_time": "2024-08-12T16:55:09.602Z"
   },
   {
    "duration": 134,
    "start_time": "2024-08-12T16:57:47.835Z"
   },
   {
    "duration": 556,
    "start_time": "2024-08-12T16:58:14.700Z"
   },
   {
    "duration": 5623,
    "start_time": "2024-08-12T16:58:15.259Z"
   },
   {
    "duration": 40,
    "start_time": "2024-08-12T16:58:20.884Z"
   },
   {
    "duration": 34,
    "start_time": "2024-08-12T16:58:20.926Z"
   },
   {
    "duration": 11,
    "start_time": "2024-08-12T16:58:20.962Z"
   },
   {
    "duration": 10,
    "start_time": "2024-08-12T16:58:20.974Z"
   },
   {
    "duration": 10,
    "start_time": "2024-08-12T16:58:20.985Z"
   },
   {
    "duration": 13,
    "start_time": "2024-08-12T16:58:20.996Z"
   },
   {
    "duration": 34,
    "start_time": "2024-08-12T16:58:21.010Z"
   },
   {
    "duration": 10,
    "start_time": "2024-08-12T16:58:21.047Z"
   },
   {
    "duration": 15,
    "start_time": "2024-08-12T16:58:21.059Z"
   },
   {
    "duration": 11,
    "start_time": "2024-08-12T16:58:21.075Z"
   }
  ],
  "kernelspec": {
   "display_name": "Python 3 (ipykernel)",
   "language": "python",
   "name": "python3"
  },
  "language_info": {
   "codemirror_mode": {
    "name": "ipython",
    "version": 3
   },
   "file_extension": ".py",
   "mimetype": "text/x-python",
   "name": "python",
   "nbconvert_exporter": "python",
   "pygments_lexer": "ipython3",
   "version": "3.9.5"
  },
  "toc": {
   "base_numbering": 1,
   "nav_menu": {},
   "number_sections": true,
   "sideBar": true,
   "skip_h1_title": true,
   "title_cell": "Table of Contents",
   "title_sidebar": "Contents",
   "toc_cell": false,
   "toc_position": {
    "height": "calc(100% - 180px)",
    "left": "10px",
    "top": "150px",
    "width": "349.091px"
   },
   "toc_section_display": true,
   "toc_window_display": true
  }
 },
 "nbformat": 4,
 "nbformat_minor": 2
}
