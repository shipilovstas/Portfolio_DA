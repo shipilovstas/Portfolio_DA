{
 "cells": [
  {
   "cell_type": "markdown",
   "id": "f95e2a17",
   "metadata": {},
   "source": [
    "# Исследование надежности заемщиков"
   ]
  },
  {
   "cell_type": "markdown",
   "id": "9be1e761",
   "metadata": {},
   "source": [
    "## Изучение общей информации о данных"
   ]
  },
  {
   "cell_type": "markdown",
   "id": "7018bfa9",
   "metadata": {},
   "source": [
    "Импортирую библиотеку pandas. Считаю данные из csv-файла в датафрейм и сохраню в переменную `data`. Путь к файлу:\n",
    "\n",
    "`/datasets/data.csv`"
   ]
  },
  {
   "cell_type": "code",
   "execution_count": 1,
   "id": "6316a105",
   "metadata": {},
   "outputs": [],
   "source": [
    "import pandas as pd\n",
    "import matplotlib.pyplot as plt\n",
    "\n",
    "try:\n",
    "    data = pd.read_csv('/datasets/data.csv')\n",
    "except:\n",
    "    data = pd.read_csv('https://code.s3.yandex.net/datasets/data.csv')"
   ]
  },
  {
   "cell_type": "code",
   "execution_count": 2,
   "id": "c061ea8e",
   "metadata": {},
   "outputs": [
    {
     "data": {
      "text/html": [
       "<div>\n",
       "<style scoped>\n",
       "    .dataframe tbody tr th:only-of-type {\n",
       "        vertical-align: middle;\n",
       "    }\n",
       "\n",
       "    .dataframe tbody tr th {\n",
       "        vertical-align: top;\n",
       "    }\n",
       "\n",
       "    .dataframe thead th {\n",
       "        text-align: right;\n",
       "    }\n",
       "</style>\n",
       "<table border=\"1\" class=\"dataframe\">\n",
       "  <thead>\n",
       "    <tr style=\"text-align: right;\">\n",
       "      <th></th>\n",
       "      <th>children</th>\n",
       "      <th>days_employed</th>\n",
       "      <th>dob_years</th>\n",
       "      <th>education</th>\n",
       "      <th>education_id</th>\n",
       "      <th>family_status</th>\n",
       "      <th>family_status_id</th>\n",
       "      <th>gender</th>\n",
       "      <th>income_type</th>\n",
       "      <th>debt</th>\n",
       "      <th>total_income</th>\n",
       "      <th>purpose</th>\n",
       "    </tr>\n",
       "  </thead>\n",
       "  <tbody>\n",
       "    <tr>\n",
       "      <th>0</th>\n",
       "      <td>1</td>\n",
       "      <td>-8437.673028</td>\n",
       "      <td>42</td>\n",
       "      <td>высшее</td>\n",
       "      <td>0</td>\n",
       "      <td>женат / замужем</td>\n",
       "      <td>0</td>\n",
       "      <td>F</td>\n",
       "      <td>сотрудник</td>\n",
       "      <td>0</td>\n",
       "      <td>253875.639453</td>\n",
       "      <td>покупка жилья</td>\n",
       "    </tr>\n",
       "    <tr>\n",
       "      <th>1</th>\n",
       "      <td>1</td>\n",
       "      <td>-4024.803754</td>\n",
       "      <td>36</td>\n",
       "      <td>среднее</td>\n",
       "      <td>1</td>\n",
       "      <td>женат / замужем</td>\n",
       "      <td>0</td>\n",
       "      <td>F</td>\n",
       "      <td>сотрудник</td>\n",
       "      <td>0</td>\n",
       "      <td>112080.014102</td>\n",
       "      <td>приобретение автомобиля</td>\n",
       "    </tr>\n",
       "    <tr>\n",
       "      <th>2</th>\n",
       "      <td>0</td>\n",
       "      <td>-5623.422610</td>\n",
       "      <td>33</td>\n",
       "      <td>Среднее</td>\n",
       "      <td>1</td>\n",
       "      <td>женат / замужем</td>\n",
       "      <td>0</td>\n",
       "      <td>M</td>\n",
       "      <td>сотрудник</td>\n",
       "      <td>0</td>\n",
       "      <td>145885.952297</td>\n",
       "      <td>покупка жилья</td>\n",
       "    </tr>\n",
       "    <tr>\n",
       "      <th>3</th>\n",
       "      <td>3</td>\n",
       "      <td>-4124.747207</td>\n",
       "      <td>32</td>\n",
       "      <td>среднее</td>\n",
       "      <td>1</td>\n",
       "      <td>женат / замужем</td>\n",
       "      <td>0</td>\n",
       "      <td>M</td>\n",
       "      <td>сотрудник</td>\n",
       "      <td>0</td>\n",
       "      <td>267628.550329</td>\n",
       "      <td>дополнительное образование</td>\n",
       "    </tr>\n",
       "    <tr>\n",
       "      <th>4</th>\n",
       "      <td>0</td>\n",
       "      <td>340266.072047</td>\n",
       "      <td>53</td>\n",
       "      <td>среднее</td>\n",
       "      <td>1</td>\n",
       "      <td>гражданский брак</td>\n",
       "      <td>1</td>\n",
       "      <td>F</td>\n",
       "      <td>пенсионер</td>\n",
       "      <td>0</td>\n",
       "      <td>158616.077870</td>\n",
       "      <td>сыграть свадьбу</td>\n",
       "    </tr>\n",
       "    <tr>\n",
       "      <th>5</th>\n",
       "      <td>0</td>\n",
       "      <td>-926.185831</td>\n",
       "      <td>27</td>\n",
       "      <td>высшее</td>\n",
       "      <td>0</td>\n",
       "      <td>гражданский брак</td>\n",
       "      <td>1</td>\n",
       "      <td>M</td>\n",
       "      <td>компаньон</td>\n",
       "      <td>0</td>\n",
       "      <td>255763.565419</td>\n",
       "      <td>покупка жилья</td>\n",
       "    </tr>\n",
       "    <tr>\n",
       "      <th>6</th>\n",
       "      <td>0</td>\n",
       "      <td>-2879.202052</td>\n",
       "      <td>43</td>\n",
       "      <td>высшее</td>\n",
       "      <td>0</td>\n",
       "      <td>женат / замужем</td>\n",
       "      <td>0</td>\n",
       "      <td>F</td>\n",
       "      <td>компаньон</td>\n",
       "      <td>0</td>\n",
       "      <td>240525.971920</td>\n",
       "      <td>операции с жильем</td>\n",
       "    </tr>\n",
       "    <tr>\n",
       "      <th>7</th>\n",
       "      <td>0</td>\n",
       "      <td>-152.779569</td>\n",
       "      <td>50</td>\n",
       "      <td>СРЕДНЕЕ</td>\n",
       "      <td>1</td>\n",
       "      <td>женат / замужем</td>\n",
       "      <td>0</td>\n",
       "      <td>M</td>\n",
       "      <td>сотрудник</td>\n",
       "      <td>0</td>\n",
       "      <td>135823.934197</td>\n",
       "      <td>образование</td>\n",
       "    </tr>\n",
       "    <tr>\n",
       "      <th>8</th>\n",
       "      <td>2</td>\n",
       "      <td>-6929.865299</td>\n",
       "      <td>35</td>\n",
       "      <td>ВЫСШЕЕ</td>\n",
       "      <td>0</td>\n",
       "      <td>гражданский брак</td>\n",
       "      <td>1</td>\n",
       "      <td>F</td>\n",
       "      <td>сотрудник</td>\n",
       "      <td>0</td>\n",
       "      <td>95856.832424</td>\n",
       "      <td>на проведение свадьбы</td>\n",
       "    </tr>\n",
       "    <tr>\n",
       "      <th>9</th>\n",
       "      <td>0</td>\n",
       "      <td>-2188.756445</td>\n",
       "      <td>41</td>\n",
       "      <td>среднее</td>\n",
       "      <td>1</td>\n",
       "      <td>женат / замужем</td>\n",
       "      <td>0</td>\n",
       "      <td>M</td>\n",
       "      <td>сотрудник</td>\n",
       "      <td>0</td>\n",
       "      <td>144425.938277</td>\n",
       "      <td>покупка жилья для семьи</td>\n",
       "    </tr>\n",
       "    <tr>\n",
       "      <th>10</th>\n",
       "      <td>2</td>\n",
       "      <td>-4171.483647</td>\n",
       "      <td>36</td>\n",
       "      <td>высшее</td>\n",
       "      <td>0</td>\n",
       "      <td>женат / замужем</td>\n",
       "      <td>0</td>\n",
       "      <td>M</td>\n",
       "      <td>компаньон</td>\n",
       "      <td>0</td>\n",
       "      <td>113943.491460</td>\n",
       "      <td>покупка недвижимости</td>\n",
       "    </tr>\n",
       "    <tr>\n",
       "      <th>11</th>\n",
       "      <td>0</td>\n",
       "      <td>-792.701887</td>\n",
       "      <td>40</td>\n",
       "      <td>среднее</td>\n",
       "      <td>1</td>\n",
       "      <td>женат / замужем</td>\n",
       "      <td>0</td>\n",
       "      <td>F</td>\n",
       "      <td>сотрудник</td>\n",
       "      <td>0</td>\n",
       "      <td>77069.234271</td>\n",
       "      <td>покупка коммерческой недвижимости</td>\n",
       "    </tr>\n",
       "    <tr>\n",
       "      <th>12</th>\n",
       "      <td>0</td>\n",
       "      <td>NaN</td>\n",
       "      <td>65</td>\n",
       "      <td>среднее</td>\n",
       "      <td>1</td>\n",
       "      <td>гражданский брак</td>\n",
       "      <td>1</td>\n",
       "      <td>M</td>\n",
       "      <td>пенсионер</td>\n",
       "      <td>0</td>\n",
       "      <td>NaN</td>\n",
       "      <td>сыграть свадьбу</td>\n",
       "    </tr>\n",
       "    <tr>\n",
       "      <th>13</th>\n",
       "      <td>0</td>\n",
       "      <td>-1846.641941</td>\n",
       "      <td>54</td>\n",
       "      <td>неоконченное высшее</td>\n",
       "      <td>2</td>\n",
       "      <td>женат / замужем</td>\n",
       "      <td>0</td>\n",
       "      <td>F</td>\n",
       "      <td>сотрудник</td>\n",
       "      <td>0</td>\n",
       "      <td>130458.228857</td>\n",
       "      <td>приобретение автомобиля</td>\n",
       "    </tr>\n",
       "    <tr>\n",
       "      <th>14</th>\n",
       "      <td>0</td>\n",
       "      <td>-1844.956182</td>\n",
       "      <td>56</td>\n",
       "      <td>высшее</td>\n",
       "      <td>0</td>\n",
       "      <td>гражданский брак</td>\n",
       "      <td>1</td>\n",
       "      <td>F</td>\n",
       "      <td>компаньон</td>\n",
       "      <td>1</td>\n",
       "      <td>165127.911772</td>\n",
       "      <td>покупка жилой недвижимости</td>\n",
       "    </tr>\n",
       "    <tr>\n",
       "      <th>15</th>\n",
       "      <td>1</td>\n",
       "      <td>-972.364419</td>\n",
       "      <td>26</td>\n",
       "      <td>среднее</td>\n",
       "      <td>1</td>\n",
       "      <td>женат / замужем</td>\n",
       "      <td>0</td>\n",
       "      <td>F</td>\n",
       "      <td>сотрудник</td>\n",
       "      <td>0</td>\n",
       "      <td>116820.904450</td>\n",
       "      <td>строительство собственной недвижимости</td>\n",
       "    </tr>\n",
       "    <tr>\n",
       "      <th>16</th>\n",
       "      <td>0</td>\n",
       "      <td>-1719.934226</td>\n",
       "      <td>35</td>\n",
       "      <td>среднее</td>\n",
       "      <td>1</td>\n",
       "      <td>женат / замужем</td>\n",
       "      <td>0</td>\n",
       "      <td>F</td>\n",
       "      <td>сотрудник</td>\n",
       "      <td>0</td>\n",
       "      <td>289202.704229</td>\n",
       "      <td>недвижимость</td>\n",
       "    </tr>\n",
       "    <tr>\n",
       "      <th>17</th>\n",
       "      <td>0</td>\n",
       "      <td>-2369.999720</td>\n",
       "      <td>33</td>\n",
       "      <td>высшее</td>\n",
       "      <td>0</td>\n",
       "      <td>гражданский брак</td>\n",
       "      <td>1</td>\n",
       "      <td>M</td>\n",
       "      <td>сотрудник</td>\n",
       "      <td>0</td>\n",
       "      <td>90410.586745</td>\n",
       "      <td>строительство недвижимости</td>\n",
       "    </tr>\n",
       "    <tr>\n",
       "      <th>18</th>\n",
       "      <td>0</td>\n",
       "      <td>400281.136913</td>\n",
       "      <td>53</td>\n",
       "      <td>среднее</td>\n",
       "      <td>1</td>\n",
       "      <td>вдовец / вдова</td>\n",
       "      <td>2</td>\n",
       "      <td>F</td>\n",
       "      <td>пенсионер</td>\n",
       "      <td>0</td>\n",
       "      <td>56823.777243</td>\n",
       "      <td>на покупку подержанного автомобиля</td>\n",
       "    </tr>\n",
       "    <tr>\n",
       "      <th>19</th>\n",
       "      <td>0</td>\n",
       "      <td>-10038.818549</td>\n",
       "      <td>48</td>\n",
       "      <td>СРЕДНЕЕ</td>\n",
       "      <td>1</td>\n",
       "      <td>в разводе</td>\n",
       "      <td>3</td>\n",
       "      <td>F</td>\n",
       "      <td>сотрудник</td>\n",
       "      <td>0</td>\n",
       "      <td>242831.107982</td>\n",
       "      <td>на покупку своего автомобиля</td>\n",
       "    </tr>\n",
       "  </tbody>\n",
       "</table>\n",
       "</div>"
      ],
      "text/plain": [
       "    children  days_employed  dob_years            education  education_id  \\\n",
       "0          1   -8437.673028         42               высшее             0   \n",
       "1          1   -4024.803754         36              среднее             1   \n",
       "2          0   -5623.422610         33              Среднее             1   \n",
       "3          3   -4124.747207         32              среднее             1   \n",
       "4          0  340266.072047         53              среднее             1   \n",
       "5          0    -926.185831         27               высшее             0   \n",
       "6          0   -2879.202052         43               высшее             0   \n",
       "7          0    -152.779569         50              СРЕДНЕЕ             1   \n",
       "8          2   -6929.865299         35               ВЫСШЕЕ             0   \n",
       "9          0   -2188.756445         41              среднее             1   \n",
       "10         2   -4171.483647         36               высшее             0   \n",
       "11         0    -792.701887         40              среднее             1   \n",
       "12         0            NaN         65              среднее             1   \n",
       "13         0   -1846.641941         54  неоконченное высшее             2   \n",
       "14         0   -1844.956182         56               высшее             0   \n",
       "15         1    -972.364419         26              среднее             1   \n",
       "16         0   -1719.934226         35              среднее             1   \n",
       "17         0   -2369.999720         33               высшее             0   \n",
       "18         0  400281.136913         53              среднее             1   \n",
       "19         0  -10038.818549         48              СРЕДНЕЕ             1   \n",
       "\n",
       "       family_status  family_status_id gender income_type  debt  \\\n",
       "0    женат / замужем                 0      F   сотрудник     0   \n",
       "1    женат / замужем                 0      F   сотрудник     0   \n",
       "2    женат / замужем                 0      M   сотрудник     0   \n",
       "3    женат / замужем                 0      M   сотрудник     0   \n",
       "4   гражданский брак                 1      F   пенсионер     0   \n",
       "5   гражданский брак                 1      M   компаньон     0   \n",
       "6    женат / замужем                 0      F   компаньон     0   \n",
       "7    женат / замужем                 0      M   сотрудник     0   \n",
       "8   гражданский брак                 1      F   сотрудник     0   \n",
       "9    женат / замужем                 0      M   сотрудник     0   \n",
       "10   женат / замужем                 0      M   компаньон     0   \n",
       "11   женат / замужем                 0      F   сотрудник     0   \n",
       "12  гражданский брак                 1      M   пенсионер     0   \n",
       "13   женат / замужем                 0      F   сотрудник     0   \n",
       "14  гражданский брак                 1      F   компаньон     1   \n",
       "15   женат / замужем                 0      F   сотрудник     0   \n",
       "16   женат / замужем                 0      F   сотрудник     0   \n",
       "17  гражданский брак                 1      M   сотрудник     0   \n",
       "18    вдовец / вдова                 2      F   пенсионер     0   \n",
       "19         в разводе                 3      F   сотрудник     0   \n",
       "\n",
       "     total_income                                 purpose  \n",
       "0   253875.639453                           покупка жилья  \n",
       "1   112080.014102                 приобретение автомобиля  \n",
       "2   145885.952297                           покупка жилья  \n",
       "3   267628.550329              дополнительное образование  \n",
       "4   158616.077870                         сыграть свадьбу  \n",
       "5   255763.565419                           покупка жилья  \n",
       "6   240525.971920                       операции с жильем  \n",
       "7   135823.934197                             образование  \n",
       "8    95856.832424                   на проведение свадьбы  \n",
       "9   144425.938277                 покупка жилья для семьи  \n",
       "10  113943.491460                    покупка недвижимости  \n",
       "11   77069.234271       покупка коммерческой недвижимости  \n",
       "12            NaN                         сыграть свадьбу  \n",
       "13  130458.228857                 приобретение автомобиля  \n",
       "14  165127.911772              покупка жилой недвижимости  \n",
       "15  116820.904450  строительство собственной недвижимости  \n",
       "16  289202.704229                            недвижимость  \n",
       "17   90410.586745              строительство недвижимости  \n",
       "18   56823.777243      на покупку подержанного автомобиля  \n",
       "19  242831.107982            на покупку своего автомобиля  "
      ]
     },
     "execution_count": 2,
     "metadata": {},
     "output_type": "execute_result"
    }
   ],
   "source": [
    "# Вывод первых 20 строчек датафрейма `data` на экран.\n",
    "data.head(20)"
   ]
  },
  {
   "cell_type": "code",
   "execution_count": 3,
   "id": "381baaa9",
   "metadata": {},
   "outputs": [
    {
     "name": "stdout",
     "output_type": "stream",
     "text": [
      "<class 'pandas.core.frame.DataFrame'>\n",
      "RangeIndex: 21525 entries, 0 to 21524\n",
      "Data columns (total 12 columns):\n",
      " #   Column            Non-Null Count  Dtype  \n",
      "---  ------            --------------  -----  \n",
      " 0   children          21525 non-null  int64  \n",
      " 1   days_employed     19351 non-null  float64\n",
      " 2   dob_years         21525 non-null  int64  \n",
      " 3   education         21525 non-null  object \n",
      " 4   education_id      21525 non-null  int64  \n",
      " 5   family_status     21525 non-null  object \n",
      " 6   family_status_id  21525 non-null  int64  \n",
      " 7   gender            21525 non-null  object \n",
      " 8   income_type       21525 non-null  object \n",
      " 9   debt              21525 non-null  int64  \n",
      " 10  total_income      19351 non-null  float64\n",
      " 11  purpose           21525 non-null  object \n",
      "dtypes: float64(2), int64(5), object(5)\n",
      "memory usage: 2.0+ MB\n"
     ]
    }
   ],
   "source": [
    "# Вывод основной информации о датафрейме с помощью метода `info()`.\n",
    "data.info()"
   ]
  },
  {
   "cell_type": "markdown",
   "id": "e09c56fb",
   "metadata": {},
   "source": [
    "## Предобработка данных"
   ]
  },
  {
   "cell_type": "markdown",
   "id": "2e3cd1c5",
   "metadata": {},
   "source": [
    "### Удаление пропусков"
   ]
  },
  {
   "cell_type": "code",
   "execution_count": 4,
   "id": "1414a4eb",
   "metadata": {},
   "outputs": [
    {
     "data": {
      "text/plain": [
       "children               0\n",
       "days_employed       2174\n",
       "dob_years              0\n",
       "education              0\n",
       "education_id           0\n",
       "family_status          0\n",
       "family_status_id       0\n",
       "gender                 0\n",
       "income_type            0\n",
       "debt                   0\n",
       "total_income        2174\n",
       "purpose                0\n",
       "dtype: int64"
      ]
     },
     "execution_count": 4,
     "metadata": {},
     "output_type": "execute_result"
    }
   ],
   "source": [
    "# Вывод количества пропущенных значений для каждого столбца.\n",
    "data.isna().sum()"
   ]
  },
  {
   "cell_type": "markdown",
   "id": "1e0eb762",
   "metadata": {},
   "source": [
    "В двух столбцах есть пропущенные значения. Один из них — `days_employed`. Пропуски в этом столбце я обработаю на следующем этапе. Другой столбец с пропущенными значениями — `total_income` — хранит данные о доходах. На сумму дохода сильнее всего влияет тип занятости, поэтому заполнить пропуски в этом столбце нужно медианным значением по каждому типу из столбца `income_type`. Например, у человека с типом занятости `сотрудник` пропуск в столбце `total_income` должен быть заполнен медианным доходом среди всех записей с тем же типом."
   ]
  },
  {
   "cell_type": "code",
   "execution_count": 5,
   "id": "22518f2d",
   "metadata": {},
   "outputs": [],
   "source": [
    "for t in data['income_type'].unique():\n",
    "    data.loc[(data['income_type'] == t) & (data['total_income'].isna()), 'total_income'] = \\\n",
    "    data.loc[(data['income_type'] == t), 'total_income'].median()"
   ]
  },
  {
   "cell_type": "markdown",
   "id": "8fae1ca5",
   "metadata": {},
   "source": [
    "### Обработка аномальных значений"
   ]
  },
  {
   "cell_type": "code",
   "execution_count": 6,
   "id": "a1dc7dbc",
   "metadata": {},
   "outputs": [],
   "source": [
    "# замена отрицательных значений положительными\n",
    "data['days_employed'] = data['days_employed'].abs()"
   ]
  },
  {
   "cell_type": "code",
   "execution_count": 7,
   "id": "0dbcd2e5",
   "metadata": {},
   "outputs": [
    {
     "data": {
      "text/plain": [
       "income_type\n",
       "безработный        366413.652744\n",
       "в декрете            3296.759962\n",
       "госслужащий          2689.368353\n",
       "компаньон            1547.382223\n",
       "пенсионер          365213.306266\n",
       "предприниматель       520.848083\n",
       "сотрудник            1574.202821\n",
       "студент               578.751554\n",
       "Name: days_employed, dtype: float64"
      ]
     },
     "execution_count": 7,
     "metadata": {},
     "output_type": "execute_result"
    }
   ],
   "source": [
    "# Вывод медианного значения трудового стажа для каждого типа занятости\n",
    "data.groupby('income_type')['days_employed'].agg('median')"
   ]
  },
  {
   "cell_type": "markdown",
   "id": "39480cdc",
   "metadata": {},
   "source": [
    "У двух типов (безработные и пенсионеры) получатся аномально большие значения. Исправить такие значения сложно, поэтому оставлю их как есть."
   ]
  },
  {
   "cell_type": "code",
   "execution_count": 8,
   "id": "88d71be1",
   "metadata": {},
   "outputs": [
    {
     "data": {
      "text/plain": [
       "array([ 1,  0,  3,  2, -1,  4, 20,  5])"
      ]
     },
     "execution_count": 8,
     "metadata": {},
     "output_type": "execute_result"
    }
   ],
   "source": [
    "# Вывод уникальных значений столбца children\n",
    "data['children'].unique()"
   ]
  },
  {
   "cell_type": "code",
   "execution_count": 9,
   "id": "4fb7b430",
   "metadata": {},
   "outputs": [],
   "source": [
    "# Удаление аномальных значений\n",
    "data = data[(data['children'] != -1) & (data['children'] != 20)]"
   ]
  },
  {
   "cell_type": "code",
   "execution_count": 10,
   "id": "187b4c5d",
   "metadata": {},
   "outputs": [
    {
     "data": {
      "text/plain": [
       "array([1, 0, 3, 2, 4, 5])"
      ]
     },
     "execution_count": 10,
     "metadata": {},
     "output_type": "execute_result"
    }
   ],
   "source": [
    "# Повторный вывод уникальных значений столбца children\n",
    "data['children'].unique()"
   ]
  },
  {
   "cell_type": "markdown",
   "id": "4b8bdde3",
   "metadata": {},
   "source": [
    "### Удаление пропусков (2 часть)"
   ]
  },
  {
   "cell_type": "code",
   "execution_count": 11,
   "id": "315c562a",
   "metadata": {},
   "outputs": [],
   "source": [
    "# заполнение проспуков в столбце days_employed медианными значениями по каждому типу занятости income_type\n",
    "for t in data['income_type'].unique():\n",
    "    data.loc[(data['income_type'] == t) & (data['days_employed'].isna()), 'days_employed'] = \\\n",
    "    data.loc[(data['income_type'] == t), 'days_employed'].median()"
   ]
  },
  {
   "cell_type": "code",
   "execution_count": 12,
   "id": "56c1924c",
   "metadata": {},
   "outputs": [
    {
     "data": {
      "text/plain": [
       "children            0\n",
       "days_employed       0\n",
       "dob_years           0\n",
       "education           0\n",
       "education_id        0\n",
       "family_status       0\n",
       "family_status_id    0\n",
       "gender              0\n",
       "income_type         0\n",
       "debt                0\n",
       "total_income        0\n",
       "purpose             0\n",
       "dtype: int64"
      ]
     },
     "execution_count": 12,
     "metadata": {},
     "output_type": "execute_result"
    }
   ],
   "source": [
    "# Проверка отсутствия пропусков\n",
    "data.isna().sum()"
   ]
  },
  {
   "cell_type": "markdown",
   "id": "b4545eb9",
   "metadata": {},
   "source": [
    "### Обработка дубликатов"
   ]
  },
  {
   "cell_type": "code",
   "execution_count": 13,
   "id": "3e50a1e3",
   "metadata": {},
   "outputs": [],
   "source": [
    "# Обработка неявных дубликатов\n",
    "data['education'] = data['education'].str.lower()"
   ]
  },
  {
   "cell_type": "code",
   "execution_count": 14,
   "id": "02f9e803",
   "metadata": {},
   "outputs": [
    {
     "data": {
      "text/plain": [
       "71"
      ]
     },
     "execution_count": 14,
     "metadata": {},
     "output_type": "execute_result"
    }
   ],
   "source": [
    "# Вывод количества строк-дубликатов\n",
    "data.duplicated().sum()"
   ]
  },
  {
   "cell_type": "code",
   "execution_count": 15,
   "id": "6923d6c5",
   "metadata": {},
   "outputs": [],
   "source": [
    "# Удаление строк-дубликатов\n",
    "data = data.drop_duplicates()"
   ]
  },
  {
   "cell_type": "markdown",
   "id": "ce6f4d65",
   "metadata": {},
   "source": [
    "### Категоризация данных"
   ]
  },
  {
   "cell_type": "code",
   "execution_count": 16,
   "id": "f5136128",
   "metadata": {},
   "outputs": [],
   "source": [
    "# Объявление функции, которая назначает категорию клиенту исходя из хначения дохода\n",
    "def categorize_income(income):\n",
    "    try:\n",
    "        if 0 <= income <= 30000:\n",
    "            return 'E'\n",
    "        elif 30001 <= income <= 50000:\n",
    "            return 'D'\n",
    "        elif 50001 <= income <= 200000:\n",
    "            return 'C'\n",
    "        elif 200001 <= income <= 1000000:\n",
    "            return 'B'\n",
    "        elif income >= 1000001:\n",
    "            return 'A'\n",
    "    except:\n",
    "        pass"
   ]
  },
  {
   "cell_type": "code",
   "execution_count": 17,
   "id": "5d22d9a9",
   "metadata": {},
   "outputs": [],
   "source": [
    "# Применение функции ко всем строкам\n",
    "data['total_income_category'] = data['total_income'].apply(categorize_income)"
   ]
  },
  {
   "cell_type": "code",
   "execution_count": 18,
   "id": "e6c580c5",
   "metadata": {},
   "outputs": [
    {
     "data": {
      "text/plain": [
       "array(['покупка жилья', 'приобретение автомобиля',\n",
       "       'дополнительное образование', 'сыграть свадьбу',\n",
       "       'операции с жильем', 'образование', 'на проведение свадьбы',\n",
       "       'покупка жилья для семьи', 'покупка недвижимости',\n",
       "       'покупка коммерческой недвижимости', 'покупка жилой недвижимости',\n",
       "       'строительство собственной недвижимости', 'недвижимость',\n",
       "       'строительство недвижимости', 'на покупку подержанного автомобиля',\n",
       "       'на покупку своего автомобиля',\n",
       "       'операции с коммерческой недвижимостью',\n",
       "       'строительство жилой недвижимости', 'жилье',\n",
       "       'операции со своей недвижимостью', 'автомобили',\n",
       "       'заняться образованием', 'сделка с подержанным автомобилем',\n",
       "       'получение образования', 'автомобиль', 'свадьба',\n",
       "       'получение дополнительного образования', 'покупка своего жилья',\n",
       "       'операции с недвижимостью', 'получение высшего образования',\n",
       "       'свой автомобиль', 'сделка с автомобилем',\n",
       "       'профильное образование', 'высшее образование',\n",
       "       'покупка жилья для сдачи', 'на покупку автомобиля', 'ремонт жилью',\n",
       "       'заняться высшим образованием'], dtype=object)"
      ]
     },
     "execution_count": 18,
     "metadata": {},
     "output_type": "execute_result"
    }
   ],
   "source": [
    "# Вывод уникальных значений столбца\n",
    "data['purpose'].unique()"
   ]
  },
  {
   "cell_type": "code",
   "execution_count": 19,
   "id": "9b316322",
   "metadata": {},
   "outputs": [],
   "source": [
    "# Объявление функции, которая формирует новый столбец на основании данных из столбца purpose\n",
    "def categorize_purpose(row):\n",
    "    try:\n",
    "        if 'автом' in row:\n",
    "            return 'операции с автомобилем'\n",
    "        elif 'жил' in row or 'недвиж' in row:\n",
    "            return 'операции с недвижимостью'\n",
    "        elif 'свад' in row:\n",
    "            return 'проведение свадьбы'\n",
    "        elif 'образов' in row:\n",
    "            return 'получение образования'\n",
    "    except:\n",
    "        return 'нет категории'"
   ]
  },
  {
   "cell_type": "code",
   "execution_count": 20,
   "id": "67d04a43",
   "metadata": {},
   "outputs": [],
   "source": [
    "# Применение функции\n",
    "data['purpose_category'] = data['purpose'].apply(categorize_purpose)"
   ]
  },
  {
   "cell_type": "markdown",
   "id": "ec72b03c",
   "metadata": {},
   "source": [
    "## Исследование данных"
   ]
  },
  {
   "cell_type": "markdown",
   "id": "2be66928",
   "metadata": {},
   "source": [
    "### Зависимость между количеством детей и возвратом кредита в срок"
   ]
  },
  {
   "cell_type": "code",
   "execution_count": 21,
   "id": "b5f5b7d9",
   "metadata": {},
   "outputs": [
    {
     "data": {
      "image/png": "[encoded data removed]",
      "text/plain": [
       "<Figure size 648x432 with 1 Axes>"
      ]
     },
     "metadata": {
      "needs_background": "light"
     },
     "output_type": "display_data"
    },
    {
     "name": "stdout",
     "output_type": "stream",
     "text": [
      "          debt  clients  percent_debt\n",
      "children                             \n",
      "0         1063    14091      7.543822\n",
      "1          444     4808      9.234609\n",
      "2          194     2052      9.454191\n",
      "3           27      330      8.181818\n",
      "4            4       41      9.756098\n",
      "5            0        9      0.000000\n"
     ]
    }
   ],
   "source": [
    "# Создание графика зависимости процента должников от количества детей\n",
    "\n",
    "debtors = data.groupby('children')['debt'].sum()\n",
    "clients = data.groupby('children')['debt'].count()\n",
    "result = debtors / clients * 100\n",
    "\n",
    "\n",
    "plt.figure(figsize = (9, 6))\n",
    "plt.bar(result.index, result)\n",
    "plt.title('Зависимость процента должников от количества детей')\n",
    "plt.xlabel('Количество детей в семье')\n",
    "plt.ylabel('Процент должников, %')\n",
    "plt.show()\n",
    "\n",
    "summary_table = data.groupby(['children']).agg({'debt':'sum'})\n",
    "summary_table['clients'] = data.groupby('children')['debt'].count()\n",
    "summary_table['percent_debt'] = result\n",
    "print(summary_table)"
   ]
  },
  {
   "cell_type": "markdown",
   "id": "6357d5a3",
   "metadata": {},
   "source": [
    "Согласно получившемуся графику зависимости, лучше выплачивают кредиты клиенты без детей. Хуже всех кредиты выплачивают семьи с 2 детьми. Нулевой процент должников среди семей с 5 детьми связан с их редкостью,а максимальное значение у группы с 4 детьми, объясняется их малой выборкой."
   ]
  },
  {
   "cell_type": "markdown",
   "id": "ff9e80c8",
   "metadata": {},
   "source": [
    "### Зависимость между семейным положением и возвратом кредита в срок"
   ]
  },
  {
   "cell_type": "code",
   "execution_count": 22,
   "id": "16f1be8c",
   "metadata": {},
   "outputs": [
    {
     "data": {
      "image/png": "[encoded data removed]",
      "text/plain": [
       "<Figure size 648x432 with 1 Axes>"
      ]
     },
     "metadata": {
      "needs_background": "light"
     },
     "output_type": "display_data"
    },
    {
     "name": "stdout",
     "output_type": "stream",
     "text": [
      "                       debt  clients  percent_debt\n",
      "family_status                                     \n",
      "Не женат / не замужем   273     2796      9.763948\n",
      "в разводе                84     1189      7.064760\n",
      "вдовец / вдова           63      951      6.624606\n",
      "гражданский брак        385     4134      9.313014\n",
      "женат / замужем         927    12261      7.560558\n"
     ]
    }
   ],
   "source": [
    "# Создание графика зависимости процента должников от семейного положения\n",
    "\n",
    "debtors2 = data.groupby('family_status')['debt'].sum()\n",
    "clients2 = data.groupby('family_status')['debt'].count()\n",
    "result2 = debtors2 / clients2 * 100\n",
    "\n",
    "plt.figure(figsize = (9, 6))\n",
    "plt.bar(result2.index, result2)\n",
    "plt.title('Зависимость процента должников от семейного положения')\n",
    "plt.xlabel('Семейное положение')\n",
    "plt.ylabel('Процент должников, %')\n",
    "plt.show()\n",
    "\n",
    "summary_table2 = data.groupby(['family_status']).agg({'debt':'sum'})\n",
    "summary_table2['clients'] = data.groupby('family_status')['debt'].count()\n",
    "summary_table2['percent_debt'] = result2\n",
    "print(summary_table2)"
   ]
  },
  {
   "cell_type": "markdown",
   "id": "bfd7bc79",
   "metadata": {},
   "source": [
    "Исходя из полученных данных, можно сделать вывод о том, что потенциальные заёмщики, которые находятся в гражданском браке или не женаты/не замужем попадают в группу риска должников. А самыми безопасными для банка являются вдовцы/вдовы."
   ]
  },
  {
   "cell_type": "markdown",
   "id": "2ae01c59",
   "metadata": {},
   "source": [
    "### Зависимость между уровнем дохода и возвратом кредита в срок"
   ]
  },
  {
   "cell_type": "code",
   "execution_count": 23,
   "id": "013d9b0a",
   "metadata": {},
   "outputs": [
    {
     "data": {
      "image/png": "[encoded data removed]",
      "text/plain": [
       "<Figure size 648x432 with 1 Axes>"
      ]
     },
     "metadata": {
      "needs_background": "light"
     },
     "output_type": "display_data"
    },
    {
     "name": "stdout",
     "output_type": "stream",
     "text": [
      "                       debt  clients  percent_debt\n",
      "total_income_category                             \n",
      "A                         2       25      8.000000\n",
      "B                       354     5014      7.060231\n",
      "C                      1353    15921      8.498210\n",
      "D                        21      349      6.017192\n",
      "E                         2       22      9.090909\n"
     ]
    }
   ],
   "source": [
    "# Создание графика зависимости процента должников от уровня дохода\n",
    "\n",
    "debtors3 = data.groupby('total_income_category')['debt'].sum()\n",
    "clients3 = data.groupby('total_income_category')['debt'].count()\n",
    "result3 = debtors3 / clients3 * 100\n",
    "\n",
    "plt.figure(figsize = (9, 6))\n",
    "plt.bar(result3.index, result3)\n",
    "plt.title('Зависимость процента должников от уровня дохода')\n",
    "plt.xlabel('Уровень дохода')\n",
    "plt.ylabel('Процент должников, %')\n",
    "plt.show()\n",
    "\n",
    "summary_table3 = data.groupby(['total_income_category']).agg({'debt':'sum'})\n",
    "summary_table3['clients'] = data.groupby('total_income_category')['debt'].count()\n",
    "summary_table3['percent_debt'] = result3\n",
    "print(summary_table3)"
   ]
  },
  {
   "cell_type": "markdown",
   "id": "c536c487",
   "metadata": {},
   "source": [
    "На основании полученных данных заметно, что потенциальные заёмщики с уровнем дохода D выглядят предпочтительнее для банка. Самая многочисленная группа с уровнем дохода С является и самой рискованной. Значения граничных групп Е и А считаю неподходящими из-за слишком малого количества клиентов."
   ]
  },
  {
   "cell_type": "markdown",
   "id": "2508283f",
   "metadata": {},
   "source": [
    "### Влияние разных целей кредита на его возврат в срок"
   ]
  },
  {
   "cell_type": "code",
   "execution_count": 24,
   "id": "f6b97422",
   "metadata": {},
   "outputs": [
    {
     "data": {
      "image/png": "[encoded data removed]",
      "text/plain": [
       "<Figure size 936x576 with 1 Axes>"
      ]
     },
     "metadata": {
      "needs_background": "light"
     },
     "output_type": "display_data"
    },
    {
     "name": "stdout",
     "output_type": "stream",
     "text": [
      "                          debt  clients  percent_debt\n",
      "purpose_category                                     \n",
      "операции с автомобилем     400     4279      9.347978\n",
      "операции с недвижимостью   780    10751      7.255139\n",
      "получение образования      369     3988      9.252758\n",
      "проведение свадьбы         183     2313      7.911803\n"
     ]
    }
   ],
   "source": [
    "# Создание графика зависимости процента должников от цели кредита\n",
    "\n",
    "debtors4 = data.groupby('purpose_category')['debt'].sum()\n",
    "clients4 = data.groupby('purpose_category')['debt'].count()\n",
    "result4 = debtors4 / clients4 * 100\n",
    "\n",
    "plt.figure(figsize = (13, 8))\n",
    "plt.bar(result4.index, result4)\n",
    "plt.title('Зависимость процента должников от цели кредита')\n",
    "plt.xlabel('Цель кредита')\n",
    "plt.ylabel('Процент должников, %')\n",
    "plt.show()\n",
    "\n",
    "summary_table4 = data.groupby(['purpose_category']).agg({'debt':'sum'})\n",
    "summary_table4['clients'] = data.groupby('purpose_category')['debt'].count()\n",
    "summary_table4['percent_debt'] = result4\n",
    "print(summary_table4)"
   ]
  },
  {
   "cell_type": "markdown",
   "id": "65fdc3a1",
   "metadata": {},
   "source": [
    " Самыми безопасными для банка являются операции с недвижимостью - среди клиентов с такой целью кредита меньше всего должников. А больше всего шансов не погасить кредит вовремя у клиентов, которые берут кредит на образование или автомобиль."
   ]
  },
  {
   "cell_type": "markdown",
   "id": "b600ef32",
   "metadata": {},
   "source": [
    "### Возможные причины появления пропусков в исходных данных"
   ]
  },
  {
   "cell_type": "markdown",
   "id": "0681dc7f",
   "metadata": {},
   "source": [
    "Пропуски в исходных данных находятся в столбцах `days_employed` и `total_income`, то есть связаны с информацией, которую предоставляет работодатель. Значит возможными причинами могут являться:\n",
    "- Потенциальный заёмщик безработный;\n",
    "- Потенциальный заёмщик никогда не работал;\n",
    "- Часть данных не была/не успела быть обработана.\n",
    "\n",
    "Заполнение пропусков медианным значением является лучшим решением для колличественных переменных, так как некоторые значения могут сильно выделяться из всего набора и медиана будет более объективно отображать информацию, нежели среднее значение."
   ]
  },
  {
   "cell_type": "markdown",
   "id": "0157732c",
   "metadata": {},
   "source": [
    "## Общий вывод"
   ]
  },
  {
   "cell_type": "markdown",
   "id": "d797f1a4",
   "metadata": {},
   "source": [
    "**Предобработка данных:**\n",
    "\n",
    "* В ходе предобработки данных было обнаружено 2174 пропуска в столбцах, содержащих информацию о доходе и трудовом стаже. Возможными причинами явлются: человеческий фактор, технические проблемы и повреждение файла с данными. Пропуски были заполненны медианными значениями, так как в данном случае они объективнее отражают информацию, нежели среднее значение.\n",
    "* Дополнительно в столбце с трудовым стажем были обнаружены аномальные значения (отрицательные) и заменены на положительные, а аномальные значения в столбце с количеством детей в семье были удалены.\n",
    "* Так же найдено и удалено 71 дубликат строк.\n",
    "    \n",
    "**Результаты проекта:**\n",
    "\n",
    "1. Наличие детей увеличивает риск потенциальных клиентов стать должниками.\n",
    "2. Меньше всего должников среди вдов/вдовцов. А самыми \"долговыми\" являются не женатые/не замужем и находящиеся в гражданском браке клиенты.\n",
    "3. Потенциальные клиенты с уровнем дохода D будут меньше всего подвержены риску стать должниками, тогда как категория С наиболее \"опасна\" для банка.\n",
    "4. Клиенты, оформляющие кредит на недвижимость, имеют наименьший процент должников, тогда как с целью взять кредит на автомобиль или образование чаще остаются должниками.\n",
    "    \n",
    "На факт погашения кредита в срок влияют такие факторы как: количество детей, семейное положение, уровень дохода и цель кредита.\n",
    "    \n",
    "**Рекомендации**\n",
    "\n",
    "Потенциальный клиент будет иметь наименьший риск стать должником, если:\n",
    "* у него не будет детей\n",
    "* вдова/вдовец\n",
    "* имеет доход от 50 000 до 200 000\n",
    "* берёт кредит на недвижимость\n",
    "    \n",
    "Для более объективной оценки способности потенциального заёмщика вернуть кредит необходимо учитывать все рассмотренные критерии: количество детей, семейное положение, уровень дохода и цель кредита."
   ]
  }
 ],
 "metadata": {
  "ExecuteTimeLog": [
   {
    "duration": 739,
    "start_time": "2024-08-12T14:36:44.075Z"
   },
   {
    "duration": 23,
    "start_time": "2024-08-12T14:37:14.098Z"
   },
   {
    "duration": 18,
    "start_time": "2024-08-12T14:37:36.331Z"
   },
   {
    "duration": 3,
    "start_time": "2024-08-12T14:37:57.590Z"
   },
   {
    "duration": 11,
    "start_time": "2024-08-12T14:38:17.378Z"
   },
   {
    "duration": 37,
    "start_time": "2024-08-12T14:39:10.016Z"
   },
   {
    "duration": 4,
    "start_time": "2024-08-12T14:39:57.624Z"
   },
   {
    "duration": 8,
    "start_time": "2024-08-12T14:40:33.098Z"
   },
   {
    "duration": 4,
    "start_time": "2024-08-12T14:41:26.299Z"
   },
   {
    "duration": 5,
    "start_time": "2024-08-12T14:41:37.794Z"
   },
   {
    "duration": 7,
    "start_time": "2024-08-12T14:42:06.320Z"
   },
   {
    "duration": 4,
    "start_time": "2024-08-12T14:42:29.577Z"
   },
   {
    "duration": 38,
    "start_time": "2024-08-12T14:43:43.193Z"
   },
   {
    "duration": 12,
    "start_time": "2024-08-12T14:44:11.424Z"
   },
   {
    "duration": 13,
    "start_time": "2024-08-12T14:44:57.901Z"
   },
   {
    "duration": 21,
    "start_time": "2024-08-12T14:45:20.844Z"
   },
   {
    "duration": 17,
    "start_time": "2024-08-12T14:45:37.709Z"
   },
   {
    "duration": 3,
    "start_time": "2024-08-12T14:47:05.518Z"
   },
   {
    "duration": 3,
    "start_time": "2024-08-12T14:47:16.104Z"
   },
   {
    "duration": 14,
    "start_time": "2024-08-12T14:47:39.049Z"
   },
   {
    "duration": 6,
    "start_time": "2024-08-12T14:48:04.922Z"
   },
   {
    "duration": 3,
    "start_time": "2024-08-12T14:49:03.812Z"
   },
   {
    "duration": 9,
    "start_time": "2024-08-12T14:49:18.013Z"
   },
   {
    "duration": 319,
    "start_time": "2024-08-12T14:50:16.972Z"
   },
   {
    "duration": 151,
    "start_time": "2024-08-12T14:51:03.558Z"
   },
   {
    "duration": 728,
    "start_time": "2024-08-12T14:51:09.805Z"
   },
   {
    "duration": 20,
    "start_time": "2024-08-12T14:51:10.535Z"
   },
   {
    "duration": 23,
    "start_time": "2024-08-12T14:51:10.557Z"
   },
   {
    "duration": 10,
    "start_time": "2024-08-12T14:51:10.582Z"
   },
   {
    "duration": 48,
    "start_time": "2024-08-12T14:51:10.594Z"
   },
   {
    "duration": 4,
    "start_time": "2024-08-12T14:51:10.644Z"
   },
   {
    "duration": 23,
    "start_time": "2024-08-12T14:51:10.649Z"
   },
   {
    "duration": 5,
    "start_time": "2024-08-12T14:51:10.673Z"
   },
   {
    "duration": 11,
    "start_time": "2024-08-12T14:51:10.679Z"
   },
   {
    "duration": 17,
    "start_time": "2024-08-12T14:51:10.693Z"
   },
   {
    "duration": 38,
    "start_time": "2024-08-12T14:51:10.711Z"
   },
   {
    "duration": 11,
    "start_time": "2024-08-12T14:51:10.751Z"
   },
   {
    "duration": 48,
    "start_time": "2024-08-12T14:51:10.763Z"
   },
   {
    "duration": 73,
    "start_time": "2024-08-12T14:51:10.813Z"
   },
   {
    "duration": 17,
    "start_time": "2024-08-12T14:51:10.888Z"
   },
   {
    "duration": 4,
    "start_time": "2024-08-12T14:51:10.906Z"
   },
   {
    "duration": 15,
    "start_time": "2024-08-12T14:51:10.912Z"
   },
   {
    "duration": 5,
    "start_time": "2024-08-12T14:51:10.929Z"
   },
   {
    "duration": 6,
    "start_time": "2024-08-12T14:51:10.936Z"
   },
   {
    "duration": 31,
    "start_time": "2024-08-12T14:51:10.944Z"
   },
   {
    "duration": 153,
    "start_time": "2024-08-12T14:51:10.977Z"
   },
   {
    "duration": 153,
    "start_time": "2024-08-12T14:51:34.701Z"
   },
   {
    "duration": 156,
    "start_time": "2024-08-12T14:54:32.401Z"
   },
   {
    "duration": 146,
    "start_time": "2024-08-12T14:55:30.850Z"
   },
   {
    "duration": 217,
    "start_time": "2024-08-12T14:57:05.369Z"
   },
   {
    "duration": 757,
    "start_time": "2024-08-12T14:59:12.608Z"
   },
   {
    "duration": 20,
    "start_time": "2024-08-12T14:59:13.367Z"
   },
   {
    "duration": 24,
    "start_time": "2024-08-12T14:59:13.389Z"
   },
   {
    "duration": 10,
    "start_time": "2024-08-12T14:59:13.415Z"
   },
   {
    "duration": 48,
    "start_time": "2024-08-12T14:59:13.426Z"
   },
   {
    "duration": 3,
    "start_time": "2024-08-12T14:59:13.476Z"
   },
   {
    "duration": 16,
    "start_time": "2024-08-12T14:59:13.480Z"
   },
   {
    "duration": 14,
    "start_time": "2024-08-12T14:59:13.507Z"
   },
   {
    "duration": 11,
    "start_time": "2024-08-12T14:59:13.523Z"
   },
   {
    "duration": 26,
    "start_time": "2024-08-12T14:59:13.537Z"
   },
   {
    "duration": 41,
    "start_time": "2024-08-12T14:59:13.565Z"
   },
   {
    "duration": 12,
    "start_time": "2024-08-12T14:59:13.608Z"
   },
   {
    "duration": 13,
    "start_time": "2024-08-12T14:59:13.622Z"
   },
   {
    "duration": 31,
    "start_time": "2024-08-12T14:59:13.637Z"
   },
   {
    "duration": 17,
    "start_time": "2024-08-12T14:59:13.670Z"
   },
   {
    "duration": 3,
    "start_time": "2024-08-12T14:59:13.707Z"
   },
   {
    "duration": 23,
    "start_time": "2024-08-12T14:59:13.712Z"
   },
   {
    "duration": 8,
    "start_time": "2024-08-12T14:59:13.736Z"
   },
   {
    "duration": 3,
    "start_time": "2024-08-12T14:59:13.745Z"
   },
   {
    "duration": 20,
    "start_time": "2024-08-12T14:59:13.750Z"
   },
   {
    "duration": 183,
    "start_time": "2024-08-12T14:59:13.772Z"
   },
   {
    "duration": 168,
    "start_time": "2024-08-12T14:59:13.957Z"
   },
   {
    "duration": 146,
    "start_time": "2024-08-12T14:59:14.126Z"
   },
   {
    "duration": 173,
    "start_time": "2024-08-12T14:59:14.273Z"
   }
  ],
  "kernelspec": {
   "display_name": "Python 3 (ipykernel)",
   "language": "python",
   "name": "python3"
  },
  "language_info": {
   "codemirror_mode": {
    "name": "ipython",
    "version": 3
   },
   "file_extension": ".py",
   "mimetype": "text/x-python",
   "name": "python",
   "nbconvert_exporter": "python",
   "pygments_lexer": "ipython3",
   "version": "3.9.5"
  },
  "toc": {
   "base_numbering": 1,
   "nav_menu": {},
   "number_sections": true,
   "sideBar": true,
   "skip_h1_title": true,
   "title_cell": "Table of Contents",
   "title_sidebar": "Contents",
   "toc_cell": false,
   "toc_position": {},
   "toc_section_display": true,
   "toc_window_display": true
  }
 },
 "nbformat": 4,
 "nbformat_minor": 5
}
